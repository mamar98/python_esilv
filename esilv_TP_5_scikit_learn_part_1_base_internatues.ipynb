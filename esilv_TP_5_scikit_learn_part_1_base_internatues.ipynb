{
 "cells": [
  {
   "cell_type": "markdown",
   "metadata": {},
   "source": [
    "\n",
    "<h1>Scikit-Learn</h1>\n",
    "\n",
    "\n",
    "Cet exercice simule sur une mission pour une compagnie gérant un site web.<br>\n",
    "On nous demande de prévoir l'âge et le sexe d'un internaute en regardant les pages qu'il visite. <br>\n",
    "Vous avez donc deux fichiers dont chaque ligne représente un internaute :<br>\n",
    "1) X : une colonne par page web, et le nombre de visites de l'internaute<br>\n",
    "2) Y : des informations sur l'internaute : âge / sexe / âge bucketisé \n",
    "\n",
    "On demande de prévoir la tranche d'âge et le sexe en s'appuyant sur les informations de pages vues. <br>\n",
    "Le notebook ci-après est un début de réponse à cette question."
   ]
  },
  {
   "cell_type": "markdown",
   "metadata": {},
   "source": [
    "# -1) Imports"
   ]
  },
  {
   "cell_type": "code",
   "execution_count": 3,
   "metadata": {},
   "outputs": [],
   "source": [
    "%matplotlib inline\n",
    "import pandas as pd\n",
    "import os\n",
    "import sys\n",
    "import numpy as np\n",
    "from datetime import datetime\n",
    "from collections import defaultdict\n",
    "import itertools"
   ]
  },
  {
   "cell_type": "code",
   "execution_count": 4,
   "metadata": {},
   "outputs": [],
   "source": [
    "import scipy.stats as stats\n",
    "import pylab\n",
    "import matplotlib.pyplot as plot"
   ]
  },
  {
   "cell_type": "markdown",
   "metadata": {},
   "source": [
    "# 0) Useful functions"
   ]
  },
  {
   "cell_type": "code",
   "execution_count": 5,
   "metadata": {},
   "outputs": [],
   "source": [
    "def print_time():\n",
    "    \"\"\"\n",
    "    Affiche et retourne l'heure de la machine.\n",
    "    Utilisé pour mesurer le temps d'execution du classifieur.\n",
    "    \"\"\"\n",
    "    import time\n",
    "    import datetime\n",
    "    t = datetime.datetime.now().time()\n",
    "    #print t.isoformat()[:8]\n",
    "    return time.time()"
   ]
  },
  {
   "cell_type": "code",
   "execution_count": 6,
   "metadata": {},
   "outputs": [],
   "source": [
    "def draw_confusion_matrix(y_test, predictions, title):\n",
    "    \"\"\"\n",
    "    Créé et affiche la matrice de confusion des données de Y_test et de celles sur lesquelles on a fait la prédiction.\n",
    "    Permet d'évaluer la qualité de la classification souhaitée.\n",
    "    Plus les valeurs diagonales sont élevées, plus le classifieur prédit correctement.\n",
    "    \"\"\"\n",
    "    from sklearn.metrics import confusion_matrix,accuracy_score\n",
    "    import matplotlib.pyplot as plt\n",
    "    cm    = confusion_matrix(y_test, predictions)\n",
    "    accur = accuracy_score  (y_test, predictions)\n",
    "    \n",
    "    plt.matshow  (cm)\n",
    "    plt.ylabel   ('True Label')\n",
    "    plt.xlabel   ('Predicted Label')\n",
    "    plt.suptitle ('Confusion matrix (Accuracy of %.2f) for [%s]'%(accur,title))\n",
    "    plt.colorbar ()\n",
    "    plt.show     ()"
   ]
  },
  {
   "cell_type": "code",
   "execution_count": 7,
   "metadata": {},
   "outputs": [],
   "source": [
    "def draw_roc_curve(fitted_c, x_test, y_test, title):\n",
    "    \"\"\"\n",
    "    Créé et affiche la courbe ROC des données de test X et Y selon un classifieur (SVM, KNN, RF).\n",
    "    Permet de représenter l'évolution de la vitesse d'apprentissage du classifieur.\n",
    "    Taux de vrais-positifs en fonction du taux de faux-négatif.\n",
    "    Plus l'aire sous la courbe est grande, plus le classifieur est idéal.\n",
    "    \"\"\"\n",
    "    from sklearn.metrics import roc_curve, auc\n",
    "    import matplotlib.pyplot as plt\n",
    "    c                                        = fitted_c\n",
    "    probas                                   = c.predict_proba(x_test)\n",
    "    false_positive_rate, recall_, thresholds = roc_curve(y_test, probas[:,1])\n",
    "    roc_auc                                  = auc(false_positive_rate, recall_)\n",
    "    \n",
    "    plt.title  ('ROC %.2f %s'%(roc_auc, title))\n",
    "    plt.legend (loc=\"lower right\")\n",
    "    plt.plot   ([0,1],[0,1], \"r--\")\n",
    "    plt.plot   (false_positive_rate, recall_, 'b', label='AUC = %.2f'%roc_auc)\n",
    "    plt.xlim   ([0.0,1.1])\n",
    "    plt.ylim   ([0.0,1.1])\n",
    "    plt.ylabel ('Recall')\n",
    "    plt.xlabel ('Fall-out')\n",
    "    plt.show()"
   ]
  },
  {
   "cell_type": "markdown",
   "metadata": {},
   "source": [
    "# 1) Chargement des données"
   ]
  },
  {
   "cell_type": "code",
   "execution_count": 8,
   "metadata": {},
   "outputs": [
    {
     "name": "stderr",
     "output_type": "stream",
     "text": [
      "'open' n’est pas reconnu en tant que commande interne\n",
      "ou externe, un programme exécutable ou un fichier de commandes.\n"
     ]
    }
   ],
   "source": [
    "!open "
   ]
  },
  {
   "cell_type": "code",
   "execution_count": 9,
   "metadata": {},
   "outputs": [],
   "source": [
    "X = pd.read_csv(\"base_x.csv\", index_col=0)\n",
    "#   Colonne (s) à utiliser comme étiquettes de ligne du DataFrame, données sous forme de nom de chaîne ou d'index de colonne. Si une séquence de int / str est donnée, un MultiIndex est utilisé.\n",
    "#Remarque: index_col = False peut être utilisé pour forcer les pandas à ne pas utiliser la première colonne comme index, par exemple lorsque vous avez un fichier mal formé avec des délimiteurs à la fin de chaque ligne."
   ]
  },
  {
   "cell_type": "code",
   "execution_count": 12,
   "metadata": {},
   "outputs": [
    {
     "data": {
      "text/html": [
       "<div>\n",
       "<style scoped>\n",
       "    .dataframe tbody tr th:only-of-type {\n",
       "        vertical-align: middle;\n",
       "    }\n",
       "\n",
       "    .dataframe tbody tr th {\n",
       "        vertical-align: top;\n",
       "    }\n",
       "\n",
       "    .dataframe thead th {\n",
       "        text-align: right;\n",
       "    }\n",
       "</style>\n",
       "<table border=\"1\" class=\"dataframe\">\n",
       "  <thead>\n",
       "    <tr style=\"text-align: right;\">\n",
       "      <th></th>\n",
       "      <th>aag.schlau</th>\n",
       "      <th>aag.schlaudanke</th>\n",
       "      <th>adac.aktuelleverkehrslage</th>\n",
       "      <th>adac.alpenstrassen</th>\n",
       "      <th>adac.alternativekraftstoffe</th>\n",
       "      <th>adac.andertankstelle</th>\n",
       "      <th>adac.auslandlzhome</th>\n",
       "      <th>adac.auslandlzkont</th>\n",
       "      <th>adac.auslandlzrechner</th>\n",
       "      <th>adac.auslkrankschkontaktfaq</th>\n",
       "      <th>...</th>\n",
       "      <th>wwtde.meetingoronline</th>\n",
       "      <th>wwtde.meetingsite</th>\n",
       "      <th>wwtde.mobileapp</th>\n",
       "      <th>wwtde.onlinesite</th>\n",
       "      <th>wwtde.propoints</th>\n",
       "      <th>wwtde.signupstep1</th>\n",
       "      <th>wwtde.signupstep2</th>\n",
       "      <th>wwtde.success</th>\n",
       "      <th>wwtde.worksonline</th>\n",
       "      <th>zentis.landingpage</th>\n",
       "    </tr>\n",
       "  </thead>\n",
       "  <tbody>\n",
       "    <tr>\n",
       "      <th>10358</th>\n",
       "      <td>0.0</td>\n",
       "      <td>0.0</td>\n",
       "      <td>0.0</td>\n",
       "      <td>0.0</td>\n",
       "      <td>0.0</td>\n",
       "      <td>0.0</td>\n",
       "      <td>0.0</td>\n",
       "      <td>0.0</td>\n",
       "      <td>0.0</td>\n",
       "      <td>0.0</td>\n",
       "      <td>...</td>\n",
       "      <td>0.0</td>\n",
       "      <td>0.0</td>\n",
       "      <td>0.0</td>\n",
       "      <td>0.0</td>\n",
       "      <td>0.0</td>\n",
       "      <td>0.0</td>\n",
       "      <td>0.0</td>\n",
       "      <td>0.0</td>\n",
       "      <td>0.0</td>\n",
       "      <td>0.0</td>\n",
       "    </tr>\n",
       "    <tr>\n",
       "      <th>12227</th>\n",
       "      <td>0.0</td>\n",
       "      <td>0.0</td>\n",
       "      <td>0.0</td>\n",
       "      <td>0.0</td>\n",
       "      <td>0.0</td>\n",
       "      <td>0.0</td>\n",
       "      <td>0.0</td>\n",
       "      <td>0.0</td>\n",
       "      <td>0.0</td>\n",
       "      <td>0.0</td>\n",
       "      <td>...</td>\n",
       "      <td>0.0</td>\n",
       "      <td>0.0</td>\n",
       "      <td>0.0</td>\n",
       "      <td>0.0</td>\n",
       "      <td>0.0</td>\n",
       "      <td>0.0</td>\n",
       "      <td>0.0</td>\n",
       "      <td>0.0</td>\n",
       "      <td>0.0</td>\n",
       "      <td>0.0</td>\n",
       "    </tr>\n",
       "    <tr>\n",
       "      <th>19120</th>\n",
       "      <td>0.0</td>\n",
       "      <td>0.0</td>\n",
       "      <td>0.0</td>\n",
       "      <td>0.0</td>\n",
       "      <td>0.0</td>\n",
       "      <td>0.0</td>\n",
       "      <td>0.0</td>\n",
       "      <td>0.0</td>\n",
       "      <td>0.0</td>\n",
       "      <td>0.0</td>\n",
       "      <td>...</td>\n",
       "      <td>0.0</td>\n",
       "      <td>0.0</td>\n",
       "      <td>0.0</td>\n",
       "      <td>0.0</td>\n",
       "      <td>0.0</td>\n",
       "      <td>0.0</td>\n",
       "      <td>0.0</td>\n",
       "      <td>0.0</td>\n",
       "      <td>0.0</td>\n",
       "      <td>0.0</td>\n",
       "    </tr>\n",
       "    <tr>\n",
       "      <th>37547</th>\n",
       "      <td>0.0</td>\n",
       "      <td>0.0</td>\n",
       "      <td>0.0</td>\n",
       "      <td>0.0</td>\n",
       "      <td>0.0</td>\n",
       "      <td>0.0</td>\n",
       "      <td>0.0</td>\n",
       "      <td>0.0</td>\n",
       "      <td>0.0</td>\n",
       "      <td>0.0</td>\n",
       "      <td>...</td>\n",
       "      <td>0.0</td>\n",
       "      <td>0.0</td>\n",
       "      <td>0.0</td>\n",
       "      <td>0.0</td>\n",
       "      <td>0.0</td>\n",
       "      <td>0.0</td>\n",
       "      <td>0.0</td>\n",
       "      <td>0.0</td>\n",
       "      <td>0.0</td>\n",
       "      <td>0.0</td>\n",
       "    </tr>\n",
       "    <tr>\n",
       "      <th>13441</th>\n",
       "      <td>0.0</td>\n",
       "      <td>0.0</td>\n",
       "      <td>0.0</td>\n",
       "      <td>0.0</td>\n",
       "      <td>0.0</td>\n",
       "      <td>0.0</td>\n",
       "      <td>0.0</td>\n",
       "      <td>0.0</td>\n",
       "      <td>0.0</td>\n",
       "      <td>0.0</td>\n",
       "      <td>...</td>\n",
       "      <td>0.0</td>\n",
       "      <td>0.0</td>\n",
       "      <td>0.0</td>\n",
       "      <td>0.0</td>\n",
       "      <td>0.0</td>\n",
       "      <td>0.0</td>\n",
       "      <td>0.0</td>\n",
       "      <td>0.0</td>\n",
       "      <td>0.0</td>\n",
       "      <td>0.0</td>\n",
       "    </tr>\n",
       "    <tr>\n",
       "      <th>...</th>\n",
       "      <td>...</td>\n",
       "      <td>...</td>\n",
       "      <td>...</td>\n",
       "      <td>...</td>\n",
       "      <td>...</td>\n",
       "      <td>...</td>\n",
       "      <td>...</td>\n",
       "      <td>...</td>\n",
       "      <td>...</td>\n",
       "      <td>...</td>\n",
       "      <td>...</td>\n",
       "      <td>...</td>\n",
       "      <td>...</td>\n",
       "      <td>...</td>\n",
       "      <td>...</td>\n",
       "      <td>...</td>\n",
       "      <td>...</td>\n",
       "      <td>...</td>\n",
       "      <td>...</td>\n",
       "      <td>...</td>\n",
       "      <td>...</td>\n",
       "    </tr>\n",
       "    <tr>\n",
       "      <th>2336</th>\n",
       "      <td>0.0</td>\n",
       "      <td>0.0</td>\n",
       "      <td>0.0</td>\n",
       "      <td>0.0</td>\n",
       "      <td>0.0</td>\n",
       "      <td>0.0</td>\n",
       "      <td>0.0</td>\n",
       "      <td>0.0</td>\n",
       "      <td>0.0</td>\n",
       "      <td>0.0</td>\n",
       "      <td>...</td>\n",
       "      <td>0.0</td>\n",
       "      <td>0.0</td>\n",
       "      <td>0.0</td>\n",
       "      <td>0.0</td>\n",
       "      <td>0.0</td>\n",
       "      <td>0.0</td>\n",
       "      <td>0.0</td>\n",
       "      <td>0.0</td>\n",
       "      <td>0.0</td>\n",
       "      <td>0.0</td>\n",
       "    </tr>\n",
       "    <tr>\n",
       "      <th>14865</th>\n",
       "      <td>0.0</td>\n",
       "      <td>0.0</td>\n",
       "      <td>0.0</td>\n",
       "      <td>0.0</td>\n",
       "      <td>0.0</td>\n",
       "      <td>0.0</td>\n",
       "      <td>0.0</td>\n",
       "      <td>0.0</td>\n",
       "      <td>0.0</td>\n",
       "      <td>0.0</td>\n",
       "      <td>...</td>\n",
       "      <td>0.0</td>\n",
       "      <td>0.0</td>\n",
       "      <td>0.0</td>\n",
       "      <td>0.0</td>\n",
       "      <td>0.0</td>\n",
       "      <td>0.0</td>\n",
       "      <td>0.0</td>\n",
       "      <td>0.0</td>\n",
       "      <td>0.0</td>\n",
       "      <td>0.0</td>\n",
       "    </tr>\n",
       "    <tr>\n",
       "      <th>31328</th>\n",
       "      <td>0.0</td>\n",
       "      <td>0.0</td>\n",
       "      <td>0.0</td>\n",
       "      <td>0.0</td>\n",
       "      <td>0.0</td>\n",
       "      <td>0.0</td>\n",
       "      <td>0.0</td>\n",
       "      <td>0.0</td>\n",
       "      <td>0.0</td>\n",
       "      <td>0.0</td>\n",
       "      <td>...</td>\n",
       "      <td>0.0</td>\n",
       "      <td>0.0</td>\n",
       "      <td>0.0</td>\n",
       "      <td>0.0</td>\n",
       "      <td>0.0</td>\n",
       "      <td>0.0</td>\n",
       "      <td>0.0</td>\n",
       "      <td>0.0</td>\n",
       "      <td>0.0</td>\n",
       "      <td>0.0</td>\n",
       "    </tr>\n",
       "    <tr>\n",
       "      <th>16692</th>\n",
       "      <td>0.0</td>\n",
       "      <td>0.0</td>\n",
       "      <td>0.0</td>\n",
       "      <td>0.0</td>\n",
       "      <td>0.0</td>\n",
       "      <td>0.0</td>\n",
       "      <td>0.0</td>\n",
       "      <td>0.0</td>\n",
       "      <td>0.0</td>\n",
       "      <td>0.0</td>\n",
       "      <td>...</td>\n",
       "      <td>0.0</td>\n",
       "      <td>0.0</td>\n",
       "      <td>0.0</td>\n",
       "      <td>0.0</td>\n",
       "      <td>0.0</td>\n",
       "      <td>0.0</td>\n",
       "      <td>0.0</td>\n",
       "      <td>0.0</td>\n",
       "      <td>0.0</td>\n",
       "      <td>0.0</td>\n",
       "    </tr>\n",
       "    <tr>\n",
       "      <th>31590</th>\n",
       "      <td>0.0</td>\n",
       "      <td>0.0</td>\n",
       "      <td>0.0</td>\n",
       "      <td>0.0</td>\n",
       "      <td>0.0</td>\n",
       "      <td>0.0</td>\n",
       "      <td>0.0</td>\n",
       "      <td>0.0</td>\n",
       "      <td>0.0</td>\n",
       "      <td>0.0</td>\n",
       "      <td>...</td>\n",
       "      <td>0.0</td>\n",
       "      <td>0.0</td>\n",
       "      <td>0.0</td>\n",
       "      <td>0.0</td>\n",
       "      <td>0.0</td>\n",
       "      <td>0.0</td>\n",
       "      <td>0.0</td>\n",
       "      <td>0.0</td>\n",
       "      <td>0.0</td>\n",
       "      <td>0.0</td>\n",
       "    </tr>\n",
       "  </tbody>\n",
       "</table>\n",
       "<p>39045 rows × 3417 columns</p>\n",
       "</div>"
      ],
      "text/plain": [
       "       aag.schlau  aag.schlaudanke  adac.aktuelleverkehrslage  \\\n",
       "10358         0.0              0.0                        0.0   \n",
       "12227         0.0              0.0                        0.0   \n",
       "19120         0.0              0.0                        0.0   \n",
       "37547         0.0              0.0                        0.0   \n",
       "13441         0.0              0.0                        0.0   \n",
       "...           ...              ...                        ...   \n",
       "2336          0.0              0.0                        0.0   \n",
       "14865         0.0              0.0                        0.0   \n",
       "31328         0.0              0.0                        0.0   \n",
       "16692         0.0              0.0                        0.0   \n",
       "31590         0.0              0.0                        0.0   \n",
       "\n",
       "       adac.alpenstrassen  adac.alternativekraftstoffe  adac.andertankstelle  \\\n",
       "10358                 0.0                          0.0                   0.0   \n",
       "12227                 0.0                          0.0                   0.0   \n",
       "19120                 0.0                          0.0                   0.0   \n",
       "37547                 0.0                          0.0                   0.0   \n",
       "13441                 0.0                          0.0                   0.0   \n",
       "...                   ...                          ...                   ...   \n",
       "2336                  0.0                          0.0                   0.0   \n",
       "14865                 0.0                          0.0                   0.0   \n",
       "31328                 0.0                          0.0                   0.0   \n",
       "16692                 0.0                          0.0                   0.0   \n",
       "31590                 0.0                          0.0                   0.0   \n",
       "\n",
       "       adac.auslandlzhome  adac.auslandlzkont  adac.auslandlzrechner  \\\n",
       "10358                 0.0                 0.0                    0.0   \n",
       "12227                 0.0                 0.0                    0.0   \n",
       "19120                 0.0                 0.0                    0.0   \n",
       "37547                 0.0                 0.0                    0.0   \n",
       "13441                 0.0                 0.0                    0.0   \n",
       "...                   ...                 ...                    ...   \n",
       "2336                  0.0                 0.0                    0.0   \n",
       "14865                 0.0                 0.0                    0.0   \n",
       "31328                 0.0                 0.0                    0.0   \n",
       "16692                 0.0                 0.0                    0.0   \n",
       "31590                 0.0                 0.0                    0.0   \n",
       "\n",
       "       adac.auslkrankschkontaktfaq  ...  wwtde.meetingoronline  \\\n",
       "10358                          0.0  ...                    0.0   \n",
       "12227                          0.0  ...                    0.0   \n",
       "19120                          0.0  ...                    0.0   \n",
       "37547                          0.0  ...                    0.0   \n",
       "13441                          0.0  ...                    0.0   \n",
       "...                            ...  ...                    ...   \n",
       "2336                           0.0  ...                    0.0   \n",
       "14865                          0.0  ...                    0.0   \n",
       "31328                          0.0  ...                    0.0   \n",
       "16692                          0.0  ...                    0.0   \n",
       "31590                          0.0  ...                    0.0   \n",
       "\n",
       "       wwtde.meetingsite  wwtde.mobileapp  wwtde.onlinesite  wwtde.propoints  \\\n",
       "10358                0.0              0.0               0.0              0.0   \n",
       "12227                0.0              0.0               0.0              0.0   \n",
       "19120                0.0              0.0               0.0              0.0   \n",
       "37547                0.0              0.0               0.0              0.0   \n",
       "13441                0.0              0.0               0.0              0.0   \n",
       "...                  ...              ...               ...              ...   \n",
       "2336                 0.0              0.0               0.0              0.0   \n",
       "14865                0.0              0.0               0.0              0.0   \n",
       "31328                0.0              0.0               0.0              0.0   \n",
       "16692                0.0              0.0               0.0              0.0   \n",
       "31590                0.0              0.0               0.0              0.0   \n",
       "\n",
       "       wwtde.signupstep1  wwtde.signupstep2  wwtde.success  wwtde.worksonline  \\\n",
       "10358                0.0                0.0            0.0                0.0   \n",
       "12227                0.0                0.0            0.0                0.0   \n",
       "19120                0.0                0.0            0.0                0.0   \n",
       "37547                0.0                0.0            0.0                0.0   \n",
       "13441                0.0                0.0            0.0                0.0   \n",
       "...                  ...                ...            ...                ...   \n",
       "2336                 0.0                0.0            0.0                0.0   \n",
       "14865                0.0                0.0            0.0                0.0   \n",
       "31328                0.0                0.0            0.0                0.0   \n",
       "16692                0.0                0.0            0.0                0.0   \n",
       "31590                0.0                0.0            0.0                0.0   \n",
       "\n",
       "       zentis.landingpage  \n",
       "10358                 0.0  \n",
       "12227                 0.0  \n",
       "19120                 0.0  \n",
       "37547                 0.0  \n",
       "13441                 0.0  \n",
       "...                   ...  \n",
       "2336                  0.0  \n",
       "14865                 0.0  \n",
       "31328                 0.0  \n",
       "16692                 0.0  \n",
       "31590                 0.0  \n",
       "\n",
       "[39045 rows x 3417 columns]"
      ]
     },
     "execution_count": 12,
     "metadata": {},
     "output_type": "execute_result"
    }
   ],
   "source": [
    "X"
   ]
  },
  {
   "cell_type": "code",
   "execution_count": 14,
   "metadata": {},
   "outputs": [
    {
     "data": {
      "text/plain": [
       "Int64Index([10358, 12227, 19120, 37547, 13441,  5985,  1224, 37153, 25611,\n",
       "            35816,\n",
       "            ...\n",
       "             3442, 20729,  3756, 12160, 21925,  2336, 14865, 31328, 16692,\n",
       "            31590],\n",
       "           dtype='int64', length=39045)"
      ]
     },
     "execution_count": 14,
     "metadata": {},
     "output_type": "execute_result"
    }
   ],
   "source": [
    " X.index"
   ]
  },
  {
   "cell_type": "code",
   "execution_count": 13,
   "metadata": {},
   "outputs": [],
   "source": [
    "Y = pd.read_csv(\"base_y.csv\", index_col=0)"
   ]
  },
  {
   "cell_type": "code",
   "execution_count": 11,
   "metadata": {},
   "outputs": [],
   "source": [
    "# Fait correspondre l'index des données X avec celles de Y\n",
    "assert(sum(Y.index == X.index) == Y.shape[0])"
   ]
  },
  {
   "cell_type": "markdown",
   "metadata": {},
   "source": [
    "# 1) First checks"
   ]
  },
  {
   "cell_type": "code",
   "execution_count": 22,
   "metadata": {},
   "outputs": [
    {
     "data": {
      "text/html": [
       "<div>\n",
       "<style scoped>\n",
       "    .dataframe tbody tr th:only-of-type {\n",
       "        vertical-align: middle;\n",
       "    }\n",
       "\n",
       "    .dataframe tbody tr th {\n",
       "        vertical-align: top;\n",
       "    }\n",
       "\n",
       "    .dataframe thead th {\n",
       "        text-align: right;\n",
       "    }\n",
       "</style>\n",
       "<table border=\"1\" class=\"dataframe\">\n",
       "  <thead>\n",
       "    <tr style=\"text-align: right;\">\n",
       "      <th></th>\n",
       "      <th>bucket_en_entier</th>\n",
       "      <th>bucket</th>\n",
       "      <th>ID</th>\n",
       "      <th>Sex</th>\n",
       "      <th>Good sex prediction</th>\n",
       "      <th>age</th>\n",
       "      <th>Age predicted</th>\n",
       "    </tr>\n",
       "  </thead>\n",
       "  <tbody>\n",
       "    <tr>\n",
       "      <th>10358</th>\n",
       "      <td>7</td>\n",
       "      <td>(45, 65]</td>\n",
       "      <td>10359.0</td>\n",
       "      <td>1.0</td>\n",
       "      <td>1.0</td>\n",
       "      <td>56.0</td>\n",
       "      <td>3.0</td>\n",
       "    </tr>\n",
       "    <tr>\n",
       "      <th>12227</th>\n",
       "      <td>6</td>\n",
       "      <td>(40, 45]</td>\n",
       "      <td>12228.0</td>\n",
       "      <td>1.0</td>\n",
       "      <td>1.0</td>\n",
       "      <td>43.0</td>\n",
       "      <td>1.0</td>\n",
       "    </tr>\n",
       "    <tr>\n",
       "      <th>19120</th>\n",
       "      <td>7</td>\n",
       "      <td>(45, 65]</td>\n",
       "      <td>19121.0</td>\n",
       "      <td>0.0</td>\n",
       "      <td>1.0</td>\n",
       "      <td>61.0</td>\n",
       "      <td>3.0</td>\n",
       "    </tr>\n",
       "    <tr>\n",
       "      <th>37547</th>\n",
       "      <td>4</td>\n",
       "      <td>(30, 35]</td>\n",
       "      <td>37548.0</td>\n",
       "      <td>1.0</td>\n",
       "      <td>1.0</td>\n",
       "      <td>32.0</td>\n",
       "      <td>2.0</td>\n",
       "    </tr>\n",
       "    <tr>\n",
       "      <th>13441</th>\n",
       "      <td>3</td>\n",
       "      <td>(25, 30]</td>\n",
       "      <td>13442.0</td>\n",
       "      <td>1.0</td>\n",
       "      <td>1.0</td>\n",
       "      <td>29.0</td>\n",
       "      <td>1.0</td>\n",
       "    </tr>\n",
       "    <tr>\n",
       "      <th>...</th>\n",
       "      <td>...</td>\n",
       "      <td>...</td>\n",
       "      <td>...</td>\n",
       "      <td>...</td>\n",
       "      <td>...</td>\n",
       "      <td>...</td>\n",
       "      <td>...</td>\n",
       "    </tr>\n",
       "    <tr>\n",
       "      <th>2336</th>\n",
       "      <td>6</td>\n",
       "      <td>(40, 45]</td>\n",
       "      <td>2337.0</td>\n",
       "      <td>1.0</td>\n",
       "      <td>1.0</td>\n",
       "      <td>43.0</td>\n",
       "      <td>1.0</td>\n",
       "    </tr>\n",
       "    <tr>\n",
       "      <th>14865</th>\n",
       "      <td>4</td>\n",
       "      <td>(30, 35]</td>\n",
       "      <td>14866.0</td>\n",
       "      <td>0.0</td>\n",
       "      <td>1.0</td>\n",
       "      <td>32.0</td>\n",
       "      <td>3.0</td>\n",
       "    </tr>\n",
       "    <tr>\n",
       "      <th>31328</th>\n",
       "      <td>4</td>\n",
       "      <td>(30, 35]</td>\n",
       "      <td>31329.0</td>\n",
       "      <td>0.0</td>\n",
       "      <td>1.0</td>\n",
       "      <td>35.0</td>\n",
       "      <td>1.0</td>\n",
       "    </tr>\n",
       "    <tr>\n",
       "      <th>16692</th>\n",
       "      <td>7</td>\n",
       "      <td>(45, 65]</td>\n",
       "      <td>16693.0</td>\n",
       "      <td>1.0</td>\n",
       "      <td>1.0</td>\n",
       "      <td>50.0</td>\n",
       "      <td>1.0</td>\n",
       "    </tr>\n",
       "    <tr>\n",
       "      <th>31590</th>\n",
       "      <td>7</td>\n",
       "      <td>(45, 65]</td>\n",
       "      <td>31591.0</td>\n",
       "      <td>0.0</td>\n",
       "      <td>0.0</td>\n",
       "      <td>51.0</td>\n",
       "      <td>1.0</td>\n",
       "    </tr>\n",
       "  </tbody>\n",
       "</table>\n",
       "<p>39045 rows × 7 columns</p>\n",
       "</div>"
      ],
      "text/plain": [
       "       bucket_en_entier    bucket       ID  Sex  Good sex prediction   age  \\\n",
       "10358                 7  (45, 65]  10359.0  1.0                  1.0  56.0   \n",
       "12227                 6  (40, 45]  12228.0  1.0                  1.0  43.0   \n",
       "19120                 7  (45, 65]  19121.0  0.0                  1.0  61.0   \n",
       "37547                 4  (30, 35]  37548.0  1.0                  1.0  32.0   \n",
       "13441                 3  (25, 30]  13442.0  1.0                  1.0  29.0   \n",
       "...                 ...       ...      ...  ...                  ...   ...   \n",
       "2336                  6  (40, 45]   2337.0  1.0                  1.0  43.0   \n",
       "14865                 4  (30, 35]  14866.0  0.0                  1.0  32.0   \n",
       "31328                 4  (30, 35]  31329.0  0.0                  1.0  35.0   \n",
       "16692                 7  (45, 65]  16693.0  1.0                  1.0  50.0   \n",
       "31590                 7  (45, 65]  31591.0  0.0                  0.0  51.0   \n",
       "\n",
       "       Age predicted  \n",
       "10358            3.0  \n",
       "12227            1.0  \n",
       "19120            3.0  \n",
       "37547            2.0  \n",
       "13441            1.0  \n",
       "...              ...  \n",
       "2336             1.0  \n",
       "14865            3.0  \n",
       "31328            1.0  \n",
       "16692            1.0  \n",
       "31590            1.0  \n",
       "\n",
       "[39045 rows x 7 columns]"
      ]
     },
     "execution_count": 22,
     "metadata": {},
     "output_type": "execute_result"
    }
   ],
   "source": [
    "[Y][0]"
   ]
  },
  {
   "cell_type": "code",
   "execution_count": 24,
   "metadata": {},
   "outputs": [
    {
     "name": "stdout",
     "output_type": "stream",
     "text": [
      "         Number of rows and columns : 39045 rows, 7 columns \n",
      "    Number of categorical variables : 1 variable, and 10 modalities\n",
      "       Number of values by modality :\n",
      "                                       (14, 18]   151\n",
      "                                       (18, 20]   357\n",
      "                                       (20, 25]  1734\n",
      "                                       (25, 30]  4070\n",
      "                                       (30, 35]  4150\n",
      "                                       (35, 40]  4702\n",
      "                                       (40, 45]  4591\n",
      "                                       (45, 65] 16136\n",
      "                                       (65, 70]  1743\n",
      "                                      (70, 150]  1411\n",
      "                   Moyenne des âges : 45.5\n",
      "                         Ecart type : 13.6\n",
      "            Frontière des Quartiles : 18.0 , 35.0 , 45.0 , 55.0 , 95.0\n",
      "          Ecartement inter quartile : 17.0 , 10.0 , 10.0 , 40.0\n",
      "              Frontière des Deciles : 18.0 , 28.0 , 33.0 , 37.0 , 41.0 , 45.0 , 49.0 , 53.0 , 58.0 , 64.0\n",
      "            Ecartement inter decile : 10.0 , 5.0 , 4.0 , 4.0 , 4.0 , 4.0 , 4.0 , 5.0 , 6.0\n"
     ]
    }
   ],
   "source": [
    "# Statistiques descriptives\n",
    "# Nombre de row, de variable, nb de modalité de la variable âge\n",
    "# Moyenne, écart type, quartiles, déciles\n",
    "\n",
    "for data in [Y]:\n",
    "    title = \"Number of rows and columns\"\n",
    "    print (\"% 35s : %s rows, %s columns \"%(title, data.shape[0], data.shape[1]))\n",
    "    title = \"Number of categorical variables\"\n",
    "    print (\"% 35s : 1 variable, and 10 modalities\"%title)\n",
    "    title = \"Number of values by modality\" \n",
    "    print (\"% 35s :\"% (title))\n",
    "    t = data.bucket.value_counts()\n",
    "    t = t.sort_index()\n",
    "    for x,y in t.iteritems():\n",
    "        print (\"% 37s % 9s % 5s\"%(\"\", x,y))\n",
    "\n",
    "    title = \"Moyenne des âges\"\n",
    "    print (\"% 35s : %.1f\"%(title, data.age.mean()))\n",
    "    title = \"Ecart type\"\n",
    "    print (\"% 35s : %.1f\"%(title,data.age.std()))\n",
    "\n",
    "    quartiles = {}\n",
    "    for i in range(5):\n",
    "        quartiles[i] = np.percentile(data.age, i*100/4)\n",
    "\n",
    "    title = \"Frontière des Quartiles\"\n",
    "    print (\"% 35s : %s\"%(title, \" , \".join([\"%s\"%y for x,y in quartiles.items()])))\n",
    "\n",
    "    title = \"Ecartement inter quartile\"\n",
    "    print (\"% 35s : %s\"%(title, \" , \".join([\"%s\"%(quartiles[i]-quartiles[i-1]) for i in range(1,5)])))\n",
    "\n",
    "\n",
    "    decile = {}\n",
    "    for i in range(10):\n",
    "        decile[i] = np.percentile(data.age, i*100/10)\n",
    "    title = \"Frontière des Deciles\"\n",
    "    print (\"% 35s : %s\"%(title, \" , \".join([\"%s\"%y for x,y in decile.items()])))\n",
    "\n",
    "    title = \"Ecartement inter decile\"\n",
    "    print (\"% 35s : %s\"%(title, \" , \".join([\"%s\"%(decile[i]-decile[i-1]) for i in range(1,10)])))\n",
    "\n",
    "# REMARQUES :\n",
    "# La répartition de la population dans les catégories d'âge n'est pas homogène\n",
    "# Certaines classes d'âge sont sous-représentées (jeunes, vétérans)"
   ]
  },
  {
   "cell_type": "markdown",
   "metadata": {},
   "source": [
    "## L'âge est-il normal ?"
   ]
  },
  {
   "cell_type": "code",
   "execution_count": 11,
   "metadata": {},
   "outputs": [
    {
     "data": {
      "text/plain": [
       "((array([-4.13494008, -3.92652537, -3.81279465, ...,  3.81279465,\n",
       "          3.92652537,  4.13494008]),\n",
       "  array([18., 18., 18., ..., 94., 95., 95.])),\n",
       " (13.475733117621878, 45.471046228710456, 0.9929491353419291))"
      ]
     },
     "execution_count": 11,
     "metadata": {},
     "output_type": "execute_result"
    },
    {
     "data": {
      "image/png": "[encoded data removed]",
      "text/plain": [
       "<Figure size 432x288 with 1 Axes>"
      ]
     },
     "metadata": {
      "needs_background": "light"
     },
     "output_type": "display_data"
    }
   ],
   "source": [
    "# Répartition des ages selon les quantiles (création d'intervalles contenant le même nombre de données)\n",
    "stats.probplot(Y.age, dist=\"norm\", plot=pylab)"
   ]
  },
  {
   "cell_type": "markdown",
   "metadata": {},
   "source": [
    "# 2) Binarization des âges"
   ]
  },
  {
   "cell_type": "code",
   "execution_count": 30,
   "metadata": {},
   "outputs": [
    {
     "data": {
      "text/html": [
       "<div>\n",
       "<style scoped>\n",
       "    .dataframe tbody tr th:only-of-type {\n",
       "        vertical-align: middle;\n",
       "    }\n",
       "\n",
       "    .dataframe tbody tr th {\n",
       "        vertical-align: top;\n",
       "    }\n",
       "\n",
       "    .dataframe thead th {\n",
       "        text-align: right;\n",
       "    }\n",
       "</style>\n",
       "<table border=\"1\" class=\"dataframe\">\n",
       "  <thead>\n",
       "    <tr style=\"text-align: right;\">\n",
       "      <th></th>\n",
       "      <th>bucket_en_entier</th>\n",
       "      <th>bucket</th>\n",
       "      <th>ID</th>\n",
       "      <th>Sex</th>\n",
       "      <th>Good sex prediction</th>\n",
       "      <th>age</th>\n",
       "      <th>Age predicted</th>\n",
       "      <th>bucketed_age</th>\n",
       "    </tr>\n",
       "  </thead>\n",
       "  <tbody>\n",
       "    <tr>\n",
       "      <th>10358</th>\n",
       "      <td>7</td>\n",
       "      <td>(45, 65]</td>\n",
       "      <td>10359.0</td>\n",
       "      <td>1.0</td>\n",
       "      <td>1.0</td>\n",
       "      <td>56.0</td>\n",
       "      <td>3.0</td>\n",
       "      <td>(54, 59]</td>\n",
       "    </tr>\n",
       "    <tr>\n",
       "      <th>12227</th>\n",
       "      <td>6</td>\n",
       "      <td>(40, 45]</td>\n",
       "      <td>12228.0</td>\n",
       "      <td>1.0</td>\n",
       "      <td>1.0</td>\n",
       "      <td>43.0</td>\n",
       "      <td>1.0</td>\n",
       "      <td>(39, 44]</td>\n",
       "    </tr>\n",
       "    <tr>\n",
       "      <th>19120</th>\n",
       "      <td>7</td>\n",
       "      <td>(45, 65]</td>\n",
       "      <td>19121.0</td>\n",
       "      <td>0.0</td>\n",
       "      <td>1.0</td>\n",
       "      <td>61.0</td>\n",
       "      <td>3.0</td>\n",
       "      <td>(59, 100]</td>\n",
       "    </tr>\n",
       "    <tr>\n",
       "      <th>37547</th>\n",
       "      <td>4</td>\n",
       "      <td>(30, 35]</td>\n",
       "      <td>37548.0</td>\n",
       "      <td>1.0</td>\n",
       "      <td>1.0</td>\n",
       "      <td>32.0</td>\n",
       "      <td>2.0</td>\n",
       "      <td>(29, 34]</td>\n",
       "    </tr>\n",
       "    <tr>\n",
       "      <th>13441</th>\n",
       "      <td>3</td>\n",
       "      <td>(25, 30]</td>\n",
       "      <td>13442.0</td>\n",
       "      <td>1.0</td>\n",
       "      <td>1.0</td>\n",
       "      <td>29.0</td>\n",
       "      <td>1.0</td>\n",
       "      <td>(24, 29]</td>\n",
       "    </tr>\n",
       "    <tr>\n",
       "      <th>...</th>\n",
       "      <td>...</td>\n",
       "      <td>...</td>\n",
       "      <td>...</td>\n",
       "      <td>...</td>\n",
       "      <td>...</td>\n",
       "      <td>...</td>\n",
       "      <td>...</td>\n",
       "      <td>...</td>\n",
       "    </tr>\n",
       "    <tr>\n",
       "      <th>2336</th>\n",
       "      <td>6</td>\n",
       "      <td>(40, 45]</td>\n",
       "      <td>2337.0</td>\n",
       "      <td>1.0</td>\n",
       "      <td>1.0</td>\n",
       "      <td>43.0</td>\n",
       "      <td>1.0</td>\n",
       "      <td>(39, 44]</td>\n",
       "    </tr>\n",
       "    <tr>\n",
       "      <th>14865</th>\n",
       "      <td>4</td>\n",
       "      <td>(30, 35]</td>\n",
       "      <td>14866.0</td>\n",
       "      <td>0.0</td>\n",
       "      <td>1.0</td>\n",
       "      <td>32.0</td>\n",
       "      <td>3.0</td>\n",
       "      <td>(29, 34]</td>\n",
       "    </tr>\n",
       "    <tr>\n",
       "      <th>31328</th>\n",
       "      <td>4</td>\n",
       "      <td>(30, 35]</td>\n",
       "      <td>31329.0</td>\n",
       "      <td>0.0</td>\n",
       "      <td>1.0</td>\n",
       "      <td>35.0</td>\n",
       "      <td>1.0</td>\n",
       "      <td>(34, 39]</td>\n",
       "    </tr>\n",
       "    <tr>\n",
       "      <th>16692</th>\n",
       "      <td>7</td>\n",
       "      <td>(45, 65]</td>\n",
       "      <td>16693.0</td>\n",
       "      <td>1.0</td>\n",
       "      <td>1.0</td>\n",
       "      <td>50.0</td>\n",
       "      <td>1.0</td>\n",
       "      <td>(49, 54]</td>\n",
       "    </tr>\n",
       "    <tr>\n",
       "      <th>31590</th>\n",
       "      <td>7</td>\n",
       "      <td>(45, 65]</td>\n",
       "      <td>31591.0</td>\n",
       "      <td>0.0</td>\n",
       "      <td>0.0</td>\n",
       "      <td>51.0</td>\n",
       "      <td>1.0</td>\n",
       "      <td>(49, 54]</td>\n",
       "    </tr>\n",
       "  </tbody>\n",
       "</table>\n",
       "<p>39045 rows × 8 columns</p>\n",
       "</div>"
      ],
      "text/plain": [
       "       bucket_en_entier    bucket       ID  Sex  Good sex prediction   age  \\\n",
       "10358                 7  (45, 65]  10359.0  1.0                  1.0  56.0   \n",
       "12227                 6  (40, 45]  12228.0  1.0                  1.0  43.0   \n",
       "19120                 7  (45, 65]  19121.0  0.0                  1.0  61.0   \n",
       "37547                 4  (30, 35]  37548.0  1.0                  1.0  32.0   \n",
       "13441                 3  (25, 30]  13442.0  1.0                  1.0  29.0   \n",
       "...                 ...       ...      ...  ...                  ...   ...   \n",
       "2336                  6  (40, 45]   2337.0  1.0                  1.0  43.0   \n",
       "14865                 4  (30, 35]  14866.0  0.0                  1.0  32.0   \n",
       "31328                 4  (30, 35]  31329.0  0.0                  1.0  35.0   \n",
       "16692                 7  (45, 65]  16693.0  1.0                  1.0  50.0   \n",
       "31590                 7  (45, 65]  31591.0  0.0                  0.0  51.0   \n",
       "\n",
       "       Age predicted bucketed_age  \n",
       "10358            3.0     (54, 59]  \n",
       "12227            1.0     (39, 44]  \n",
       "19120            3.0    (59, 100]  \n",
       "37547            2.0     (29, 34]  \n",
       "13441            1.0     (24, 29]  \n",
       "...              ...          ...  \n",
       "2336             1.0     (39, 44]  \n",
       "14865            3.0     (29, 34]  \n",
       "31328            1.0     (34, 39]  \n",
       "16692            1.0     (49, 54]  \n",
       "31590            1.0     (49, 54]  \n",
       "\n",
       "[39045 rows x 8 columns]"
      ]
     },
     "execution_count": 30,
     "metadata": {},
     "output_type": "execute_result"
    }
   ],
   "source": [
    "# Mise en place de nouveaux intervalles d'âge pour obtenir une meilleur répartition de la population dans les classes d'âge\n",
    "bins = np.array([13,19,24,29,34,39,44,49,54,59,100])\n",
    "labels = pd.cut(data.age, bins)\n",
    "Y['bucketed_age'] = labels\n",
    "Y"
   ]
  },
  {
   "cell_type": "code",
   "execution_count": 31,
   "metadata": {},
   "outputs": [
    {
     "data": {
      "text/plain": [
       "10358      (48.8, 64.2]\n",
       "12227      (33.4, 48.8]\n",
       "19120      (48.8, 64.2]\n",
       "37547    (17.923, 33.4]\n",
       "13441    (17.923, 33.4]\n",
       "              ...      \n",
       "2336       (33.4, 48.8]\n",
       "14865    (17.923, 33.4]\n",
       "31328      (33.4, 48.8]\n",
       "16692      (48.8, 64.2]\n",
       "31590      (48.8, 64.2]\n",
       "Name: age, Length: 39045, dtype: category\n",
       "Categories (5, interval[float64]): [(17.923, 33.4] < (33.4, 48.8] < (48.8, 64.2] < (64.2, 79.6] < (79.6, 95.0]]"
      ]
     },
     "execution_count": 31,
     "metadata": {},
     "output_type": "execute_result"
    }
   ],
   "source": [
    "labels2 = pd.cut(data.age, 5)\n",
    "labels2"
   ]
  },
  {
   "cell_type": "code",
   "execution_count": 32,
   "metadata": {},
   "outputs": [
    {
     "data": {
      "text/plain": [
       "10358     (54, 59]\n",
       "12227     (39, 44]\n",
       "19120    (59, 100]\n",
       "37547     (29, 34]\n",
       "13441     (24, 29]\n",
       "           ...    \n",
       "2336      (39, 44]\n",
       "14865     (29, 34]\n",
       "31328     (34, 39]\n",
       "16692     (49, 54]\n",
       "31590     (49, 54]\n",
       "Name: bucketed_age, Length: 39045, dtype: category\n",
       "Categories (10, interval[int64]): [(13, 19] < (19, 24] < (24, 29] < (29, 34] ... (44, 49] < (49, 54] < (54, 59] < (59, 100]]"
      ]
     },
     "execution_count": 32,
     "metadata": {},
     "output_type": "execute_result"
    }
   ],
   "source": [
    "dataSerie = pd.Series(Y.bucketed_age)\n",
    "dataSerie"
   ]
  },
  {
   "cell_type": "code",
   "execution_count": 36,
   "metadata": {},
   "outputs": [
    {
     "data": {
      "text/plain": [
       "7365      (13, 19]\n",
       "24987     (13, 19]\n",
       "11705     (13, 19]\n",
       "19547     (13, 19]\n",
       "29092     (13, 19]\n",
       "           ...    \n",
       "16527    (59, 100]\n",
       "27673    (59, 100]\n",
       "12293    (59, 100]\n",
       "33660    (59, 100]\n",
       "25729    (59, 100]\n",
       "Name: bucketed_age, Length: 39045, dtype: category\n",
       "Categories (10, interval[int64]): [(13, 19] < (19, 24] < (24, 29] < (29, 34] ... (44, 49] < (49, 54] < (54, 59] < (59, 100]]"
      ]
     },
     "execution_count": 36,
     "metadata": {},
     "output_type": "execute_result"
    }
   ],
   "source": [
    "x = dataSerie.sort_values()\n",
    "x"
   ]
  },
  {
   "cell_type": "code",
   "execution_count": 37,
   "metadata": {},
   "outputs": [
    {
     "data": {
      "text/plain": [
       "(59, 100]    6708\n",
       "(44, 49]     5344\n",
       "(34, 39]     4740\n",
       "(49, 54]     4580\n",
       "(39, 44]     4468\n",
       "(29, 34]     4068\n",
       "(24, 29]     3771\n",
       "(54, 59]     3654\n",
       "(19, 24]     1394\n",
       "(13, 19]      318\n",
       "Name: bucketed_age, dtype: int64"
      ]
     },
     "execution_count": 37,
     "metadata": {},
     "output_type": "execute_result"
    }
   ],
   "source": [
    "x = dataSerie.value_counts()\n",
    "x"
   ]
  },
  {
   "cell_type": "code",
   "execution_count": 38,
   "metadata": {},
   "outputs": [
    {
     "data": {
      "text/plain": [
       "CategoricalIndex([(59, 100],  (44, 49],  (34, 39],  (49, 54],  (39, 44],\n",
       "                   (29, 34],  (24, 29],  (54, 59],  (19, 24],  (13, 19]],\n",
       "                 categories=[(13, 19], (19, 24], (24, 29], (29, 34], (34, 39], (39, 44], (44, 49], (49, 54], ...], ordered=True, dtype='category')"
      ]
     },
     "execution_count": 38,
     "metadata": {},
     "output_type": "execute_result"
    }
   ],
   "source": [
    "x.index"
   ]
  },
  {
   "cell_type": "code",
   "execution_count": 34,
   "metadata": {},
   "outputs": [
    {
     "data": {
      "text/plain": [
       "(13, 19]      318\n",
       "(19, 24]     1394\n",
       "(24, 29]     3771\n",
       "(29, 34]     4068\n",
       "(34, 39]     4740\n",
       "(39, 44]     4468\n",
       "(44, 49]     5344\n",
       "(49, 54]     4580\n",
       "(54, 59]     3654\n",
       "(59, 100]    6708\n",
       "Name: bucketed_age, dtype: int64"
      ]
     },
     "execution_count": 34,
     "metadata": {},
     "output_type": "execute_result"
    }
   ],
   "source": [
    "x = x.sort_index()\n",
    "x"
   ]
  },
  {
   "cell_type": "code",
   "execution_count": null,
   "metadata": {},
   "outputs": [],
   "source": []
  },
  {
   "cell_type": "code",
   "execution_count": 39,
   "metadata": {},
   "outputs": [
    {
     "data": {
      "text/plain": [
       "<AxesSubplot:title={'center':'Age prediction :a  multi-class classification problem'}>"
      ]
     },
     "execution_count": 39,
     "metadata": {},
     "output_type": "execute_result"
    },
    {
     "data": {
      "image/png": "[encoded data removed]",
      "text/plain": [
       "<Figure size 432x288 with 1 Axes>"
      ]
     },
     "metadata": {
      "needs_background": "light"
     },
     "output_type": "display_data"
    }
   ],
   "source": [
    "title=\"Age prediction :a  multi-class classification problem\"\n",
    "x.plot(kind=\"bar\", title=title)\n",
    "\n",
    "# Le problème de répartition dans les classes d'âge semble mieux appréhendé, cependant il est encore un peu présent"
   ]
  },
  {
   "cell_type": "markdown",
   "metadata": {},
   "source": [
    "# 4) Grid search"
   ]
  },
  {
   "cell_type": "code",
   "execution_count": null,
   "metadata": {},
   "outputs": [],
   "source": []
  },
  {
   "cell_type": "code",
   "execution_count": 40,
   "metadata": {},
   "outputs": [],
   "source": [
    "def RandomForest_grid_search(df, Y):\n",
    "    \"\"\"\n",
    "    Réglage des hyper-paramètres du classifieur Random Forest\n",
    "    \"\"\"\n",
    "    import sys, pickle\n",
    "    from sklearn.ensemble          import RandomForestClassifier\n",
    "    from sklearn.model_selection   import GridSearchCV\n",
    "    from sklearn.metrics           import make_scorer\n",
    "    from sklearn.preprocessing     import label_binarize\n",
    "    from sklearn.multiclass        import OneVsRestClassifier\n",
    "    #grid search :\n",
    "\n",
    "    parameters = {  \"n_estimators\"         : [ 10, 100, 200 ], \n",
    "                    \"min_samples_leaf\"     : [  3,   1,   7 ],\n",
    "                    \"criterion\"            : [\"gini\"],#[\"gini\", \"entropy\"]         ,\n",
    "                    \"max_features\"         : [\"auto\"]      ,\n",
    "                    \"max_depth\"            : [None]         , \n",
    "                    \"n_jobs\"               : [ -1]             ,  \n",
    "                    \"class_weight\"         : [\"auto\"]          ,\n",
    "                    \"warm_start\"           : [False]           }\n",
    "    parameters = {  \"n_estimators\"         : [ 10], \n",
    "                    \"min_samples_leaf\"     : [  3 ],\n",
    "                    \"criterion\"            : [\"gini\"],#[\"gini\", \"entropy\"]         ,\n",
    "                    \"max_features\"         : [\"auto\"]      ,\n",
    "                    \"max_depth\"            : [None]         , \n",
    "                    \"n_jobs\"               : [ -1]             ,  \n",
    "                    \"class_weight\"         : [\"auto\"]          ,\n",
    "                    \"warm_start\"           : [False]           }\n",
    "    \n",
    "    grid_type = \"RandomForestClassifier\"\n",
    "    \n",
    "    print (\"-\"*30, \"\\n %s\"%grid_type); sys.stdout.flush()\n",
    "    \"\"\"\n",
    "        Search \n",
    "    \"\"\"\n",
    "    \n",
    "    grid         = GridSearchCV(RandomForestClassifier(), {})#, parameters, verbose=1, scoring='f1_weighted')\n",
    "    \n",
    "    try :grid.fit(df, Y)\n",
    "    except Exception as e : print (\"[%s - 2] : %s\"%(grid_type,e) )\n",
    "    \n",
    "    print (\" best_score_ %s with =  %s \"%( grid.best_score_,  grid.best_estimator_ ) ); sys.stdout.flush()    \n",
    "    return grid.best_estimator_"
   ]
  },
  {
   "cell_type": "code",
   "execution_count": 41,
   "metadata": {},
   "outputs": [],
   "source": [
    "def svm_grid_search(df, Y):\n",
    "    \"\"\"\n",
    "    Réglage des hyper-paramètres du classifieur Support Vector Machine\n",
    "    Notamment : 'C', 'kernel' et 'gamma'\n",
    "    \"\"\"\n",
    "    import sys\n",
    "    from sklearn.model_selection   import GridSearchCV\n",
    "    from sklearn.svm               import SVC\n",
    "    import pickle\n",
    "    parameters = {  \"C\"              : [1.0],#, 0.5, 0.1, 2]                , \n",
    "                    \"kernel\"         : ['rbf'],#, 'poly', 'sigmoid']        ,\n",
    "                    \"degree\"         : [2],#, 3, 4,5,6]                     , \n",
    "                    \"gamma\"          : [0.01],#, 0.1, 0.001, 0.5]           , \n",
    "                    \"coef0\"          : [0.0]                             , \n",
    "                    \"shrinking\"      : [True]                            , \n",
    "                    \"probability\"    : [True]                            , \n",
    "                    \"tol\"            : [0.001]                           , \n",
    "                    \"cache_size\"     : [10]                              , \n",
    "                    \"class_weight\"   : [None]                            , \n",
    "                    \"verbose\"        : [False]                           , \n",
    "                    \"max_iter\"       : [-1]                              , \n",
    "                    \"random_state\"   : [None]                            }\n",
    "   \n",
    "    \n",
    "    \n",
    "    print (\"-\"*30, \"\\n svm_grid_search\"); sys.stdout.flush()\n",
    "    \n",
    "    \"\"\"\n",
    "        Search Grid\n",
    "    \"\"\"\n",
    "    grid    = GridSearchCV(SVC(), parameters, verbose=0, scoring='f1_weighted')\n",
    "    try :grid.fit(df, Y)\n",
    "    except Exception as e : \n",
    "        print (\"[svm_grid_search - 2] : %s\"%e) ; \n",
    "        print (\"x_train, y_train : \", x_train, y_train)\n",
    "\n",
    "    print (\" best_score_ = %.2f with =  %s \"%(grid.best_score_, grid.best_estimator_ ) ); sys.stdout.flush()    \n",
    "    return grid.best_estimator_"
   ]
  },
  {
   "cell_type": "code",
   "execution_count": 42,
   "metadata": {},
   "outputs": [],
   "source": [
    "def knn_grid_search(df, Y):\n",
    "    \"\"\"\n",
    "    Réglage des hyper-paramètres du classifieur K Nearest Neighbors\n",
    "    Plusieurs hyper-paramètres sont disponibles\n",
    "    L'entrainement du modèle va s'effectuer sur plusieurs paramètres\n",
    "    Le best_score représentera le modèle avec les meilleurs paramètres\n",
    "    \"\"\"\n",
    "    import sys\n",
    "    from sklearn.model_selection   import GridSearchCV\n",
    "    from sklearn.neighbors         import KNeighborsClassifier\n",
    "    \n",
    "    import pickle\n",
    "\n",
    "    parameters = {  \"n_neighbors\"    : [2, 3, 5, 8 , 10]                         , \n",
    "                    \"weights\"         : ['uniform', 'distance']                  ,\n",
    "                    \"algorithm\"      : ['auto', 'ball_tree', 'kd_tree', 'brute'] , \n",
    "                    \"leaf_size\"      : [1,3 ]                                    }\n",
    "    \n",
    "    \n",
    "    grid_type = \"knn_grid_search\"\n",
    "    print (\"-\"*30, \"\\n %s\"%grid_type); sys.stdout.flush()\n",
    "    \"\"\"\n",
    "        Search Grid\n",
    "    \"\"\"\n",
    "    print (parameters);sys.stdout.flush()\n",
    "    grid    = GridSearchCV(KNeighborsClassifier(), parameters, verbose=0, scoring='f1_weighted')\n",
    "    try :grid.fit(df, Y)\n",
    "    except Exception as e : print (\"Error : [%s - 2] : %s\"%(grid_type,e) ); return -1\n",
    "\n",
    "    \n",
    "    print (\" best_score_ = %.2f with =  %s \"%(grid.best_score_, grid.best_estimator_ ) ); sys.stdout.flush()    \n",
    "    return grid"
   ]
  },
  {
   "cell_type": "code",
   "execution_count": 43,
   "metadata": {},
   "outputs": [],
   "source": [
    "def clf_grid_search(df, Y):\n",
    "    \"\"\"\n",
    "    Réglage des hyper-paramètres du Classifier Gradient Boosting\n",
    "    \"\"\"\n",
    "    import sys\n",
    "    from sklearn.model_selection   import GridSearchCV\n",
    "    from sklearn.neighbors         import KNeighborsClassifier\n",
    "    from sklearn import ensemble\n",
    "    from sklearn import datasets\n",
    "    from sklearn.utils import shuffle\n",
    "    from sklearn.metrics import mean_squared_error\n",
    "    from sklearn.datasets import make_hastie_10_2\n",
    "    from sklearn.ensemble import GradientBoostingClassifier\n",
    "    \n",
    "    import pickle\n",
    "\n",
    "    parameters = {'n_estimators': 10                       ,\n",
    "                  'max_depth': None                        ,\n",
    "                  'min_samples_split': 2                   ,\n",
    "                  'learning_rate': 0.01                    ,\n",
    "                  'loss': 'ls'                             }\n",
    "    \n",
    "    grid_type = \"clf_grid_search\"\n",
    "    print (\"-\"*30, \"\\n %s\"%grid_type); sys.stdout.flush()\n",
    "    \"\"\"\n",
    "        Search Grid\n",
    "    \"\"\"\n",
    "    print (parameters);sys.stdout.flush()\n",
    "    \n",
    "    \n",
    "    grid = GridSearchCV(GradientBoostingClassifier(), {})\n",
    "    try :grid.fit(df, Y)\n",
    "    except Exception as e : print (\"Error : [%s - 2] : %s\"%(grid_type,e) ); return -1\n",
    "    print (\" best_score_ = %.2f with =  %s \"%(grid.best_score_, grid.best_estimator_ ) ); sys.stdout.flush()    \n",
    "    return grid"
   ]
  },
  {
   "cell_type": "markdown",
   "metadata": {},
   "source": [
    "# 5) Application grid search"
   ]
  },
  {
   "cell_type": "markdown",
   "metadata": {},
   "source": [
    "## 5.1) Variable : Age"
   ]
  },
  {
   "cell_type": "code",
   "execution_count": 44,
   "metadata": {},
   "outputs": [
    {
     "name": "stdout",
     "output_type": "stream",
     "text": [
      "Collecting sklearn\n",
      "  Downloading sklearn-0.0.tar.gz (1.1 kB)\n",
      "Requirement already satisfied: scikit-learn in c:\\users\\user\\anaconda3\\lib\\site-packages (from sklearn) (0.23.2)\n",
      "Requirement already satisfied: numpy>=1.13.3 in c:\\users\\user\\anaconda3\\lib\\site-packages (from scikit-learn->sklearn) (1.19.2)\n",
      "Requirement already satisfied: threadpoolctl>=2.0.0 in c:\\users\\user\\anaconda3\\lib\\site-packages (from scikit-learn->sklearn) (2.1.0)\n",
      "Requirement already satisfied: joblib>=0.11 in c:\\users\\user\\anaconda3\\lib\\site-packages (from scikit-learn->sklearn) (0.17.0)\n",
      "Requirement already satisfied: scipy>=0.19.1 in c:\\users\\user\\anaconda3\\lib\\site-packages (from scikit-learn->sklearn) (1.5.2)\n",
      "Building wheels for collected packages: sklearn\n",
      "  Building wheel for sklearn (setup.py): started\n",
      "  Building wheel for sklearn (setup.py): finished with status 'done'\n",
      "  Created wheel for sklearn: filename=sklearn-0.0-py2.py3-none-any.whl size=1321 sha256=9658d89f0acecb85247d756a6c97f3af0d8da8116188b7067d72e2367206b27e\n",
      "  Stored in directory: c:\\users\\user\\appdata\\local\\pip\\cache\\wheels\\22\\0b\\40\\fd3f795caaa1fb4c6cb738bc1f56100be1e57da95849bfc897\n",
      "Successfully built sklearn\n",
      "Installing collected packages: sklearn\n",
      "Successfully installed sklearn-0.0\n"
     ]
    }
   ],
   "source": [
    "!pip install sklearn"
   ]
  },
  {
   "cell_type": "code",
   "execution_count": 45,
   "metadata": {},
   "outputs": [],
   "source": [
    "\n",
    "from sklearn.model_selection import train_test_split"
   ]
  },
  {
   "cell_type": "code",
   "execution_count": 46,
   "metadata": {},
   "outputs": [],
   "source": [
    "# Split des données originales en données d'entrainement et de test\n",
    "# La classification se fait en fonction de la variable 'age' \n",
    "# 75% de données de d'entrainement\n",
    "# 25% de données de test\n",
    "X_train, X_test, Y_train, Y_test = train_test_split(X, Y.bucket_en_entier)"
   ]
  },
  {
   "cell_type": "code",
   "execution_count": 47,
   "metadata": {},
   "outputs": [
    {
     "data": {
      "text/plain": [
       "14652    7\n",
       "8654     3\n",
       "15393    9\n",
       "10373    6\n",
       "21698    9\n",
       "        ..\n",
       "27568    7\n",
       "28396    7\n",
       "22893    4\n",
       "20549    3\n",
       "18529    3\n",
       "Name: bucket_en_entier, Length: 29283, dtype: int64"
      ]
     },
     "execution_count": 47,
     "metadata": {},
     "output_type": "execute_result"
    }
   ],
   "source": [
    "Y_train"
   ]
  },
  {
   "cell_type": "markdown",
   "metadata": {},
   "source": [
    "### 5.1.1) SVM"
   ]
  },
  {
   "cell_type": "code",
   "execution_count": 24,
   "metadata": {},
   "outputs": [
    {
     "name": "stdout",
     "output_type": "stream",
     "text": [
      "------------------------------ \n",
      " svm_grid_search\n"
     ]
    },
    {
     "name": "stderr",
     "output_type": "stream",
     "text": [
      "C:\\Users\\io201817\\Anaconda3\\lib\\site-packages\\sklearn\\model_selection\\_split.py:670: UserWarning: The least populated class in y has only 2 members, which is less than n_splits=5.\n",
      "  warnings.warn((\"The least populated class in y has only %d\"\n"
     ]
    },
    {
     "name": "stdout",
     "output_type": "stream",
     "text": [
      " best_score_ = 0.21 with =  SVC(cache_size=10, degree=2, gamma=0.01, probability=True) \n",
      "\n",
      "Duration time : 2.4936773777008057\n"
     ]
    }
   ],
   "source": [
    "# Temps de calculs : \n",
    "#100 rows : 1.8s / 0.42 pred\n",
    "#200 rows : 6.5s / 0.42 pred\n",
    "#300 rows : 15s  / 0.42 pred\n",
    "#400 rows : 26s  / 0.42 pred\n",
    "#500 rows : 43s  / 0.42 pred\n",
    "#600 rows : 64s  / 0.42 pred\n",
    "#700 rows : 89s  / 0.42 pred\n",
    "\n",
    "nb_lignes = 100\n",
    "start_time = print_time()\n",
    "\n",
    "# Apprentissage du classifieur SVM sur X_train et Y_train (<nb_lignes> données)\n",
    "svm = svm_grid_search(X_train[:nb_lignes], Y_train[:nb_lignes].values)\n",
    "\n",
    "end_time = print_time()\n",
    "print (\"\\nDuration time :\", end_time - start_time)\n",
    "# Faites varier le nombre de lignes ! "
   ]
  },
  {
   "cell_type": "code",
   "execution_count": 25,
   "metadata": {},
   "outputs": [
    {
     "data": {
      "image/png": "[encoded data removed]",
      "text/plain": [
       "<Figure size 288x288 with 2 Axes>"
      ]
     },
     "metadata": {
      "needs_background": "light"
     },
     "output_type": "display_data"
    }
   ],
   "source": [
    "# Matrice de confusion des données X_test sur lesquelles on fait la prédiction et des données Y_test.\n",
    "# La catégorie d'âge [45,65] semble être celle sur laquelle la prédiction se fait le mieux.\n",
    "# Cependant la précision du modèle étant de 0.42, au mieux, n'est pas du tout concevable dans un modèle prédictif.\n",
    "\n",
    "draw_confusion_matrix(Y_test, svm.predict(X_test), \"\") #Y_test possède seulement la variable 'bucket_en_entier'."
   ]
  },
  {
   "cell_type": "markdown",
   "metadata": {},
   "source": [
    "### 5.1.2) KNN"
   ]
  },
  {
   "cell_type": "code",
   "execution_count": 26,
   "metadata": {},
   "outputs": [],
   "source": [
    "X_train, X_test, Y_train, Y_test = train_test_split(X, Y.bucket_en_entier)"
   ]
  },
  {
   "cell_type": "code",
   "execution_count": 27,
   "metadata": {},
   "outputs": [
    {
     "name": "stdout",
     "output_type": "stream",
     "text": [
      "------------------------------ \n",
      " knn_grid_search\n",
      "{'n_neighbors': [2, 3, 5, 8, 10], 'weights': ['uniform', 'distance'], 'algorithm': ['auto', 'ball_tree', 'kd_tree', 'brute'], 'leaf_size': [1, 3]}\n"
     ]
    },
    {
     "name": "stderr",
     "output_type": "stream",
     "text": [
      "C:\\Users\\io201817\\Anaconda3\\lib\\site-packages\\sklearn\\model_selection\\_split.py:670: UserWarning: The least populated class in y has only 1 members, which is less than n_splits=5.\n",
      "  warnings.warn((\"The least populated class in y has only %d\"\n"
     ]
    },
    {
     "name": "stdout",
     "output_type": "stream",
     "text": [
      " best_score_ = 0.17 with =  KNeighborsClassifier(leaf_size=1, n_neighbors=10, weights='distance') \n",
      "\n",
      "Duration time : 32.37677788734436\n"
     ]
    }
   ],
   "source": [
    "#30 rows  : 4.39s / 0.42 acc\n",
    "nb_ligne = 30\n",
    "start_time = print_time()\n",
    "\n",
    "# Apprentissage du classifieur KNN sur X_train et Y_train (<nb_lignes> données)\n",
    "knn = knn_grid_search(X_train[:nb_ligne], Y_train[:nb_ligne].values)\n",
    "\n",
    "\n",
    "end_time = print_time()\n",
    "print (\"\\nDuration time :\", end_time - start_time)\n"
   ]
  },
  {
   "cell_type": "code",
   "execution_count": 28,
   "metadata": {},
   "outputs": [
    {
     "data": {
      "image/png": "[encoded data removed]",
      "text/plain": [
       "<Figure size 288x288 with 2 Axes>"
      ]
     },
     "metadata": {
      "needs_background": "light"
     },
     "output_type": "display_data"
    }
   ],
   "source": [
    "# La  matrice de confusion s'améliore, tout en étant loin de la réalité.\n",
    "draw_confusion_matrix(Y_test, knn.predict(X_test), \"\")"
   ]
  },
  {
   "cell_type": "markdown",
   "metadata": {},
   "source": [
    "### 5.1.3) CLF"
   ]
  },
  {
   "cell_type": "code",
   "execution_count": 29,
   "metadata": {},
   "outputs": [],
   "source": [
    "X_train, X_test, Y_train, Y_test = train_test_split(X, Y.bucket_en_entier)"
   ]
  },
  {
   "cell_type": "code",
   "execution_count": 30,
   "metadata": {},
   "outputs": [
    {
     "name": "stdout",
     "output_type": "stream",
     "text": [
      "------------------------------ \n",
      " clf_grid_search\n",
      "{'n_estimators': 10, 'max_depth': None, 'min_samples_split': 2, 'learning_rate': 0.01, 'loss': 'ls'}\n",
      " best_score_ = 0.39 with =  GradientBoostingClassifier() \n",
      "\n",
      "Duration time : 115.00701761245728\n"
     ]
    }
   ],
   "source": [
    "#30 rows  : 2.53s / 0.42 acc\n",
    "#200 rows  : 2.53s / 0.42 acc\n",
    "nb_ligne = 200\n",
    "start_time = print_time()\n",
    "\n",
    "# Apprentissage du classifieur KNN sur X_train et Y_train (<nb_lignes> données)\n",
    "clf = clf_grid_search(X_train[:nb_ligne], Y_train[:nb_ligne].values)\n",
    "\n",
    "\n",
    "end_time = print_time()\n",
    "print (\"\\nDuration time :\", end_time - start_time)\n"
   ]
  },
  {
   "cell_type": "code",
   "execution_count": 31,
   "metadata": {},
   "outputs": [
    {
     "data": {
      "image/png": "[encoded data removed]",
      "text/plain": [
       "<Figure size 288x288 with 2 Axes>"
      ]
     },
     "metadata": {
      "needs_background": "light"
     },
     "output_type": "display_data"
    }
   ],
   "source": [
    "# CLF ne semble pas non plus adapté au vue de la précision du modèle\n",
    "draw_confusion_matrix(Y_test, clf.predict(X_test), \"\")"
   ]
  },
  {
   "cell_type": "markdown",
   "metadata": {},
   "source": [
    "## 5.2) Variable : Sex"
   ]
  },
  {
   "cell_type": "code",
   "execution_count": 32,
   "metadata": {},
   "outputs": [],
   "source": [
    "# La classification se fait en fonction de la variable 'sex' \n",
    "X_train, X_test, Y_train, Y_test = train_test_split(X, Y.Sex)"
   ]
  },
  {
   "cell_type": "markdown",
   "metadata": {},
   "source": [
    "### 5.2.1) Random Forest"
   ]
  },
  {
   "cell_type": "code",
   "execution_count": 33,
   "metadata": {},
   "outputs": [
    {
     "name": "stdout",
     "output_type": "stream",
     "text": [
      "------------------------------ \n",
      " RandomForestClassifier\n",
      " best_score_ 0.7185 with =  RandomForestClassifier() \n",
      "\n",
      "Duration time : 15.605802059173584\n"
     ]
    }
   ],
   "source": [
    "#200   rows : 0.26s / 0.68 pred / 0.66 acc\n",
    "#2000  rows : 1.55s / 0.74 pred / 0.68 acc\n",
    "#20000 rows : 15.5s / 0.78 pred / 0.72 acc\n",
    "nb_lignes = 2000\n",
    "start_time = print_time()\n",
    "\n",
    "# Apprentissage du classifieur RF sur X_train et Y_train (<nb_lignes> données)\n",
    "rf = RandomForest_grid_search(X_train[:nb_lignes], Y_train[:nb_lignes])\n",
    "\n",
    "end_time = print_time()\n",
    "print (\"\\nDuration time :\", end_time - start_time)\n",
    "\n",
    "# REMARQUES :\n",
    "# L'utilisation du classifieur RF semble approprié pour faire une prédiction sur les données que l'on possède.\n",
    "# L'entrainement du classifieur nécessite 15 secondes pour près de 20 000 données semble tout à fait raisonnable."
   ]
  },
  {
   "cell_type": "code",
   "execution_count": 34,
   "metadata": {},
   "outputs": [
    {
     "name": "stderr",
     "output_type": "stream",
     "text": [
      "No handles with labels found to put in legend.\n"
     ]
    },
    {
     "data": {
      "image/png": "[encoded data removed]",
      "text/plain": [
       "<Figure size 432x288 with 1 Axes>"
      ]
     },
     "metadata": {
      "needs_background": "light"
     },
     "output_type": "display_data"
    }
   ],
   "source": [
    "# Courbe ROC des données de test X et Y selon le classifieur RF\n",
    "# Au mieux, le classifieur à une performance de 0.78 pour la prédiction du sexe\n",
    "draw_roc_curve(rf, X_test, Y_test, \"Sex prediction by RF\")"
   ]
  },
  {
   "cell_type": "code",
   "execution_count": 35,
   "metadata": {},
   "outputs": [
    {
     "data": {
      "image/png": "[encoded data removed]",
      "text/plain": [
       "<Figure size 288x288 with 2 Axes>"
      ]
     },
     "metadata": {
      "needs_background": "light"
     },
     "output_type": "display_data"
    }
   ],
   "source": [
    "# Matrice de confusion des données X_test sur lesquelles on fait la prédiction et des données Y_test.\n",
    "# La prédiction du modèle étant de 0.72, au mieux, commence à être correct.\n",
    "# Un grand nombre de Vrais Positifs et Vrais Négatifs sont présents.\n",
    "draw_confusion_matrix(Y_test, rf.predict(X_test), \"\")"
   ]
  },
  {
   "cell_type": "markdown",
   "metadata": {},
   "source": [
    "### 5.2.2) SVM"
   ]
  },
  {
   "cell_type": "code",
   "execution_count": 36,
   "metadata": {},
   "outputs": [],
   "source": [
    "X_train, X_test, Y_train, Y_test = train_test_split(X, Y.Sex)"
   ]
  },
  {
   "cell_type": "code",
   "execution_count": 37,
   "metadata": {},
   "outputs": [
    {
     "name": "stdout",
     "output_type": "stream",
     "text": [
      "------------------------------ \n",
      " svm_grid_search\n",
      " best_score_ = 0.45 with =  SVC(cache_size=10, degree=2, gamma=0.01, probability=True) \n",
      "\n",
      "Duration time : 18.237579345703125\n"
     ]
    }
   ],
   "source": [
    "#100 rows : 0.82s / 0.5 pred  / 0.57 acc\n",
    "#200 rows : 2.7s  / 0.5 pred  / 0.57 acc\n",
    "#300 rows : 6.1s  / 0.42 pred / 0.57 acc\n",
    "#400 rows : 11 s  / 0.49 pred / 0.57 acc\n",
    "#500 rows : 21s   / 0.50 pred / 0.57 acc\n",
    "#600 rows : 25s   / 0.52 pred / 0.58 acc\n",
    "nb_ligne = 300\n",
    "start_time = print_time()\n",
    "\n",
    "# Apprentissage du classifieur SVM sur X_train et Y_train (<nb_lignes> données)\n",
    "svm = svm_grid_search(X_train[:nb_ligne], Y_train[:nb_ligne])\n",
    "\n",
    "end_time = print_time()\n",
    "print (\"\\nDuration time :\", end_time - start_time)\n",
    "\n",
    "# REMARQUES :\n",
    "# L'utilisation du classifieur SVM ne semble toujours pas très approprié pour faire des prédictions sur nos données.\n",
    "# D'autre part, le temps nécessaire pour faire un apprentissage pour entrainer le classifieur svm est toujours trop important\n",
    "# au vue du nombre de données que l'on lui fournit."
   ]
  },
  {
   "cell_type": "code",
   "execution_count": 38,
   "metadata": {},
   "outputs": [
    {
     "name": "stderr",
     "output_type": "stream",
     "text": [
      "No handles with labels found to put in legend.\n"
     ]
    },
    {
     "data": {
      "image/png": "[encoded data removed]",
      "text/plain": [
       "<Figure size 432x288 with 1 Axes>"
      ]
     },
     "metadata": {
      "needs_background": "light"
     },
     "output_type": "display_data"
    }
   ],
   "source": [
    "# Courbe ROC des données de test X et Y selon le classifieur SVM \n",
    "# Au mieux, le classifieur à une performance de 0.52 pour la prédiction du sexe\n",
    "# Nous pouvons dire que la classification se fait quasiment de manière aléatoire puisque la courbe se rapproche de la droite diagonale\n",
    "draw_roc_curve(svm, X_test, Y_test, \"Sex prediction by SVM\")"
   ]
  },
  {
   "cell_type": "code",
   "execution_count": 39,
   "metadata": {},
   "outputs": [
    {
     "data": {
      "image/png": "[encoded data removed]",
      "text/plain": [
       "<Figure size 288x288 with 2 Axes>"
      ]
     },
     "metadata": {
      "needs_background": "light"
     },
     "output_type": "display_data"
    }
   ],
   "source": [
    "# Matrice de confusion des données X_test sur lesquelles on fait la prédiction et des données Y_test.\n",
    "# La prédiction du modèle étant de 0.58, au mieux, n'est pas satisfaisant.\n",
    "# Un nombre trop important de Faux Positif est présent.\n",
    "# Le classifieur SVM ne semble toujours pas adapté pour effectuer une prédiction sur nos données.\n",
    "draw_confusion_matrix(Y_test, svm.predict(X_test), \"\")"
   ]
  },
  {
   "cell_type": "markdown",
   "metadata": {},
   "source": [
    "### 5.2.3) KNN"
   ]
  },
  {
   "cell_type": "code",
   "execution_count": 40,
   "metadata": {},
   "outputs": [],
   "source": [
    "X_train, X_test, Y_train, Y_test = train_test_split(X, Y.Sex)"
   ]
  },
  {
   "cell_type": "code",
   "execution_count": 41,
   "metadata": {},
   "outputs": [
    {
     "name": "stdout",
     "output_type": "stream",
     "text": [
      "------------------------------ \n",
      " knn_grid_search\n",
      "{'n_neighbors': [2, 3, 5, 8, 10], 'weights': ['uniform', 'distance'], 'algorithm': ['auto', 'ball_tree', 'kd_tree', 'brute'], 'leaf_size': [1, 3]}\n",
      " best_score_ = 0.64 with =  KNeighborsClassifier(leaf_size=1, n_neighbors=2) \n",
      "\n",
      "Duration time : 42.26725459098816\n"
     ]
    }
   ],
   "source": [
    "#15 rows  : 2.7s   / 0.5  pred / 0.52 acc\n",
    "#30 rows  : 4.5s   / 0.51 pred / 0.53 acc\n",
    "#50 rows  : 9.8s   / 0.51 pred / 0.53 acc\n",
    "#75 rows  : 16s    / 0.53 pred / 0.55 acc\n",
    "#200 rows : 102s   / 0.63 pred / 0.60 acc\n",
    "#400 rows : 289s   / 0.66 pred / 0.62 acc\n",
    "#1000 rows : 1387s / 0.69 pred / 0.68\n",
    "nb_ligne = 30\n",
    "start_time = print_time()\n",
    "\n",
    "# Apprentissage du classifieur KNN sur X_train et Y_train (<nb_lignes> données)\n",
    "knn = knn_grid_search(X_train[:nb_ligne], Y_train[:nb_ligne])\n",
    "\n",
    "end_time = print_time()\n",
    "print (\"\\nDuration time :\", end_time - start_time)\n",
    "\n",
    "# REMARQUES :\n",
    "# L'utilisation du classifieur KNN ne semble pas très adapté pour effectuer un apprentissage sur nos données.\n",
    "# Bien que la prédiction du modèle semble à peu près correct, le temps nécessaire pour un apprentissage sur un nombre\n",
    "# aussi réduit de données n'est pas viable."
   ]
  },
  {
   "cell_type": "code",
   "execution_count": 42,
   "metadata": {},
   "outputs": [
    {
     "name": "stderr",
     "output_type": "stream",
     "text": [
      "No handles with labels found to put in legend.\n"
     ]
    },
    {
     "data": {
      "image/png": "[encoded data removed]",
      "text/plain": [
       "<Figure size 432x288 with 1 Axes>"
      ]
     },
     "metadata": {
      "needs_background": "light"
     },
     "output_type": "display_data"
    }
   ],
   "source": [
    "# Courbe ROC des données de test X et Y selon le classifieur KNN\n",
    "# Au mieux, le classifieur à une performance de 0.69 pour la prédiction du sexe (mais nécessitant un temps assez important)\n",
    "# Plus l'apprentissage se fait sur un nombre de données, plus l'indice de prédiction augmente.\n",
    "# Pour obtenir un tel résultat, le temps nécessaire est tout de même trop important.\n",
    "draw_roc_curve(knn, X_test, Y_test, \"Sex prediction by KNN\")"
   ]
  },
  {
   "cell_type": "code",
   "execution_count": 43,
   "metadata": {},
   "outputs": [
    {
     "data": {
      "image/png": "[encoded data removed]",
      "text/plain": [
       "<Figure size 288x288 with 2 Axes>"
      ]
     },
     "metadata": {
      "needs_background": "light"
     },
     "output_type": "display_data"
    }
   ],
   "source": [
    "# Matrice de confusion des données X_test sur lesquelles on fait la prédiction et des données Y_test.\n",
    "# La prédiction du modèle étant de 0.62, au mieux, est tout juste satisfaisant.\n",
    "# Le classifieur SVM semble pouvoir effectuer une prédiction assez correcte, mais le temps nécessaire est\n",
    "# la principale contrainte de ce classifieur.\n",
    "draw_confusion_matrix(Y_test, knn.predict(X_test), \"\")"
   ]
  },
  {
   "cell_type": "markdown",
   "metadata": {},
   "source": [
    "### 5.2.4) CLF"
   ]
  },
  {
   "cell_type": "code",
   "execution_count": 44,
   "metadata": {},
   "outputs": [],
   "source": [
    "X_train, X_test, Y_train, Y_test = train_test_split(X, Y.Sex)"
   ]
  },
  {
   "cell_type": "code",
   "execution_count": 45,
   "metadata": {},
   "outputs": [
    {
     "name": "stdout",
     "output_type": "stream",
     "text": [
      "------------------------------ \n",
      " clf_grid_search\n",
      "{'n_estimators': 10, 'max_depth': None, 'min_samples_split': 2, 'learning_rate': 0.01, 'loss': 'ls'}\n",
      " best_score_ = 0.70 with =  GradientBoostingClassifier() \n",
      "\n",
      "Duration time : 72.57608938217163\n"
     ]
    }
   ],
   "source": [
    "#100   rows : 2.3s / 0.71 pred / 0.65 acc\n",
    "#1000  rows : 18s  / 0.82 pred / 0.75 acc\n",
    "#5000  rows : 122s / 0.85 pred / 0.78 acc\n",
    "nb_ligne = 1000\n",
    "start_time = print_time()\n",
    "\n",
    "clf = clf_grid_search(X_train[:nb_ligne], Y_train[:nb_ligne])\n",
    "\n",
    "end_time = print_time()\n",
    "print (\"\\nDuration time :\", end_time - start_time)"
   ]
  },
  {
   "cell_type": "code",
   "execution_count": 46,
   "metadata": {},
   "outputs": [
    {
     "name": "stderr",
     "output_type": "stream",
     "text": [
      "No handles with labels found to put in legend.\n"
     ]
    },
    {
     "data": {
      "image/png": "[encoded data removed]",
      "text/plain": [
       "<Figure size 432x288 with 1 Axes>"
      ]
     },
     "metadata": {
      "needs_background": "light"
     },
     "output_type": "display_data"
    }
   ],
   "source": [
    "# Courbe ROC des données de test X et Y selon le classifieur CLF\n",
    "# Au mieux, le classifieur à une performance de 0.85 pour la prédiction du sexe\n",
    "# La classification se fait plutôt correctement au vue de la performance du classifieur\n",
    "draw_roc_curve(clf, X_test, Y_test, \"Sex prediction by RF\")"
   ]
  },
  {
   "cell_type": "code",
   "execution_count": 47,
   "metadata": {},
   "outputs": [
    {
     "data": {
      "image/png": "[encoded data removed]",
      "text/plain": [
       "<Figure size 288x288 with 2 Axes>"
      ]
     },
     "metadata": {
      "needs_background": "light"
     },
     "output_type": "display_data"
    }
   ],
   "source": [
    "# Matrice de confusion des données X_test sur lesquelles on fait la prédiction et des données Y_test.\n",
    "# Le classifieur CLF est  satisfaisant sur nos données\n",
    "draw_confusion_matrix(Y_test, clf.predict(X_test), \"\")\n",
    "\n",
    "# Le Classifier Gradient Boosting semble être le meilleur modèle de prédiction que nous avons testé jusqu'ici\n",
    "# La prédiction et la précision sont les plus élevées que nous avons enregistré jusqu'ici"
   ]
  },
  {
   "cell_type": "code",
   "execution_count": 48,
   "metadata": {},
   "outputs": [],
   "source": [
    "# Faites varier le nombre de lignes d'apprentissage pour améliorer les prédictions"
   ]
  },
  {
   "cell_type": "code",
   "execution_count": null,
   "metadata": {},
   "outputs": [],
   "source": []
  }
 ],
 "metadata": {
  "anaconda-cloud": {},
  "kernelspec": {
   "display_name": "Python 3",
   "language": "python",
   "name": "python3"
  },
  "language_info": {
   "codemirror_mode": {
    "name": "ipython",
    "version": 3
   },
   "file_extension": ".py",
   "mimetype": "text/x-python",
   "name": "python",
   "nbconvert_exporter": "python",
   "pygments_lexer": "ipython3",
   "version": "3.8.5"
  }
 },
 "nbformat": 4,
 "nbformat_minor": 1
}
