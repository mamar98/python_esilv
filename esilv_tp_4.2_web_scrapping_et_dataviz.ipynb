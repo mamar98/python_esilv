{
 "cells": [
  {
   "cell_type": "markdown",
   "metadata": {},
   "source": [
    "# 8) Selenium"
   ]
  },
  {
   "cell_type": "markdown",
   "metadata": {},
   "source": [
    "## 8.1) installation (possibilité : passer par le navigator 'Anaconda navigator)"
   ]
  },
  {
   "cell_type": "markdown",
   "metadata": {},
   "source": [
    "### 8.1.1) installer l'interface python"
   ]
  },
  {
   "cell_type": "code",
   "execution_count": 163,
   "metadata": {},
   "outputs": [
    {
     "name": "stdout",
     "output_type": "stream",
     "text": [
      "Collecting selenium\n",
      "  Using cached selenium-3.141.0-py2.py3-none-any.whl (904 kB)\n",
      "Requirement already satisfied: urllib3 in /Applications/anaconda3/lib/python3.7/site-packages (from selenium) (1.25.8)\n",
      "Installing collected packages: selenium\n",
      "Successfully installed selenium-3.141.0\n"
     ]
    }
   ],
   "source": [
    "!pip install selenium"
   ]
  },
  {
   "cell_type": "markdown",
   "metadata": {},
   "source": [
    "### 8.1.2) télécharger l'application"
   ]
  },
  {
   "cell_type": "markdown",
   "metadata": {},
   "source": [
    "1. Cf google : selenium\n",
    "\n",
    "\n",
    "https://selenium-python.readthedocs.io/installation.html#downloading-python-bindings-for-selenium\n",
    "\n",
    "https://sites.google.com/a/chromium.org/chromedriver/downloads\n",
    "\n",
    "2. regardez votre version de chrome (chrome / à propos = > v 77.xxx ) \n",
    "\n",
    "3. Télécharger la mêle  version que le Chrome installé sur votre PC\n",
    "\n",
    "https://chromedriver.storage.googleapis.com/index.html?path=77.0.3865.40/\n",
    "\n",
    "4. Dézipper, et mettre l'application \"driver\" dans le même répertoire que le notebook (sinon noter le répertoire dans une variabe, et donner le chemin d'accès à python)"
   ]
  },
  {
   "cell_type": "markdown",
   "metadata": {},
   "source": [
    "# 8.2) instanciation de selenium"
   ]
  },
  {
   "cell_type": "code",
   "execution_count": 275,
   "metadata": {},
   "outputs": [],
   "source": [
    "import selenium\n",
    "from selenium import webdriver\n",
    "path   = \"./chromedriver\"\n",
    "driver = webdriver.Chrome(executable_path=path)"
   ]
  },
  {
   "cell_type": "markdown",
   "metadata": {},
   "source": [
    "## 8.3) se connecter à un site web avec user/pwd : instagram"
   ]
  },
  {
   "cell_type": "code",
   "execution_count": 276,
   "metadata": {},
   "outputs": [],
   "source": [
    "url_insta = \"https://www.instagram.com/accounts/login/?hl=fr&source=auth_switcher\"\n",
    "driver.get(url_insta)"
   ]
  },
  {
   "cell_type": "code",
   "execution_count": 277,
   "metadata": {},
   "outputs": [],
   "source": [
    "USER_ID       = \"ingenieur_5a\"\n",
    "USER_PASSWORD = \"instagram_esilv\""
   ]
  },
  {
   "cell_type": "code",
   "execution_count": 278,
   "metadata": {},
   "outputs": [],
   "source": [
    "css_selector = \"input[name='username']\"\n",
    "input_name = driver.find_element_by_css_selector(css_selector)\n",
    "input_name.send_keys(USER_ID)"
   ]
  },
  {
   "cell_type": "code",
   "execution_count": 279,
   "metadata": {},
   "outputs": [],
   "source": [
    "css_selector = \"input[name='password']\"\n",
    "input_name = driver.find_element_by_css_selector(css_selector)\n",
    "input_name.send_keys(USER_PASSWORD)"
   ]
  },
  {
   "cell_type": "code",
   "execution_count": 280,
   "metadata": {},
   "outputs": [],
   "source": [
    "css_selector = \"button[type='submit']\"\n",
    "button       = driver.find_element_by_css_selector(css_selector)\n",
    "button.click()"
   ]
  },
  {
   "cell_type": "markdown",
   "metadata": {},
   "source": [
    "## 8.4) activer un bouton (pour faire disparaître la pop up en entrée) "
   ]
  },
  {
   "cell_type": "code",
   "execution_count": 282,
   "metadata": {},
   "outputs": [],
   "source": [
    "css_selector = \"body > div.RnEpo.Yx5HN > div > div > div.mt3GC > button.aOOlW.bIiDR\"\n",
    "css_selector = \"body > div.RnEpo.Yx5HN > div > div > div > div.mt3GC > button.aOOlW.bIiDR\"\n",
    "button       = driver.find_element_by_css_selector(css_selector)\n",
    "button.click()"
   ]
  },
  {
   "cell_type": "markdown",
   "metadata": {},
   "source": [
    "## 8.5) chercher des photos sur un sujet via la search bar"
   ]
  },
  {
   "cell_type": "code",
   "execution_count": 283,
   "metadata": {},
   "outputs": [],
   "source": [
    "hashtag = '#basketball'"
   ]
  },
  {
   "cell_type": "code",
   "execution_count": 294,
   "metadata": {},
   "outputs": [],
   "source": [
    "css_selector = \"input[placeholder='Rechercher']\""
   ]
  },
  {
   "cell_type": "code",
   "execution_count": 295,
   "metadata": {},
   "outputs": [],
   "source": [
    "search_bar = driver.find_element_by_css_selector(css_selector)"
   ]
  },
  {
   "cell_type": "markdown",
   "metadata": {},
   "source": [
    "##### Clear : nettoyer une zone d'input"
   ]
  },
  {
   "cell_type": "code",
   "execution_count": 296,
   "metadata": {},
   "outputs": [],
   "source": [
    "search_bar.clear()"
   ]
  },
  {
   "cell_type": "code",
   "execution_count": 297,
   "metadata": {},
   "outputs": [],
   "source": [
    "search_bar.send_keys(hashtag)"
   ]
  },
  {
   "cell_type": "markdown",
   "metadata": {},
   "source": [
    "#### utiliser les clefs claviers pour faire \"entrer\" dans la barre de recherche"
   ]
  },
  {
   "cell_type": "code",
   "execution_count": 298,
   "metadata": {},
   "outputs": [],
   "source": [
    "from selenium.webdriver.common.keys import Keys "
   ]
  },
  {
   "cell_type": "code",
   "execution_count": 299,
   "metadata": {},
   "outputs": [],
   "source": [
    "search_bar.send_keys(Keys.ENTER)\n",
    "\n",
    "## sometimes we have to press multiple times Enter...\n",
    "import time\n",
    "time.sleep(3)\n",
    "for i in range(3):\n",
    "    try: search_bar.send_keys(Keys.ENTER)\n",
    "    except: pass\n"
   ]
  },
  {
   "cell_type": "markdown",
   "metadata": {},
   "source": [
    "## 8.6) enregistrer les photos"
   ]
  },
  {
   "cell_type": "markdown",
   "metadata": {},
   "source": [
    "### 8.6.1) récupérer les urls des photos"
   ]
  },
  {
   "cell_type": "code",
   "execution_count": 246,
   "metadata": {},
   "outputs": [],
   "source": [
    "css_selector = \"img\"\n",
    "images       = driver.find_elements_by_css_selector(css_selector)\n",
    "img_srcset   = [image.get_attribute('srcset') for image in images]\n",
    "urls_images  = [x.split(\" \")[0] for x in img_srcset]"
   ]
  },
  {
   "cell_type": "code",
   "execution_count": 247,
   "metadata": {},
   "outputs": [
    {
     "data": {
      "text/plain": [
       "['',\n",
       " 'https://scontent-cdg2-1.cdninstagram.com/v/t51.2885-15/e35/c83.0.1274.1274a/s150x150/120137112_329485331617259_7991231939222573896_n.jpg?_nc_ht=scontent-cdg2-1.cdninstagram.com&_nc_cat=111&_nc_ohc=JZIKH3G9QFEAX_jdIQB&_nc_tp=16&oh=30501bb922f79b608908eb7321601322&oe=5F9B0A64',\n",
       " 'https://scontent-cdg2-1.cdninstagram.com/v/t51.2885-15/e35/s150x150/120342924_187941052847347_5703012638260979556_n.jpg?_nc_ht=scontent-cdg2-1.cdninstagram.com&_nc_cat=107&_nc_ohc=Lut2leYiRpYAX9-w0eA&_nc_tp=15&oh=5c05256a1268027b0f29eedc8b4e575f&oe=5F9AE9F6',\n",
       " 'https://scontent-cdt1-1.cdninstagram.com/v/t51.2885-15/e35/c69.0.1301.1301a/s150x150/120261890_786277408853662_1110035994686432889_n.jpg?_nc_ht=scontent-cdt1-1.cdninstagram.com&_nc_cat=110&_nc_ohc=-XxiAhB3ZJEAX8EbaVs&_nc_tp=16&oh=c1d5ba7c073d8ddb6344193d29006240&oe=5F9C1116',\n",
       " 'https://scontent-cdt1-1.cdninstagram.com/v/t51.2885-15/e35/c0.169.1349.1349a/s150x150/120199619_633364204029877_6024221656692843415_n.jpg?_nc_ht=scontent-cdt1-1.cdninstagram.com&_nc_cat=1&_nc_ohc=ZzNfDnuNV-0AX-Yls86&_nc_tp=16&oh=68d94131503f7a4ff97fd897347b4d27&oe=5F98A30D',\n",
       " 'https://scontent-cdt1-1.cdninstagram.com/v/t51.2885-15/e35/s150x150/120196918_361547624889775_7394884454582295050_n.jpg?_nc_ht=scontent-cdt1-1.cdninstagram.com&_nc_cat=1&_nc_ohc=lGnCPGzFcosAX9OwQFl&_nc_tp=15&oh=c504eccefe596889a64a1a8da7be88a3&oe=5F737AE3',\n",
       " 'https://scontent-cdt1-1.cdninstagram.com/v/t51.2885-15/e35/c0.104.918.918a/s150x150/120245276_147248563739301_4332998879595420549_n.jpg?_nc_ht=scontent-cdt1-1.cdninstagram.com&_nc_cat=1&_nc_ohc=wFMANnXb1eoAX85Cgex&_nc_tp=16&oh=3b98427353d78421105b6b6066fbb868&oe=5F9C684C',\n",
       " 'https://scontent-cdg2-1.cdninstagram.com/v/t51.2885-15/e35/s150x150/120144275_2599072093572590_8528251312644419846_n.jpg?_nc_ht=scontent-cdg2-1.cdninstagram.com&_nc_cat=102&_nc_ohc=pGxUBeTP8a4AX_XlI-X&_nc_tp=15&oh=6e8e712f32ad151ab3fff8f823f0e76e&oe=5F732AEF',\n",
       " 'https://scontent-cdg2-1.cdninstagram.com/v/t51.2885-15/e35/c9.0.1107.1107a/s150x150/120200844_319706155985762_2581802450942991246_n.jpg?_nc_ht=scontent-cdg2-1.cdninstagram.com&_nc_cat=102&_nc_ohc=1fLbX9XZRZgAX_5NttN&_nc_tp=16&oh=3b2eece1e337e11357e2cfbb55a36df1&oe=5F998B95',\n",
       " 'https://scontent-cdg2-1.cdninstagram.com/v/t51.2885-15/e35/s150x150/120219386_626404684743407_7030572039756817459_n.jpg?_nc_ht=scontent-cdg2-1.cdninstagram.com&_nc_cat=111&_nc_ohc=W5PThEuqdYUAX93mQG-&_nc_tp=15&oh=907fe7cc65c93a0c7433e2c10fbdee9d&oe=5F991772']"
      ]
     },
     "execution_count": 247,
     "metadata": {},
     "output_type": "execute_result"
    }
   ],
   "source": [
    "urls_images[:10]"
   ]
  },
  {
   "cell_type": "code",
   "execution_count": 248,
   "metadata": {},
   "outputs": [],
   "source": [
    "urls_images = list(filter(lambda url: url.startswith(\"http\"), urls_images))"
   ]
  },
  {
   "cell_type": "markdown",
   "metadata": {},
   "source": [
    "### 8.6.2) enregistrer chaque photo via urllib.request"
   ]
  },
  {
   "cell_type": "code",
   "execution_count": 249,
   "metadata": {},
   "outputs": [],
   "source": [
    "from urllib.request import urlretrieve as download"
   ]
  },
  {
   "cell_type": "code",
   "execution_count": 250,
   "metadata": {},
   "outputs": [
    {
     "data": {
      "text/plain": [
       "[('image_0.jpg', <http.client.HTTPMessage at 0x1a2a2b2dd0>),\n",
       " ('image_1.jpg', <http.client.HTTPMessage at 0x1a2a2b52d0>),\n",
       " ('image_2.jpg', <http.client.HTTPMessage at 0x1a2a1eeb10>),\n",
       " ('image_3.jpg', <http.client.HTTPMessage at 0x1a2a2b28d0>),\n",
       " ('image_4.jpg', <http.client.HTTPMessage at 0x1a2a2b5890>),\n",
       " ('image_5.jpg', <http.client.HTTPMessage at 0x1a2a2b5dd0>),\n",
       " ('image_6.jpg', <http.client.HTTPMessage at 0x1a2a2b7310>),\n",
       " ('image_7.jpg', <http.client.HTTPMessage at 0x1a2a2b7810>),\n",
       " ('image_8.jpg', <http.client.HTTPMessage at 0x1a2a2b7d10>),\n",
       " ('image_9.jpg', <http.client.HTTPMessage at 0x1a2a2ba210>),\n",
       " ('image_10.jpg', <http.client.HTTPMessage at 0x1a2a2ba710>),\n",
       " ('image_11.jpg', <http.client.HTTPMessage at 0x1a2a2bac10>),\n",
       " ('image_12.jpg', <http.client.HTTPMessage at 0x1a2a2bc150>),\n",
       " ('image_13.jpg', <http.client.HTTPMessage at 0x1a2a2bc650>),\n",
       " ('image_14.jpg', <http.client.HTTPMessage at 0x1a2a2bcb50>),\n",
       " ('image_15.jpg', <http.client.HTTPMessage at 0x1a2a2c0090>),\n",
       " ('image_16.jpg', <http.client.HTTPMessage at 0x1a2a2c0590>),\n",
       " ('image_17.jpg', <http.client.HTTPMessage at 0x1a2a2c0a90>),\n",
       " ('image_18.jpg', <http.client.HTTPMessage at 0x1a2a2c0f90>),\n",
       " ('image_19.jpg', <http.client.HTTPMessage at 0x1a2a2c2450>),\n",
       " ('image_20.jpg', <http.client.HTTPMessage at 0x1a2a2c2950>),\n",
       " ('image_21.jpg', <http.client.HTTPMessage at 0x1a2a2c2e50>),\n",
       " ('image_22.jpg', <http.client.HTTPMessage at 0x1a2a2b7050>),\n",
       " ('image_23.jpg', <http.client.HTTPMessage at 0x1a2a2c4390>),\n",
       " ('image_24.jpg', <http.client.HTTPMessage at 0x1a2a2c4890>),\n",
       " ('image_25.jpg', <http.client.HTTPMessage at 0x1a2a2c4d90>),\n",
       " ('image_26.jpg', <http.client.HTTPMessage at 0x1a2a2c52d0>),\n",
       " ('image_27.jpg', <http.client.HTTPMessage at 0x1a2a2c57d0>),\n",
       " ('image_28.jpg', <http.client.HTTPMessage at 0x1a2a2c5cd0>),\n",
       " ('image_29.jpg', <http.client.HTTPMessage at 0x1a2a2c7210>),\n",
       " ('image_30.jpg', <http.client.HTTPMessage at 0x1a2a2c7710>),\n",
       " ('image_31.jpg', <http.client.HTTPMessage at 0x1a2a2c7c10>)]"
      ]
     },
     "execution_count": 250,
     "metadata": {},
     "output_type": "execute_result"
    }
   ],
   "source": [
    "[download(url, f\"image_{indice}.jpg\") for indice, url in enumerate(urls_images[1:])]"
   ]
  },
  {
   "cell_type": "markdown",
   "metadata": {},
   "source": [
    "### 8.6.3) tester que les photos sont bien enregistrées :"
   ]
  },
  {
   "cell_type": "code",
   "execution_count": 251,
   "metadata": {},
   "outputs": [],
   "source": [
    "import PIL"
   ]
  },
  {
   "cell_type": "code",
   "execution_count": 252,
   "metadata": {},
   "outputs": [
    {
     "data": {
      "image/png": "[encoded data removed]",
      "text/plain": [
       "<PIL.JpegImagePlugin.JpegImageFile image mode=RGB size=150x150 at 0x1A2A2BC110>"
      ]
     },
     "execution_count": 252,
     "metadata": {},
     "output_type": "execute_result"
    }
   ],
   "source": [
    "PIL.Image.open(f\"image_24.jpg\") "
   ]
  },
  {
   "cell_type": "markdown",
   "metadata": {},
   "source": [
    "# 9) usage avancé de Sélénium"
   ]
  },
  {
   "cell_type": "markdown",
   "metadata": {},
   "source": [
    "## 9.1)  Imports de packages"
   ]
  },
  {
   "cell_type": "code",
   "execution_count": 303,
   "metadata": {},
   "outputs": [],
   "source": [
    "from selenium import webdriver #the webdriver package\n",
    "from selenium.webdriver.common.by import By #use the method to select\n",
    "from selenium.webdriver.common.keys import Keys \n",
    "\n",
    "from selenium.webdriver.support.ui import WebDriverWait #enables to wait until condition is fullfilled or just until a timeout exception is returned\n",
    "from selenium.webdriver.support import expected_conditions as ec #enables to create the conditions\n",
    "from selenium.common.exceptions import TimeoutException #enables to retrieve the exceptions type\n",
    "from selenium.common.exceptions import NoSuchElementException #enables to retrieve the exceptions type"
   ]
  },
  {
   "cell_type": "markdown",
   "metadata": {},
   "source": [
    "## 9.2) exectuter du javascript"
   ]
  },
  {
   "cell_type": "code",
   "execution_count": 304,
   "metadata": {},
   "outputs": [
    {
     "data": {
      "text/plain": [
       "4119"
      ]
     },
     "execution_count": 304,
     "metadata": {},
     "output_type": "execute_result"
    }
   ],
   "source": [
    "driver.execute_script(\"return document.body.scrollHeight\")"
   ]
  },
  {
   "cell_type": "code",
   "execution_count": 305,
   "metadata": {},
   "outputs": [],
   "source": [
    "driver.execute_script(\"window.scrollTo(0, document.body.scrollHeight);\")"
   ]
  },
  {
   "cell_type": "markdown",
   "metadata": {},
   "source": [
    "## 9.3) attendre"
   ]
  },
  {
   "cell_type": "code",
   "execution_count": 306,
   "metadata": {},
   "outputs": [],
   "source": [
    "## All photos that appeared or will appear are located in div[class='v1Nh3 kIKUG  _bz0w']m"
   ]
  },
  {
   "cell_type": "code",
   "execution_count": 307,
   "metadata": {},
   "outputs": [
    {
     "data": {
      "text/plain": [
       "[<selenium.webdriver.remote.webelement.WebElement (session=\"8349fe748811c60e17c0ca16b3f4955f\", element=\"7c16c623-6340-4259-9089-1204513f35c2\")>,\n",
       " <selenium.webdriver.remote.webelement.WebElement (session=\"8349fe748811c60e17c0ca16b3f4955f\", element=\"cdad28ae-f974-4eac-b7cd-798f7efb07c6\")>,\n",
       " <selenium.webdriver.remote.webelement.WebElement (session=\"8349fe748811c60e17c0ca16b3f4955f\", element=\"2a84f626-3c12-4ad8-b48c-6317538b3167\")>,\n",
       " <selenium.webdriver.remote.webelement.WebElement (session=\"8349fe748811c60e17c0ca16b3f4955f\", element=\"fd8360b4-bb5d-4a0d-b40f-66c3408758c9\")>,\n",
       " <selenium.webdriver.remote.webelement.WebElement (session=\"8349fe748811c60e17c0ca16b3f4955f\", element=\"a6042b17-402f-4a26-b730-bdb8ace1be37\")>,\n",
       " <selenium.webdriver.remote.webelement.WebElement (session=\"8349fe748811c60e17c0ca16b3f4955f\", element=\"31181927-ee02-4cc3-a46b-d02e60298be9\")>,\n",
       " <selenium.webdriver.remote.webelement.WebElement (session=\"8349fe748811c60e17c0ca16b3f4955f\", element=\"7b3f4418-d2ec-4299-9ad0-54fe0d5ff2eb\")>,\n",
       " <selenium.webdriver.remote.webelement.WebElement (session=\"8349fe748811c60e17c0ca16b3f4955f\", element=\"ac328ec1-3f19-43b5-af46-cec6fc5a1d57\")>,\n",
       " <selenium.webdriver.remote.webelement.WebElement (session=\"8349fe748811c60e17c0ca16b3f4955f\", element=\"7a8f9013-ced4-4c55-b6da-cdffc06c7848\")>,\n",
       " <selenium.webdriver.remote.webelement.WebElement (session=\"8349fe748811c60e17c0ca16b3f4955f\", element=\"ef7e0083-2c74-4322-9e93-6a53632c1af9\")>,\n",
       " <selenium.webdriver.remote.webelement.WebElement (session=\"8349fe748811c60e17c0ca16b3f4955f\", element=\"c647e676-b9f1-41e4-830e-573dffb31e60\")>,\n",
       " <selenium.webdriver.remote.webelement.WebElement (session=\"8349fe748811c60e17c0ca16b3f4955f\", element=\"b661d85c-2398-4362-b926-e043a285b141\")>,\n",
       " <selenium.webdriver.remote.webelement.WebElement (session=\"8349fe748811c60e17c0ca16b3f4955f\", element=\"74b32347-a30f-4099-91a9-96a6b833f0f3\")>,\n",
       " <selenium.webdriver.remote.webelement.WebElement (session=\"8349fe748811c60e17c0ca16b3f4955f\", element=\"ca83c1d2-134d-4745-8df5-ecd2dbc8f688\")>,\n",
       " <selenium.webdriver.remote.webelement.WebElement (session=\"8349fe748811c60e17c0ca16b3f4955f\", element=\"98331fd9-93bb-4463-9da2-9fcbfb83362d\")>,\n",
       " <selenium.webdriver.remote.webelement.WebElement (session=\"8349fe748811c60e17c0ca16b3f4955f\", element=\"3933496f-e4fe-46e5-8a0c-9816ce4d46e5\")>,\n",
       " <selenium.webdriver.remote.webelement.WebElement (session=\"8349fe748811c60e17c0ca16b3f4955f\", element=\"2baa8ae2-7dbd-423d-80f5-45fed8284a2a\")>,\n",
       " <selenium.webdriver.remote.webelement.WebElement (session=\"8349fe748811c60e17c0ca16b3f4955f\", element=\"4cbd3d27-3f7f-4ad2-8529-bfd25b9ce999\")>,\n",
       " <selenium.webdriver.remote.webelement.WebElement (session=\"8349fe748811c60e17c0ca16b3f4955f\", element=\"dc634ddc-7f01-40b6-afa0-b0ee88d6ee55\")>,\n",
       " <selenium.webdriver.remote.webelement.WebElement (session=\"8349fe748811c60e17c0ca16b3f4955f\", element=\"680440ac-58ff-4510-9d74-edc72a641826\")>,\n",
       " <selenium.webdriver.remote.webelement.WebElement (session=\"8349fe748811c60e17c0ca16b3f4955f\", element=\"afd5e205-dcb9-428d-a9a3-0ee20c17bd11\")>,\n",
       " <selenium.webdriver.remote.webelement.WebElement (session=\"8349fe748811c60e17c0ca16b3f4955f\", element=\"9e78c369-a986-4586-a185-2208e21466e0\")>,\n",
       " <selenium.webdriver.remote.webelement.WebElement (session=\"8349fe748811c60e17c0ca16b3f4955f\", element=\"aff5c871-5385-4cb0-a6c2-16201bfeed48\")>,\n",
       " <selenium.webdriver.remote.webelement.WebElement (session=\"8349fe748811c60e17c0ca16b3f4955f\", element=\"d9fc9089-8d49-4271-89a6-fba784bb6e2d\")>,\n",
       " <selenium.webdriver.remote.webelement.WebElement (session=\"8349fe748811c60e17c0ca16b3f4955f\", element=\"a339c1c9-b836-408e-8988-a4e3f7fead54\")>,\n",
       " <selenium.webdriver.remote.webelement.WebElement (session=\"8349fe748811c60e17c0ca16b3f4955f\", element=\"cd54393a-28c0-44cf-b71a-7c73cb3aedeb\")>,\n",
       " <selenium.webdriver.remote.webelement.WebElement (session=\"8349fe748811c60e17c0ca16b3f4955f\", element=\"e3d527e5-a54f-40ba-8d19-91843a74aff6\")>,\n",
       " <selenium.webdriver.remote.webelement.WebElement (session=\"8349fe748811c60e17c0ca16b3f4955f\", element=\"bb4db43f-322a-4107-98fb-3b3e956c2821\")>,\n",
       " <selenium.webdriver.remote.webelement.WebElement (session=\"8349fe748811c60e17c0ca16b3f4955f\", element=\"cff7b6e9-1ca0-47b4-b9d0-29a5d3837ccf\")>,\n",
       " <selenium.webdriver.remote.webelement.WebElement (session=\"8349fe748811c60e17c0ca16b3f4955f\", element=\"946f577a-e407-48ff-bf1a-d728ab482efc\")>,\n",
       " <selenium.webdriver.remote.webelement.WebElement (session=\"8349fe748811c60e17c0ca16b3f4955f\", element=\"1dce9e0f-b997-45db-a447-2413ef121506\")>,\n",
       " <selenium.webdriver.remote.webelement.WebElement (session=\"8349fe748811c60e17c0ca16b3f4955f\", element=\"eb5488e5-e437-4fcc-b2af-bcf50ea81dda\")>,\n",
       " <selenium.webdriver.remote.webelement.WebElement (session=\"8349fe748811c60e17c0ca16b3f4955f\", element=\"c877086e-dd6a-4f84-9f48-d2c7ae2fb0fd\")>]"
      ]
     },
     "execution_count": 307,
     "metadata": {},
     "output_type": "execute_result"
    }
   ],
   "source": [
    "WebDriverWait(driver, timeout=10).until(ec.visibility_of_all_elements_located((By.CSS_SELECTOR, \"div[class='v1Nh3 kIKUG  _bz0w']\")))"
   ]
  },
  {
   "cell_type": "markdown",
   "metadata": {},
   "source": [
    "# 9.Bonus.1)  décorateurs"
   ]
  },
  {
   "cell_type": "code",
   "execution_count": 312,
   "metadata": {},
   "outputs": [],
   "source": [
    "class NbCallFunction:\n",
    "    \"\"\" This is a decorator to count the number of times a function has been called\n",
    "    It will be used to retrieve the image number to put it in working directory\"\"\"\n",
    "    def __init__(self, function):\n",
    "        self.callNumber = 0\n",
    "        self.function = function\n",
    "    def __call__(self, *args, **kwargs):\n",
    "        ## onCall\n",
    "        self.callNumber += 1\n",
    "        return self.function(*args, **kwargs)"
   ]
  },
  {
   "cell_type": "markdown",
   "metadata": {},
   "source": [
    "# 9.Bonus.2) Example d'usage d'un décorateur"
   ]
  },
  {
   "cell_type": "code",
   "execution_count": 314,
   "metadata": {},
   "outputs": [
    {
     "data": {
      "text/plain": [
       "0"
      ]
     },
     "execution_count": 314,
     "metadata": {},
     "output_type": "execute_result"
    }
   ],
   "source": [
    "@NbCallFunction\n",
    "def helloworld():\n",
    "    print('hello-world')\n",
    "helloworld.callNumber"
   ]
  },
  {
   "cell_type": "code",
   "execution_count": 315,
   "metadata": {},
   "outputs": [
    {
     "name": "stdout",
     "output_type": "stream",
     "text": [
      "hello-world\n"
     ]
    },
    {
     "data": {
      "text/plain": [
       "1"
      ]
     },
     "execution_count": 315,
     "metadata": {},
     "output_type": "execute_result"
    }
   ],
   "source": [
    "helloworld()\n",
    "helloworld.callNumber"
   ]
  },
  {
   "cell_type": "markdown",
   "metadata": {},
   "source": [
    "## 9.4) une fonction pour enregistrer les images téléchargées"
   ]
  },
  {
   "cell_type": "code",
   "execution_count": 316,
   "metadata": {},
   "outputs": [],
   "source": [
    "@NbCallFunction\n",
    "def download_img_from_link(string_url_img, hashtag_name):\n",
    "    \"\"\" This function retrieve all the photos from the visible window\"\"\"\n",
    "    import os\n",
    "    import requests as req\n",
    "    if not os.path.exists('data/'):\n",
    "        os.mkdir('data/')\n",
    "    string_path = 'data/'+ hashtag_name.lstrip('#') + str(download_img_from_link.callNumber) + '.jpg'\n",
    "    with open(string_path, 'wb') as file:\n",
    "        response = req.get(string_url_img)\n",
    "        print(response) if (not response.ok) else file.write(response.content)"
   ]
  },
  {
   "cell_type": "markdown",
   "metadata": {},
   "source": [
    "# 9.5) Scroll down sur instagram pour récupérer les photos"
   ]
  },
  {
   "cell_type": "code",
   "execution_count": 317,
   "metadata": {},
   "outputs": [
    {
     "name": "stdout",
     "output_type": "stream",
     "text": [
      "scrolling number : 1 on limit : 10\n",
      "number of photos downloaded : 33\n",
      "scrolling number : 2 on limit : 10\n",
      "number of photos downloaded : 57\n"
     ]
    }
   ],
   "source": [
    "##==== the while loop idea using the last_height and new_height is from @Artjom B. on Stackoverflow \\\n",
    "##==== i find it quite straightforward and useful ====##\n",
    "SLEEP_EACH_SCROLL = 3\n",
    "last_height       = driver.execute_script(\"return document.body.scrollHeight\") # Get scroll height executing js script\n",
    "count, limit      = 0, 10 # if we want to stop\n",
    "s = set()\n",
    "\n",
    "import regex as re\n",
    "while count < limit:\n",
    "    ## Scroll down to bottom\n",
    "    driver.execute_script(\"window.scrollTo(0, document.body.scrollHeight);\")\n",
    "    time.sleep(SLEEP_EACH_SCROLL)\n",
    "     \n",
    "    ## Retrieve the divs list\n",
    "    all_divs = driver.find_elements(By.CSS_SELECTOR, \"div[class='v1Nh3 kIKUG  _bz0w']\")\n",
    "    \n",
    "    ## important: in case the visible window overlapp with the former one, we don't want photos to get scrapped twice (so we say not in 's')\n",
    "    selected_divs = [x for x in all_divs if x not in s]\n",
    "    \n",
    "    ## Retrieve each image srcset attribute in each div in the divs list\n",
    "    img_srcset = [div.find_element(By.CSS_SELECTOR, \"img\").get_attribute('srcset') for div in selected_divs]\n",
    "    \n",
    "    ## Retrieve the correct image url from image srcset list\n",
    "    pattern = re.compile('^http\\S+')\n",
    "    string_url_imgs = [re.match(pattern=pattern, string=x).group() for x in img_srcset]\n",
    "    \n",
    "    for string_url_img in string_url_imgs:\n",
    "        download_img_from_link(string_url_img, hashtag)\n",
    "        \n",
    "    ## Calculate new scroll height and compare with last scroll height \n",
    "    ## ... (if the scrolling actually changed something)\n",
    "    new_height = driver.execute_script(\"return document.body.scrollHeight\")\n",
    "    if new_height == last_height:\n",
    "        break\n",
    "    last_height = new_height\n",
    "    count += 1 # count will be used for pagination afterwards\n",
    "    \n",
    "    s = set(all_divs) # Saving this list to avoid downloading again the same photos\n",
    "    print(\"scrolling number : \" + str(count) + \" on limit : \" + str(limit))\n",
    "    print(\"number of photos downloaded : \" + str(download_img_from_link.callNumber))\n",
    "    if download_img_from_link.callNumber > 10000:\n",
    "        break"
   ]
  },
  {
   "cell_type": "markdown",
   "metadata": {},
   "source": [
    "# 9.6) lister les images reçues"
   ]
  },
  {
   "cell_type": "code",
   "execution_count": 328,
   "metadata": {},
   "outputs": [],
   "source": [
    "import os"
   ]
  },
  {
   "cell_type": "code",
   "execution_count": 330,
   "metadata": {},
   "outputs": [
    {
     "data": {
      "text/plain": [
       "[('./data',\n",
       "  [],\n",
       "  ['basketball9.jpg',\n",
       "   'basketball12.jpg',\n",
       "   'basketball13.jpg',\n",
       "   'basketball8.jpg',\n",
       "   'basketball11.jpg',\n",
       "   'basketball39.jpg',\n",
       "   'basketball38.jpg',\n",
       "   'basketball10.jpg',\n",
       "   'basketball28.jpg',\n",
       "   'basketball14.jpg',\n",
       "   'basketball15.jpg',\n",
       "   'basketball29.jpg',\n",
       "   'basketball17.jpg',\n",
       "   'basketball16.jpg',\n",
       "   'basketball48.jpg',\n",
       "   'basketball49.jpg',\n",
       "   'basketball44.jpg',\n",
       "   'basketball50.jpg',\n",
       "   'basketball51.jpg',\n",
       "   'basketball45.jpg',\n",
       "   'basketball53.jpg',\n",
       "   'basketball47.jpg',\n",
       "   'basketball46.jpg',\n",
       "   'basketball52.jpg',\n",
       "   'basketball56.jpg',\n",
       "   'basketball42.jpg',\n",
       "   'basketball43.jpg',\n",
       "   'basketball57.jpg',\n",
       "   'basketball41.jpg',\n",
       "   'basketball55.jpg',\n",
       "   'basketball54.jpg',\n",
       "   'basketball40.jpg',\n",
       "   'basketball27.jpg',\n",
       "   'basketball33.jpg',\n",
       "   'basketball32.jpg',\n",
       "   'basketball26.jpg',\n",
       "   'basketball1.jpg',\n",
       "   'basketball3.jpg',\n",
       "   'basketball30.jpg',\n",
       "   'basketball24.jpg',\n",
       "   'basketball18.jpg',\n",
       "   'basketball19.jpg',\n",
       "   'basketball25.jpg',\n",
       "   'basketball31.jpg',\n",
       "   'basketball2.jpg',\n",
       "   'basketball6.jpg',\n",
       "   'basketball35.jpg',\n",
       "   'basketball21.jpg',\n",
       "   'basketball20.jpg',\n",
       "   'basketball34.jpg',\n",
       "   'basketball7.jpg',\n",
       "   'basketball5.jpg',\n",
       "   'basketball22.jpg',\n",
       "   'basketball36.jpg',\n",
       "   'basketball37.jpg',\n",
       "   'basketball23.jpg',\n",
       "   'basketball4.jpg'])]"
      ]
     },
     "execution_count": 330,
     "metadata": {},
     "output_type": "execute_result"
    }
   ],
   "source": [
    "list(os.walk(\"./data\"))"
   ]
  }
 ],
 "metadata": {
  "kernelspec": {
   "display_name": "Python 3",
   "language": "python",
   "name": "python3"
  },
  "language_info": {
   "codemirror_mode": {
    "name": "ipython",
    "version": 3
   },
   "file_extension": ".py",
   "mimetype": "text/x-python",
   "name": "python",
   "nbconvert_exporter": "python",
   "pygments_lexer": "ipython3",
   "version": "3.8.5"
  }
 },
 "nbformat": 4,
 "nbformat_minor": 2
}
