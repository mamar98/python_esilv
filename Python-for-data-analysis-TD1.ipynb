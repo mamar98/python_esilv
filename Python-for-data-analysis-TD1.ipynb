{
 "cells": [
  {
   "cell_type": "markdown",
   "metadata": {},
   "source": [
    "# Python for data analysis TD1\n",
    "\n",
    "\n",
    "\n",
    "\n",
    "### Python ?\n",
    "\n",
    "Python is a language:\n",
    "- Interpretated (= compiled each time the program is run)\n",
    "- easy to write and read because well spaced and idented: Line Breaks and tabs replace semi-colon and tabs\n",
    "- Object oriented but can be written in a classic procedural way.\n",
    "- Equipped with many libraries written by developers from many different backgrounds, and specially well equipped for our domain\n",
    "\n",
    "\n",
    "\n",
    "### Data ?\n",
    "\n",
    "- excel files\n",
    "- comma separated values files\n",
    "- tabulated value files\n",
    "- text files\n",
    "- json files\n",
    "- image(s)\n",
    "- any kind of content you could analyse to understand the structure and extract raw data : webscraping..\n",
    "- ...\n",
    "\n",
    "- un mélange des précédents formats, généralement reliées par un identifiant permettant l'alignement des donées ( database join ). par ex fichier csv  ville /année / temperature, fichier csv  ville / age moyen \n",
    "\n",
    "\n",
    "\n",
    "Data providers : \n",
    "- Open Government Data (OGD)  : data.gov , data.gouv.fr ...\n",
    "- Private Companies \n",
    "- personaly collected ( Living room temperature log)\n",
    "- collected and published by third parties : kaggle ..\n",
    "- ...\n",
    "\n",
    "- https://github.com/awesomedata/awesome-public-datasets\n",
    "- https://catalog.data.gov/dataset\n",
    "- https://www.data.gouv.fr/fr/\n",
    "- https://www.kaggle.com/datasets\n",
    "- https://archive.org/details/datasets\n",
    "- https://commoncrawl.org/\n",
    "- https://www.interviewqs.com/blog/free_online_data_sets\n",
    "...\n",
    "\n",
    "\n",
    "\n",
    "\n",
    "### Analysis ?\n",
    "\n",
    "\n",
    "### Descriptive analytics : What happened ? \n",
    "\n",
    "Make data \"speak\"\n",
    "Make them reveal things hard or impossible to say just by reading them\n",
    "Display graphically to increase comprehension\n",
    "\n",
    "Descriptive Analysis is probably the most important process of Analysis which is basically exploring the data set, extracting knowledge from data using various Statistical Techniques and KNOWING YOUR DATA INSIDE OUT before you do any sort of Predictive Modelling and Anlaysis.\n",
    "\n",
    "\n",
    "### Predictive analytics : What will happen  ?\n",
    "\n",
    "Predict something from a set of already made associations (image -> person name , image -> character, image -> category , image -> clothe name, customer service log -> subscription termination or not ...)\n",
    "\n",
    "\n",
    "\n",
    "\n",
    "\n",
    "# 1.Data analyst toolbox installation\n",
    "\n",
    "## 1.1 Python\n",
    "\n",
    "We should use python 3 for maximum compatibility with new versions of the libraries\n",
    "\n",
    "First verify what version is on your system\n",
    "\n",
    "\n",
    "PLEASE NOTE THAN WHEN THE LINE STARTS WITH $ YOU SHOULD TYPE IT IN A TERMINAL WINDOW"
   ]
  },
  {
   "cell_type": "code",
   "execution_count": null,
   "metadata": {},
   "outputs": [],
   "source": []
  },
  {
   "cell_type": "code",
   "execution_count": null,
   "metadata": {},
   "outputs": [],
   "source": [
    "$ python"
   ]
  },
  {
   "cell_type": "markdown",
   "metadata": {},
   "source": [
    "Si ça n'est pas la 3.8, il faut l'installer : "
   ]
  },
  {
   "cell_type": "markdown",
   "metadata": {},
   "source": [
    "**Ubuntu:** "
   ]
  },
  {
   "cell_type": "code",
   "execution_count": null,
   "metadata": {},
   "outputs": [],
   "source": [
    "$ sudo apt-get update\n",
    "$ sudo apt-get install python3.8 python3-pip"
   ]
  },
  {
   "cell_type": "markdown",
   "metadata": {},
   "source": [
    "**Mac:**    (  https://installpython3.com/mac/  )\n",
    "\n",
    "jusque mac OS 10.15 python 2.7 est installé en série.\n",
    "\n",
    "ATTENTION !\n",
    "ne pas supprimer la version livrée en série, elle est nécéssaire au système.\n",
    "\n",
    "pour savoir si vous avez aussi la 3 : "
   ]
  },
  {
   "cell_type": "code",
   "execution_count": null,
   "metadata": {},
   "outputs": [],
   "source": [
    "$ python3"
   ]
  },
  {
   "cell_type": "markdown",
   "metadata": {},
   "source": [
    "sinon il faut l'installer. Les deux versions vont ensuite cohabiter sur votre système\n",
    "\n",
    "Nous allons utiliser hombrew , un gestionnaire de paquet mac OS très pratique.\n",
    "Homebrew a besoin du  compilateur gcc , inclus dans Xcode.\n",
    "\n",
    "installation xcode"
   ]
  },
  {
   "cell_type": "code",
   "execution_count": null,
   "metadata": {},
   "outputs": [],
   "source": [
    "$ xcode-select --install"
   ]
  },
  {
   "cell_type": "markdown",
   "metadata": {},
   "source": [
    "installation Homebrew :\n",
    "    allez sur https://brew.sh/ puis copier collez la commande shell"
   ]
  },
  {
   "cell_type": "code",
   "execution_count": null,
   "metadata": {},
   "outputs": [],
   "source": [
    "$ /bin/bash -c \"$(curl -fsSL https://raw.githubusercontent.com/Homebrew/install/master/install.sh)\""
   ]
  },
  {
   "cell_type": "markdown",
   "metadata": {},
   "source": [
    "installation python 3 et pip"
   ]
  },
  {
   "cell_type": "code",
   "execution_count": null,
   "metadata": {},
   "outputs": [],
   "source": [
    "$ brew install python3"
   ]
  },
  {
   "cell_type": "markdown",
   "metadata": {},
   "source": [
    "ATTENTION !\n",
    "python / python3\n",
    "pip / pip3\n",
    "\n",
    "pour utiliser python 3 : lancez toujours python avec python3 et pip avec pip3\n",
    "\n",
    "**Windows** ( https://installpython3.com/windows/ )\n",
    "\n",
    "\n",
    "- depuis le micrososft store à partir de windows 10\n",
    "\n",
    "- sinon telecharger le binaire depuis le site python https://www.python.org/downloads/windows/\n",
    "\n",
    "\n",
    "\n",
    "### 1.2 Jupyter Notebook\n",
    "\n",
    "\n",
    "- Edition et Execution du code sur une page web, avec conservation de l'historique\n",
    "- Affichage matplotlib integré\n",
    "- Affichage markdown\n",
    "- Sauvegarde du notebook en local, publication simple sur github, accessible en ligne..\n",
    "- Très utilisé dans l'ecosysteme data science pour ces mêmes raisons.\n",
    "\n",
    "\n",
    "Plutot que d'editer dans un éditeur et lancer son code dans un shell, ou de travailler dans un IDE, Jupyter permet de travailler dans le navigateur, tout en conservant un historique des executions. Ca permet de \"raconter une histoire\", de montrer l'évolution d'un raisonnement. Les notebooks peuvent être sauvegardés et échangés.\n",
    "\n",
    "\n",
    "\n",
    "dans un shell : "
   ]
  },
  {
   "cell_type": "code",
   "execution_count": null,
   "metadata": {},
   "outputs": [],
   "source": [
    "pip install notebook "
   ]
  },
  {
   "cell_type": "markdown",
   "metadata": {},
   "source": [
    "ou"
   ]
  },
  {
   "cell_type": "code",
   "execution_count": null,
   "metadata": {},
   "outputs": [],
   "source": [
    "pip3 install notebook"
   ]
  },
  {
   "cell_type": "markdown",
   "metadata": {},
   "source": [
    "une fois installé, pour créez un notebook  : créez un dossier pour ce cours , dans un terminal rendez vous dans ce dossier avec cd /chemin/vers/le/dossier (utilisez l'autocomplétion avec tab), puis lancez la commande : "
   ]
  },
  {
   "cell_type": "code",
   "execution_count": null,
   "metadata": {
    "scrolled": true
   },
   "outputs": [],
   "source": [
    "$ jupyter notebook"
   ]
  },
  {
   "cell_type": "markdown",
   "metadata": {},
   "source": [
    "Un navigateur devrait s'ouvrir affichant la liste des fichiers contenus dans le dossier.\n",
    "Jupyter utilise un serveur web integré pour vous permettre de travailler en local dans le navigateur. ( Vous pourriez tout aussi bien travailler en distant)\n",
    "\n",
    "Pour créer un notebook, cliquez sur \"nouveau\" en haut à droite puis choisissez python3\n",
    "\n",
    "renommez le notebook, par exemple \"python for data analysis TD1\"\n",
    "\n",
    "\n",
    "Saisissez du code python dans la première cellule, puis shift+ entrée pour l'executer."
   ]
  },
  {
   "cell_type": "code",
   "execution_count": null,
   "metadata": {
    "scrolled": true
   },
   "outputs": [],
   "source": [
    "print(\"Hello World!\")"
   ]
  },
  {
   "cell_type": "markdown",
   "metadata": {},
   "source": [
    "Jupyter afficher la sortie du programme sous votre code, puis crée une nouvelle cellule.\n",
    "etc..\n",
    "Vous gardez ainsi mémoire de la progression de votre code.\n",
    "\n",
    "Chaque cellule peut devenir une cellule markdown : esc m\n",
    "faites shift entrée pour afficher le rendu markdown\n",
    "\n",
    "( https://www.markdownguide.org/basic-syntax/ )\n",
    "\n",
    "pour insérer une cellule avant ou après : esc a ou esc b\n",
    "\n",
    "fichier est automatiquement sauvegardé à intervalles réguliers.\n",
    "vous pouvez le transmettre, ou le publier directement sur github.\n",
    "\n",
    "( pour les fonctions additionnelles, --> O'Reilly)"
   ]
  },
  {
   "cell_type": "code",
   "execution_count": null,
   "metadata": {},
   "outputs": [],
   "source": [
    "%autosave 60"
   ]
  },
  {
   "cell_type": "markdown",
   "metadata": {},
   "source": [
    "\n",
    "### 1.3 Pandas"
   ]
  },
  {
   "cell_type": "code",
   "execution_count": null,
   "metadata": {
    "scrolled": true
   },
   "outputs": [],
   "source": [
    "pip install pandas"
   ]
  },
  {
   "cell_type": "markdown",
   "metadata": {},
   "source": [
    "ou"
   ]
  },
  {
   "cell_type": "code",
   "execution_count": null,
   "metadata": {},
   "outputs": [],
   "source": [
    "pip3 install pandas"
   ]
  },
  {
   "cell_type": "markdown",
   "metadata": {},
   "source": [
    "### 1.4 Matplotlib\n",
    "\n",
    "idem en remplçant pandas par matplotlib\n",
    "\n",
    "\n",
    "\n",
    "\n",
    "\n",
    "\n",
    "\n",
    "\n"
   ]
  },
  {
   "cell_type": "code",
   "execution_count": null,
   "metadata": {},
   "outputs": [],
   "source": [
    "pip install matplotlib"
   ]
  },
  {
   "cell_type": "markdown",
   "metadata": {},
   "source": [
    "# 2. Getting Started\n",
    "## 2.1 Python"
   ]
  },
  {
   "cell_type": "code",
   "execution_count": null,
   "metadata": {
    "scrolled": true
   },
   "outputs": [],
   "source": [
    "print(\"hello world\") # puis shift entrée ( ou alt entrée pour executer et inserer une nouveller cellule)"
   ]
  },
  {
   "cell_type": "markdown",
   "metadata": {},
   "source": [
    "### Dynamic typing"
   ]
  },
  {
   "cell_type": "code",
   "execution_count": 1,
   "metadata": {},
   "outputs": [
    {
     "data": {
      "text/plain": [
       "int"
      ]
     },
     "execution_count": 1,
     "metadata": {},
     "output_type": "execute_result"
    }
   ],
   "source": [
    "a=1\n",
    "type(a)\n",
    "# ?"
   ]
  },
  {
   "cell_type": "code",
   "execution_count": 2,
   "metadata": {},
   "outputs": [
    {
     "data": {
      "text/plain": [
       "float"
      ]
     },
     "execution_count": 2,
     "metadata": {},
     "output_type": "execute_result"
    }
   ],
   "source": [
    "b=1.1\n",
    "type(b)"
   ]
  },
  {
   "cell_type": "code",
   "execution_count": 3,
   "metadata": {},
   "outputs": [
    {
     "data": {
      "text/plain": [
       "str"
      ]
     },
     "execution_count": 3,
     "metadata": {},
     "output_type": "execute_result"
    }
   ],
   "source": [
    "c=\"1\"\n",
    "type(c)"
   ]
  },
  {
   "cell_type": "code",
   "execution_count": 17,
   "metadata": {},
   "outputs": [
    {
     "data": {
      "text/plain": [
       "bool"
      ]
     },
     "execution_count": 17,
     "metadata": {},
     "output_type": "execute_result"
    }
   ],
   "source": [
    "d=True\n",
    "type(d)"
   ]
  },
  {
   "cell_type": "markdown",
   "metadata": {},
   "source": [
    "### Type casting"
   ]
  },
  {
   "cell_type": "code",
   "execution_count": 18,
   "metadata": {},
   "outputs": [
    {
     "ename": "TypeError",
     "evalue": "can only concatenate str (not \"int\") to str",
     "output_type": "error",
     "traceback": [
      "\u001b[0;31m---------------------------------------------------------------------------\u001b[0m",
      "\u001b[0;31mTypeError\u001b[0m                                 Traceback (most recent call last)",
      "\u001b[0;32m<ipython-input-18-0748901053a5>\u001b[0m in \u001b[0;36m<module>\u001b[0;34m\u001b[0m\n\u001b[0;32m----> 1\u001b[0;31m \u001b[0mprint\u001b[0m\u001b[0;34m(\u001b[0m\u001b[0mc\u001b[0m \u001b[0;34m+\u001b[0m \u001b[0;36m2\u001b[0m\u001b[0;34m)\u001b[0m\u001b[0;34m\u001b[0m\u001b[0;34m\u001b[0m\u001b[0m\n\u001b[0m\u001b[1;32m      2\u001b[0m \u001b[0;31m# ?\u001b[0m\u001b[0;34m\u001b[0m\u001b[0;34m\u001b[0m\u001b[0;34m\u001b[0m\u001b[0m\n",
      "\u001b[0;31mTypeError\u001b[0m: can only concatenate str (not \"int\") to str"
     ]
    }
   ],
   "source": [
    "print(c + 2)\n",
    "# ?"
   ]
  },
  {
   "cell_type": "code",
   "execution_count": 4,
   "metadata": {},
   "outputs": [
    {
     "name": "stdout",
     "output_type": "stream",
     "text": [
      "12\n"
     ]
    }
   ],
   "source": [
    "print(c+\"2\")"
   ]
  },
  {
   "cell_type": "markdown",
   "metadata": {},
   "source": [
    "pour additioner à un entier, python a besoin d'un entier ou d'un float."
   ]
  },
  {
   "cell_type": "code",
   "execution_count": 5,
   "metadata": {},
   "outputs": [
    {
     "name": "stdout",
     "output_type": "stream",
     "text": [
      "3\n"
     ]
    }
   ],
   "source": [
    "print(int(c)+2)"
   ]
  },
  {
   "cell_type": "code",
   "execution_count": 6,
   "metadata": {},
   "outputs": [
    {
     "ename": "TypeError",
     "evalue": "unsupported operand type(s) for +: 'int' and 'str'",
     "output_type": "error",
     "traceback": [
      "\u001b[1;31m---------------------------------------------------------------------------\u001b[0m",
      "\u001b[1;31mTypeError\u001b[0m                                 Traceback (most recent call last)",
      "\u001b[1;32m<ipython-input-6-b4001347a269>\u001b[0m in \u001b[0;36m<module>\u001b[1;34m\u001b[0m\n\u001b[1;32m----> 1\u001b[1;33m \u001b[0mprint\u001b[0m\u001b[1;33m(\u001b[0m\u001b[0ma\u001b[0m \u001b[1;33m+\u001b[0m \u001b[1;34m\"2\"\u001b[0m\u001b[1;33m)\u001b[0m\u001b[1;33m\u001b[0m\u001b[1;33m\u001b[0m\u001b[0m\n\u001b[0m",
      "\u001b[1;31mTypeError\u001b[0m: unsupported operand type(s) for +: 'int' and 'str'"
     ]
    }
   ],
   "source": [
    "print(a + \"2\")"
   ]
  },
  {
   "cell_type": "code",
   "execution_count": 7,
   "metadata": {},
   "outputs": [
    {
     "name": "stdout",
     "output_type": "stream",
     "text": [
      "1\n"
     ]
    }
   ],
   "source": [
    "print(str(a))"
   ]
  },
  {
   "cell_type": "code",
   "execution_count": 10,
   "metadata": {},
   "outputs": [
    {
     "name": "stdout",
     "output_type": "stream",
     "text": [
      "21\n"
     ]
    }
   ],
   "source": [
    "print(\"2\"+str(1))"
   ]
  },
  {
   "cell_type": "markdown",
   "metadata": {},
   "source": [
    "pour concaténer avec une chaine, Python a besoin d'une chaine"
   ]
  },
  {
   "cell_type": "code",
   "execution_count": 11,
   "metadata": {},
   "outputs": [
    {
     "name": "stdout",
     "output_type": "stream",
     "text": [
      "12\n"
     ]
    }
   ],
   "source": [
    "print(str(a)+\"2\")"
   ]
  },
  {
   "cell_type": "markdown",
   "metadata": {},
   "source": [
    "### Lists"
   ]
  },
  {
   "cell_type": "code",
   "execution_count": 12,
   "metadata": {},
   "outputs": [
    {
     "data": {
      "text/plain": [
       "[1, 2, 'a', 'b']"
      ]
     },
     "execution_count": 12,
     "metadata": {},
     "output_type": "execute_result"
    }
   ],
   "source": [
    "une_liste = [1,2,\"a\", \"b\"]\n",
    "une_liste"
   ]
  },
  {
   "cell_type": "code",
   "execution_count": 13,
   "metadata": {},
   "outputs": [
    {
     "data": {
      "text/plain": [
       "'a'"
      ]
     },
     "execution_count": 13,
     "metadata": {},
     "output_type": "execute_result"
    }
   ],
   "source": [
    "# les indices de listes commencent à 0\n",
    "une_liste[2]"
   ]
  },
  {
   "cell_type": "code",
   "execution_count": 14,
   "metadata": {},
   "outputs": [
    {
     "data": {
      "text/plain": [
       "'b'"
      ]
     },
     "execution_count": 14,
     "metadata": {},
     "output_type": "execute_result"
    }
   ],
   "source": [
    "# dernier élement de la liste \n",
    "une_liste[-1]"
   ]
  },
  {
   "cell_type": "code",
   "execution_count": 15,
   "metadata": {},
   "outputs": [
    {
     "data": {
      "text/plain": [
       "[1, 2, 'a', 'b', 'z']"
      ]
     },
     "execution_count": 15,
     "metadata": {},
     "output_type": "execute_result"
    }
   ],
   "source": [
    "une_liste.append(\"z\")\n",
    "une_liste"
   ]
  },
  {
   "cell_type": "markdown",
   "metadata": {},
   "source": [
    "### List slicing"
   ]
  },
  {
   "cell_type": "markdown",
   "metadata": {},
   "source": [
    "Permet de selectionner une sous partie d'une liste, en spécifiant l'index de début et l'index de fin\n",
    "syntaxe : liste[début:fin]   ( fin non inclus )\n"
   ]
  },
  {
   "cell_type": "code",
   "execution_count": 16,
   "metadata": {},
   "outputs": [
    {
     "data": {
      "text/plain": [
       "['a', 'b']"
      ]
     },
     "execution_count": 16,
     "metadata": {},
     "output_type": "execute_result"
    }
   ],
   "source": [
    "une_liste[2:4]"
   ]
  },
  {
   "cell_type": "code",
   "execution_count": 17,
   "metadata": {},
   "outputs": [
    {
     "data": {
      "text/plain": [
       "['a', 'b', 'z']"
      ]
     },
     "execution_count": 17,
     "metadata": {},
     "output_type": "execute_result"
    }
   ],
   "source": [
    "une_liste[2:]"
   ]
  },
  {
   "cell_type": "code",
   "execution_count": 18,
   "metadata": {},
   "outputs": [
    {
     "data": {
      "text/plain": [
       "[1, 2, 'a']"
      ]
     },
     "execution_count": 18,
     "metadata": {},
     "output_type": "execute_result"
    }
   ],
   "source": [
    "une_liste[:3]"
   ]
  },
  {
   "cell_type": "code",
   "execution_count": 19,
   "metadata": {},
   "outputs": [
    {
     "data": {
      "text/plain": [
       "['b', 'z']"
      ]
     },
     "execution_count": 19,
     "metadata": {},
     "output_type": "execute_result"
    }
   ],
   "source": [
    "une_liste[-2:]"
   ]
  },
  {
   "cell_type": "code",
   "execution_count": 20,
   "metadata": {},
   "outputs": [
    {
     "data": {
      "text/plain": [
       "[1, 2, 'a']"
      ]
     },
     "execution_count": 20,
     "metadata": {},
     "output_type": "execute_result"
    }
   ],
   "source": [
    "une_liste[:-2]"
   ]
  },
  {
   "cell_type": "markdown",
   "metadata": {},
   "source": [
    "\n",
    "## 2.2 Pandas / Matplotlib\n",
    "\n",
    "\n",
    "Pandas adds two new data structures to the classic python data structures ( list, dict, tuples, set) :\n",
    "\n",
    "- Series  : a one-dimensional labeled array capable of holding any data type\n",
    "- DataFrame : a 2-dimensional labeled data structure with columns of potentially different types. You can think of it like a spreadsheet or SQL table, or a dict of Series objects. \n",
    "\n",
    "you can find here an introduction to Pandas data structures :\n",
    "https://pandas.pydata.org/pandas-docs/stable/user_guide/dsintro.html\n",
    "\n",
    "Matplotlib allows us to create quality plots with very little code.\n"
   ]
  },
  {
   "cell_type": "code",
   "execution_count": 21,
   "metadata": {},
   "outputs": [],
   "source": [
    "%matplotlib inline"
   ]
  },
  {
   "cell_type": "code",
   "execution_count": 22,
   "metadata": {},
   "outputs": [],
   "source": [
    "import pandas as pd\n",
    "import matplotlib.pyplot as plt"
   ]
  },
  {
   "cell_type": "code",
   "execution_count": 23,
   "metadata": {},
   "outputs": [
    {
     "data": {
      "text/plain": [
       "[0, 1, 2, 3, 4, 5, 6, 7, 8, 9]"
      ]
     },
     "execution_count": 23,
     "metadata": {},
     "output_type": "execute_result"
    }
   ],
   "source": [
    "data=[0,1,2,3,4,5,6,7,8,9]\n",
    "data"
   ]
  },
  {
   "cell_type": "code",
   "execution_count": 24,
   "metadata": {},
   "outputs": [
    {
     "data": {
      "text/plain": [
       "[<matplotlib.lines.Line2D at 0x16e41ca98e0>]"
      ]
     },
     "execution_count": 24,
     "metadata": {},
     "output_type": "execute_result"
    },
    {
     "data": {
      "image/png": "[encoded data removed]",
      "text/plain": [
       "<Figure size 432x288 with 1 Axes>"
      ]
     },
     "metadata": {
      "needs_background": "light"
     },
     "output_type": "display_data"
    }
   ],
   "source": [
    "plt.plot(data)"
   ]
  },
  {
   "cell_type": "code",
   "execution_count": 25,
   "metadata": {
    "scrolled": true
   },
   "outputs": [
    {
     "data": {
      "text/plain": [
       "<matplotlib.collections.PathCollection at 0x16e41fd5850>"
      ]
     },
     "execution_count": 25,
     "metadata": {},
     "output_type": "execute_result"
    },
    {
     "data": {
      "image/png": "[encoded data removed]",
      "text/plain": [
       "<Figure size 432x288 with 1 Axes>"
      ]
     },
     "metadata": {
      "needs_background": "light"
     },
     "output_type": "display_data"
    }
   ],
   "source": [
    "# Here we will use some numpy functions to generate data, only to demo Matplotlib scatter and histogram plots\n",
    "import numpy as np\n",
    "plt.scatter(np.arange(30),np.arange(30) + 3 * np.random.randn(30))"
   ]
  },
  {
   "cell_type": "code",
   "execution_count": 31,
   "metadata": {
    "scrolled": true
   },
   "outputs": [
    {
     "data": {
      "text/plain": [
       "(array([2., 1., 5., 4., 3., 3., 7., 3., 1., 1.]),\n",
       " array([-2.53928080e+00, -2.03183963e+00, -1.52439847e+00, -1.01695731e+00,\n",
       "        -5.09516151e-01, -2.07499044e-03,  5.05366171e-01,  1.01280733e+00,\n",
       "         1.52024849e+00,  2.02768965e+00,  2.53513081e+00]),\n",
       " <BarContainer object of 10 artists>)"
      ]
     },
     "execution_count": 31,
     "metadata": {},
     "output_type": "execute_result"
    },
    {
     "data": {
      "image/png": "[encoded data removed]",
      "text/plain": [
       "<Figure size 432x288 with 1 Axes>"
      ]
     },
     "metadata": {
      "needs_background": "light"
     },
     "output_type": "display_data"
    }
   ],
   "source": [
    "plt.hist(np.random.randn(30), bins=10, color='k', alpha=0.9)"
   ]
  },
  {
   "cell_type": "markdown",
   "metadata": {},
   "source": [
    "# 3. Our first real case : Insee France firstnames file, 1900 - 2018\n",
    "\n",
    "\n",
    "Read ( translate ) description and documentation here https://www.insee.fr/fr/statistiques/2540004\n",
    "\n",
    "Download the file :\n",
    "https://www.insee.fr/fr/statistiques/fichier/2540004/dpt2018_csv.zip\n",
    "\n",
    "Move the file to the directory where you started jupyter\n",
    "\n",
    "( Pandas allow to load the file directly from url but we like to have a copy of the file on the computer )\n",
    "\n",
    "\n"
   ]
  },
  {
   "cell_type": "markdown",
   "metadata": {},
   "source": [
    "### 3.1 Loading of the dataset in a  DataFrame"
   ]
  },
  {
   "cell_type": "code",
   "execution_count": 33,
   "metadata": {},
   "outputs": [],
   "source": [
    "prenoms= pd.read_csv(\"dpt2018.csv\",sep=\";\")"
   ]
  },
  {
   "cell_type": "markdown",
   "metadata": {},
   "source": [
    "if you moved and renamed the file you could do :"
   ]
  },
  {
   "cell_type": "code",
   "execution_count": 39,
   "metadata": {},
   "outputs": [],
   "source": [
    "prenoms= pd.read_csv(\"datasets/prenoms_fr_1900_2018_insee.csv\",sep=\";\")"
   ]
  },
  {
   "cell_type": "code",
   "execution_count": 34,
   "metadata": {
    "scrolled": false
   },
   "outputs": [
    {
     "data": {
      "text/html": [
       "<div>\n",
       "<style scoped>\n",
       "    .dataframe tbody tr th:only-of-type {\n",
       "        vertical-align: middle;\n",
       "    }\n",
       "\n",
       "    .dataframe tbody tr th {\n",
       "        vertical-align: top;\n",
       "    }\n",
       "\n",
       "    .dataframe thead th {\n",
       "        text-align: right;\n",
       "    }\n",
       "</style>\n",
       "<table border=\"1\" class=\"dataframe\">\n",
       "  <thead>\n",
       "    <tr style=\"text-align: right;\">\n",
       "      <th></th>\n",
       "      <th>sexe</th>\n",
       "      <th>preusuel</th>\n",
       "      <th>annais</th>\n",
       "      <th>dpt</th>\n",
       "      <th>nombre</th>\n",
       "    </tr>\n",
       "  </thead>\n",
       "  <tbody>\n",
       "    <tr>\n",
       "      <th>0</th>\n",
       "      <td>1</td>\n",
       "      <td>A</td>\n",
       "      <td>XXXX</td>\n",
       "      <td>XX</td>\n",
       "      <td>27</td>\n",
       "    </tr>\n",
       "    <tr>\n",
       "      <th>1</th>\n",
       "      <td>1</td>\n",
       "      <td>AADAM</td>\n",
       "      <td>XXXX</td>\n",
       "      <td>XX</td>\n",
       "      <td>27</td>\n",
       "    </tr>\n",
       "    <tr>\n",
       "      <th>2</th>\n",
       "      <td>1</td>\n",
       "      <td>AADEL</td>\n",
       "      <td>XXXX</td>\n",
       "      <td>XX</td>\n",
       "      <td>55</td>\n",
       "    </tr>\n",
       "    <tr>\n",
       "      <th>3</th>\n",
       "      <td>1</td>\n",
       "      <td>AADIL</td>\n",
       "      <td>1983</td>\n",
       "      <td>84</td>\n",
       "      <td>3</td>\n",
       "    </tr>\n",
       "    <tr>\n",
       "      <th>4</th>\n",
       "      <td>1</td>\n",
       "      <td>AADIL</td>\n",
       "      <td>1992</td>\n",
       "      <td>92</td>\n",
       "      <td>3</td>\n",
       "    </tr>\n",
       "    <tr>\n",
       "      <th>...</th>\n",
       "      <td>...</td>\n",
       "      <td>...</td>\n",
       "      <td>...</td>\n",
       "      <td>...</td>\n",
       "      <td>...</td>\n",
       "    </tr>\n",
       "    <tr>\n",
       "      <th>3624989</th>\n",
       "      <td>2</td>\n",
       "      <td>ÉYA</td>\n",
       "      <td>2014</td>\n",
       "      <td>69</td>\n",
       "      <td>3</td>\n",
       "    </tr>\n",
       "    <tr>\n",
       "      <th>3624990</th>\n",
       "      <td>2</td>\n",
       "      <td>ÉYA</td>\n",
       "      <td>XXXX</td>\n",
       "      <td>XX</td>\n",
       "      <td>23</td>\n",
       "    </tr>\n",
       "    <tr>\n",
       "      <th>3624991</th>\n",
       "      <td>2</td>\n",
       "      <td>ÏNAYA</td>\n",
       "      <td>XXXX</td>\n",
       "      <td>XX</td>\n",
       "      <td>21</td>\n",
       "    </tr>\n",
       "    <tr>\n",
       "      <th>3624992</th>\n",
       "      <td>2</td>\n",
       "      <td>ÖZGE</td>\n",
       "      <td>XXXX</td>\n",
       "      <td>XX</td>\n",
       "      <td>30</td>\n",
       "    </tr>\n",
       "    <tr>\n",
       "      <th>3624993</th>\n",
       "      <td>2</td>\n",
       "      <td>ÖZLEM</td>\n",
       "      <td>XXXX</td>\n",
       "      <td>XX</td>\n",
       "      <td>95</td>\n",
       "    </tr>\n",
       "  </tbody>\n",
       "</table>\n",
       "<p>3624994 rows × 5 columns</p>\n",
       "</div>"
      ],
      "text/plain": [
       "         sexe preusuel annais dpt  nombre\n",
       "0           1        A   XXXX  XX      27\n",
       "1           1    AADAM   XXXX  XX      27\n",
       "2           1    AADEL   XXXX  XX      55\n",
       "3           1    AADIL   1983  84       3\n",
       "4           1    AADIL   1992  92       3\n",
       "...       ...      ...    ...  ..     ...\n",
       "3624989     2      ÉYA   2014  69       3\n",
       "3624990     2      ÉYA   XXXX  XX      23\n",
       "3624991     2    ÏNAYA   XXXX  XX      21\n",
       "3624992     2     ÖZGE   XXXX  XX      30\n",
       "3624993     2    ÖZLEM   XXXX  XX      95\n",
       "\n",
       "[3624994 rows x 5 columns]"
      ]
     },
     "execution_count": 34,
     "metadata": {},
     "output_type": "execute_result"
    }
   ],
   "source": [
    "# when you print the variable, pandas show an extract column names, \n",
    "# first and last lines, index number and some more information\n",
    "prenoms"
   ]
  },
  {
   "cell_type": "markdown",
   "metadata": {},
   "source": [
    "### 3.2 Pandas allow Quick analysis of content and structure of the dataset"
   ]
  },
  {
   "cell_type": "code",
   "execution_count": 35,
   "metadata": {},
   "outputs": [
    {
     "data": {
      "text/html": [
       "<div>\n",
       "<style scoped>\n",
       "    .dataframe tbody tr th:only-of-type {\n",
       "        vertical-align: middle;\n",
       "    }\n",
       "\n",
       "    .dataframe tbody tr th {\n",
       "        vertical-align: top;\n",
       "    }\n",
       "\n",
       "    .dataframe thead th {\n",
       "        text-align: right;\n",
       "    }\n",
       "</style>\n",
       "<table border=\"1\" class=\"dataframe\">\n",
       "  <thead>\n",
       "    <tr style=\"text-align: right;\">\n",
       "      <th></th>\n",
       "      <th>sexe</th>\n",
       "      <th>preusuel</th>\n",
       "      <th>annais</th>\n",
       "      <th>dpt</th>\n",
       "      <th>nombre</th>\n",
       "    </tr>\n",
       "  </thead>\n",
       "  <tbody>\n",
       "    <tr>\n",
       "      <th>0</th>\n",
       "      <td>1</td>\n",
       "      <td>A</td>\n",
       "      <td>XXXX</td>\n",
       "      <td>XX</td>\n",
       "      <td>27</td>\n",
       "    </tr>\n",
       "    <tr>\n",
       "      <th>1</th>\n",
       "      <td>1</td>\n",
       "      <td>AADAM</td>\n",
       "      <td>XXXX</td>\n",
       "      <td>XX</td>\n",
       "      <td>27</td>\n",
       "    </tr>\n",
       "    <tr>\n",
       "      <th>2</th>\n",
       "      <td>1</td>\n",
       "      <td>AADEL</td>\n",
       "      <td>XXXX</td>\n",
       "      <td>XX</td>\n",
       "      <td>55</td>\n",
       "    </tr>\n",
       "    <tr>\n",
       "      <th>3</th>\n",
       "      <td>1</td>\n",
       "      <td>AADIL</td>\n",
       "      <td>1983</td>\n",
       "      <td>84</td>\n",
       "      <td>3</td>\n",
       "    </tr>\n",
       "    <tr>\n",
       "      <th>4</th>\n",
       "      <td>1</td>\n",
       "      <td>AADIL</td>\n",
       "      <td>1992</td>\n",
       "      <td>92</td>\n",
       "      <td>3</td>\n",
       "    </tr>\n",
       "  </tbody>\n",
       "</table>\n",
       "</div>"
      ],
      "text/plain": [
       "   sexe preusuel annais dpt  nombre\n",
       "0     1        A   XXXX  XX      27\n",
       "1     1    AADAM   XXXX  XX      27\n",
       "2     1    AADEL   XXXX  XX      55\n",
       "3     1    AADIL   1983  84       3\n",
       "4     1    AADIL   1992  92       3"
      ]
     },
     "execution_count": 35,
     "metadata": {},
     "output_type": "execute_result"
    }
   ],
   "source": [
    "prenoms.head() # Affiche la ligne d'en tête et les 5 premières ligne, avec l'index créé automatiquement.\n"
   ]
  },
  {
   "cell_type": "code",
   "execution_count": 36,
   "metadata": {},
   "outputs": [
    {
     "data": {
      "text/html": [
       "<div>\n",
       "<style scoped>\n",
       "    .dataframe tbody tr th:only-of-type {\n",
       "        vertical-align: middle;\n",
       "    }\n",
       "\n",
       "    .dataframe tbody tr th {\n",
       "        vertical-align: top;\n",
       "    }\n",
       "\n",
       "    .dataframe thead th {\n",
       "        text-align: right;\n",
       "    }\n",
       "</style>\n",
       "<table border=\"1\" class=\"dataframe\">\n",
       "  <thead>\n",
       "    <tr style=\"text-align: right;\">\n",
       "      <th></th>\n",
       "      <th>sexe</th>\n",
       "      <th>preusuel</th>\n",
       "      <th>annais</th>\n",
       "      <th>dpt</th>\n",
       "      <th>nombre</th>\n",
       "    </tr>\n",
       "  </thead>\n",
       "  <tbody>\n",
       "    <tr>\n",
       "      <th>3624989</th>\n",
       "      <td>2</td>\n",
       "      <td>ÉYA</td>\n",
       "      <td>2014</td>\n",
       "      <td>69</td>\n",
       "      <td>3</td>\n",
       "    </tr>\n",
       "    <tr>\n",
       "      <th>3624990</th>\n",
       "      <td>2</td>\n",
       "      <td>ÉYA</td>\n",
       "      <td>XXXX</td>\n",
       "      <td>XX</td>\n",
       "      <td>23</td>\n",
       "    </tr>\n",
       "    <tr>\n",
       "      <th>3624991</th>\n",
       "      <td>2</td>\n",
       "      <td>ÏNAYA</td>\n",
       "      <td>XXXX</td>\n",
       "      <td>XX</td>\n",
       "      <td>21</td>\n",
       "    </tr>\n",
       "    <tr>\n",
       "      <th>3624992</th>\n",
       "      <td>2</td>\n",
       "      <td>ÖZGE</td>\n",
       "      <td>XXXX</td>\n",
       "      <td>XX</td>\n",
       "      <td>30</td>\n",
       "    </tr>\n",
       "    <tr>\n",
       "      <th>3624993</th>\n",
       "      <td>2</td>\n",
       "      <td>ÖZLEM</td>\n",
       "      <td>XXXX</td>\n",
       "      <td>XX</td>\n",
       "      <td>95</td>\n",
       "    </tr>\n",
       "  </tbody>\n",
       "</table>\n",
       "</div>"
      ],
      "text/plain": [
       "         sexe preusuel annais dpt  nombre\n",
       "3624989     2      ÉYA   2014  69       3\n",
       "3624990     2      ÉYA   XXXX  XX      23\n",
       "3624991     2    ÏNAYA   XXXX  XX      21\n",
       "3624992     2     ÖZGE   XXXX  XX      30\n",
       "3624993     2    ÖZLEM   XXXX  XX      95"
      ]
     },
     "execution_count": 36,
     "metadata": {},
     "output_type": "execute_result"
    }
   ],
   "source": [
    "prenoms.tail()"
   ]
  },
  {
   "cell_type": "code",
   "execution_count": 37,
   "metadata": {},
   "outputs": [
    {
     "name": "stdout",
     "output_type": "stream",
     "text": [
      "3624994\n",
      "5\n"
     ]
    }
   ],
   "source": [
    "nb_lignes, nb_col = prenoms.shape\n",
    "print(nb_lignes)\n",
    "print(nb_col)"
   ]
  },
  {
   "cell_type": "code",
   "execution_count": 38,
   "metadata": {},
   "outputs": [
    {
     "data": {
      "text/html": [
       "<div>\n",
       "<style scoped>\n",
       "    .dataframe tbody tr th:only-of-type {\n",
       "        vertical-align: middle;\n",
       "    }\n",
       "\n",
       "    .dataframe tbody tr th {\n",
       "        vertical-align: top;\n",
       "    }\n",
       "\n",
       "    .dataframe thead th {\n",
       "        text-align: right;\n",
       "    }\n",
       "</style>\n",
       "<table border=\"1\" class=\"dataframe\">\n",
       "  <thead>\n",
       "    <tr style=\"text-align: right;\">\n",
       "      <th></th>\n",
       "      <th>sexe</th>\n",
       "      <th>nombre</th>\n",
       "    </tr>\n",
       "  </thead>\n",
       "  <tbody>\n",
       "    <tr>\n",
       "      <th>count</th>\n",
       "      <td>3.624994e+06</td>\n",
       "      <td>3.624994e+06</td>\n",
       "    </tr>\n",
       "    <tr>\n",
       "      <th>mean</th>\n",
       "      <td>1.536878e+00</td>\n",
       "      <td>2.348677e+01</td>\n",
       "    </tr>\n",
       "    <tr>\n",
       "      <th>std</th>\n",
       "      <td>4.986382e-01</td>\n",
       "      <td>8.047885e+01</td>\n",
       "    </tr>\n",
       "    <tr>\n",
       "      <th>min</th>\n",
       "      <td>1.000000e+00</td>\n",
       "      <td>3.000000e+00</td>\n",
       "    </tr>\n",
       "    <tr>\n",
       "      <th>25%</th>\n",
       "      <td>1.000000e+00</td>\n",
       "      <td>4.000000e+00</td>\n",
       "    </tr>\n",
       "    <tr>\n",
       "      <th>50%</th>\n",
       "      <td>2.000000e+00</td>\n",
       "      <td>7.000000e+00</td>\n",
       "    </tr>\n",
       "    <tr>\n",
       "      <th>75%</th>\n",
       "      <td>2.000000e+00</td>\n",
       "      <td>1.900000e+01</td>\n",
       "    </tr>\n",
       "    <tr>\n",
       "      <th>max</th>\n",
       "      <td>2.000000e+00</td>\n",
       "      <td>6.328000e+03</td>\n",
       "    </tr>\n",
       "  </tbody>\n",
       "</table>\n",
       "</div>"
      ],
      "text/plain": [
       "               sexe        nombre\n",
       "count  3.624994e+06  3.624994e+06\n",
       "mean   1.536878e+00  2.348677e+01\n",
       "std    4.986382e-01  8.047885e+01\n",
       "min    1.000000e+00  3.000000e+00\n",
       "25%    1.000000e+00  4.000000e+00\n",
       "50%    2.000000e+00  7.000000e+00\n",
       "75%    2.000000e+00  1.900000e+01\n",
       "max    2.000000e+00  6.328000e+03"
      ]
     },
     "execution_count": 38,
     "metadata": {},
     "output_type": "execute_result"
    }
   ],
   "source": [
    "prenoms.describe()"
   ]
  },
  {
   "cell_type": "code",
   "execution_count": 39,
   "metadata": {
    "scrolled": true
   },
   "outputs": [
    {
     "data": {
      "text/plain": [
       "sexe         int64\n",
       "preusuel    object\n",
       "annais      object\n",
       "dpt         object\n",
       "nombre       int64\n",
       "dtype: object"
      ]
     },
     "execution_count": 39,
     "metadata": {},
     "output_type": "execute_result"
    }
   ],
   "source": [
    "prenoms.dtypes"
   ]
  },
  {
   "cell_type": "code",
   "execution_count": 40,
   "metadata": {
    "scrolled": false
   },
   "outputs": [
    {
     "data": {
      "text/plain": [
       "Index(['sexe', 'preusuel', 'annais', 'dpt', 'nombre'], dtype='object')"
      ]
     },
     "execution_count": 40,
     "metadata": {},
     "output_type": "execute_result"
    }
   ],
   "source": [
    "prenoms.columns"
   ]
  },
  {
   "cell_type": "code",
   "execution_count": 41,
   "metadata": {},
   "outputs": [
    {
     "name": "stdout",
     "output_type": "stream",
     "text": [
      "<class 'pandas.core.frame.DataFrame'>\n",
      "RangeIndex: 3624994 entries, 0 to 3624993\n",
      "Data columns (total 5 columns):\n",
      " #   Column    Dtype \n",
      "---  ------    ----- \n",
      " 0   sexe      int64 \n",
      " 1   preusuel  object\n",
      " 2   annais    object\n",
      " 3   dpt       object\n",
      " 4   nombre    int64 \n",
      "dtypes: int64(2), object(3)\n",
      "memory usage: 138.3+ MB\n"
     ]
    }
   ],
   "source": [
    "# info Print a concise summary of a DataFrame.\n",
    "prenoms.info()"
   ]
  },
  {
   "cell_type": "markdown",
   "metadata": {},
   "source": [
    "\n",
    "---\n",
    "**EXERCISE 1**\n",
    "\n",
    "### find 3 questions to ask to this dataset, and 3 graphics to display\n",
    "be precise with the name\n",
    "\n",
    "<br>\n",
    "<br>\n",
    "<br>\n",
    "<br>\n",
    "<br>\n",
    "<br>\n",
    "<br>\n",
    "<br>\n",
    "<br>\n",
    "<br>\n",
    "<br>\n",
    "<br>\n",
    "<br>\n",
    "<br>\n",
    "<br>\n",
    "<br>\n",
    "<br>\n",
    "<br>\n",
    "<br>\n",
    "<br>\n",
    "<br>\n",
    "<br>\n",
    "<br>\n",
    "<br>\n",
    "<br>\n",
    "<br>\n",
    "<br>\n",
    "<br>\n",
    "<br>\n",
    "<br>\n",
    "<br>\n",
    "<br>\n",
    "<br>\n",
    "\n",
    "\n",
    "---"
   ]
  },
  {
   "cell_type": "markdown",
   "metadata": {},
   "source": [
    "### 3.3 COUNT"
   ]
  },
  {
   "cell_type": "code",
   "execution_count": 42,
   "metadata": {},
   "outputs": [
    {
     "data": {
      "text/plain": [
       "sexe        3624994\n",
       "preusuel    3624993\n",
       "annais      3624994\n",
       "dpt         3624994\n",
       "nombre      3624994\n",
       "dtype: int64"
      ]
     },
     "execution_count": 42,
     "metadata": {},
     "output_type": "execute_result"
    }
   ],
   "source": [
    "prenoms.count()"
   ]
  },
  {
   "cell_type": "markdown",
   "metadata": {},
   "source": [
    "### 3.4 FILTER"
   ]
  },
  {
   "cell_type": "code",
   "execution_count": 43,
   "metadata": {},
   "outputs": [
    {
     "data": {
      "text/html": [
       "<div>\n",
       "<style scoped>\n",
       "    .dataframe tbody tr th:only-of-type {\n",
       "        vertical-align: middle;\n",
       "    }\n",
       "\n",
       "    .dataframe tbody tr th {\n",
       "        vertical-align: top;\n",
       "    }\n",
       "\n",
       "    .dataframe thead th {\n",
       "        text-align: right;\n",
       "    }\n",
       "</style>\n",
       "<table border=\"1\" class=\"dataframe\">\n",
       "  <thead>\n",
       "    <tr style=\"text-align: right;\">\n",
       "      <th></th>\n",
       "      <th>sexe</th>\n",
       "      <th>preusuel</th>\n",
       "      <th>annais</th>\n",
       "      <th>dpt</th>\n",
       "      <th>nombre</th>\n",
       "    </tr>\n",
       "  </thead>\n",
       "  <tbody>\n",
       "    <tr>\n",
       "      <th>593637</th>\n",
       "      <td>1</td>\n",
       "      <td>GERMAIN</td>\n",
       "      <td>1900</td>\n",
       "      <td>02</td>\n",
       "      <td>8</td>\n",
       "    </tr>\n",
       "    <tr>\n",
       "      <th>593638</th>\n",
       "      <td>1</td>\n",
       "      <td>GERMAIN</td>\n",
       "      <td>1900</td>\n",
       "      <td>04</td>\n",
       "      <td>3</td>\n",
       "    </tr>\n",
       "    <tr>\n",
       "      <th>593639</th>\n",
       "      <td>1</td>\n",
       "      <td>GERMAIN</td>\n",
       "      <td>1900</td>\n",
       "      <td>06</td>\n",
       "      <td>4</td>\n",
       "    </tr>\n",
       "    <tr>\n",
       "      <th>593640</th>\n",
       "      <td>1</td>\n",
       "      <td>GERMAIN</td>\n",
       "      <td>1900</td>\n",
       "      <td>07</td>\n",
       "      <td>11</td>\n",
       "    </tr>\n",
       "    <tr>\n",
       "      <th>593641</th>\n",
       "      <td>1</td>\n",
       "      <td>GERMAIN</td>\n",
       "      <td>1900</td>\n",
       "      <td>09</td>\n",
       "      <td>6</td>\n",
       "    </tr>\n",
       "    <tr>\n",
       "      <th>...</th>\n",
       "      <td>...</td>\n",
       "      <td>...</td>\n",
       "      <td>...</td>\n",
       "      <td>...</td>\n",
       "      <td>...</td>\n",
       "    </tr>\n",
       "    <tr>\n",
       "      <th>597525</th>\n",
       "      <td>1</td>\n",
       "      <td>GERMAIN</td>\n",
       "      <td>2018</td>\n",
       "      <td>75</td>\n",
       "      <td>3</td>\n",
       "    </tr>\n",
       "    <tr>\n",
       "      <th>597526</th>\n",
       "      <td>1</td>\n",
       "      <td>GERMAIN</td>\n",
       "      <td>XXXX</td>\n",
       "      <td>XX</td>\n",
       "      <td>4791</td>\n",
       "    </tr>\n",
       "    <tr>\n",
       "      <th>2432014</th>\n",
       "      <td>2</td>\n",
       "      <td>GERMAIN</td>\n",
       "      <td>1953</td>\n",
       "      <td>972</td>\n",
       "      <td>3</td>\n",
       "    </tr>\n",
       "    <tr>\n",
       "      <th>2432015</th>\n",
       "      <td>2</td>\n",
       "      <td>GERMAIN</td>\n",
       "      <td>1954</td>\n",
       "      <td>972</td>\n",
       "      <td>3</td>\n",
       "    </tr>\n",
       "    <tr>\n",
       "      <th>2432016</th>\n",
       "      <td>2</td>\n",
       "      <td>GERMAIN</td>\n",
       "      <td>XXXX</td>\n",
       "      <td>XX</td>\n",
       "      <td>120</td>\n",
       "    </tr>\n",
       "  </tbody>\n",
       "</table>\n",
       "<p>3893 rows × 5 columns</p>\n",
       "</div>"
      ],
      "text/plain": [
       "         sexe preusuel annais  dpt  nombre\n",
       "593637      1  GERMAIN   1900   02       8\n",
       "593638      1  GERMAIN   1900   04       3\n",
       "593639      1  GERMAIN   1900   06       4\n",
       "593640      1  GERMAIN   1900   07      11\n",
       "593641      1  GERMAIN   1900   09       6\n",
       "...       ...      ...    ...  ...     ...\n",
       "597525      1  GERMAIN   2018   75       3\n",
       "597526      1  GERMAIN   XXXX   XX    4791\n",
       "2432014     2  GERMAIN   1953  972       3\n",
       "2432015     2  GERMAIN   1954  972       3\n",
       "2432016     2  GERMAIN   XXXX   XX     120\n",
       "\n",
       "[3893 rows x 5 columns]"
      ]
     },
     "execution_count": 43,
     "metadata": {},
     "output_type": "execute_result"
    }
   ],
   "source": [
    "prenoms[prenoms.preusuel==\"GERMAIN\"]"
   ]
  },
  {
   "cell_type": "code",
   "execution_count": 44,
   "metadata": {},
   "outputs": [
    {
     "data": {
      "text/plain": [
       "sexe        3893\n",
       "preusuel    3893\n",
       "annais      3893\n",
       "dpt         3893\n",
       "nombre      3893\n",
       "dtype: int64"
      ]
     },
     "execution_count": 44,
     "metadata": {},
     "output_type": "execute_result"
    }
   ],
   "source": [
    "prenoms[prenoms.preusuel==\"GERMAIN\"].count()"
   ]
  },
  {
   "cell_type": "code",
   "execution_count": 45,
   "metadata": {},
   "outputs": [
    {
     "data": {
      "text/html": [
       "<div>\n",
       "<style scoped>\n",
       "    .dataframe tbody tr th:only-of-type {\n",
       "        vertical-align: middle;\n",
       "    }\n",
       "\n",
       "    .dataframe tbody tr th {\n",
       "        vertical-align: top;\n",
       "    }\n",
       "\n",
       "    .dataframe thead th {\n",
       "        text-align: right;\n",
       "    }\n",
       "</style>\n",
       "<table border=\"1\" class=\"dataframe\">\n",
       "  <thead>\n",
       "    <tr style=\"text-align: right;\">\n",
       "      <th></th>\n",
       "      <th>sexe</th>\n",
       "      <th>preusuel</th>\n",
       "      <th>annais</th>\n",
       "      <th>dpt</th>\n",
       "      <th>nombre</th>\n",
       "    </tr>\n",
       "  </thead>\n",
       "  <tbody>\n",
       "    <tr>\n",
       "      <th>0</th>\n",
       "      <td>1</td>\n",
       "      <td>A</td>\n",
       "      <td>XXXX</td>\n",
       "      <td>XX</td>\n",
       "      <td>27</td>\n",
       "    </tr>\n",
       "    <tr>\n",
       "      <th>1</th>\n",
       "      <td>1</td>\n",
       "      <td>AADAM</td>\n",
       "      <td>XXXX</td>\n",
       "      <td>XX</td>\n",
       "      <td>27</td>\n",
       "    </tr>\n",
       "    <tr>\n",
       "      <th>2</th>\n",
       "      <td>1</td>\n",
       "      <td>AADEL</td>\n",
       "      <td>XXXX</td>\n",
       "      <td>XX</td>\n",
       "      <td>55</td>\n",
       "    </tr>\n",
       "    <tr>\n",
       "      <th>5</th>\n",
       "      <td>1</td>\n",
       "      <td>AADIL</td>\n",
       "      <td>XXXX</td>\n",
       "      <td>XX</td>\n",
       "      <td>175</td>\n",
       "    </tr>\n",
       "    <tr>\n",
       "      <th>7</th>\n",
       "      <td>1</td>\n",
       "      <td>AAHIL</td>\n",
       "      <td>XXXX</td>\n",
       "      <td>XX</td>\n",
       "      <td>17</td>\n",
       "    </tr>\n",
       "    <tr>\n",
       "      <th>...</th>\n",
       "      <td>...</td>\n",
       "      <td>...</td>\n",
       "      <td>...</td>\n",
       "      <td>...</td>\n",
       "      <td>...</td>\n",
       "    </tr>\n",
       "    <tr>\n",
       "      <th>3624988</th>\n",
       "      <td>2</td>\n",
       "      <td>ÉVY</td>\n",
       "      <td>XXXX</td>\n",
       "      <td>XX</td>\n",
       "      <td>89</td>\n",
       "    </tr>\n",
       "    <tr>\n",
       "      <th>3624990</th>\n",
       "      <td>2</td>\n",
       "      <td>ÉYA</td>\n",
       "      <td>XXXX</td>\n",
       "      <td>XX</td>\n",
       "      <td>23</td>\n",
       "    </tr>\n",
       "    <tr>\n",
       "      <th>3624991</th>\n",
       "      <td>2</td>\n",
       "      <td>ÏNAYA</td>\n",
       "      <td>XXXX</td>\n",
       "      <td>XX</td>\n",
       "      <td>21</td>\n",
       "    </tr>\n",
       "    <tr>\n",
       "      <th>3624992</th>\n",
       "      <td>2</td>\n",
       "      <td>ÖZGE</td>\n",
       "      <td>XXXX</td>\n",
       "      <td>XX</td>\n",
       "      <td>30</td>\n",
       "    </tr>\n",
       "    <tr>\n",
       "      <th>3624993</th>\n",
       "      <td>2</td>\n",
       "      <td>ÖZLEM</td>\n",
       "      <td>XXXX</td>\n",
       "      <td>XX</td>\n",
       "      <td>95</td>\n",
       "    </tr>\n",
       "  </tbody>\n",
       "</table>\n",
       "<p>35608 rows × 5 columns</p>\n",
       "</div>"
      ],
      "text/plain": [
       "         sexe preusuel annais dpt  nombre\n",
       "0           1        A   XXXX  XX      27\n",
       "1           1    AADAM   XXXX  XX      27\n",
       "2           1    AADEL   XXXX  XX      55\n",
       "5           1    AADIL   XXXX  XX     175\n",
       "7           1    AAHIL   XXXX  XX      17\n",
       "...       ...      ...    ...  ..     ...\n",
       "3624988     2      ÉVY   XXXX  XX      89\n",
       "3624990     2      ÉYA   XXXX  XX      23\n",
       "3624991     2    ÏNAYA   XXXX  XX      21\n",
       "3624992     2     ÖZGE   XXXX  XX      30\n",
       "3624993     2    ÖZLEM   XXXX  XX      95\n",
       "\n",
       "[35608 rows x 5 columns]"
      ]
     },
     "execution_count": 45,
     "metadata": {},
     "output_type": "execute_result"
    }
   ],
   "source": [
    "prenoms[prenoms.dpt==\"XX\"]"
   ]
  },
  {
   "cell_type": "code",
   "execution_count": 46,
   "metadata": {},
   "outputs": [
    {
     "data": {
      "text/plain": [
       "sexe        35608\n",
       "preusuel    35607\n",
       "annais      35608\n",
       "dpt         35608\n",
       "nombre      35608\n",
       "dtype: int64"
      ]
     },
     "execution_count": 46,
     "metadata": {},
     "output_type": "execute_result"
    }
   ],
   "source": [
    "prenoms[prenoms.dpt==\"XX\"].count()"
   ]
  },
  {
   "cell_type": "code",
   "execution_count": 47,
   "metadata": {},
   "outputs": [
    {
     "data": {
      "text/plain": [
       "sexe        3589386\n",
       "preusuel    3589386\n",
       "annais      3589386\n",
       "dpt         3589386\n",
       "nombre      3589386\n",
       "dtype: int64"
      ]
     },
     "execution_count": 47,
     "metadata": {},
     "output_type": "execute_result"
    }
   ],
   "source": [
    "prenoms[prenoms.dpt != \"XX\"].count()"
   ]
  },
  {
   "cell_type": "markdown",
   "metadata": {},
   "source": [
    "### 3.5 SELECT ONE OR MORE COLUMNS"
   ]
  },
  {
   "cell_type": "code",
   "execution_count": 48,
   "metadata": {
    "scrolled": false
   },
   "outputs": [
    {
     "data": {
      "text/plain": [
       "0          1\n",
       "1          1\n",
       "2          1\n",
       "3          1\n",
       "4          1\n",
       "          ..\n",
       "3624989    2\n",
       "3624990    2\n",
       "3624991    2\n",
       "3624992    2\n",
       "3624993    2\n",
       "Name: sexe, Length: 3624994, dtype: int64"
      ]
     },
     "execution_count": 48,
     "metadata": {},
     "output_type": "execute_result"
    }
   ],
   "source": [
    "# Choix d'une colonne\n",
    "prenoms[\"sexe\"]"
   ]
  },
  {
   "cell_type": "code",
   "execution_count": 49,
   "metadata": {},
   "outputs": [
    {
     "data": {
      "text/plain": [
       "593637     1\n",
       "593638     1\n",
       "593639     1\n",
       "593640     1\n",
       "593641     1\n",
       "          ..\n",
       "597525     1\n",
       "597526     1\n",
       "2432014    2\n",
       "2432015    2\n",
       "2432016    2\n",
       "Name: sexe, Length: 3893, dtype: int64"
      ]
     },
     "execution_count": 49,
     "metadata": {},
     "output_type": "execute_result"
    }
   ],
   "source": [
    "prenoms[prenoms.preusuel==\"GERMAIN\"][\"sexe\"]"
   ]
  },
  {
   "cell_type": "code",
   "execution_count": 50,
   "metadata": {},
   "outputs": [
    {
     "data": {
      "text/html": [
       "<div>\n",
       "<style scoped>\n",
       "    .dataframe tbody tr th:only-of-type {\n",
       "        vertical-align: middle;\n",
       "    }\n",
       "\n",
       "    .dataframe tbody tr th {\n",
       "        vertical-align: top;\n",
       "    }\n",
       "\n",
       "    .dataframe thead th {\n",
       "        text-align: right;\n",
       "    }\n",
       "</style>\n",
       "<table border=\"1\" class=\"dataframe\">\n",
       "  <thead>\n",
       "    <tr style=\"text-align: right;\">\n",
       "      <th></th>\n",
       "      <th>sexe</th>\n",
       "      <th>preusuel</th>\n",
       "      <th>annais</th>\n",
       "      <th>dpt</th>\n",
       "      <th>nombre</th>\n",
       "    </tr>\n",
       "  </thead>\n",
       "  <tbody>\n",
       "    <tr>\n",
       "      <th>9823</th>\n",
       "      <td>1</td>\n",
       "      <td>ABEL</td>\n",
       "      <td>XXXX</td>\n",
       "      <td>XX</td>\n",
       "      <td>5157</td>\n",
       "    </tr>\n",
       "    <tr>\n",
       "      <th>11905</th>\n",
       "      <td>1</td>\n",
       "      <td>ACHILLE</td>\n",
       "      <td>XXXX</td>\n",
       "      <td>XX</td>\n",
       "      <td>3624</td>\n",
       "    </tr>\n",
       "    <tr>\n",
       "      <th>27318</th>\n",
       "      <td>1</td>\n",
       "      <td>ADRIEN</td>\n",
       "      <td>XXXX</td>\n",
       "      <td>XX</td>\n",
       "      <td>3123</td>\n",
       "    </tr>\n",
       "    <tr>\n",
       "      <th>34020</th>\n",
       "      <td>1</td>\n",
       "      <td>AIME</td>\n",
       "      <td>XXXX</td>\n",
       "      <td>XX</td>\n",
       "      <td>3311</td>\n",
       "    </tr>\n",
       "    <tr>\n",
       "      <th>37355</th>\n",
       "      <td>1</td>\n",
       "      <td>ALAIN</td>\n",
       "      <td>1946</td>\n",
       "      <td>75</td>\n",
       "      <td>3362</td>\n",
       "    </tr>\n",
       "    <tr>\n",
       "      <th>...</th>\n",
       "      <td>...</td>\n",
       "      <td>...</td>\n",
       "      <td>...</td>\n",
       "      <td>...</td>\n",
       "      <td>...</td>\n",
       "    </tr>\n",
       "    <tr>\n",
       "      <th>3556186</th>\n",
       "      <td>2</td>\n",
       "      <td>VICTORINE</td>\n",
       "      <td>XXXX</td>\n",
       "      <td>XX</td>\n",
       "      <td>3689</td>\n",
       "    </tr>\n",
       "    <tr>\n",
       "      <th>3560253</th>\n",
       "      <td>2</td>\n",
       "      <td>VIOLETTE</td>\n",
       "      <td>XXXX</td>\n",
       "      <td>XX</td>\n",
       "      <td>5508</td>\n",
       "    </tr>\n",
       "    <tr>\n",
       "      <th>3565046</th>\n",
       "      <td>2</td>\n",
       "      <td>VIRGINIE</td>\n",
       "      <td>XXXX</td>\n",
       "      <td>XX</td>\n",
       "      <td>3068</td>\n",
       "    </tr>\n",
       "    <tr>\n",
       "      <th>3568667</th>\n",
       "      <td>2</td>\n",
       "      <td>VIVIANE</td>\n",
       "      <td>XXXX</td>\n",
       "      <td>XX</td>\n",
       "      <td>3311</td>\n",
       "    </tr>\n",
       "    <tr>\n",
       "      <th>3580402</th>\n",
       "      <td>2</td>\n",
       "      <td>YASMINA</td>\n",
       "      <td>XXXX</td>\n",
       "      <td>XX</td>\n",
       "      <td>3248</td>\n",
       "    </tr>\n",
       "  </tbody>\n",
       "</table>\n",
       "<p>384 rows × 5 columns</p>\n",
       "</div>"
      ],
      "text/plain": [
       "         sexe   preusuel annais dpt  nombre\n",
       "9823        1       ABEL   XXXX  XX    5157\n",
       "11905       1    ACHILLE   XXXX  XX    3624\n",
       "27318       1     ADRIEN   XXXX  XX    3123\n",
       "34020       1       AIME   XXXX  XX    3311\n",
       "37355       1      ALAIN   1946  75    3362\n",
       "...       ...        ...    ...  ..     ...\n",
       "3556186     2  VICTORINE   XXXX  XX    3689\n",
       "3560253     2   VIOLETTE   XXXX  XX    5508\n",
       "3565046     2   VIRGINIE   XXXX  XX    3068\n",
       "3568667     2    VIVIANE   XXXX  XX    3311\n",
       "3580402     2    YASMINA   XXXX  XX    3248\n",
       "\n",
       "[384 rows x 5 columns]"
      ]
     },
     "execution_count": 50,
     "metadata": {},
     "output_type": "execute_result"
    }
   ],
   "source": [
    "prenoms[prenoms['nombre'] > 3000]"
   ]
  },
  {
   "cell_type": "markdown",
   "metadata": {},
   "source": [
    "### 3.6 SORT"
   ]
  },
  {
   "cell_type": "code",
   "execution_count": 51,
   "metadata": {},
   "outputs": [
    {
     "data": {
      "text/html": [
       "<div>\n",
       "<style scoped>\n",
       "    .dataframe tbody tr th:only-of-type {\n",
       "        vertical-align: middle;\n",
       "    }\n",
       "\n",
       "    .dataframe tbody tr th {\n",
       "        vertical-align: top;\n",
       "    }\n",
       "\n",
       "    .dataframe thead th {\n",
       "        text-align: right;\n",
       "    }\n",
       "</style>\n",
       "<table border=\"1\" class=\"dataframe\">\n",
       "  <thead>\n",
       "    <tr style=\"text-align: right;\">\n",
       "      <th></th>\n",
       "      <th>sexe</th>\n",
       "      <th>preusuel</th>\n",
       "      <th>annais</th>\n",
       "      <th>dpt</th>\n",
       "      <th>nombre</th>\n",
       "    </tr>\n",
       "  </thead>\n",
       "  <tbody>\n",
       "    <tr>\n",
       "      <th>0</th>\n",
       "      <td>1</td>\n",
       "      <td>A</td>\n",
       "      <td>XXXX</td>\n",
       "      <td>XX</td>\n",
       "      <td>27</td>\n",
       "    </tr>\n",
       "    <tr>\n",
       "      <th>1</th>\n",
       "      <td>1</td>\n",
       "      <td>AADAM</td>\n",
       "      <td>XXXX</td>\n",
       "      <td>XX</td>\n",
       "      <td>27</td>\n",
       "    </tr>\n",
       "    <tr>\n",
       "      <th>2</th>\n",
       "      <td>1</td>\n",
       "      <td>AADEL</td>\n",
       "      <td>XXXX</td>\n",
       "      <td>XX</td>\n",
       "      <td>55</td>\n",
       "    </tr>\n",
       "    <tr>\n",
       "      <th>3</th>\n",
       "      <td>1</td>\n",
       "      <td>AADIL</td>\n",
       "      <td>1983</td>\n",
       "      <td>84</td>\n",
       "      <td>3</td>\n",
       "    </tr>\n",
       "    <tr>\n",
       "      <th>4</th>\n",
       "      <td>1</td>\n",
       "      <td>AADIL</td>\n",
       "      <td>1992</td>\n",
       "      <td>92</td>\n",
       "      <td>3</td>\n",
       "    </tr>\n",
       "    <tr>\n",
       "      <th>...</th>\n",
       "      <td>...</td>\n",
       "      <td>...</td>\n",
       "      <td>...</td>\n",
       "      <td>...</td>\n",
       "      <td>...</td>\n",
       "    </tr>\n",
       "    <tr>\n",
       "      <th>3624992</th>\n",
       "      <td>2</td>\n",
       "      <td>ÖZGE</td>\n",
       "      <td>XXXX</td>\n",
       "      <td>XX</td>\n",
       "      <td>30</td>\n",
       "    </tr>\n",
       "    <tr>\n",
       "      <th>1678812</th>\n",
       "      <td>1</td>\n",
       "      <td>ÖZGÜR</td>\n",
       "      <td>XXXX</td>\n",
       "      <td>XX</td>\n",
       "      <td>23</td>\n",
       "    </tr>\n",
       "    <tr>\n",
       "      <th>1678813</th>\n",
       "      <td>1</td>\n",
       "      <td>ÖZKAN</td>\n",
       "      <td>XXXX</td>\n",
       "      <td>XX</td>\n",
       "      <td>22</td>\n",
       "    </tr>\n",
       "    <tr>\n",
       "      <th>3624993</th>\n",
       "      <td>2</td>\n",
       "      <td>ÖZLEM</td>\n",
       "      <td>XXXX</td>\n",
       "      <td>XX</td>\n",
       "      <td>95</td>\n",
       "    </tr>\n",
       "    <tr>\n",
       "      <th>3167492</th>\n",
       "      <td>2</td>\n",
       "      <td>NaN</td>\n",
       "      <td>XXXX</td>\n",
       "      <td>XX</td>\n",
       "      <td>31</td>\n",
       "    </tr>\n",
       "  </tbody>\n",
       "</table>\n",
       "<p>3624994 rows × 5 columns</p>\n",
       "</div>"
      ],
      "text/plain": [
       "         sexe preusuel annais dpt  nombre\n",
       "0           1        A   XXXX  XX      27\n",
       "1           1    AADAM   XXXX  XX      27\n",
       "2           1    AADEL   XXXX  XX      55\n",
       "3           1    AADIL   1983  84       3\n",
       "4           1    AADIL   1992  92       3\n",
       "...       ...      ...    ...  ..     ...\n",
       "3624992     2     ÖZGE   XXXX  XX      30\n",
       "1678812     1    ÖZGÜR   XXXX  XX      23\n",
       "1678813     1    ÖZKAN   XXXX  XX      22\n",
       "3624993     2    ÖZLEM   XXXX  XX      95\n",
       "3167492     2      NaN   XXXX  XX      31\n",
       "\n",
       "[3624994 rows x 5 columns]"
      ]
     },
     "execution_count": 51,
     "metadata": {},
     "output_type": "execute_result"
    }
   ],
   "source": [
    "prenoms.sort_values(by=\"preusuel\")"
   ]
  },
  {
   "cell_type": "code",
   "execution_count": 52,
   "metadata": {},
   "outputs": [
    {
     "data": {
      "text/html": [
       "<div>\n",
       "<style scoped>\n",
       "    .dataframe tbody tr th:only-of-type {\n",
       "        vertical-align: middle;\n",
       "    }\n",
       "\n",
       "    .dataframe tbody tr th {\n",
       "        vertical-align: top;\n",
       "    }\n",
       "\n",
       "    .dataframe thead th {\n",
       "        text-align: right;\n",
       "    }\n",
       "</style>\n",
       "<table border=\"1\" class=\"dataframe\">\n",
       "  <thead>\n",
       "    <tr style=\"text-align: right;\">\n",
       "      <th></th>\n",
       "      <th>sexe</th>\n",
       "      <th>preusuel</th>\n",
       "      <th>annais</th>\n",
       "      <th>dpt</th>\n",
       "      <th>nombre</th>\n",
       "    </tr>\n",
       "  </thead>\n",
       "  <tbody>\n",
       "    <tr>\n",
       "      <th>950867</th>\n",
       "      <td>1</td>\n",
       "      <td>LINO</td>\n",
       "      <td>2012</td>\n",
       "      <td>20</td>\n",
       "      <td>3</td>\n",
       "    </tr>\n",
       "    <tr>\n",
       "      <th>3397765</th>\n",
       "      <td>2</td>\n",
       "      <td>SAMIRA</td>\n",
       "      <td>2012</td>\n",
       "      <td>72</td>\n",
       "      <td>3</td>\n",
       "    </tr>\n",
       "    <tr>\n",
       "      <th>3397764</th>\n",
       "      <td>2</td>\n",
       "      <td>SAMIRA</td>\n",
       "      <td>2012</td>\n",
       "      <td>67</td>\n",
       "      <td>3</td>\n",
       "    </tr>\n",
       "    <tr>\n",
       "      <th>3397763</th>\n",
       "      <td>2</td>\n",
       "      <td>SAMIRA</td>\n",
       "      <td>2012</td>\n",
       "      <td>38</td>\n",
       "      <td>3</td>\n",
       "    </tr>\n",
       "    <tr>\n",
       "      <th>3397762</th>\n",
       "      <td>2</td>\n",
       "      <td>SAMIRA</td>\n",
       "      <td>2012</td>\n",
       "      <td>06</td>\n",
       "      <td>3</td>\n",
       "    </tr>\n",
       "    <tr>\n",
       "      <th>...</th>\n",
       "      <td>...</td>\n",
       "      <td>...</td>\n",
       "      <td>...</td>\n",
       "      <td>...</td>\n",
       "      <td>...</td>\n",
       "    </tr>\n",
       "    <tr>\n",
       "      <th>1123654</th>\n",
       "      <td>1</td>\n",
       "      <td>MAX</td>\n",
       "      <td>XXXX</td>\n",
       "      <td>XX</td>\n",
       "      <td>5558</td>\n",
       "    </tr>\n",
       "    <tr>\n",
       "      <th>1808440</th>\n",
       "      <td>2</td>\n",
       "      <td>ANGELINE</td>\n",
       "      <td>XXXX</td>\n",
       "      <td>XX</td>\n",
       "      <td>5591</td>\n",
       "    </tr>\n",
       "    <tr>\n",
       "      <th>742602</th>\n",
       "      <td>1</td>\n",
       "      <td>JEAN</td>\n",
       "      <td>1947</td>\n",
       "      <td>75</td>\n",
       "      <td>5802</td>\n",
       "    </tr>\n",
       "    <tr>\n",
       "      <th>2107312</th>\n",
       "      <td>2</td>\n",
       "      <td>CLOTILDE</td>\n",
       "      <td>XXXX</td>\n",
       "      <td>XX</td>\n",
       "      <td>5831</td>\n",
       "    </tr>\n",
       "    <tr>\n",
       "      <th>742508</th>\n",
       "      <td>1</td>\n",
       "      <td>JEAN</td>\n",
       "      <td>1946</td>\n",
       "      <td>75</td>\n",
       "      <td>6328</td>\n",
       "    </tr>\n",
       "  </tbody>\n",
       "</table>\n",
       "<p>3624994 rows × 5 columns</p>\n",
       "</div>"
      ],
      "text/plain": [
       "         sexe  preusuel annais dpt  nombre\n",
       "950867      1      LINO   2012  20       3\n",
       "3397765     2    SAMIRA   2012  72       3\n",
       "3397764     2    SAMIRA   2012  67       3\n",
       "3397763     2    SAMIRA   2012  38       3\n",
       "3397762     2    SAMIRA   2012  06       3\n",
       "...       ...       ...    ...  ..     ...\n",
       "1123654     1       MAX   XXXX  XX    5558\n",
       "1808440     2  ANGELINE   XXXX  XX    5591\n",
       "742602      1      JEAN   1947  75    5802\n",
       "2107312     2  CLOTILDE   XXXX  XX    5831\n",
       "742508      1      JEAN   1946  75    6328\n",
       "\n",
       "[3624994 rows x 5 columns]"
      ]
     },
     "execution_count": 52,
     "metadata": {},
     "output_type": "execute_result"
    }
   ],
   "source": [
    "prenoms.sort_values(by='nombre')"
   ]
  },
  {
   "cell_type": "code",
   "execution_count": 53,
   "metadata": {},
   "outputs": [
    {
     "data": {
      "text/html": [
       "<div>\n",
       "<style scoped>\n",
       "    .dataframe tbody tr th:only-of-type {\n",
       "        vertical-align: middle;\n",
       "    }\n",
       "\n",
       "    .dataframe tbody tr th {\n",
       "        vertical-align: top;\n",
       "    }\n",
       "\n",
       "    .dataframe thead th {\n",
       "        text-align: right;\n",
       "    }\n",
       "</style>\n",
       "<table border=\"1\" class=\"dataframe\">\n",
       "  <thead>\n",
       "    <tr style=\"text-align: right;\">\n",
       "      <th></th>\n",
       "      <th>sexe</th>\n",
       "      <th>preusuel</th>\n",
       "      <th>annais</th>\n",
       "      <th>dpt</th>\n",
       "      <th>nombre</th>\n",
       "    </tr>\n",
       "  </thead>\n",
       "  <tbody>\n",
       "    <tr>\n",
       "      <th>597526</th>\n",
       "      <td>1</td>\n",
       "      <td>GERMAIN</td>\n",
       "      <td>XXXX</td>\n",
       "      <td>XX</td>\n",
       "      <td>4791</td>\n",
       "    </tr>\n",
       "    <tr>\n",
       "      <th>2838272</th>\n",
       "      <td>2</td>\n",
       "      <td>LYDIE</td>\n",
       "      <td>XXXX</td>\n",
       "      <td>XX</td>\n",
       "      <td>4870</td>\n",
       "    </tr>\n",
       "    <tr>\n",
       "      <th>691808</th>\n",
       "      <td>1</td>\n",
       "      <td>HUGUES</td>\n",
       "      <td>XXXX</td>\n",
       "      <td>XX</td>\n",
       "      <td>4878</td>\n",
       "    </tr>\n",
       "    <tr>\n",
       "      <th>2384919</th>\n",
       "      <td>2</td>\n",
       "      <td>FRANCE</td>\n",
       "      <td>XXXX</td>\n",
       "      <td>XX</td>\n",
       "      <td>4916</td>\n",
       "    </tr>\n",
       "    <tr>\n",
       "      <th>3316430</th>\n",
       "      <td>2</td>\n",
       "      <td>RACHEL</td>\n",
       "      <td>XXXX</td>\n",
       "      <td>XX</td>\n",
       "      <td>5040</td>\n",
       "    </tr>\n",
       "    <tr>\n",
       "      <th>552097</th>\n",
       "      <td>1</td>\n",
       "      <td>FÉLIX</td>\n",
       "      <td>XXXX</td>\n",
       "      <td>XX</td>\n",
       "      <td>5080</td>\n",
       "    </tr>\n",
       "    <tr>\n",
       "      <th>669783</th>\n",
       "      <td>1</td>\n",
       "      <td>HENRY</td>\n",
       "      <td>XXXX</td>\n",
       "      <td>XX</td>\n",
       "      <td>5096</td>\n",
       "    </tr>\n",
       "    <tr>\n",
       "      <th>1076909</th>\n",
       "      <td>1</td>\n",
       "      <td>MARTIAL</td>\n",
       "      <td>XXXX</td>\n",
       "      <td>XX</td>\n",
       "      <td>5131</td>\n",
       "    </tr>\n",
       "    <tr>\n",
       "      <th>2820207</th>\n",
       "      <td>2</td>\n",
       "      <td>LUCILE</td>\n",
       "      <td>XXXX</td>\n",
       "      <td>XX</td>\n",
       "      <td>5145</td>\n",
       "    </tr>\n",
       "    <tr>\n",
       "      <th>9823</th>\n",
       "      <td>1</td>\n",
       "      <td>ABEL</td>\n",
       "      <td>XXXX</td>\n",
       "      <td>XX</td>\n",
       "      <td>5157</td>\n",
       "    </tr>\n",
       "    <tr>\n",
       "      <th>2317688</th>\n",
       "      <td>2</td>\n",
       "      <td>ESTHER</td>\n",
       "      <td>XXXX</td>\n",
       "      <td>XX</td>\n",
       "      <td>5174</td>\n",
       "    </tr>\n",
       "    <tr>\n",
       "      <th>1651824</th>\n",
       "      <td>1</td>\n",
       "      <td>YVAN</td>\n",
       "      <td>XXXX</td>\n",
       "      <td>XX</td>\n",
       "      <td>5238</td>\n",
       "    </tr>\n",
       "    <tr>\n",
       "      <th>1991491</th>\n",
       "      <td>2</td>\n",
       "      <td>CARMEN</td>\n",
       "      <td>XXXX</td>\n",
       "      <td>XX</td>\n",
       "      <td>5330</td>\n",
       "    </tr>\n",
       "    <tr>\n",
       "      <th>407132</th>\n",
       "      <td>1</td>\n",
       "      <td>ELIE</td>\n",
       "      <td>XXXX</td>\n",
       "      <td>XX</td>\n",
       "      <td>5337</td>\n",
       "    </tr>\n",
       "    <tr>\n",
       "      <th>3560253</th>\n",
       "      <td>2</td>\n",
       "      <td>VIOLETTE</td>\n",
       "      <td>XXXX</td>\n",
       "      <td>XX</td>\n",
       "      <td>5508</td>\n",
       "    </tr>\n",
       "    <tr>\n",
       "      <th>1123654</th>\n",
       "      <td>1</td>\n",
       "      <td>MAX</td>\n",
       "      <td>XXXX</td>\n",
       "      <td>XX</td>\n",
       "      <td>5558</td>\n",
       "    </tr>\n",
       "    <tr>\n",
       "      <th>1808440</th>\n",
       "      <td>2</td>\n",
       "      <td>ANGELINE</td>\n",
       "      <td>XXXX</td>\n",
       "      <td>XX</td>\n",
       "      <td>5591</td>\n",
       "    </tr>\n",
       "    <tr>\n",
       "      <th>742602</th>\n",
       "      <td>1</td>\n",
       "      <td>JEAN</td>\n",
       "      <td>1947</td>\n",
       "      <td>75</td>\n",
       "      <td>5802</td>\n",
       "    </tr>\n",
       "    <tr>\n",
       "      <th>2107312</th>\n",
       "      <td>2</td>\n",
       "      <td>CLOTILDE</td>\n",
       "      <td>XXXX</td>\n",
       "      <td>XX</td>\n",
       "      <td>5831</td>\n",
       "    </tr>\n",
       "    <tr>\n",
       "      <th>742508</th>\n",
       "      <td>1</td>\n",
       "      <td>JEAN</td>\n",
       "      <td>1946</td>\n",
       "      <td>75</td>\n",
       "      <td>6328</td>\n",
       "    </tr>\n",
       "  </tbody>\n",
       "</table>\n",
       "</div>"
      ],
      "text/plain": [
       "         sexe  preusuel annais dpt  nombre\n",
       "597526      1   GERMAIN   XXXX  XX    4791\n",
       "2838272     2     LYDIE   XXXX  XX    4870\n",
       "691808      1    HUGUES   XXXX  XX    4878\n",
       "2384919     2    FRANCE   XXXX  XX    4916\n",
       "3316430     2    RACHEL   XXXX  XX    5040\n",
       "552097      1     FÉLIX   XXXX  XX    5080\n",
       "669783      1     HENRY   XXXX  XX    5096\n",
       "1076909     1   MARTIAL   XXXX  XX    5131\n",
       "2820207     2    LUCILE   XXXX  XX    5145\n",
       "9823        1      ABEL   XXXX  XX    5157\n",
       "2317688     2    ESTHER   XXXX  XX    5174\n",
       "1651824     1      YVAN   XXXX  XX    5238\n",
       "1991491     2    CARMEN   XXXX  XX    5330\n",
       "407132      1      ELIE   XXXX  XX    5337\n",
       "3560253     2  VIOLETTE   XXXX  XX    5508\n",
       "1123654     1       MAX   XXXX  XX    5558\n",
       "1808440     2  ANGELINE   XXXX  XX    5591\n",
       "742602      1      JEAN   1947  75    5802\n",
       "2107312     2  CLOTILDE   XXXX  XX    5831\n",
       "742508      1      JEAN   1946  75    6328"
      ]
     },
     "execution_count": 53,
     "metadata": {},
     "output_type": "execute_result"
    }
   ],
   "source": [
    "# SORT AND SLICE\n",
    "prenoms.sort_values(by='nombre')[-20:]"
   ]
  },
  {
   "cell_type": "code",
   "execution_count": 60,
   "metadata": {
    "scrolled": true
   },
   "outputs": [
    {
     "data": {
      "text/html": [
       "<div>\n",
       "<style scoped>\n",
       "    .dataframe tbody tr th:only-of-type {\n",
       "        vertical-align: middle;\n",
       "    }\n",
       "\n",
       "    .dataframe tbody tr th {\n",
       "        vertical-align: top;\n",
       "    }\n",
       "\n",
       "    .dataframe thead th {\n",
       "        text-align: right;\n",
       "    }\n",
       "</style>\n",
       "<table border=\"1\" class=\"dataframe\">\n",
       "  <thead>\n",
       "    <tr style=\"text-align: right;\">\n",
       "      <th></th>\n",
       "      <th>sexe</th>\n",
       "      <th>preusuel</th>\n",
       "      <th>annais</th>\n",
       "      <th>dpt</th>\n",
       "      <th>nombre</th>\n",
       "    </tr>\n",
       "  </thead>\n",
       "  <tbody>\n",
       "    <tr>\n",
       "      <th>594601</th>\n",
       "      <td>1</td>\n",
       "      <td>GERMAIN</td>\n",
       "      <td>1912</td>\n",
       "      <td>75</td>\n",
       "      <td>35</td>\n",
       "    </tr>\n",
       "    <tr>\n",
       "      <th>595629</th>\n",
       "      <td>1</td>\n",
       "      <td>GERMAIN</td>\n",
       "      <td>1927</td>\n",
       "      <td>59</td>\n",
       "      <td>36</td>\n",
       "    </tr>\n",
       "    <tr>\n",
       "      <th>594154</th>\n",
       "      <td>1</td>\n",
       "      <td>GERMAIN</td>\n",
       "      <td>1907</td>\n",
       "      <td>12</td>\n",
       "      <td>37</td>\n",
       "    </tr>\n",
       "    <tr>\n",
       "      <th>594392</th>\n",
       "      <td>1</td>\n",
       "      <td>GERMAIN</td>\n",
       "      <td>1910</td>\n",
       "      <td>19</td>\n",
       "      <td>38</td>\n",
       "    </tr>\n",
       "    <tr>\n",
       "      <th>593963</th>\n",
       "      <td>1</td>\n",
       "      <td>GERMAIN</td>\n",
       "      <td>1904</td>\n",
       "      <td>59</td>\n",
       "      <td>42</td>\n",
       "    </tr>\n",
       "    <tr>\n",
       "      <th>595095</th>\n",
       "      <td>1</td>\n",
       "      <td>GERMAIN</td>\n",
       "      <td>1920</td>\n",
       "      <td>59</td>\n",
       "      <td>43</td>\n",
       "    </tr>\n",
       "    <tr>\n",
       "      <th>595551</th>\n",
       "      <td>1</td>\n",
       "      <td>GERMAIN</td>\n",
       "      <td>1926</td>\n",
       "      <td>59</td>\n",
       "      <td>43</td>\n",
       "    </tr>\n",
       "    <tr>\n",
       "      <th>595318</th>\n",
       "      <td>1</td>\n",
       "      <td>GERMAIN</td>\n",
       "      <td>1923</td>\n",
       "      <td>59</td>\n",
       "      <td>45</td>\n",
       "    </tr>\n",
       "    <tr>\n",
       "      <th>2432016</th>\n",
       "      <td>2</td>\n",
       "      <td>GERMAIN</td>\n",
       "      <td>XXXX</td>\n",
       "      <td>XX</td>\n",
       "      <td>120</td>\n",
       "    </tr>\n",
       "    <tr>\n",
       "      <th>597526</th>\n",
       "      <td>1</td>\n",
       "      <td>GERMAIN</td>\n",
       "      <td>XXXX</td>\n",
       "      <td>XX</td>\n",
       "      <td>4791</td>\n",
       "    </tr>\n",
       "  </tbody>\n",
       "</table>\n",
       "</div>"
      ],
      "text/plain": [
       "         sexe preusuel annais dpt  nombre\n",
       "594601      1  GERMAIN   1912  75      35\n",
       "595629      1  GERMAIN   1927  59      36\n",
       "594154      1  GERMAIN   1907  12      37\n",
       "594392      1  GERMAIN   1910  19      38\n",
       "593963      1  GERMAIN   1904  59      42\n",
       "595095      1  GERMAIN   1920  59      43\n",
       "595551      1  GERMAIN   1926  59      43\n",
       "595318      1  GERMAIN   1923  59      45\n",
       "2432016     2  GERMAIN   XXXX  XX     120\n",
       "597526      1  GERMAIN   XXXX  XX    4791"
      ]
     },
     "execution_count": 60,
     "metadata": {},
     "output_type": "execute_result"
    }
   ],
   "source": [
    "# FILTER , SORT , SLICE\n",
    "prenoms[prenoms.preusuel==\"GERMAIN\"].sort_values(by='nombre')[-10:]\n"
   ]
  },
  {
   "cell_type": "code",
   "execution_count": 54,
   "metadata": {},
   "outputs": [
    {
     "data": {
      "text/html": [
       "<div>\n",
       "<style scoped>\n",
       "    .dataframe tbody tr th:only-of-type {\n",
       "        vertical-align: middle;\n",
       "    }\n",
       "\n",
       "    .dataframe tbody tr th {\n",
       "        vertical-align: top;\n",
       "    }\n",
       "\n",
       "    .dataframe thead th {\n",
       "        text-align: right;\n",
       "    }\n",
       "</style>\n",
       "<table border=\"1\" class=\"dataframe\">\n",
       "  <thead>\n",
       "    <tr style=\"text-align: right;\">\n",
       "      <th></th>\n",
       "      <th>sexe</th>\n",
       "      <th>preusuel</th>\n",
       "      <th>annais</th>\n",
       "      <th>dpt</th>\n",
       "      <th>nombre</th>\n",
       "    </tr>\n",
       "  </thead>\n",
       "  <tbody>\n",
       "    <tr>\n",
       "      <th>742508</th>\n",
       "      <td>1</td>\n",
       "      <td>JEAN</td>\n",
       "      <td>1946</td>\n",
       "      <td>75</td>\n",
       "      <td>6328</td>\n",
       "    </tr>\n",
       "    <tr>\n",
       "      <th>2107312</th>\n",
       "      <td>2</td>\n",
       "      <td>CLOTILDE</td>\n",
       "      <td>XXXX</td>\n",
       "      <td>XX</td>\n",
       "      <td>5831</td>\n",
       "    </tr>\n",
       "    <tr>\n",
       "      <th>742602</th>\n",
       "      <td>1</td>\n",
       "      <td>JEAN</td>\n",
       "      <td>1947</td>\n",
       "      <td>75</td>\n",
       "      <td>5802</td>\n",
       "    </tr>\n",
       "    <tr>\n",
       "      <th>1808440</th>\n",
       "      <td>2</td>\n",
       "      <td>ANGELINE</td>\n",
       "      <td>XXXX</td>\n",
       "      <td>XX</td>\n",
       "      <td>5591</td>\n",
       "    </tr>\n",
       "    <tr>\n",
       "      <th>1123654</th>\n",
       "      <td>1</td>\n",
       "      <td>MAX</td>\n",
       "      <td>XXXX</td>\n",
       "      <td>XX</td>\n",
       "      <td>5558</td>\n",
       "    </tr>\n",
       "    <tr>\n",
       "      <th>...</th>\n",
       "      <td>...</td>\n",
       "      <td>...</td>\n",
       "      <td>...</td>\n",
       "      <td>...</td>\n",
       "      <td>...</td>\n",
       "    </tr>\n",
       "    <tr>\n",
       "      <th>37823</th>\n",
       "      <td>1</td>\n",
       "      <td>ALAIN</td>\n",
       "      <td>1951</td>\n",
       "      <td>75</td>\n",
       "      <td>3014</td>\n",
       "    </tr>\n",
       "    <tr>\n",
       "      <th>3410953</th>\n",
       "      <td>2</td>\n",
       "      <td>SARA</td>\n",
       "      <td>XXXX</td>\n",
       "      <td>XX</td>\n",
       "      <td>3012</td>\n",
       "    </tr>\n",
       "    <tr>\n",
       "      <th>2009466</th>\n",
       "      <td>2</td>\n",
       "      <td>CATHERINE</td>\n",
       "      <td>1960</td>\n",
       "      <td>75</td>\n",
       "      <td>3012</td>\n",
       "    </tr>\n",
       "    <tr>\n",
       "      <th>3503564</th>\n",
       "      <td>2</td>\n",
       "      <td>SYLVIE</td>\n",
       "      <td>1964</td>\n",
       "      <td>75</td>\n",
       "      <td>3011</td>\n",
       "    </tr>\n",
       "    <tr>\n",
       "      <th>2103885</th>\n",
       "      <td>2</td>\n",
       "      <td>CLOTHILDE</td>\n",
       "      <td>XXXX</td>\n",
       "      <td>XX</td>\n",
       "      <td>3004</td>\n",
       "    </tr>\n",
       "  </tbody>\n",
       "</table>\n",
       "<p>384 rows × 5 columns</p>\n",
       "</div>"
      ],
      "text/plain": [
       "         sexe   preusuel annais dpt  nombre\n",
       "742508      1       JEAN   1946  75    6328\n",
       "2107312     2   CLOTILDE   XXXX  XX    5831\n",
       "742602      1       JEAN   1947  75    5802\n",
       "1808440     2   ANGELINE   XXXX  XX    5591\n",
       "1123654     1        MAX   XXXX  XX    5558\n",
       "...       ...        ...    ...  ..     ...\n",
       "37823       1      ALAIN   1951  75    3014\n",
       "3410953     2       SARA   XXXX  XX    3012\n",
       "2009466     2  CATHERINE   1960  75    3012\n",
       "3503564     2     SYLVIE   1964  75    3011\n",
       "2103885     2  CLOTHILDE   XXXX  XX    3004\n",
       "\n",
       "[384 rows x 5 columns]"
      ]
     },
     "execution_count": 54,
     "metadata": {},
     "output_type": "execute_result"
    }
   ],
   "source": [
    "# Reverse Order\n",
    "prenoms[prenoms['nombre'] > 3000].sort_values(by=\"nombre\", ascending=False)"
   ]
  },
  {
   "cell_type": "markdown",
   "metadata": {},
   "source": [
    "### 3.7 Aggregate"
   ]
  },
  {
   "cell_type": "code",
   "execution_count": 55,
   "metadata": {
    "scrolled": true
   },
   "outputs": [
    {
     "data": {
      "text/plain": [
       "sexe\n",
       "1    42888936\n",
       "2    42250453\n",
       "Name: nombre, dtype: int64"
      ]
     },
     "execution_count": 55,
     "metadata": {},
     "output_type": "execute_result"
    }
   ],
   "source": [
    "# GROUP BY\n",
    "prenoms.groupby(\"sexe\").nombre.sum()"
   ]
  },
  {
   "cell_type": "code",
   "execution_count": 56,
   "metadata": {},
   "outputs": [
    {
     "data": {
      "text/plain": [
       "dpt\n",
       "48      104399\n",
       "04      105739\n",
       "05      126071\n",
       "09      156535\n",
       "973     169185\n",
       "        ...   \n",
       "69     2073802\n",
       "62     2350845\n",
       "59     4175920\n",
       "75     6160048\n",
       "XX     8261688\n",
       "Name: nombre, Length: 100, dtype: int64"
      ]
     },
     "execution_count": 56,
     "metadata": {},
     "output_type": "execute_result"
    }
   ],
   "source": [
    "# Top des départements avec le plus et le moins de naissances\n",
    "prenoms.groupby(\"dpt\").nombre.sum().sort_values()"
   ]
  },
  {
   "cell_type": "code",
   "execution_count": 57,
   "metadata": {},
   "outputs": [
    {
     "data": {
      "text/plain": [
       "preusuel\n",
       "DOMINIQUE          409919\n",
       "PAUL               416412\n",
       "ROBERT             419297\n",
       "ROGER              423873\n",
       "DANIEL             435021\n",
       "MARCEL             467850\n",
       "CLAUDE             468445\n",
       "BERNARD            469399\n",
       "JACQUES            482812\n",
       "ALAIN              506899\n",
       "RENÉ               516739\n",
       "LOUIS              517774\n",
       "PHILIPPE           538661\n",
       "JEANNE             556074\n",
       "ANDRÉ              712568\n",
       "MICHEL             820459\n",
       "PIERRE             891894\n",
       "_PRENOMS_RARES    1575032\n",
       "JEAN              1917129\n",
       "MARIE             2260236\n",
       "Name: nombre, dtype: int64"
      ]
     },
     "execution_count": 57,
     "metadata": {},
     "output_type": "execute_result"
    }
   ],
   "source": [
    "# All time - All departements top 20\n",
    "prenoms.groupby(\"preusuel\").nombre.sum().sort_values()[-20:]"
   ]
  },
  {
   "cell_type": "code",
   "execution_count": 58,
   "metadata": {},
   "outputs": [
    {
     "data": {
      "text/plain": [
       "preusuel\n",
       "SCHÉRAZADE     20\n",
       "SHYM           20\n",
       "SHYMA          20\n",
       "GIANMARCO      20\n",
       "MPALY          20\n",
       "BETHEL         20\n",
       "ROMILDE        20\n",
       "GIBRYL         20\n",
       "LIRA           20\n",
       "IMRANA         20\n",
       "LIOVA          20\n",
       "SHYNNA         20\n",
       "MARC-ALBERT    20\n",
       "NOLWAN         20\n",
       "ALIHA          20\n",
       "ALIFA          20\n",
       "LIOBA          20\n",
       "GILAINE        20\n",
       "KACIA          20\n",
       "MARC'ANTO      20\n",
       "Name: nombre, dtype: int64"
      ]
     },
     "execution_count": 58,
     "metadata": {},
     "output_type": "execute_result"
    }
   ],
   "source": [
    "# All time - All departements 20 prénoms les moins donnés (*)\n",
    "prenoms.groupby(prenoms.preusuel).nombre.sum().sort_values()[:20]"
   ]
  },
  {
   "cell_type": "code",
   "execution_count": 59,
   "metadata": {},
   "outputs": [
    {
     "data": {
      "text/plain": [
       "preusuel\n",
       "LOUISE             3765\n",
       "ADAM               3885\n",
       "JADE               3977\n",
       "LUCAS              3978\n",
       "EMMA               4367\n",
       "LOUIS              4411\n",
       "LÉO                4444\n",
       "RAPHAËL            4589\n",
       "GABRIEL            5418\n",
       "_PRENOMS_RARES    53978\n",
       "Name: nombre, dtype: int64"
      ]
     },
     "execution_count": 59,
     "metadata": {},
     "output_type": "execute_result"
    }
   ],
   "source": [
    "# 10 prenoms les plus frequents de 2018\n",
    "prenoms[(prenoms.annais==\"2018\")].groupby(prenoms.preusuel).nombre.sum().sort_values()[-10:]"
   ]
  },
  {
   "cell_type": "markdown",
   "metadata": {},
   "source": [
    "### 3.8 Data \"Cleaning\""
   ]
  },
  {
   "cell_type": "markdown",
   "metadata": {},
   "source": [
    "All the lines where the number of births would have been less than 3 are condensed on a single line with dpt =XX and birth year = XXXX\n",
    "\n",
    "PLEASE BE CAREFUL: THESE LINES ARE NOT \"WRONG\" or \"INCORRECT\". They mean something that can be precious depending on the question you're asking. If you want to know something over the whole period and the whole country, you need to keep it. But in some case, they can be a problem.\n",
    "\n",
    "Let's get rid of these lines :"
   ]
  },
  {
   "cell_type": "code",
   "execution_count": 60,
   "metadata": {
    "scrolled": true
   },
   "outputs": [
    {
     "data": {
      "text/plain": [
       "sexe        35608\n",
       "preusuel    35607\n",
       "annais      35608\n",
       "dpt         35608\n",
       "nombre      35608\n",
       "dtype: int64"
      ]
     },
     "execution_count": 60,
     "metadata": {},
     "output_type": "execute_result"
    }
   ],
   "source": [
    "prenoms[(prenoms.dpt == \"XX\")].count()"
   ]
  },
  {
   "cell_type": "code",
   "execution_count": 61,
   "metadata": {},
   "outputs": [
    {
     "data": {
      "text/plain": [
       "sexe        3589386\n",
       "preusuel    3589386\n",
       "annais      3589386\n",
       "dpt         3589386\n",
       "nombre      3589386\n",
       "dtype: int64"
      ]
     },
     "execution_count": 61,
     "metadata": {},
     "output_type": "execute_result"
    }
   ],
   "source": [
    "prenoms[(prenoms.dpt != \"XX\")].count()"
   ]
  },
  {
   "cell_type": "code",
   "execution_count": 62,
   "metadata": {},
   "outputs": [
    {
     "data": {
      "text/plain": [
       "sexe        3624994\n",
       "preusuel    3624993\n",
       "annais      3624994\n",
       "dpt         3624994\n",
       "nombre      3624994\n",
       "dtype: int64"
      ]
     },
     "execution_count": 62,
     "metadata": {},
     "output_type": "execute_result"
    }
   ],
   "source": [
    "prenoms.count()"
   ]
  },
  {
   "cell_type": "code",
   "execution_count": 63,
   "metadata": {},
   "outputs": [
    {
     "data": {
      "text/plain": [
       "sexe        3589386\n",
       "preusuel    3589386\n",
       "annais      3589386\n",
       "dpt         3589386\n",
       "nombre      3589386\n",
       "dtype: int64"
      ]
     },
     "execution_count": 63,
     "metadata": {},
     "output_type": "execute_result"
    }
   ],
   "source": [
    "prenoms=prenoms[(prenoms.dpt != \"XX\")]\n",
    "prenoms.count()"
   ]
  },
  {
   "cell_type": "code",
   "execution_count": 64,
   "metadata": {
    "scrolled": true
   },
   "outputs": [
    {
     "data": {
      "text/plain": [
       "<AxesSubplot:xlabel='annais'>"
      ]
     },
     "execution_count": 64,
     "metadata": {},
     "output_type": "execute_result"
    },
    {
     "data": {
      "image/png": "[encoded data removed]",
      "text/plain": [
       "<Figure size 432x288 with 1 Axes>"
      ]
     },
     "metadata": {
      "needs_background": "light"
     },
     "output_type": "display_data"
    }
   ],
   "source": [
    "prenoms[(prenoms.preusuel==\"PAUL\")].groupby(\"annais\").nombre.sum().plot()"
   ]
  },
  {
   "cell_type": "markdown",
   "metadata": {},
   "source": [
    "PLEASE NOTE that the red warning message given by python is a known bug that should be fixed in the next release ( https://github.com/pandas-dev/pandas/issues/35684 )"
   ]
  },
  {
   "cell_type": "code",
   "execution_count": 65,
   "metadata": {},
   "outputs": [
    {
     "data": {
      "text/plain": [
       "<AxesSubplot:xlabel='annais'>"
      ]
     },
     "execution_count": 65,
     "metadata": {},
     "output_type": "execute_result"
    },
    {
     "data": {
      "image/png": "[encoded data removed]",
      "text/plain": [
       "<Figure size 3000x1200 with 1 Axes>"
      ]
     },
     "metadata": {
      "needs_background": "light"
     },
     "output_type": "display_data"
    }
   ],
   "source": [
    "plt.rcParams['figure.figsize'] = [15, 6] # Taille du graphique en pouces\n",
    "plt.rcParams['figure.dpi'] = 200 # résolution en points par pouce\n",
    "prenoms[(prenoms.preusuel==\"PAUL\")].groupby(\"annais\").nombre.sum().plot()"
   ]
  },
  {
   "cell_type": "code",
   "execution_count": 66,
   "metadata": {},
   "outputs": [
    {
     "data": {
      "text/plain": [
       "<AxesSubplot:xlabel='annais'>"
      ]
     },
     "execution_count": 66,
     "metadata": {},
     "output_type": "execute_result"
    },
    {
     "data": {
      "image/png": "[encoded data removed]",
      "text/plain": [
       "<Figure size 3000x1200 with 1 Axes>"
      ]
     },
     "metadata": {
      "needs_background": "light"
     },
     "output_type": "display_data"
    }
   ],
   "source": [
    "prenoms[(prenoms.preusuel==\"MARIE\")].groupby(\"annais\").nombre.sum().plot()"
   ]
  },
  {
   "cell_type": "code",
   "execution_count": 67,
   "metadata": {
    "scrolled": true
   },
   "outputs": [
    {
     "data": {
      "text/plain": [
       "<AxesSubplot:xlabel='annais'>"
      ]
     },
     "execution_count": 67,
     "metadata": {},
     "output_type": "execute_result"
    },
    {
     "data": {
      "image/png": "[encoded data removed]",
      "text/plain": [
       "<Figure size 3000x1200 with 1 Axes>"
      ]
     },
     "metadata": {
      "needs_background": "light"
     },
     "output_type": "display_data"
    }
   ],
   "source": [
    "prenoms[(prenoms.preusuel==\"KEVIN\")].groupby(\"annais\").nombre.sum().plot()"
   ]
  },
  {
   "cell_type": "code",
   "execution_count": 68,
   "metadata": {},
   "outputs": [
    {
     "data": {
      "text/html": [
       "<div>\n",
       "<style scoped>\n",
       "    .dataframe tbody tr th:only-of-type {\n",
       "        vertical-align: middle;\n",
       "    }\n",
       "\n",
       "    .dataframe tbody tr th {\n",
       "        vertical-align: top;\n",
       "    }\n",
       "\n",
       "    .dataframe thead th {\n",
       "        text-align: right;\n",
       "    }\n",
       "</style>\n",
       "<table border=\"1\" class=\"dataframe\">\n",
       "  <thead>\n",
       "    <tr style=\"text-align: right;\">\n",
       "      <th></th>\n",
       "      <th>sexe</th>\n",
       "      <th>preusuel</th>\n",
       "      <th>annais</th>\n",
       "      <th>dpt</th>\n",
       "      <th>nombre</th>\n",
       "    </tr>\n",
       "  </thead>\n",
       "  <tbody>\n",
       "    <tr>\n",
       "      <th>566481</th>\n",
       "      <td>1</td>\n",
       "      <td>GAETAN</td>\n",
       "      <td>2010</td>\n",
       "      <td>06</td>\n",
       "      <td>4</td>\n",
       "    </tr>\n",
       "    <tr>\n",
       "      <th>566512</th>\n",
       "      <td>1</td>\n",
       "      <td>GAETAN</td>\n",
       "      <td>2010</td>\n",
       "      <td>974</td>\n",
       "      <td>6</td>\n",
       "    </tr>\n",
       "    <tr>\n",
       "      <th>566511</th>\n",
       "      <td>1</td>\n",
       "      <td>GAETAN</td>\n",
       "      <td>2010</td>\n",
       "      <td>95</td>\n",
       "      <td>5</td>\n",
       "    </tr>\n",
       "    <tr>\n",
       "      <th>566510</th>\n",
       "      <td>1</td>\n",
       "      <td>GAETAN</td>\n",
       "      <td>2010</td>\n",
       "      <td>94</td>\n",
       "      <td>3</td>\n",
       "    </tr>\n",
       "    <tr>\n",
       "      <th>566509</th>\n",
       "      <td>1</td>\n",
       "      <td>GAETAN</td>\n",
       "      <td>2010</td>\n",
       "      <td>92</td>\n",
       "      <td>4</td>\n",
       "    </tr>\n",
       "    <tr>\n",
       "      <th>...</th>\n",
       "      <td>...</td>\n",
       "      <td>...</td>\n",
       "      <td>...</td>\n",
       "      <td>...</td>\n",
       "      <td>...</td>\n",
       "    </tr>\n",
       "    <tr>\n",
       "      <th>566582</th>\n",
       "      <td>1</td>\n",
       "      <td>GAETAN</td>\n",
       "      <td>2016</td>\n",
       "      <td>44</td>\n",
       "      <td>3</td>\n",
       "    </tr>\n",
       "    <tr>\n",
       "      <th>566580</th>\n",
       "      <td>1</td>\n",
       "      <td>GAETAN</td>\n",
       "      <td>2016</td>\n",
       "      <td>13</td>\n",
       "      <td>6</td>\n",
       "    </tr>\n",
       "    <tr>\n",
       "      <th>566583</th>\n",
       "      <td>1</td>\n",
       "      <td>GAETAN</td>\n",
       "      <td>2016</td>\n",
       "      <td>51</td>\n",
       "      <td>7</td>\n",
       "    </tr>\n",
       "    <tr>\n",
       "      <th>566584</th>\n",
       "      <td>1</td>\n",
       "      <td>GAETAN</td>\n",
       "      <td>2017</td>\n",
       "      <td>13</td>\n",
       "      <td>5</td>\n",
       "    </tr>\n",
       "    <tr>\n",
       "      <th>566585</th>\n",
       "      <td>1</td>\n",
       "      <td>GAETAN</td>\n",
       "      <td>2017</td>\n",
       "      <td>31</td>\n",
       "      <td>8</td>\n",
       "    </tr>\n",
       "  </tbody>\n",
       "</table>\n",
       "<p>105 rows × 5 columns</p>\n",
       "</div>"
      ],
      "text/plain": [
       "        sexe preusuel annais  dpt  nombre\n",
       "566481     1   GAETAN   2010   06       4\n",
       "566512     1   GAETAN   2010  974       6\n",
       "566511     1   GAETAN   2010   95       5\n",
       "566510     1   GAETAN   2010   94       3\n",
       "566509     1   GAETAN   2010   92       4\n",
       "...      ...      ...    ...  ...     ...\n",
       "566582     1   GAETAN   2016   44       3\n",
       "566580     1   GAETAN   2016   13       6\n",
       "566583     1   GAETAN   2016   51       7\n",
       "566584     1   GAETAN   2017   13       5\n",
       "566585     1   GAETAN   2017   31       8\n",
       "\n",
       "[105 rows x 5 columns]"
      ]
     },
     "execution_count": 68,
     "metadata": {},
     "output_type": "execute_result"
    }
   ],
   "source": [
    "prenoms[prenoms.preusuel==\"GAETAN\"].sort_values(by='annais')"
   ]
  },
  {
   "cell_type": "code",
   "execution_count": 69,
   "metadata": {},
   "outputs": [
    {
     "data": {
      "text/html": [
       "<div>\n",
       "<style scoped>\n",
       "    .dataframe tbody tr th:only-of-type {\n",
       "        vertical-align: middle;\n",
       "    }\n",
       "\n",
       "    .dataframe tbody tr th {\n",
       "        vertical-align: top;\n",
       "    }\n",
       "\n",
       "    .dataframe thead th {\n",
       "        text-align: right;\n",
       "    }\n",
       "</style>\n",
       "<table border=\"1\" class=\"dataframe\">\n",
       "  <thead>\n",
       "    <tr style=\"text-align: right;\">\n",
       "      <th></th>\n",
       "      <th>sexe</th>\n",
       "      <th>preusuel</th>\n",
       "      <th>annais</th>\n",
       "      <th>dpt</th>\n",
       "      <th>nombre</th>\n",
       "    </tr>\n",
       "  </thead>\n",
       "  <tbody>\n",
       "    <tr>\n",
       "      <th>566585</th>\n",
       "      <td>1</td>\n",
       "      <td>GAETAN</td>\n",
       "      <td>2017</td>\n",
       "      <td>31</td>\n",
       "      <td>8</td>\n",
       "    </tr>\n",
       "    <tr>\n",
       "      <th>566584</th>\n",
       "      <td>1</td>\n",
       "      <td>GAETAN</td>\n",
       "      <td>2017</td>\n",
       "      <td>13</td>\n",
       "      <td>5</td>\n",
       "    </tr>\n",
       "    <tr>\n",
       "      <th>566583</th>\n",
       "      <td>1</td>\n",
       "      <td>GAETAN</td>\n",
       "      <td>2016</td>\n",
       "      <td>51</td>\n",
       "      <td>7</td>\n",
       "    </tr>\n",
       "    <tr>\n",
       "      <th>566582</th>\n",
       "      <td>1</td>\n",
       "      <td>GAETAN</td>\n",
       "      <td>2016</td>\n",
       "      <td>44</td>\n",
       "      <td>3</td>\n",
       "    </tr>\n",
       "    <tr>\n",
       "      <th>566581</th>\n",
       "      <td>1</td>\n",
       "      <td>GAETAN</td>\n",
       "      <td>2016</td>\n",
       "      <td>31</td>\n",
       "      <td>10</td>\n",
       "    </tr>\n",
       "    <tr>\n",
       "      <th>...</th>\n",
       "      <td>...</td>\n",
       "      <td>...</td>\n",
       "      <td>...</td>\n",
       "      <td>...</td>\n",
       "      <td>...</td>\n",
       "    </tr>\n",
       "    <tr>\n",
       "      <th>566509</th>\n",
       "      <td>1</td>\n",
       "      <td>GAETAN</td>\n",
       "      <td>2010</td>\n",
       "      <td>92</td>\n",
       "      <td>4</td>\n",
       "    </tr>\n",
       "    <tr>\n",
       "      <th>566510</th>\n",
       "      <td>1</td>\n",
       "      <td>GAETAN</td>\n",
       "      <td>2010</td>\n",
       "      <td>94</td>\n",
       "      <td>3</td>\n",
       "    </tr>\n",
       "    <tr>\n",
       "      <th>566511</th>\n",
       "      <td>1</td>\n",
       "      <td>GAETAN</td>\n",
       "      <td>2010</td>\n",
       "      <td>95</td>\n",
       "      <td>5</td>\n",
       "    </tr>\n",
       "    <tr>\n",
       "      <th>566512</th>\n",
       "      <td>1</td>\n",
       "      <td>GAETAN</td>\n",
       "      <td>2010</td>\n",
       "      <td>974</td>\n",
       "      <td>6</td>\n",
       "    </tr>\n",
       "    <tr>\n",
       "      <th>566481</th>\n",
       "      <td>1</td>\n",
       "      <td>GAETAN</td>\n",
       "      <td>2010</td>\n",
       "      <td>06</td>\n",
       "      <td>4</td>\n",
       "    </tr>\n",
       "  </tbody>\n",
       "</table>\n",
       "<p>105 rows × 5 columns</p>\n",
       "</div>"
      ],
      "text/plain": [
       "        sexe preusuel annais  dpt  nombre\n",
       "566585     1   GAETAN   2017   31       8\n",
       "566584     1   GAETAN   2017   13       5\n",
       "566583     1   GAETAN   2016   51       7\n",
       "566582     1   GAETAN   2016   44       3\n",
       "566581     1   GAETAN   2016   31      10\n",
       "...      ...      ...    ...  ...     ...\n",
       "566509     1   GAETAN   2010   92       4\n",
       "566510     1   GAETAN   2010   94       3\n",
       "566511     1   GAETAN   2010   95       5\n",
       "566512     1   GAETAN   2010  974       6\n",
       "566481     1   GAETAN   2010   06       4\n",
       "\n",
       "[105 rows x 5 columns]"
      ]
     },
     "execution_count": 69,
     "metadata": {},
     "output_type": "execute_result"
    }
   ],
   "source": [
    "prenoms[prenoms.preusuel==\"GAETAN\"].sort_values(by='annais',ascending=False)"
   ]
  },
  {
   "cell_type": "markdown",
   "metadata": {},
   "source": [
    "### 3.9 Pivot table\n",
    "\n",
    "\n",
    "A pivot table allows you to create new tables to display data aggregates.\n",
    "You need to tell pandas \n",
    "- what data will be aggregated (number of births ? year of birth ?)\n",
    "- what to display in columns\n",
    "- what to display in lines\n",
    "- what calculation to make on the aggregate data ( sum, average..\n"
   ]
  },
  {
   "cell_type": "code",
   "execution_count": 93,
   "metadata": {
    "scrolled": true
   },
   "outputs": [
    {
     "data": {
      "text/html": [
       "<div>\n",
       "<style scoped>\n",
       "    .dataframe tbody tr th:only-of-type {\n",
       "        vertical-align: middle;\n",
       "    }\n",
       "\n",
       "    .dataframe tbody tr th {\n",
       "        vertical-align: top;\n",
       "    }\n",
       "\n",
       "    .dataframe thead th {\n",
       "        text-align: right;\n",
       "    }\n",
       "</style>\n",
       "<table border=\"1\" class=\"dataframe\">\n",
       "  <thead>\n",
       "    <tr style=\"text-align: right;\">\n",
       "      <th>sexe</th>\n",
       "      <th>1</th>\n",
       "      <th>2</th>\n",
       "    </tr>\n",
       "    <tr>\n",
       "      <th>annais</th>\n",
       "      <th></th>\n",
       "      <th></th>\n",
       "    </tr>\n",
       "  </thead>\n",
       "  <tbody>\n",
       "    <tr>\n",
       "      <th>1946</th>\n",
       "      <td>433711</td>\n",
       "      <td>405088</td>\n",
       "    </tr>\n",
       "  </tbody>\n",
       "</table>\n",
       "</div>"
      ],
      "text/plain": [
       "sexe         1       2\n",
       "annais                \n",
       "1946    433711  405088"
      ]
     },
     "execution_count": 93,
     "metadata": {},
     "output_type": "execute_result"
    }
   ],
   "source": [
    "# TABLE OF THE TOTAL NUMBER OF BOYS BIRTHS AND GIRLS BIRTHS PER YEAR \n",
    "total_naissances=prenoms.pivot_table('nombre',index='annais',columns='sexe',aggfunc=sum)\n",
    "#total_naissances[total_naissances.annais==\"1925\"] IS ERROR !\n",
    "# EXPLAIN WHY. \n",
    "total_naissances[total_naissances.index==\"1946\"]"
   ]
  },
  {
   "cell_type": "markdown",
   "metadata": {},
   "source": [
    "And, of course, you can diplay plots using this new table :"
   ]
  },
  {
   "cell_type": "code",
   "execution_count": 78,
   "metadata": {
    "scrolled": true
   },
   "outputs": [
    {
     "name": "stderr",
     "output_type": "stream",
     "text": [
      "/usr/local/lib/python3.7/site-packages/pandas/plotting/_matplotlib/core.py:1235: UserWarning: FixedFormatter should only be used together with FixedLocator\n",
      "  ax.set_xticklabels(xticklabels)\n"
     ]
    },
    {
     "data": {
      "text/plain": [
       "<AxesSubplot:title={'center':'total naissances par genre et par an *'}, xlabel='annais'>"
      ]
     },
     "execution_count": 78,
     "metadata": {},
     "output_type": "execute_result"
    },
    {
     "data": {
      "image/png": "[encoded data removed]",
      "text/plain": [
       "<Figure size 3000x1200 with 1 Axes>"
      ]
     },
     "metadata": {
      "needs_background": "light"
     },
     "output_type": "display_data"
    }
   ],
   "source": [
    "total_naissances.plot(title=\"total naissances par genre et par an *\")"
   ]
  },
  {
   "cell_type": "markdown",
   "metadata": {},
   "source": [
    "# 4 a few tips for loading your files  "
   ]
  },
  {
   "cell_type": "markdown",
   "metadata": {},
   "source": [
    "Most of the time, problems come from the text encoding of the dataset, or to be more precise, from the fact that pandas can't guess the encoding of the file.\n",
    "\n",
    "To find what is the encoding of your file, on mac or linux, use the \"file\" command line tool\n",
    "On windows, you could read this stackoverflow thread : https://stackoverflow.com/questions/3710374/get-encoding-of-a-file-in-windows\n",
    "\n",
    "then give to read_csv the good encoding parameter :"
   ]
  },
  {
   "cell_type": "code",
   "execution_count": null,
   "metadata": {},
   "outputs": [],
   "source": [
    "data = pd.read_csv(\"nameofmydataset.csv\",sep=\";\",encoding='iso-8859-1')"
   ]
  },
  {
   "cell_type": "markdown",
   "metadata": {},
   "source": [
    "Sometimes some lines are just corrupted :"
   ]
  },
  {
   "cell_type": "code",
   "execution_count": null,
   "metadata": {},
   "outputs": [],
   "source": [
    "data = pd.read_csv('nameofmydataset.csv', error_bad_lines=False)"
   ]
  },
  {
   "cell_type": "markdown",
   "metadata": {},
   "source": [
    "\n",
    "---\n",
    "**EXERCISE 2**\n",
    "\n",
    "\n",
    "\n",
    "### Find a dataset you understand\n",
    "\n",
    "PLEASE BE CAREFUL : do not choose a dataset made for predictive analysis ( MNIST, Fashion MNIST, all Keras datasets...) , but a dataset made for descriptive analysis like the one we used in TD1 : historical log of meteo, pollution, traffic measurements, demographics or sports data... Any historical data should fit ( but this does not mean that data must be historical..)\n",
    "\n",
    "### Import it into pandas, into a Jupyter Notebook.\n",
    "### Find and answer 3 questions to ask using pandas, including aggregates.\n",
    "### Find and display 3 plots using matplotlib, including pivot tables.\n",
    "### Publish your notebook on GitHub or Collab\n",
    "### I will ask some of you to show it and talk about it in the classroom..\n",
    "\n",
    "<br>\n",
    "<br>\n",
    "<br>\n",
    "<br>\n",
    "<br>\n",
    "<br>\n",
    "<br>\n",
    "<br>\n",
    "<br>\n",
    "<br>\n",
    "<br>\n",
    "<br>\n",
    "<br>\n",
    "<br>\n",
    "<br>\n",
    "<br>\n",
    "<br>\n",
    "<br>\n",
    "<br>\n",
    "<br>\n",
    "<br>\n",
    "<br>\n",
    "<br>\n",
    "<br>\n",
    "<br>\n",
    "<br>\n",
    "<br>\n",
    "<br>\n",
    "<br>\n",
    "<br>\n",
    "<br>"
   ]
  },
  {
   "cell_type": "code",
   "execution_count": null,
   "metadata": {},
   "outputs": [],
   "source": []
  }
 ],
 "metadata": {
  "celltoolbar": "Format de la Cellule Texte Brut",
  "kernelspec": {
   "display_name": "Python 3",
   "language": "python",
   "name": "python3"
  },
  "language_info": {
   "codemirror_mode": {
    "name": "ipython",
    "version": 3
   },
   "file_extension": ".py",
   "mimetype": "text/x-python",
   "name": "python",
   "nbconvert_exporter": "python",
   "pygments_lexer": "ipython3",
   "version": "3.8.5"
  }
 },
 "nbformat": 4,
 "nbformat_minor": 4
}
