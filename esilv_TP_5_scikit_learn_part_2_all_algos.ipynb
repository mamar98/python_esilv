{
 "cells": [
  {
   "cell_type": "markdown",
   "metadata": {},
   "source": [
    "# Scikit Learn"
   ]
  },
  {
   "cell_type": "markdown",
   "metadata": {},
   "source": [
    "# Régression sur le prix des maisons à boston"
   ]
  },
  {
   "cell_type": "markdown",
   "metadata": {},
   "source": [
    "## 1) Import de dataset"
   ]
  },
  {
   "cell_type": "code",
   "execution_count": 1,
   "metadata": {},
   "outputs": [],
   "source": [
    "from sklearn import datasets"
   ]
  },
  {
   "cell_type": "code",
   "execution_count": 2,
   "metadata": {},
   "outputs": [],
   "source": [
    "digits = datasets.load_digits()\n",
    "X = digits.data\n",
    "y = digits.target\n",
    "\n",
    "boston = datasets.load_boston()\n",
    "X = boston[\"data\"]\n",
    "y = boston[\"target\"]\n",
    "\n"
   ]
  },
  {
   "cell_type": "markdown",
   "metadata": {},
   "source": [
    "## 2) separer le jeu d'apprentissage du jeu de test"
   ]
  },
  {
   "cell_type": "code",
   "execution_count": 3,
   "metadata": {},
   "outputs": [],
   "source": [
    "from sklearn.model_selection import train_test_split"
   ]
  },
  {
   "cell_type": "code",
   "execution_count": 4,
   "metadata": {},
   "outputs": [],
   "source": [
    "X_train, X_test, y_train, y_test = train_test_split(X, y, test_size=0.33)"
   ]
  },
  {
   "cell_type": "markdown",
   "metadata": {},
   "source": [
    "## 3) Standardiser les valeurs"
   ]
  },
  {
   "cell_type": "code",
   "execution_count": 5,
   "metadata": {},
   "outputs": [],
   "source": [
    "from sklearn.preprocessing import StandardScaler\n",
    "scaler = StandardScaler()\n",
    "scaler.fit(X_train)                 # Il ne faut fiter que sur les data d'entrainement\n",
    "X_train = scaler.transform(X_train)\n",
    "X_test  = scaler.transform(X_test)  # apply same transformation to test data"
   ]
  },
  {
   "cell_type": "markdown",
   "metadata": {},
   "source": [
    "## 4) choisir un algo et le tester\n",
    "exemple : Support Vector Machine"
   ]
  },
  {
   "cell_type": "code",
   "execution_count": 6,
   "metadata": {},
   "outputs": [
    {
     "data": {
      "text/plain": [
       "array([0.77285459, 0.72771739, 0.56131914, 0.15056451, 0.08212844])"
      ]
     },
     "execution_count": 6,
     "metadata": {},
     "output_type": "execute_result"
    }
   ],
   "source": [
    "from sklearn import svm\n",
    "svr = svm.SVR(kernel='linear')\n",
    "\n",
    "from sklearn.model_selection import  cross_val_score\n",
    "cross_val_score(svr, X, y, n_jobs=-1)"
   ]
  },
  {
   "cell_type": "markdown",
   "metadata": {},
   "source": [
    "## 5) aller au delà des paramètres par défaut avec un grid search"
   ]
  },
  {
   "cell_type": "code",
   "execution_count": 7,
   "metadata": {},
   "outputs": [
    {
     "name": "stdout",
     "output_type": "stream",
     "text": [
      "0.5682585559159307 SVR(gamma=0.1)\n"
     ]
    }
   ],
   "source": [
    "from sklearn.model_selection import GridSearchCV\n",
    "parameters = {  'gamma' : [0.01, 0.1, 0.5]           }\n",
    "grid       = GridSearchCV(svm.SVR(), parameters, n_jobs=-1)\n",
    "grid.fit(X_train, y_train)\n",
    "print (grid.best_score_, grid.best_estimator_)"
   ]
  },
  {
   "cell_type": "markdown",
   "metadata": {},
   "source": [
    "## 5.1) affiner le grid search"
   ]
  },
  {
   "cell_type": "code",
   "execution_count": 8,
   "metadata": {},
   "outputs": [
    {
     "name": "stdout",
     "output_type": "stream",
     "text": [
      "0.6215403348380314 SVR(C=1.5, gamma=0.1)\n"
     ]
    }
   ],
   "source": [
    "parameters = {  'C'      : [0.5, 1, 1.5]             ,\n",
    "                'gamma'  : [0.5, 0.1, 0.15]      }\n",
    "grid = GridSearchCV(svm.SVR(), parameters, n_jobs=-1)\n",
    "grid.fit(X_train, y_train)\n",
    "print (grid.best_score_, grid.best_estimator_)"
   ]
  },
  {
   "cell_type": "code",
   "execution_count": 9,
   "metadata": {},
   "outputs": [
    {
     "name": "stdout",
     "output_type": "stream",
     "text": [
      "0.7048020987910757 SVR(C=2.5, gamma=0.05)\n"
     ]
    }
   ],
   "source": [
    "parameters = {  'C'      : [1.5, 2, 2.5]   ,\n",
    "                'kernel' : ['rbf', 'poly', 'sigmoid'],\n",
    "                'gamma'  : [ 0.05, 0.10, 0.15] }\n",
    "grid = GridSearchCV(svm.SVR(), parameters, n_jobs=-1)\n",
    "grid.fit(X_train, y_train)\n",
    "print (grid.best_score_, grid.best_estimator_)\n"
   ]
  },
  {
   "cell_type": "code",
   "execution_count": 10,
   "metadata": {},
   "outputs": [
    {
     "name": "stdout",
     "output_type": "stream",
     "text": [
      "0.7412556912264312 SVR(C=4, degree=1, gamma=0.07)\n"
     ]
    }
   ],
   "source": [
    "parameters = {  'C'       : [2.5, 3, 4]   ,\n",
    "                'kernel'  : ['rbf', 'poly', 'sigmoid'],\n",
    "                'gamma'   : [ 0.01, 0.05, 0.07],\n",
    "                 \"degree\" : [1,3,5]}\n",
    "grid = GridSearchCV(svm.SVR(), parameters, n_jobs=-1)\n",
    "grid.fit(X_train, y_train)\n",
    "print (grid.best_score_, grid.best_estimator_)\n"
   ]
  },
  {
   "cell_type": "code",
   "execution_count": 11,
   "metadata": {},
   "outputs": [
    {
     "name": "stdout",
     "output_type": "stream",
     "text": [
      "0.7781726495133967 SVR(C=7, degree=1, gamma=0.07)\n"
     ]
    }
   ],
   "source": [
    "parameters = {  'C'       : [4, 5, 6, 7]   ,\n",
    "                'kernel'  : ['rbf'],\n",
    "                'gamma'   : [ 0.03, 0.05, 0.07],\n",
    "                 \"degree\" : [1,2, 3]}\n",
    "grid = GridSearchCV(svm.SVR(), parameters, n_jobs=-1)\n",
    "grid.fit(X_train, y_train)\n",
    "print (grid.best_score_, grid.best_estimator_)\n"
   ]
  },
  {
   "cell_type": "code",
   "execution_count": 12,
   "metadata": {},
   "outputs": [
    {
     "name": "stdout",
     "output_type": "stream",
     "text": [
      "0.8055240262132555 SVR(C=30, degree=1, epsilon=0.15, gamma=0.03)\n"
     ]
    }
   ],
   "source": [
    "parameters = {  'C'       : [10, 15, 20, 30]   ,\n",
    "                'kernel'  : ['rbf'],\n",
    "                'gamma'   : [ 0.03],\n",
    "                  \"epsilon\" : [0.01, 0.05, 0.15],\n",
    "                 \"degree\" : [1,2]}\n",
    "grid = GridSearchCV(svm.SVR(), parameters, n_jobs=-1)\n",
    "grid.fit(X_train, y_train)\n",
    "print (grid.best_score_, grid.best_estimator_)\n"
   ]
  },
  {
   "cell_type": "code",
   "execution_count": 13,
   "metadata": {},
   "outputs": [
    {
     "name": "stdout",
     "output_type": "stream",
     "text": [
      "0.8408296659493926 SVR(C=190, degree=1, epsilon=2.5, gamma=0.03)\n"
     ]
    }
   ],
   "source": [
    "parameters = {  'C'       : [190, 200, 250, 260]   ,\n",
    "                'kernel'  : ['rbf'],\n",
    "                'gamma'   : [ 0.03],\n",
    "                  \"epsilon\" : [1.5, 2, 2.5],\n",
    "                 \"degree\" : [1,2]}\n",
    "grid = GridSearchCV(svm.SVR(), parameters, n_jobs=-1)\n",
    "grid.fit(X_train, y_train)\n",
    "print (grid.best_score_, grid.best_estimator_)\n"
   ]
  },
  {
   "cell_type": "code",
   "execution_count": 14,
   "metadata": {},
   "outputs": [],
   "source": [
    "# Exercice => tester vos propres paramètres"
   ]
  },
  {
   "cell_type": "markdown",
   "metadata": {},
   "source": [
    "# On aurait pu faire une fonction de test : "
   ]
  },
  {
   "cell_type": "code",
   "execution_count": 15,
   "metadata": {},
   "outputs": [],
   "source": [
    "def test_hyperparametres(hyperparametres):\n",
    "    grid       = GridSearchCV(svm.SVR(), hyperparametres, n_jobs=-1)\n",
    "    grid.fit(X_train, y_train)\n",
    "    print (grid.best_score_, grid.best_estimator_)    \n",
    "    return grid.best_score_, grid.best_estimator_\n",
    "    "
   ]
  },
  {
   "cell_type": "code",
   "execution_count": 16,
   "metadata": {},
   "outputs": [
    {
     "name": "stdout",
     "output_type": "stream",
     "text": [
      "0.830943306196208 SVR(C=105, gamma=0.1)\n"
     ]
    },
    {
     "data": {
      "text/plain": [
       "(0.830943306196208, SVR(C=105, gamma=0.1))"
      ]
     },
     "execution_count": 16,
     "metadata": {},
     "output_type": "execute_result"
    }
   ],
   "source": [
    "hyperparametres = {  'gamma' : [0.01, 0.1, 0.5, 0.015]          ,\n",
    "                  \"kernel\" : ['linear', 'poly', 'rbf', 'sigmoid',  ],\n",
    "                  \"C\" : [105, 200]}\n",
    "test_hyperparametres(hyperparametres)"
   ]
  },
  {
   "cell_type": "code",
   "execution_count": 17,
   "metadata": {},
   "outputs": [],
   "source": [
    "from sklearn.linear_model import Lasso"
   ]
  },
  {
   "cell_type": "code",
   "execution_count": 18,
   "metadata": {},
   "outputs": [],
   "source": [
    "def test_hyperparametres(algo, hyperparametres):\n",
    "    grid       = grid_search.GridSearchCV(algo, hyperparametres, n_jobs=-1)\n",
    "    grid.fit(X_train, y_train)\n",
    "    print (grid.best_score_, grid.best_estimator_)    \n",
    "    return grid.best_score_, grid.best_estimator_\n"
   ]
  },
  {
   "cell_type": "code",
   "execution_count": 19,
   "metadata": {
    "scrolled": true
   },
   "outputs": [
    {
     "name": "stdout",
     "output_type": "stream",
     "text": [
      "0.6768745262580209 Lasso(alpha=0.1, selection='random')\n"
     ]
    }
   ],
   "source": [
    "algo = Lasso()\n",
    "params = {\"max_iter\" : [ 1000],\n",
    "         \"alpha\" : [0.1], \n",
    "         \"selection\": [\"random\", \"cyclic\"]}\n",
    "grid       = GridSearchCV(algo, params, n_jobs=-1)\n",
    "grid.fit(X_train, y_train)\n",
    "print (grid.best_score_, grid.best_estimator_)    \n"
   ]
  },
  {
   "cell_type": "markdown",
   "metadata": {},
   "source": [
    "# Import de xgboost"
   ]
  },
  {
   "cell_type": "code",
   "execution_count": 20,
   "metadata": {},
   "outputs": [
    {
     "name": "stdout",
     "output_type": "stream",
     "text": [
      "Collecting xgboost\n",
      "  Downloading xgboost-1.4.1-py3-none-win_amd64.whl (97.8 MB)\n",
      "Requirement already satisfied: scipy in c:\\users\\user\\anaconda3\\lib\\site-packages (from xgboost) (1.5.2)\n",
      "Requirement already satisfied: numpy in c:\\users\\user\\anaconda3\\lib\\site-packages (from xgboost) (1.19.2)\n",
      "Installing collected packages: xgboost\n",
      "Successfully installed xgboost-1.4.1\n"
     ]
    }
   ],
   "source": [
    "!pip install xgboost"
   ]
  },
  {
   "cell_type": "code",
   "execution_count": 21,
   "metadata": {},
   "outputs": [
    {
     "name": "stderr",
     "output_type": "stream",
     "text": [
      "'brew' n’est pas reconnu en tant que commande interne\n",
      "ou externe, un programme exécutable ou un fichier de commandes.\n"
     ]
    }
   ],
   "source": [
    "!brew install libomp"
   ]
  },
  {
   "cell_type": "code",
   "execution_count": 22,
   "metadata": {},
   "outputs": [],
   "source": [
    "from xgboost import XGBRegressor\n",
    "algo = XGBRegressor()"
   ]
  },
  {
   "cell_type": "code",
   "execution_count": 29,
   "metadata": {},
   "outputs": [
    {
     "name": "stdout",
     "output_type": "stream",
     "text": [
      "reg:squarederror\n",
      "objective reg:squarederror []\n",
      "None\n",
      "None\n",
      "None\n",
      "None\n",
      "None\n",
      "None\n",
      "None\n",
      "gain\n",
      "importance_type gain []\n",
      "None\n",
      "None\n",
      "None\n",
      "None\n",
      "None\n",
      "nan\n",
      "missing nan [nan, nan, nan]\n",
      "None\n",
      "100\n",
      "n_estimators 100 [-100, 100, 300]\n",
      "None\n",
      "None\n",
      "None\n",
      "None\n",
      "None\n",
      "None\n",
      "None\n",
      "None\n",
      "None\n",
      "None\n"
     ]
    }
   ],
   "source": [
    "default_hyperparameters = algo.get_params()\n",
    "espace_de_Recherche = {}\n",
    "valeurs_de_recherches=[]\n",
    "for i, hyperparam in enumerate(default_hyperparameters):\n",
    "    default_value = default_hyperparameters[hyperparam]\n",
    "    print(default_value)\n",
    "    if default_value:\n",
    "        \n",
    "        if type(default_value) == int:\n",
    "            delta = default_value * 2\n",
    "            valeurs_de_recherches = [default_value-delta,default_value, default_value+ delta]\n",
    "        if type(default_value) == float:\n",
    "            delta = default_value * 0.1\n",
    "            valeurs_de_recherches = [default_value-delta,default_value, default_value+ delta]\n",
    "        if type(default_value) == bool:\n",
    "            valeurs_de_recherches = [True, False]\n",
    "        espace_de_Recherche[hyperparam]=valeurs_de_recherches\n",
    "        print(hyperparam, default_value, valeurs_de_recherches)\n",
    "espace_de_Recherche[\"n_jobs\"]=[-1]"
   ]
  },
  {
   "cell_type": "code",
   "execution_count": 24,
   "metadata": {},
   "outputs": [
    {
     "data": {
      "text/plain": [
       "{'objective': 'reg:squarederror',\n",
       " 'base_score': None,\n",
       " 'booster': None,\n",
       " 'colsample_bylevel': None,\n",
       " 'colsample_bynode': None,\n",
       " 'colsample_bytree': None,\n",
       " 'gamma': None,\n",
       " 'gpu_id': None,\n",
       " 'importance_type': 'gain',\n",
       " 'interaction_constraints': None,\n",
       " 'learning_rate': None,\n",
       " 'max_delta_step': None,\n",
       " 'max_depth': None,\n",
       " 'min_child_weight': None,\n",
       " 'missing': nan,\n",
       " 'monotone_constraints': None,\n",
       " 'n_estimators': 100,\n",
       " 'n_jobs': None,\n",
       " 'num_parallel_tree': None,\n",
       " 'random_state': None,\n",
       " 'reg_alpha': None,\n",
       " 'reg_lambda': None,\n",
       " 'scale_pos_weight': None,\n",
       " 'subsample': None,\n",
       " 'tree_method': None,\n",
       " 'validate_parameters': None,\n",
       " 'verbosity': None}"
      ]
     },
     "execution_count": 24,
     "metadata": {},
     "output_type": "execute_result"
    }
   ],
   "source": [
    "default_hyperparameters"
   ]
  },
  {
   "cell_type": "code",
   "execution_count": 30,
   "metadata": {},
   "outputs": [],
   "source": [
    "def test_hyperparametres(algo, hyperparametres):\n",
    "    grid       = GridSearchCV(algo, hyperparametres, n_jobs=-1)\n",
    "    grid.fit(X_train, y_train)\n",
    "    print (grid.best_score_, grid.best_estimator_)    \n",
    "    return grid.best_score_, grid.best_estimator_\n"
   ]
  },
  {
   "cell_type": "code",
   "execution_count": 31,
   "metadata": {},
   "outputs": [
    {
     "name": "stdout",
     "output_type": "stream",
     "text": [
      "0.8357648617545967 XGBRegressor(base_score=0.5, booster='gbtree', colsample_bylevel=1,\n",
      "             colsample_bynode=1, colsample_bytree=1, gamma=0.5, gpu_id=-1,\n",
      "             importance_type='gain', interaction_constraints='',\n",
      "             learning_rate=0.300000012, max_delta_step=0, max_depth=10,\n",
      "             min_child_weight=1, missing=nan, monotone_constraints='()',\n",
      "             n_estimators=100, n_jobs=8, num_parallel_tree=1, random_state=0,\n",
      "             reg_alpha=0, reg_lambda=1, scale_pos_weight=1, subsample=1,\n",
      "             tree_method='exact', validate_parameters=1, verbosity=None)\n"
     ]
    },
    {
     "data": {
      "text/plain": [
       "(0.8357648617545967,\n",
       " XGBRegressor(base_score=0.5, booster='gbtree', colsample_bylevel=1,\n",
       "              colsample_bynode=1, colsample_bytree=1, gamma=0.5, gpu_id=-1,\n",
       "              importance_type='gain', interaction_constraints='',\n",
       "              learning_rate=0.300000012, max_delta_step=0, max_depth=10,\n",
       "              min_child_weight=1, missing=nan, monotone_constraints='()',\n",
       "              n_estimators=100, n_jobs=8, num_parallel_tree=1, random_state=0,\n",
       "              reg_alpha=0, reg_lambda=1, scale_pos_weight=1, subsample=1,\n",
       "              tree_method='exact', validate_parameters=1, verbosity=None))"
      ]
     },
     "execution_count": 31,
     "metadata": {},
     "output_type": "execute_result"
    }
   ],
   "source": [
    "espace_de_Recherche = {\n",
    "    \"max_depth\" : [1,5,10],\n",
    "    \"gamma\" : [0.5, 1, 1.1, 1.2, 1.5]\n",
    "}\n",
    "test_hyperparametres(XGBRegressor(), espace_de_Recherche)"
   ]
  },
  {
   "cell_type": "code",
   "execution_count": 32,
   "metadata": {},
   "outputs": [
    {
     "data": {
      "text/plain": [
       "0.8666173450442418"
      ]
     },
     "execution_count": 32,
     "metadata": {},
     "output_type": "execute_result"
    }
   ],
   "source": [
    "modele = algo.fit(X_train, y_train)\n",
    "\n",
    "modele.score(X_test, y_test)"
   ]
  },
  {
   "cell_type": "markdown",
   "metadata": {},
   "source": [
    "# 6) tester tous les algorithmes"
   ]
  },
  {
   "cell_type": "code",
   "execution_count": 33,
   "metadata": {},
   "outputs": [],
   "source": [
    "def get_sklearn_algorithms(verbose = False):\n",
    "    \"\"\"\n",
    "    Explore all submodule of sklearn and fetch functions having a 'fit' attribute.\n",
    "    \n",
    "    Be careful : some functions are not models (ex : crossvalidators)\n",
    "    Parameters :\n",
    "        debug = print or not stuff on console\n",
    "    Return :\n",
    "        dict : { module : [ fit_functions] }\n",
    "    \"\"\"\n",
    "    from collections import defaultdict\n",
    "    import importlib\n",
    "    import sklearn\n",
    "    algos = defaultdict(list)\n",
    "    if verbose : print (dir(sklearn))\n",
    "    for nom_module in dir(sklearn):    \n",
    "        if verbose : print (nom_module)\n",
    "        try:\n",
    "            to_import = \"sklearn.%s\"%nom_module\n",
    "            module    = importlib.import_module(to_import)\n",
    "            for nom_fonction in dir(module):\n",
    "                fonction = getattr(module, nom_fonction)\n",
    "                if hasattr(fonction, \"fit\"):\n",
    "                    if verbose : print (\" nom algorithme  = \", nom_fonction)\n",
    "                    algos[nom_module].append(fonction)                                            \n",
    "        except Exception as e:\n",
    "            if verbose : print( e)\n",
    "        if verbose: print (\"=\"*30)\n",
    "    return algos"
   ]
  },
  {
   "cell_type": "code",
   "execution_count": 34,
   "metadata": {},
   "outputs": [
    {
     "data": {
      "text/plain": [
       "defaultdict(list,\n",
       "            {'feature_extraction': [sklearn.feature_extraction._dict_vectorizer.DictVectorizer,\n",
       "              sklearn.feature_extraction._hash.FeatureHasher],\n",
       "             'linear_model': [sklearn.linear_model._bayes.ARDRegression,\n",
       "              sklearn.linear_model._bayes.BayesianRidge,\n",
       "              sklearn.linear_model._coordinate_descent.ElasticNet,\n",
       "              sklearn.linear_model._coordinate_descent.ElasticNetCV,\n",
       "              sklearn.linear_model._glm.glm.GammaRegressor,\n",
       "              sklearn.linear_model._huber.HuberRegressor,\n",
       "              sklearn.linear_model._least_angle.Lars,\n",
       "              sklearn.linear_model._least_angle.LarsCV,\n",
       "              sklearn.linear_model._coordinate_descent.Lasso,\n",
       "              sklearn.linear_model._coordinate_descent.LassoCV,\n",
       "              sklearn.linear_model._least_angle.LassoLars,\n",
       "              sklearn.linear_model._least_angle.LassoLarsCV,\n",
       "              sklearn.linear_model._least_angle.LassoLarsIC,\n",
       "              sklearn.linear_model._base.LinearRegression,\n",
       "              sklearn.linear_model._logistic.LogisticRegression,\n",
       "              sklearn.linear_model._logistic.LogisticRegressionCV,\n",
       "              sklearn.linear_model._coordinate_descent.MultiTaskElasticNet,\n",
       "              sklearn.linear_model._coordinate_descent.MultiTaskElasticNetCV,\n",
       "              sklearn.linear_model._coordinate_descent.MultiTaskLasso,\n",
       "              sklearn.linear_model._coordinate_descent.MultiTaskLassoCV,\n",
       "              sklearn.linear_model._omp.OrthogonalMatchingPursuit,\n",
       "              sklearn.linear_model._omp.OrthogonalMatchingPursuitCV,\n",
       "              sklearn.linear_model._passive_aggressive.PassiveAggressiveClassifier,\n",
       "              sklearn.linear_model._passive_aggressive.PassiveAggressiveRegressor,\n",
       "              sklearn.linear_model._perceptron.Perceptron,\n",
       "              sklearn.linear_model._glm.glm.PoissonRegressor,\n",
       "              sklearn.linear_model._ransac.RANSACRegressor,\n",
       "              sklearn.linear_model._ridge.Ridge,\n",
       "              sklearn.linear_model._ridge.RidgeCV,\n",
       "              sklearn.linear_model._ridge.RidgeClassifier,\n",
       "              sklearn.linear_model._ridge.RidgeClassifierCV,\n",
       "              sklearn.linear_model._stochastic_gradient.SGDClassifier,\n",
       "              sklearn.linear_model._stochastic_gradient.SGDRegressor,\n",
       "              sklearn.linear_model._theil_sen.TheilSenRegressor,\n",
       "              sklearn.linear_model._glm.glm.TweedieRegressor],\n",
       "             'model_selection': [sklearn.model_selection._search.GridSearchCV,\n",
       "              sklearn.model_selection._search.RandomizedSearchCV],\n",
       "             'preprocessing': [sklearn.preprocessing._data.Binarizer,\n",
       "              sklearn.preprocessing._function_transformer.FunctionTransformer,\n",
       "              sklearn.preprocessing._discretization.KBinsDiscretizer,\n",
       "              sklearn.preprocessing._data.KernelCenterer,\n",
       "              sklearn.preprocessing._label.LabelBinarizer,\n",
       "              sklearn.preprocessing._label.LabelEncoder,\n",
       "              sklearn.preprocessing._data.MaxAbsScaler,\n",
       "              sklearn.preprocessing._data.MinMaxScaler,\n",
       "              sklearn.preprocessing._label.MultiLabelBinarizer,\n",
       "              sklearn.preprocessing._data.Normalizer,\n",
       "              sklearn.preprocessing._encoders.OneHotEncoder,\n",
       "              sklearn.preprocessing._encoders.OrdinalEncoder,\n",
       "              sklearn.preprocessing._data.PolynomialFeatures,\n",
       "              sklearn.preprocessing._data.PowerTransformer,\n",
       "              sklearn.preprocessing._data.QuantileTransformer,\n",
       "              sklearn.preprocessing._data.RobustScaler,\n",
       "              sklearn.preprocessing._data.StandardScaler],\n",
       "             'svm': [sklearn.svm._classes.LinearSVC,\n",
       "              sklearn.svm._classes.LinearSVR,\n",
       "              sklearn.svm._classes.NuSVC,\n",
       "              sklearn.svm._classes.NuSVR,\n",
       "              sklearn.svm._classes.OneClassSVM,\n",
       "              sklearn.svm._classes.SVC,\n",
       "              sklearn.svm._classes.SVR,\n",
       "              <module 'sklearn.svm._libsvm' from 'C:\\\\Users\\\\User\\\\anaconda3\\\\lib\\\\site-packages\\\\sklearn\\\\svm\\\\_libsvm.cp38-win_amd64.pyd'>]})"
      ]
     },
     "execution_count": 34,
     "metadata": {},
     "output_type": "execute_result"
    }
   ],
   "source": [
    "algos = get_sklearn_algorithms()\n",
    "algos"
   ]
  },
  {
   "cell_type": "markdown",
   "metadata": {},
   "source": [
    "## Liste les algorithmes"
   ]
  },
  {
   "cell_type": "code",
   "execution_count": 35,
   "metadata": {},
   "outputs": [
    {
     "name": "stdout",
     "output_type": "stream",
     "text": [
      "\n",
      "===> feature_extraction\n",
      "DictVectorizer,FeatureHasher\n",
      "\n",
      "===> linear_model\n",
      "ARDRegression,BayesianRidge,ElasticNet,ElasticNetCV,GammaRegressor,HuberRegressor,Lars,LarsCV,Lasso,LassoCV,LassoLars,LassoLarsCV,LassoLarsIC,LinearRegression,LogisticRegression,LogisticRegressionCV,MultiTaskElasticNet,MultiTaskElasticNetCV,MultiTaskLasso,MultiTaskLassoCV,OrthogonalMatchingPursuit,OrthogonalMatchingPursuitCV,PassiveAggressiveClassifier,PassiveAggressiveRegressor,Perceptron,PoissonRegressor,RANSACRegressor,Ridge,RidgeCV,RidgeClassifier,RidgeClassifierCV,SGDClassifier,SGDRegressor,TheilSenRegressor,TweedieRegressor\n",
      "\n",
      "===> model_selection\n",
      "GridSearchCV,RandomizedSearchCV\n",
      "\n",
      "===> preprocessing\n",
      "Binarizer,FunctionTransformer,KBinsDiscretizer,KernelCenterer,LabelBinarizer,LabelEncoder,MaxAbsScaler,MinMaxScaler,MultiLabelBinarizer,Normalizer,OneHotEncoder,OrdinalEncoder,PolynomialFeatures,PowerTransformer,QuantileTransformer,RobustScaler,StandardScaler\n",
      "\n",
      "===> svm\n",
      "LinearSVC,LinearSVR,NuSVC,NuSVR,OneClassSVM,SVC,SVR,pyd\n"
     ]
    }
   ],
   "source": [
    "algos = get_sklearn_algorithms()\n",
    "for key in algos.keys():\n",
    "    print (\"\\n===>\",key)\n",
    "    algos_ = []\n",
    "    for algo in algos[key]:\n",
    "        classe_algo = str(algo)\n",
    "        nom_algo    = classe_algo[str(classe_algo).rfind(\".\")+1:str(classe_algo).rfind(\"'\")]\n",
    "        algos_.append(nom_algo)\n",
    "    print (\",\".join(algos_))"
   ]
  },
  {
   "cell_type": "markdown",
   "metadata": {},
   "source": [
    "## supprimer les warnings dans jupyter"
   ]
  },
  {
   "cell_type": "code",
   "execution_count": 36,
   "metadata": {},
   "outputs": [],
   "source": [
    "import warnings\n",
    "warnings.filterwarnings(\"ignore\", category=DeprecationWarning) "
   ]
  },
  {
   "cell_type": "markdown",
   "metadata": {},
   "source": [
    "## Utiliser chaque algo et conserver les performances"
   ]
  },
  {
   "cell_type": "code",
   "execution_count": 37,
   "metadata": {
    "scrolled": false
   },
   "outputs": [
    {
     "name": "stdout",
     "output_type": "stream",
     "text": [
      "Transforms lists of featu\n",
      "'numpy.ndarray' object has no attribute 'items'\n",
      "==============================\n",
      "Implements feature hashin\n",
      "'FeatureHasher' object has no attribute 'score'\n",
      "==============================\n",
      "Bayesian ARD regression.\n",
      "0.7663120325736036\n",
      "==============================\n",
      "Bayesian ridge regression\n",
      "0.7640617241015707\n",
      "==============================\n",
      "Linear regression with co\n",
      "0.6948559435752488\n",
      "==============================\n",
      "Elastic Net model with it\n",
      "0.7670176019595637\n",
      "==============================\n",
      "Generalized Linear Model\n",
      "0.729419636010737\n",
      "==============================\n",
      "Linear regression model t\n",
      "0.7743723274877092\n",
      "==============================\n",
      "Least Angle Regression mo\n",
      "0.757972185783555\n",
      "==============================\n",
      "Cross-validated Least Ang\n",
      "0.7669745964057882\n",
      "==============================\n",
      "Linear Model trained with\n",
      "0.7046122618423348\n",
      "==============================\n",
      "Lasso linear model with i\n",
      "0.7656320013628716\n",
      "==============================\n",
      "Lasso model fit with Leas\n",
      "-2.327633553123043e-05\n",
      "==============================\n",
      "Cross-validated Lasso, us\n",
      "0.7653780350917231\n",
      "==============================\n",
      "Lasso model fit with Lars\n",
      "0.7642987597192029\n",
      "==============================\n",
      "Ordinary least squar\n",
      "0.7579721857835547\n",
      "==============================\n",
      "Logistic Regression\n",
      "Algo de classification\n",
      "==============================\n",
      "Logistic Regression CV (a\n",
      "Algo de classification\n",
      "==============================\n",
      "Multi-task ElasticNet mod\n",
      "For mono-task outputs, use ElasticNet\n",
      "==============================\n",
      "Multi-task L1/L2 ElasticN\n",
      "For mono-task outputs, use ElasticNetCV\n",
      "==============================\n",
      "Multi-task Lasso model tr\n",
      "For mono-task outputs, use ElasticNet\n",
      "==============================\n",
      "Multi-task Lasso model tr\n",
      "For mono-task outputs, use LassoCV\n",
      "==============================\n",
      "Orthogonal Matching Pursu\n",
      "0.557480566613636\n",
      "==============================\n",
      "Cross-validated Orthogona\n",
      "0.723378893156337\n",
      "==============================\n",
      "Passive Aggressive Classi\n",
      "Algo de classification\n",
      "==============================\n",
      "Passive Aggressive Regres\n",
      "0.6957536237566302\n",
      "==============================\n",
      "Perceptron\n",
      "\n",
      "    Read more\n",
      "Algo de classification\n",
      "==============================\n",
      "Generalized Linear Model\n",
      "0.8366801340638446\n",
      "==============================\n",
      "RANSAC (RANdom SAmple Con\n",
      "0.6713736775258777\n",
      "==============================\n",
      "Linear least squares with\n",
      "0.759392584824974\n",
      "==============================\n",
      "Ridge regression with bui\n",
      "0.7593925848249856\n",
      "==============================\n",
      "Classifier using Ridge re\n",
      "Algo de classification\n",
      "==============================\n",
      "Ridge classifier with bui\n",
      "Algo de classification\n",
      "==============================\n",
      "Linear classifiers (SVM,\n",
      "Algo de classification\n",
      "==============================\n",
      "Linear model fitted by mi\n",
      "0.761581196057134\n",
      "==============================\n",
      "Theil-Sen Estimator\n",
      "0.678121895399521\n",
      "==============================\n",
      "Generalized Linear Model\n",
      "0.6855599433042725\n",
      "==============================\n",
      "__init__() missing 2 required positional arguments\n",
      "==============================\n",
      "__init__() missing 2 required positional arguments\n",
      "==============================\n",
      "Binarize data (set featur\n",
      "'Binarizer' object has no attribute 'score'\n",
      "==============================\n",
      "Constructs a transformer\n",
      "'FunctionTransformer' object has no attribute 'sco\n",
      "==============================\n",
      "Bin continuous data\n",
      "'KBinsDiscretizer' object has no attribute 'score'\n",
      "==============================\n",
      "Center a kernel matrix\n",
      "Kernel matrix must be a square matrix. Input is a \n",
      "==============================\n",
      "Binarize labels in a one-\n",
      "fit() takes 2 positional arguments but 3 were give\n",
      "==============================\n",
      "Encode target labels with\n",
      "fit() takes 2 positional arguments but 3 were give\n",
      "==============================\n",
      "Scale each feature by its\n",
      "'MaxAbsScaler' object has no attribute 'score'\n",
      "==============================\n",
      "Transform features by sca\n",
      "'MinMaxScaler' object has no attribute 'score'\n",
      "==============================\n",
      "Transform between iterabl\n",
      "fit() takes 2 positional arguments but 3 were give\n",
      "==============================\n",
      "Normalize samples individ\n",
      "'Normalizer' object has no attribute 'score'\n",
      "==============================\n",
      "Encode categorical f\n",
      "'OneHotEncoder' object has no attribute 'score'\n",
      "==============================\n",
      "Encode categorical f\n",
      "'OrdinalEncoder' object has no attribute 'score'\n",
      "==============================\n",
      "Generate polynomial and i\n",
      "'PolynomialFeatures' object has no attribute 'scor\n",
      "==============================\n",
      "Apply a power transform f\n",
      "'PowerTransformer' object has no attribute 'score'\n",
      "==============================\n",
      "Transform features using\n",
      "'QuantileTransformer' object has no attribute 'sco\n",
      "==============================\n",
      "Scale features using stat\n",
      "'RobustScaler' object has no attribute 'score'\n",
      "==============================\n",
      "Standardize features by r\n",
      "'StandardScaler' object has no attribute 'score'\n",
      "==============================\n",
      "Linear Support Vector Cla\n",
      "Algo de classification\n",
      "==============================\n",
      "Linear Support Vector Reg\n",
      "0.7547952637540966\n",
      "==============================\n",
      "Nu-Support Vector Classif\n",
      "Algo de classification\n",
      "==============================\n",
      "Nu Support Vector Regress\n",
      "0.6722018253901555\n",
      "==============================\n",
      "Unsupervised Outlier Dete\n",
      "'OneClassSVM' object has no attribute 'score'\n",
      "==============================\n",
      "C-Support Vector Classifi\n",
      "Algo de classification\n",
      "==============================\n",
      "Epsilon-Support Vector Re\n",
      "0.6744620575029385\n",
      "==============================\n",
      "'module' object is not callable\n",
      "==============================\n"
     ]
    },
    {
     "name": "stderr",
     "output_type": "stream",
     "text": [
      "C:\\Users\\User\\anaconda3\\lib\\site-packages\\sklearn\\preprocessing\\_discretization.py:200: UserWarning: Bins whose width are too small (i.e., <= 1e-8) in feature 1 are removed. Consider decreasing the number of bins.\n",
      "  warnings.warn('Bins whose width are too small (i.e., <= '\n",
      "C:\\Users\\User\\anaconda3\\lib\\site-packages\\sklearn\\preprocessing\\_discretization.py:200: UserWarning: Bins whose width are too small (i.e., <= 1e-8) in feature 3 are removed. Consider decreasing the number of bins.\n",
      "  warnings.warn('Bins whose width are too small (i.e., <= '\n",
      "C:\\Users\\User\\anaconda3\\lib\\site-packages\\sklearn\\preprocessing\\_discretization.py:200: UserWarning: Bins whose width are too small (i.e., <= 1e-8) in feature 8 are removed. Consider decreasing the number of bins.\n",
      "  warnings.warn('Bins whose width are too small (i.e., <= '\n",
      "C:\\Users\\User\\anaconda3\\lib\\site-packages\\sklearn\\preprocessing\\_discretization.py:200: UserWarning: Bins whose width are too small (i.e., <= 1e-8) in feature 11 are removed. Consider decreasing the number of bins.\n",
      "  warnings.warn('Bins whose width are too small (i.e., <= '\n",
      "C:\\Users\\User\\anaconda3\\lib\\site-packages\\sklearn\\preprocessing\\_data.py:2367: UserWarning: n_quantiles (1000) is greater than the total number of samples (339). n_quantiles is set to n_samples.\n",
      "  warnings.warn(\"n_quantiles (%s) is greater than the total number \"\n"
     ]
    }
   ],
   "source": [
    "performances               = {}\n",
    "modeles_a_tester           = []\n",
    "classes_de_models_a_tester = algos.keys()\n",
    "best_algorithm = 0\n",
    "best_perf = 0\n",
    "for classe_de_models in classes_de_models_a_tester:\n",
    "    modeles_a_tester.extend(algos[classe_de_models])\n",
    "    \n",
    "for pointeur_vers_algo in modeles_a_tester:\n",
    "    try:\n",
    "        algorithme = pointeur_vers_algo()\n",
    "        doc        = algorithme.__doc__\n",
    "        name       = doc[:min(doc.find(\":\"), 25)].strip()\n",
    "        print (name)\n",
    "        algorithme.fit(X_train, y_train)\n",
    "        performance = algorithme.score(X_test, y_test)\n",
    "        print (performance)\n",
    "        if performance >  best_perf:\n",
    "            best_algorithm = algorithme\n",
    "            best_perf = performance\n",
    "            \n",
    "        if 0<performance and performance<1:\n",
    "            performances[name] = [performance]\n",
    "    except Exception as e:\n",
    "        if \"label\" in str(e): print (\"Algo de classification\")\n",
    "        else                : print (str(e)[:50])\n",
    "    print (\"=\"*30)\n",
    "    "
   ]
  },
  {
   "cell_type": "markdown",
   "metadata": {},
   "source": [
    "## meilleur algo"
   ]
  },
  {
   "cell_type": "code",
   "execution_count": 38,
   "metadata": {},
   "outputs": [
    {
     "data": {
      "text/plain": [
       "(PoissonRegressor(), 0.8366801340638446)"
      ]
     },
     "execution_count": 38,
     "metadata": {},
     "output_type": "execute_result"
    }
   ],
   "source": [
    "best_algorithm, best_perf"
   ]
  },
  {
   "cell_type": "markdown",
   "metadata": {},
   "source": [
    "## Performances de chaque algo :"
   ]
  },
  {
   "cell_type": "code",
   "execution_count": 39,
   "metadata": {},
   "outputs": [
    {
     "data": {
      "text/plain": [
       "{'Bayesian ARD regression.': [0.7663120325736036],\n",
       " 'Bayesian ridge regression': [0.7640617241015707],\n",
       " 'Linear regression with co': [0.6948559435752488],\n",
       " 'Elastic Net model with it': [0.7670176019595637],\n",
       " 'Generalized Linear Model': [0.6855599433042725],\n",
       " 'Linear regression model t': [0.7743723274877092],\n",
       " 'Least Angle Regression mo': [0.757972185783555],\n",
       " 'Cross-validated Least Ang': [0.7669745964057882],\n",
       " 'Linear Model trained with': [0.7046122618423348],\n",
       " 'Lasso linear model with i': [0.7656320013628716],\n",
       " 'Cross-validated Lasso, us': [0.7653780350917231],\n",
       " 'Lasso model fit with Lars': [0.7642987597192029],\n",
       " 'Ordinary least squar': [0.7579721857835547],\n",
       " 'Orthogonal Matching Pursu': [0.557480566613636],\n",
       " 'Cross-validated Orthogona': [0.723378893156337],\n",
       " 'Passive Aggressive Regres': [0.6957536237566302],\n",
       " 'RANSAC (RANdom SAmple Con': [0.6713736775258777],\n",
       " 'Linear least squares with': [0.759392584824974],\n",
       " 'Ridge regression with bui': [0.7593925848249856],\n",
       " 'Linear model fitted by mi': [0.761581196057134],\n",
       " 'Theil-Sen Estimator': [0.678121895399521],\n",
       " 'Linear Support Vector Reg': [0.7547952637540966],\n",
       " 'Nu Support Vector Regress': [0.6722018253901555],\n",
       " 'Epsilon-Support Vector Re': [0.6744620575029385]}"
      ]
     },
     "execution_count": 39,
     "metadata": {},
     "output_type": "execute_result"
    }
   ],
   "source": [
    "performances"
   ]
  },
  {
   "cell_type": "markdown",
   "metadata": {},
   "source": [
    "## on manipule les performances via panda"
   ]
  },
  {
   "cell_type": "code",
   "execution_count": 40,
   "metadata": {},
   "outputs": [],
   "source": [
    "import pandas as pd"
   ]
  },
  {
   "cell_type": "code",
   "execution_count": 41,
   "metadata": {},
   "outputs": [],
   "source": [
    "df = pd.DataFrame(performances).T"
   ]
  },
  {
   "cell_type": "code",
   "execution_count": 42,
   "metadata": {},
   "outputs": [],
   "source": [
    "col_name = \"performance\"\n",
    "df.columns = [col_name]"
   ]
  },
  {
   "cell_type": "code",
   "execution_count": 43,
   "metadata": {},
   "outputs": [
    {
     "data": {
      "text/html": [
       "<div>\n",
       "<style scoped>\n",
       "    .dataframe tbody tr th:only-of-type {\n",
       "        vertical-align: middle;\n",
       "    }\n",
       "\n",
       "    .dataframe tbody tr th {\n",
       "        vertical-align: top;\n",
       "    }\n",
       "\n",
       "    .dataframe thead th {\n",
       "        text-align: right;\n",
       "    }\n",
       "</style>\n",
       "<table border=\"1\" class=\"dataframe\">\n",
       "  <thead>\n",
       "    <tr style=\"text-align: right;\">\n",
       "      <th></th>\n",
       "      <th>performance</th>\n",
       "    </tr>\n",
       "  </thead>\n",
       "  <tbody>\n",
       "    <tr>\n",
       "      <th>Bayesian ARD regression.</th>\n",
       "      <td>0.766312</td>\n",
       "    </tr>\n",
       "    <tr>\n",
       "      <th>Bayesian ridge regression</th>\n",
       "      <td>0.764062</td>\n",
       "    </tr>\n",
       "    <tr>\n",
       "      <th>Linear regression with co</th>\n",
       "      <td>0.694856</td>\n",
       "    </tr>\n",
       "    <tr>\n",
       "      <th>Elastic Net model with it</th>\n",
       "      <td>0.767018</td>\n",
       "    </tr>\n",
       "    <tr>\n",
       "      <th>Generalized Linear Model</th>\n",
       "      <td>0.685560</td>\n",
       "    </tr>\n",
       "    <tr>\n",
       "      <th>Linear regression model t</th>\n",
       "      <td>0.774372</td>\n",
       "    </tr>\n",
       "    <tr>\n",
       "      <th>Least Angle Regression mo</th>\n",
       "      <td>0.757972</td>\n",
       "    </tr>\n",
       "    <tr>\n",
       "      <th>Cross-validated Least Ang</th>\n",
       "      <td>0.766975</td>\n",
       "    </tr>\n",
       "    <tr>\n",
       "      <th>Linear Model trained with</th>\n",
       "      <td>0.704612</td>\n",
       "    </tr>\n",
       "    <tr>\n",
       "      <th>Lasso linear model with i</th>\n",
       "      <td>0.765632</td>\n",
       "    </tr>\n",
       "    <tr>\n",
       "      <th>Cross-validated Lasso, us</th>\n",
       "      <td>0.765378</td>\n",
       "    </tr>\n",
       "    <tr>\n",
       "      <th>Lasso model fit with Lars</th>\n",
       "      <td>0.764299</td>\n",
       "    </tr>\n",
       "    <tr>\n",
       "      <th>Ordinary least squar</th>\n",
       "      <td>0.757972</td>\n",
       "    </tr>\n",
       "    <tr>\n",
       "      <th>Orthogonal Matching Pursu</th>\n",
       "      <td>0.557481</td>\n",
       "    </tr>\n",
       "    <tr>\n",
       "      <th>Cross-validated Orthogona</th>\n",
       "      <td>0.723379</td>\n",
       "    </tr>\n",
       "    <tr>\n",
       "      <th>Passive Aggressive Regres</th>\n",
       "      <td>0.695754</td>\n",
       "    </tr>\n",
       "    <tr>\n",
       "      <th>RANSAC (RANdom SAmple Con</th>\n",
       "      <td>0.671374</td>\n",
       "    </tr>\n",
       "    <tr>\n",
       "      <th>Linear least squares with</th>\n",
       "      <td>0.759393</td>\n",
       "    </tr>\n",
       "    <tr>\n",
       "      <th>Ridge regression with bui</th>\n",
       "      <td>0.759393</td>\n",
       "    </tr>\n",
       "    <tr>\n",
       "      <th>Linear model fitted by mi</th>\n",
       "      <td>0.761581</td>\n",
       "    </tr>\n",
       "    <tr>\n",
       "      <th>Theil-Sen Estimator</th>\n",
       "      <td>0.678122</td>\n",
       "    </tr>\n",
       "    <tr>\n",
       "      <th>Linear Support Vector Reg</th>\n",
       "      <td>0.754795</td>\n",
       "    </tr>\n",
       "    <tr>\n",
       "      <th>Nu Support Vector Regress</th>\n",
       "      <td>0.672202</td>\n",
       "    </tr>\n",
       "    <tr>\n",
       "      <th>Epsilon-Support Vector Re</th>\n",
       "      <td>0.674462</td>\n",
       "    </tr>\n",
       "  </tbody>\n",
       "</table>\n",
       "</div>"
      ],
      "text/plain": [
       "                           performance\n",
       "Bayesian ARD regression.      0.766312\n",
       "Bayesian ridge regression     0.764062\n",
       "Linear regression with co     0.694856\n",
       "Elastic Net model with it     0.767018\n",
       "Generalized Linear Model      0.685560\n",
       "Linear regression model t     0.774372\n",
       "Least Angle Regression mo     0.757972\n",
       "Cross-validated Least Ang     0.766975\n",
       "Linear Model trained with     0.704612\n",
       "Lasso linear model with i     0.765632\n",
       "Cross-validated Lasso, us     0.765378\n",
       "Lasso model fit with Lars     0.764299\n",
       "Ordinary least squar          0.757972\n",
       "Orthogonal Matching Pursu     0.557481\n",
       "Cross-validated Orthogona     0.723379\n",
       "Passive Aggressive Regres     0.695754\n",
       "RANSAC (RANdom SAmple Con     0.671374\n",
       "Linear least squares with     0.759393\n",
       "Ridge regression with bui     0.759393\n",
       "Linear model fitted by mi     0.761581\n",
       "Theil-Sen Estimator           0.678122\n",
       "Linear Support Vector Reg     0.754795\n",
       "Nu Support Vector Regress     0.672202\n",
       "Epsilon-Support Vector Re     0.674462"
      ]
     },
     "execution_count": 43,
     "metadata": {},
     "output_type": "execute_result"
    }
   ],
   "source": [
    "df.performance.sort_values()\n",
    "df"
   ]
  },
  {
   "cell_type": "markdown",
   "metadata": {},
   "source": [
    "## calcul des gains de performance d'un algo l'autre"
   ]
  },
  {
   "cell_type": "code",
   "execution_count": 44,
   "metadata": {},
   "outputs": [],
   "source": [
    "liste_des_performances = df.performance.values\n",
    "gains = [0]\n",
    "for indice, performance in enumerate(liste_des_performances):\n",
    "    if indice>0:\n",
    "        previous_value = liste_des_performances[indice-1]\n",
    "        current_value  = liste_des_performances[indice]\n",
    "        gain = (current_value - previous_value) / previous_value\n",
    "        gains.append(round(gain*100, 2))\n",
    "df[\"gains\"] = gains"
   ]
  },
  {
   "cell_type": "code",
   "execution_count": 45,
   "metadata": {},
   "outputs": [],
   "source": [
    "#"
   ]
  },
  {
   "cell_type": "code",
   "execution_count": 46,
   "metadata": {},
   "outputs": [
    {
     "data": {
      "text/html": [
       "<div>\n",
       "<style scoped>\n",
       "    .dataframe tbody tr th:only-of-type {\n",
       "        vertical-align: middle;\n",
       "    }\n",
       "\n",
       "    .dataframe tbody tr th {\n",
       "        vertical-align: top;\n",
       "    }\n",
       "\n",
       "    .dataframe thead th {\n",
       "        text-align: right;\n",
       "    }\n",
       "</style>\n",
       "<table border=\"1\" class=\"dataframe\">\n",
       "  <thead>\n",
       "    <tr style=\"text-align: right;\">\n",
       "      <th></th>\n",
       "      <th>performance</th>\n",
       "      <th>gains</th>\n",
       "    </tr>\n",
       "  </thead>\n",
       "  <tbody>\n",
       "    <tr>\n",
       "      <th>Bayesian ARD regression.</th>\n",
       "      <td>0.766312</td>\n",
       "      <td>0.00</td>\n",
       "    </tr>\n",
       "    <tr>\n",
       "      <th>Bayesian ridge regression</th>\n",
       "      <td>0.764062</td>\n",
       "      <td>-0.29</td>\n",
       "    </tr>\n",
       "    <tr>\n",
       "      <th>Linear regression with co</th>\n",
       "      <td>0.694856</td>\n",
       "      <td>-9.06</td>\n",
       "    </tr>\n",
       "    <tr>\n",
       "      <th>Elastic Net model with it</th>\n",
       "      <td>0.767018</td>\n",
       "      <td>10.39</td>\n",
       "    </tr>\n",
       "    <tr>\n",
       "      <th>Generalized Linear Model</th>\n",
       "      <td>0.685560</td>\n",
       "      <td>-10.62</td>\n",
       "    </tr>\n",
       "    <tr>\n",
       "      <th>Linear regression model t</th>\n",
       "      <td>0.774372</td>\n",
       "      <td>12.95</td>\n",
       "    </tr>\n",
       "    <tr>\n",
       "      <th>Least Angle Regression mo</th>\n",
       "      <td>0.757972</td>\n",
       "      <td>-2.12</td>\n",
       "    </tr>\n",
       "    <tr>\n",
       "      <th>Cross-validated Least Ang</th>\n",
       "      <td>0.766975</td>\n",
       "      <td>1.19</td>\n",
       "    </tr>\n",
       "    <tr>\n",
       "      <th>Linear Model trained with</th>\n",
       "      <td>0.704612</td>\n",
       "      <td>-8.13</td>\n",
       "    </tr>\n",
       "    <tr>\n",
       "      <th>Lasso linear model with i</th>\n",
       "      <td>0.765632</td>\n",
       "      <td>8.66</td>\n",
       "    </tr>\n",
       "    <tr>\n",
       "      <th>Cross-validated Lasso, us</th>\n",
       "      <td>0.765378</td>\n",
       "      <td>-0.03</td>\n",
       "    </tr>\n",
       "    <tr>\n",
       "      <th>Lasso model fit with Lars</th>\n",
       "      <td>0.764299</td>\n",
       "      <td>-0.14</td>\n",
       "    </tr>\n",
       "    <tr>\n",
       "      <th>Ordinary least squar</th>\n",
       "      <td>0.757972</td>\n",
       "      <td>-0.83</td>\n",
       "    </tr>\n",
       "    <tr>\n",
       "      <th>Orthogonal Matching Pursu</th>\n",
       "      <td>0.557481</td>\n",
       "      <td>-26.45</td>\n",
       "    </tr>\n",
       "    <tr>\n",
       "      <th>Cross-validated Orthogona</th>\n",
       "      <td>0.723379</td>\n",
       "      <td>29.76</td>\n",
       "    </tr>\n",
       "    <tr>\n",
       "      <th>Passive Aggressive Regres</th>\n",
       "      <td>0.695754</td>\n",
       "      <td>-3.82</td>\n",
       "    </tr>\n",
       "    <tr>\n",
       "      <th>RANSAC (RANdom SAmple Con</th>\n",
       "      <td>0.671374</td>\n",
       "      <td>-3.50</td>\n",
       "    </tr>\n",
       "    <tr>\n",
       "      <th>Linear least squares with</th>\n",
       "      <td>0.759393</td>\n",
       "      <td>13.11</td>\n",
       "    </tr>\n",
       "    <tr>\n",
       "      <th>Ridge regression with bui</th>\n",
       "      <td>0.759393</td>\n",
       "      <td>0.00</td>\n",
       "    </tr>\n",
       "    <tr>\n",
       "      <th>Linear model fitted by mi</th>\n",
       "      <td>0.761581</td>\n",
       "      <td>0.29</td>\n",
       "    </tr>\n",
       "    <tr>\n",
       "      <th>Theil-Sen Estimator</th>\n",
       "      <td>0.678122</td>\n",
       "      <td>-10.96</td>\n",
       "    </tr>\n",
       "    <tr>\n",
       "      <th>Linear Support Vector Reg</th>\n",
       "      <td>0.754795</td>\n",
       "      <td>11.31</td>\n",
       "    </tr>\n",
       "    <tr>\n",
       "      <th>Nu Support Vector Regress</th>\n",
       "      <td>0.672202</td>\n",
       "      <td>-10.94</td>\n",
       "    </tr>\n",
       "    <tr>\n",
       "      <th>Epsilon-Support Vector Re</th>\n",
       "      <td>0.674462</td>\n",
       "      <td>0.34</td>\n",
       "    </tr>\n",
       "  </tbody>\n",
       "</table>\n",
       "</div>"
      ],
      "text/plain": [
       "                           performance  gains\n",
       "Bayesian ARD regression.      0.766312   0.00\n",
       "Bayesian ridge regression     0.764062  -0.29\n",
       "Linear regression with co     0.694856  -9.06\n",
       "Elastic Net model with it     0.767018  10.39\n",
       "Generalized Linear Model      0.685560 -10.62\n",
       "Linear regression model t     0.774372  12.95\n",
       "Least Angle Regression mo     0.757972  -2.12\n",
       "Cross-validated Least Ang     0.766975   1.19\n",
       "Linear Model trained with     0.704612  -8.13\n",
       "Lasso linear model with i     0.765632   8.66\n",
       "Cross-validated Lasso, us     0.765378  -0.03\n",
       "Lasso model fit with Lars     0.764299  -0.14\n",
       "Ordinary least squar          0.757972  -0.83\n",
       "Orthogonal Matching Pursu     0.557481 -26.45\n",
       "Cross-validated Orthogona     0.723379  29.76\n",
       "Passive Aggressive Regres     0.695754  -3.82\n",
       "RANSAC (RANdom SAmple Con     0.671374  -3.50\n",
       "Linear least squares with     0.759393  13.11\n",
       "Ridge regression with bui     0.759393   0.00\n",
       "Linear model fitted by mi     0.761581   0.29\n",
       "Theil-Sen Estimator           0.678122 -10.96\n",
       "Linear Support Vector Reg     0.754795  11.31\n",
       "Nu Support Vector Regress     0.672202 -10.94\n",
       "Epsilon-Support Vector Re     0.674462   0.34"
      ]
     },
     "execution_count": 46,
     "metadata": {},
     "output_type": "execute_result"
    }
   ],
   "source": [
    "df"
   ]
  },
  {
   "cell_type": "markdown",
   "metadata": {},
   "source": [
    "## Tracer les performances par algo"
   ]
  },
  {
   "cell_type": "code",
   "execution_count": 47,
   "metadata": {},
   "outputs": [],
   "source": [
    "%matplotlib inline\n",
    "import matplotlib.pyplot as plt\n",
    "import matplotlib.ticker as ticker"
   ]
  },
  {
   "cell_type": "code",
   "execution_count": 48,
   "metadata": {},
   "outputs": [],
   "source": [
    "df = df.drop(\"gains\", axis=1)"
   ]
  },
  {
   "cell_type": "code",
   "execution_count": 49,
   "metadata": {},
   "outputs": [
    {
     "data": {
      "image/png": "[encoded data removed]",
      "text/plain": [
       "<Figure size 432x288 with 1 Axes>"
      ]
     },
     "metadata": {
      "needs_background": "light"
     },
     "output_type": "display_data"
    }
   ],
   "source": [
    "df = df.sort_values(col_name)\n",
    "ax = df.plot(rot=45, x_compat=True)"
   ]
  },
  {
   "cell_type": "markdown",
   "metadata": {},
   "source": [
    "### Augmentation du nombre de légend"
   ]
  },
  {
   "cell_type": "code",
   "execution_count": 50,
   "metadata": {},
   "outputs": [
    {
     "ename": "ValueError",
     "evalue": "The number of FixedLocator locations (7), usually from a call to set_ticks, does not match the number of ticklabels (24).",
     "output_type": "error",
     "traceback": [
      "\u001b[1;31m---------------------------------------------------------------------------\u001b[0m",
      "\u001b[1;31mValueError\u001b[0m                                Traceback (most recent call last)",
      "\u001b[1;32m<ipython-input-50-116b423e1dce>\u001b[0m in \u001b[0;36m<module>\u001b[1;34m\u001b[0m\n\u001b[0;32m      1\u001b[0m \u001b[0mdf\u001b[0m \u001b[1;33m=\u001b[0m \u001b[0mdf\u001b[0m\u001b[1;33m.\u001b[0m\u001b[0msort_values\u001b[0m\u001b[1;33m(\u001b[0m\u001b[0mcol_name\u001b[0m\u001b[1;33m)\u001b[0m\u001b[1;33m\u001b[0m\u001b[1;33m\u001b[0m\u001b[0m\n\u001b[0;32m      2\u001b[0m \u001b[0max\u001b[0m \u001b[1;33m=\u001b[0m \u001b[0mdf\u001b[0m\u001b[1;33m.\u001b[0m\u001b[0mplot\u001b[0m\u001b[1;33m(\u001b[0m\u001b[0mrot\u001b[0m\u001b[1;33m=\u001b[0m\u001b[1;36m90\u001b[0m\u001b[1;33m,\u001b[0m \u001b[0mx_compat\u001b[0m\u001b[1;33m=\u001b[0m\u001b[1;32mTrue\u001b[0m\u001b[1;33m)\u001b[0m\u001b[1;33m\u001b[0m\u001b[1;33m\u001b[0m\u001b[0m\n\u001b[1;32m----> 3\u001b[1;33m \u001b[0max\u001b[0m\u001b[1;33m.\u001b[0m\u001b[0mxaxis\u001b[0m\u001b[1;33m.\u001b[0m\u001b[0mset_ticklabels\u001b[0m\u001b[1;33m(\u001b[0m\u001b[0mdf\u001b[0m\u001b[1;33m.\u001b[0m\u001b[0mindex\u001b[0m\u001b[1;33m)\u001b[0m\u001b[1;33m\u001b[0m\u001b[1;33m\u001b[0m\u001b[0m\n\u001b[0m\u001b[0;32m      4\u001b[0m \u001b[0max\u001b[0m\u001b[1;33m.\u001b[0m\u001b[0mxaxis\u001b[0m\u001b[1;33m.\u001b[0m\u001b[0mset_major_locator\u001b[0m\u001b[1;33m(\u001b[0m\u001b[0mticker\u001b[0m\u001b[1;33m.\u001b[0m\u001b[0mMultipleLocator\u001b[0m\u001b[1;33m(\u001b[0m\u001b[1;36m1\u001b[0m\u001b[1;33m)\u001b[0m\u001b[1;33m)\u001b[0m\u001b[1;33m\u001b[0m\u001b[1;33m\u001b[0m\u001b[0m\n",
      "\u001b[1;32m~\\anaconda3\\lib\\site-packages\\matplotlib\\axis.py\u001b[0m in \u001b[0;36mset_ticklabels\u001b[1;34m(self, ticklabels, minor, **kwargs)\u001b[0m\n\u001b[0;32m   1712\u001b[0m             \u001b[1;31m# remove all tick labels, so only error for > 0 ticklabels\u001b[0m\u001b[1;33m\u001b[0m\u001b[1;33m\u001b[0m\u001b[1;33m\u001b[0m\u001b[0m\n\u001b[0;32m   1713\u001b[0m             \u001b[1;32mif\u001b[0m \u001b[0mlen\u001b[0m\u001b[1;33m(\u001b[0m\u001b[0mlocator\u001b[0m\u001b[1;33m.\u001b[0m\u001b[0mlocs\u001b[0m\u001b[1;33m)\u001b[0m \u001b[1;33m!=\u001b[0m \u001b[0mlen\u001b[0m\u001b[1;33m(\u001b[0m\u001b[0mticklabels\u001b[0m\u001b[1;33m)\u001b[0m \u001b[1;32mand\u001b[0m \u001b[0mlen\u001b[0m\u001b[1;33m(\u001b[0m\u001b[0mticklabels\u001b[0m\u001b[1;33m)\u001b[0m \u001b[1;33m!=\u001b[0m \u001b[1;36m0\u001b[0m\u001b[1;33m:\u001b[0m\u001b[1;33m\u001b[0m\u001b[1;33m\u001b[0m\u001b[0m\n\u001b[1;32m-> 1714\u001b[1;33m                 raise ValueError(\n\u001b[0m\u001b[0;32m   1715\u001b[0m                     \u001b[1;34m\"The number of FixedLocator locations\"\u001b[0m\u001b[1;33m\u001b[0m\u001b[1;33m\u001b[0m\u001b[0m\n\u001b[0;32m   1716\u001b[0m                     \u001b[1;34mf\" ({len(locator.locs)}), usually from a call to\"\u001b[0m\u001b[1;33m\u001b[0m\u001b[1;33m\u001b[0m\u001b[0m\n",
      "\u001b[1;31mValueError\u001b[0m: The number of FixedLocator locations (7), usually from a call to set_ticks, does not match the number of ticklabels (24)."
     ]
    },
    {
     "data": {
      "image/png": "[encoded data removed]",
      "text/plain": [
       "<Figure size 432x288 with 1 Axes>"
      ]
     },
     "metadata": {
      "needs_background": "light"
     },
     "output_type": "display_data"
    }
   ],
   "source": [
    "df = df.sort_values(col_name)\n",
    "ax = df.plot(rot=90, x_compat=True)\n",
    "ax.xaxis.set_ticklabels(df.index)\n",
    "ax.xaxis.set_major_locator(ticker.MultipleLocator(1))"
   ]
  },
  {
   "cell_type": "markdown",
   "metadata": {},
   "source": [
    "### Rotation des infos sur x, et image plus large"
   ]
  },
  {
   "cell_type": "code",
   "execution_count": null,
   "metadata": {},
   "outputs": [],
   "source": [
    "fig , axes = plt.subplots(1,1)\n",
    "fig.set_size_inches(9,3)\n",
    "df = df.sort_values(col_name )\n",
    "axes.xaxis.set_ticklabels(df.index)\n",
    "axes.xaxis.set_major_locator(ticker.MultipleLocator(1))\n",
    "df.plot(rot=45, ax=axes)\n"
   ]
  },
  {
   "cell_type": "markdown",
   "metadata": {},
   "source": [
    "### affichage en barre"
   ]
  },
  {
   "cell_type": "code",
   "execution_count": 51,
   "metadata": {},
   "outputs": [
    {
     "name": "stderr",
     "output_type": "stream",
     "text": [
      "<ipython-input-51-28c9d528bd67>:4: UserWarning: FixedFormatter should only be used together with FixedLocator\n",
      "  axes.xaxis.set_ticklabels(df.index)\n"
     ]
    },
    {
     "data": {
      "text/plain": [
       "<AxesSubplot:>"
      ]
     },
     "execution_count": 51,
     "metadata": {},
     "output_type": "execute_result"
    },
    {
     "data": {
      "image/png": "[encoded data removed]",
      "text/plain": [
       "<Figure size 648x216 with 1 Axes>"
      ]
     },
     "metadata": {
      "needs_background": "light"
     },
     "output_type": "display_data"
    }
   ],
   "source": [
    "fig , axes = plt.subplots(1,1)\n",
    "fig.set_size_inches(9,3)\n",
    "df = df.sort_values(col_name )\n",
    "axes.xaxis.set_ticklabels(df.index)\n",
    "axes.xaxis.set_major_locator(ticker.MultipleLocator(1))\n",
    "df.plot(kind='bar', rot=90, ax=axes)"
   ]
  },
  {
   "cell_type": "markdown",
   "metadata": {},
   "source": [
    "## on rajoute la perforamnce dans les labels"
   ]
  },
  {
   "cell_type": "code",
   "execution_count": 52,
   "metadata": {
    "scrolled": true
   },
   "outputs": [
    {
     "data": {
      "image/png": "[encoded data removed]",
      "text/plain": [
       "<Figure size 1080x576 with 1 Axes>"
      ]
     },
     "metadata": {
      "needs_background": "light"
     },
     "output_type": "display_data"
    }
   ],
   "source": [
    "new_labels = []\n",
    "for i, index in enumerate(df.index):\n",
    "    new_label = \"%s (%.2f)\"%(index,df.performance[i])\n",
    "    new_labels.append(new_label.replace(\"\\n\", \" \"))\n",
    "    \n",
    "fig , axes = plt.subplots(1,1)\n",
    "df.index = new_labels\n",
    "fig.set_size_inches(15,8)\n",
    "fig.subplots_adjust(left=0.65)\n",
    "df.sort_values(col_name).plot(kind='barh', ax=axes)\n",
    "axes.xaxis.set_major_locator(ticker.MultipleLocator(1))\n",
    "\n",
    "pass"
   ]
  },
  {
   "cell_type": "markdown",
   "metadata": {},
   "source": [
    "# 7) which scoring function ?"
   ]
  },
  {
   "cell_type": "markdown",
   "metadata": {},
   "source": [
    "## on récupère les fonctions de score"
   ]
  },
  {
   "cell_type": "code",
   "execution_count": 53,
   "metadata": {},
   "outputs": [],
   "source": [
    "def get_sklearn_score_functions(verbose = False):\n",
    "    \"\"\"\n",
    "    Explore all submodule of sklearn and fetch functions named as 'score'.\n",
    "    \n",
    "    Parameters :\n",
    "        debug = print or not stuff on console\n",
    "    Return :\n",
    "        dict : { module : [ score_functions] }\n",
    "    \"\"\"\n",
    "    from collections import defaultdict\n",
    "    import importlib\n",
    "    import sklearn\n",
    "    algos = defaultdict(list)\n",
    "    if verbose : print (dir(sklearn))\n",
    "    for nom_module in dir(sklearn):    \n",
    "        if verbose : print (nom_module)\n",
    "        try:\n",
    "            to_import = \"sklearn.%s\"%nom_module\n",
    "            module    = importlib.import_module(to_import)\n",
    "            for nom_fonction in dir(module):\n",
    "                fonction = getattr(module, nom_fonction)\n",
    "                if \"score\" in nom_fonction:\n",
    "                    algos[nom_module].append(fonction)                                            \n",
    "        except Exception as e:\n",
    "            if verbose : print (e)\n",
    "        if verbose: print (\"=\"*30)\n",
    "    return algos"
   ]
  },
  {
   "cell_type": "code",
   "execution_count": 54,
   "metadata": {},
   "outputs": [],
   "source": [
    "scoring_modules = get_sklearn_score_functions(False)"
   ]
  },
  {
   "cell_type": "code",
   "execution_count": 55,
   "metadata": {},
   "outputs": [
    {
     "data": {
      "text/plain": [
       "dict_keys(['metrics', 'model_selection'])"
      ]
     },
     "execution_count": 55,
     "metadata": {},
     "output_type": "execute_result"
    }
   ],
   "source": [
    "scoring_modules.keys()"
   ]
  },
  {
   "cell_type": "markdown",
   "metadata": {},
   "source": [
    "## on s'intéresse aux métriques"
   ]
  },
  {
   "cell_type": "code",
   "execution_count": 56,
   "metadata": {},
   "outputs": [
    {
     "data": {
      "text/plain": [
       "[<module 'sklearn.metrics._scorer' from 'C:\\\\Users\\\\User\\\\anaconda3\\\\lib\\\\site-packages\\\\sklearn\\\\metrics\\\\_scorer.py'>,\n",
       " <function sklearn.metrics._classification.accuracy_score(y_true, y_pred, *, normalize=True, sample_weight=None)>,\n",
       " <function sklearn.metrics.cluster._supervised.adjusted_mutual_info_score(labels_true, labels_pred, *, average_method='arithmetic')>,\n",
       " <function sklearn.metrics.cluster._supervised.adjusted_rand_score(labels_true, labels_pred)>,\n",
       " <function sklearn.metrics._ranking.average_precision_score(y_true, y_score, *, average='macro', pos_label=1, sample_weight=None)>,\n",
       " <function sklearn.metrics._classification.balanced_accuracy_score(y_true, y_pred, *, sample_weight=None, adjusted=False)>,\n",
       " <function sklearn.metrics._classification.brier_score_loss(y_true, y_prob, *, sample_weight=None, pos_label=None)>,\n",
       " <function sklearn.metrics.cluster._unsupervised.calinski_harabasz_score(X, labels)>,\n",
       " <function sklearn.metrics._classification.cohen_kappa_score(y1, y2, *, labels=None, weights=None, sample_weight=None)>,\n",
       " <function sklearn.metrics.cluster._supervised.completeness_score(labels_true, labels_pred)>,\n",
       " <function sklearn.metrics.cluster._bicluster.consensus_score(a, b, *, similarity='jaccard')>,\n",
       " <function sklearn.metrics.cluster._unsupervised.davies_bouldin_score(X, labels)>,\n",
       " <function sklearn.metrics._ranking.dcg_score(y_true, y_score, *, k=None, log_base=2, sample_weight=None, ignore_ties=False)>,\n",
       " <function sklearn.metrics._regression.explained_variance_score(y_true, y_pred, *, sample_weight=None, multioutput='uniform_average')>,\n",
       " <function sklearn.metrics._classification.f1_score(y_true, y_pred, *, labels=None, pos_label=1, average='binary', sample_weight=None, zero_division='warn')>,\n",
       " <function sklearn.metrics._classification.fbeta_score(y_true, y_pred, *, beta, labels=None, pos_label=1, average='binary', sample_weight=None, zero_division='warn')>,\n",
       " <function sklearn.metrics.cluster._supervised.fowlkes_mallows_score(labels_true, labels_pred, *, sparse=False)>,\n",
       " <function sklearn.metrics._scorer.get_scorer(scoring)>,\n",
       " <function sklearn.metrics.cluster._supervised.homogeneity_score(labels_true, labels_pred)>,\n",
       " <function sklearn.metrics._classification.jaccard_score(y_true, y_pred, *, labels=None, pos_label=1, average='binary', sample_weight=None)>,\n",
       " <function sklearn.metrics._ranking.label_ranking_average_precision_score(y_true, y_score, *, sample_weight=None)>,\n",
       " <function sklearn.metrics._scorer.make_scorer(score_func, *, greater_is_better=True, needs_proba=False, needs_threshold=False, **kwargs)>,\n",
       " <function sklearn.metrics.cluster._supervised.mutual_info_score(labels_true, labels_pred, *, contingency=None)>,\n",
       " <function sklearn.metrics._ranking.ndcg_score(y_true, y_score, *, k=None, sample_weight=None, ignore_ties=False)>,\n",
       " <function sklearn.metrics.cluster._supervised.normalized_mutual_info_score(labels_true, labels_pred, *, average_method='arithmetic')>,\n",
       " <function sklearn.metrics._classification.precision_recall_fscore_support(y_true, y_pred, *, beta=1.0, labels=None, pos_label=1, average=None, warn_for=('precision', 'recall', 'f-score'), sample_weight=None, zero_division='warn')>,\n",
       " <function sklearn.metrics._classification.precision_score(y_true, y_pred, *, labels=None, pos_label=1, average='binary', sample_weight=None, zero_division='warn')>,\n",
       " <function sklearn.metrics._regression.r2_score(y_true, y_pred, *, sample_weight=None, multioutput='uniform_average')>,\n",
       " <function sklearn.metrics._classification.recall_score(y_true, y_pred, *, labels=None, pos_label=1, average='binary', sample_weight=None, zero_division='warn')>,\n",
       " <function sklearn.metrics._ranking.roc_auc_score(y_true, y_score, *, average='macro', sample_weight=None, max_fpr=None, multi_class='raise', labels=None)>,\n",
       " <function sklearn.metrics.cluster._unsupervised.silhouette_score(X, labels, *, metric='euclidean', sample_size=None, random_state=None, **kwds)>,\n",
       " <function sklearn.metrics.cluster._supervised.v_measure_score(labels_true, labels_pred, *, beta=1.0)>]"
      ]
     },
     "execution_count": 56,
     "metadata": {},
     "output_type": "execute_result"
    }
   ],
   "source": [
    "scoring_modules[\"metrics\"]"
   ]
  },
  {
   "cell_type": "markdown",
   "metadata": {},
   "source": [
    "# 8) tester les métriques sur un algo"
   ]
  },
  {
   "cell_type": "code",
   "execution_count": 57,
   "metadata": {},
   "outputs": [],
   "source": [
    "from sklearn.ensemble import BaggingRegressor"
   ]
  },
  {
   "cell_type": "markdown",
   "metadata": {},
   "source": [
    "# 8.1) l'algo a des performances variables"
   ]
  },
  {
   "cell_type": "code",
   "execution_count": 58,
   "metadata": {},
   "outputs": [
    {
     "name": "stdout",
     "output_type": "stream",
     "text": [
      "0 0.8545634870584456\n",
      "1 0.844512817595508\n",
      "2 0.8623409044310826\n",
      "3 0.8434085407063867\n",
      "4 0.8604498166055498\n",
      "5 0.8572091392902808\n",
      "6 0.8887996551979787\n",
      "7 0.8089147668471224\n",
      "8 0.8824110743990073\n",
      "9 0.8208071537377102\n"
     ]
    }
   ],
   "source": [
    "performances = {}\n",
    "for i in range(10):\n",
    "    algorithme = BaggingRegressor()\n",
    "    algorithme.fit(X_train, y_train)\n",
    "    performance = algorithme.score(X_test, y_test)\n",
    "    print (i, performance)\n",
    "    performances[i] = [performance]"
   ]
  },
  {
   "cell_type": "code",
   "execution_count": 59,
   "metadata": {},
   "outputs": [
    {
     "data": {
      "text/plain": [
       "<AxesSubplot:>"
      ]
     },
     "execution_count": 59,
     "metadata": {},
     "output_type": "execute_result"
    },
    {
     "data": {
      "image/png": "[encoded data removed]",
      "text/plain": [
       "<Figure size 432x288 with 1 Axes>"
      ]
     },
     "metadata": {
      "needs_background": "light"
     },
     "output_type": "display_data"
    }
   ],
   "source": [
    "pd.DataFrame.from_dict(performances).T.plot()"
   ]
  },
  {
   "cell_type": "markdown",
   "metadata": {},
   "source": [
    "## On peut calculer diverses métriques"
   ]
  },
  {
   "cell_type": "code",
   "execution_count": 60,
   "metadata": {},
   "outputs": [],
   "source": [
    "y_pred = algorithme.predict(X_test)"
   ]
  },
  {
   "cell_type": "code",
   "execution_count": 61,
   "metadata": {},
   "outputs": [
    {
     "name": "stdout",
     "output_type": "stream",
     "text": [
      "adjusted_mutual_info_score  =>  -0.0005104014144237845\n",
      "adjusted_rand_score  =>  -0.00041525241909251526\n",
      "completeness_score  =>  0.9080792493885602\n",
      "explained_variance_score  =>  0.8245612741486406\n",
      "fowlkes_mallows_score  =>  0.0\n",
      "homogeneity_score  =>  0.9946442182254858\n",
      "mutual_info_score  =>  4.624929635670679\n",
      "normalized_mutual_info_score  =>  0.9493925843333124\n",
      "r2_score  =>  0.8208071537377102\n",
      "v_measure_score  =>  0.9493925843333123\n"
     ]
    },
    {
     "name": "stderr",
     "output_type": "stream",
     "text": [
      "C:\\Users\\User\\anaconda3\\lib\\site-packages\\sklearn\\utils\\validation.py:67: FutureWarning: Pass greater_is_better=[17.02 44.7   9.62 15.95 23.06 20.27 20.88 20.44 32.75 15.61 21.05 26.63\n",
      "  9.67 27.98 20.91 20.92 30.12 20.59 21.18 25.84  6.13 21.3  21.33 18.28\n",
      " 25.   44.42 45.45 17.51 20.75 34.67  9.27 19.11 20.77 48.71 34.92 18.35\n",
      " 33.02 17.21 15.4  15.56 15.69 19.13 21.63 24.34  9.25 19.24  9.72 15.55\n",
      "  9.5  21.31 28.73 31.07 28.75 42.53 40.93 20.21 17.46 23.15 20.61 24.94\n",
      " 20.55 19.97 22.81 19.1  23.63 25.39 20.02 19.86 23.79 34.71 25.96 19.83\n",
      " 12.1  36.6  46.57 17.06 22.39 34.23 45.39 21.96 24.57 44.61 32.89 24.59\n",
      " 47.85 21.9  21.19 34.41 18.49 20.98 19.76 26.87 12.85 12.32 16.04 14.56\n",
      " 21.16 19.71 19.11 23.45 22.28 18.15 25.52 23.23 32.69 20.11 33.83 43.35\n",
      " 23.19  7.93 20.91 49.23 20.96 21.14 12.8  10.46 23.01 20.55  8.86 11.02\n",
      " 10.9  28.26 21.19  9.04 14.3  36.2   8.22 24.34  7.92 23.77 16.64 14.71\n",
      " 21.37 15.28 19.29 20.21 24.13 14.19 41.95 24.25 19.56  7.21 19.36 47.36\n",
      " 32.01 23.98 23.73 23.28 24.21 14.77 15.18 22.57 23.91 20.37 15.49 22.55\n",
      "  9.09 21.55 38.14 29.78 22.71 19.94 27.64 32.37 20.46 42.37 20.29] as keyword args. From version 0.25 passing these as positional arguments will result in an error\n",
      "  warnings.warn(\"Pass {} as keyword args. From version 0.25 \"\n"
     ]
    }
   ],
   "source": [
    "score_par_metric = {}\n",
    "for scoring_function in scoring_modules[\"metrics\"]:\n",
    "    try:\n",
    "        info         = str(scoring_function)\n",
    "        nom_metrique = info[info.find(\" \"):info.find(\" at \")].strip()\n",
    "        score_algo   = scoring_function(y_test, y_pred)\n",
    "        score_par_metric[nom_metrique] =  [score_algo]\n",
    "        print (nom_metrique, \" => \", score_algo)\n",
    "    except:\n",
    "        pass"
   ]
  },
  {
   "cell_type": "markdown",
   "metadata": {},
   "source": [
    "## on les manipule dans une dataframe pandas"
   ]
  },
  {
   "cell_type": "code",
   "execution_count": 62,
   "metadata": {},
   "outputs": [],
   "source": [
    "df_metriques = pd.DataFrame.from_dict(score_par_metric).T"
   ]
  },
  {
   "cell_type": "code",
   "execution_count": 63,
   "metadata": {},
   "outputs": [
    {
     "data": {
      "text/html": [
       "<div>\n",
       "<style scoped>\n",
       "    .dataframe tbody tr th:only-of-type {\n",
       "        vertical-align: middle;\n",
       "    }\n",
       "\n",
       "    .dataframe tbody tr th {\n",
       "        vertical-align: top;\n",
       "    }\n",
       "\n",
       "    .dataframe thead th {\n",
       "        text-align: right;\n",
       "    }\n",
       "</style>\n",
       "<table border=\"1\" class=\"dataframe\">\n",
       "  <thead>\n",
       "    <tr style=\"text-align: right;\">\n",
       "      <th></th>\n",
       "      <th>score</th>\n",
       "    </tr>\n",
       "  </thead>\n",
       "  <tbody>\n",
       "    <tr>\n",
       "      <th>adjusted_mutual_info_score</th>\n",
       "      <td>-0.000510</td>\n",
       "    </tr>\n",
       "    <tr>\n",
       "      <th>adjusted_rand_score</th>\n",
       "      <td>-0.000415</td>\n",
       "    </tr>\n",
       "    <tr>\n",
       "      <th>fowlkes_mallows_score</th>\n",
       "      <td>0.000000</td>\n",
       "    </tr>\n",
       "    <tr>\n",
       "      <th>r2_score</th>\n",
       "      <td>0.820807</td>\n",
       "    </tr>\n",
       "    <tr>\n",
       "      <th>explained_variance_score</th>\n",
       "      <td>0.824561</td>\n",
       "    </tr>\n",
       "    <tr>\n",
       "      <th>completeness_score</th>\n",
       "      <td>0.908079</td>\n",
       "    </tr>\n",
       "    <tr>\n",
       "      <th>v_measure_score</th>\n",
       "      <td>0.949393</td>\n",
       "    </tr>\n",
       "    <tr>\n",
       "      <th>normalized_mutual_info_score</th>\n",
       "      <td>0.949393</td>\n",
       "    </tr>\n",
       "    <tr>\n",
       "      <th>homogeneity_score</th>\n",
       "      <td>0.994644</td>\n",
       "    </tr>\n",
       "    <tr>\n",
       "      <th>mutual_info_score</th>\n",
       "      <td>4.624930</td>\n",
       "    </tr>\n",
       "  </tbody>\n",
       "</table>\n",
       "</div>"
      ],
      "text/plain": [
       "                                 score\n",
       "adjusted_mutual_info_score   -0.000510\n",
       "adjusted_rand_score          -0.000415\n",
       "fowlkes_mallows_score         0.000000\n",
       "r2_score                      0.820807\n",
       "explained_variance_score      0.824561\n",
       "completeness_score            0.908079\n",
       "v_measure_score               0.949393\n",
       "normalized_mutual_info_score  0.949393\n",
       "homogeneity_score             0.994644\n",
       "mutual_info_score             4.624930"
      ]
     },
     "execution_count": 63,
     "metadata": {},
     "output_type": "execute_result"
    }
   ],
   "source": [
    "colonne_de_score = \"score\"\n",
    "df_metriques.columns = [colonne_de_score]\n",
    "df_metriques.sort_values(colonne_de_score)"
   ]
  },
  {
   "cell_type": "markdown",
   "metadata": {},
   "source": [
    "## on peut les dessiner"
   ]
  },
  {
   "cell_type": "code",
   "execution_count": 64,
   "metadata": {},
   "outputs": [
    {
     "data": {
      "text/plain": [
       "<AxesSubplot:>"
      ]
     },
     "execution_count": 64,
     "metadata": {},
     "output_type": "execute_result"
    },
    {
     "data": {
      "image/png": "[encoded data removed]",
      "text/plain": [
       "<Figure size 432x288 with 1 Axes>"
      ]
     },
     "metadata": {
      "needs_background": "light"
     },
     "output_type": "display_data"
    }
   ],
   "source": [
    "df_metriques.sort_values(by=colonne_de_score).plot(kind=\"barh\")"
   ]
  },
  {
   "cell_type": "markdown",
   "metadata": {},
   "source": [
    "# on s'intéresse en général au r2 et à la variance expliquée"
   ]
  },
  {
   "cell_type": "code",
   "execution_count": null,
   "metadata": {},
   "outputs": [],
   "source": []
  },
  {
   "cell_type": "code",
   "execution_count": null,
   "metadata": {},
   "outputs": [],
   "source": []
  },
  {
   "cell_type": "code",
   "execution_count": null,
   "metadata": {},
   "outputs": [],
   "source": []
  },
  {
   "cell_type": "code",
   "execution_count": null,
   "metadata": {},
   "outputs": [],
   "source": []
  }
 ],
 "metadata": {
  "kernelspec": {
   "display_name": "Python 3",
   "language": "python",
   "name": "python3"
  },
  "language_info": {
   "codemirror_mode": {
    "name": "ipython",
    "version": 3
   },
   "file_extension": ".py",
   "mimetype": "text/x-python",
   "name": "python",
   "nbconvert_exporter": "python",
   "pygments_lexer": "ipython3",
   "version": "3.8.5"
  }
 },
 "nbformat": 4,
 "nbformat_minor": 1
}
