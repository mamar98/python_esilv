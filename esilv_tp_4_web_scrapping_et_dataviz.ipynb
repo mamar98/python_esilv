{
 "cells": [
  {
   "cell_type": "markdown",
   "metadata": {},
   "source": [
    "# 0) installation de package manquant\n",
    "1. appel système avec le point d'exclamation\n",
    "2. appel de l'installateur de package : \n",
    "\n",
    "-pip (python classique )\n",
    "\n",
    "-conda (python anaconda)\n",
    "\n",
    "3. paramétrage de l'installateur avec l'option pour accepter les conditions par défaut d'installation des packages :  -y\n",
    "\n",
    "Exemple : !conda install -y regex\n",
    "\n",
    "#### Sinon, aller voir dans anaconda navigator pour une interface graphique"
   ]
  },
  {
   "cell_type": "code",
   "execution_count": 1,
   "metadata": {},
   "outputs": [
    {
     "name": "stdout",
     "output_type": "stream",
     "text": [
      "Collecting package metadata (current_repodata.json): ...working... done\n",
      "Solving environment: ...working... done\n",
      "\n",
      "# All requested packages already installed.\n",
      "\n"
     ]
    }
   ],
   "source": [
    "!conda install -y regex"
   ]
  },
  {
   "cell_type": "markdown",
   "metadata": {},
   "source": [
    "## usage de jupyter : fusion de cellules \n",
    "# MAJ + M"
   ]
  },
  {
   "cell_type": "markdown",
   "metadata": {},
   "source": [
    "# 1) regular expressions"
   ]
  },
  {
   "cell_type": "code",
   "execution_count": 2,
   "metadata": {},
   "outputs": [],
   "source": [
    "import regex \n",
    "url =\"https://github.com/romainjouin/esilv_5a.git\""
   ]
  },
  {
   "cell_type": "markdown",
   "metadata": {},
   "source": [
    "## 1.1) regex greedy : le .* prend tout ce qu'il peut"
   ]
  },
  {
   "cell_type": "code",
   "execution_count": 3,
   "metadata": {},
   "outputs": [
    {
     "data": {
      "text/plain": [
       "['https://github.com/romainjouin/esilv_5a.git coucou .gitahttps://github.com/romainjouin/esilv_5a.git']"
      ]
     },
     "execution_count": 3,
     "metadata": {},
     "output_type": "execute_result"
    }
   ],
   "source": [
    "pattern = \"https://.*\\.git\"\n",
    "model   = regex.compile(pattern)\n",
    "text    = url + \" coucou .gita\"+url\n",
    "model.findall(text)"
   ]
  },
  {
   "cell_type": "markdown",
   "metadata": {},
   "source": [
    "## 1.2) regex lazzy : le .*? s'arrête dès qu'il peut"
   ]
  },
  {
   "cell_type": "code",
   "execution_count": 4,
   "metadata": {},
   "outputs": [
    {
     "data": {
      "text/plain": [
       "['https://github.com/romainjouin/esilv_5a.git',\n",
       " 'https://github.com/romainjouin/esilv_5a.git']"
      ]
     },
     "execution_count": 4,
     "metadata": {},
     "output_type": "execute_result"
    }
   ],
   "source": [
    "recherche = \".*?\"\n",
    "pattern   = f\"https://{recherche}\\.git\"\n",
    "model     = regex.compile(pattern)\n",
    "model.findall(text)"
   ]
  },
  {
   "cell_type": "markdown",
   "metadata": {},
   "source": [
    "# 2) webscrapping"
   ]
  },
  {
   "cell_type": "code",
   "execution_count": 5,
   "metadata": {},
   "outputs": [],
   "source": [
    "import requests as re         # module de requête http\n",
    "page = re.request('get', url) # on récupère une page \n",
    "html = page.text              # on récupère le contenu html de la page"
   ]
  },
  {
   "cell_type": "markdown",
   "metadata": {},
   "source": [
    "### type de html => string => on peut l'analyser avec des regex !"
   ]
  },
  {
   "cell_type": "code",
   "execution_count": 6,
   "metadata": {},
   "outputs": [
    {
     "data": {
      "text/plain": [
       "str"
      ]
     },
     "execution_count": 6,
     "metadata": {},
     "output_type": "execute_result"
    }
   ],
   "source": [
    "type(html)"
   ]
  },
  {
   "cell_type": "markdown",
   "metadata": {},
   "source": [
    "## 2.1) regex pour la récupération des liens \n",
    "un lien html => (<a href=> < /a>)"
   ]
  },
  {
   "cell_type": "code",
   "execution_count": 7,
   "metadata": {},
   "outputs": [],
   "source": [
    "import regex"
   ]
  },
  {
   "cell_type": "code",
   "execution_count": 8,
   "metadata": {},
   "outputs": [
    {
     "data": {
      "text/plain": [
       "145"
      ]
     },
     "execution_count": 8,
     "metadata": {},
     "output_type": "execute_result"
    }
   ],
   "source": [
    "pattern_lien = \"<a.*/a>\"\n",
    "model        = regex.compile(pattern_lien)\n",
    "liens        = model.findall(html)\n",
    "len(liens)#[:3]"
   ]
  },
  {
   "cell_type": "markdown",
   "metadata": {},
   "source": [
    "Question d'axel: comment récupérer les liens qui ne comprennent pas le mot github ?\n",
    "- changer la regex en ajoutant un point d'exclamation (signifie la négation) avant le .* (idée de nicolas / alexis pense que ça march'ra pas mais il ne veut pas dire de bêtises)\n",
    "- Simon : prendre tous les liens, une seconde regex avec les .git => filtre inversé avec la seconde regex\n",
    "- Lindsay : ne pas utiliser une seconde rgex est il envisageable ?? Très bonne idée !! -> comment faire ? Romain propose de faire un filtre"
   ]
  },
  {
   "cell_type": "markdown",
   "metadata": {},
   "source": [
    "## 2.2) regex sur regex (simon)"
   ]
  },
  {
   "cell_type": "code",
   "execution_count": 9,
   "metadata": {},
   "outputs": [
    {
     "data": {
      "text/plain": [
       "['  <link rel=\"dns-prefetch\" href=\"https://github.git',\n",
       " '  <link rel=\"dns-prefetch\" href=\"https://avatars0.git',\n",
       " '  <link rel=\"dns-prefetch\" href=\"https://avatars1.git']"
      ]
     },
     "execution_count": 9,
     "metadata": {},
     "output_type": "execute_result"
    }
   ],
   "source": [
    "seconde_regex = \".*?\\.git\"\n",
    "\n",
    "second_model = regex.compile(seconde_regex)\n",
    "liens_git = second_model.findall(html)\n",
    "liens_git[:3]"
   ]
  },
  {
   "cell_type": "code",
   "execution_count": 10,
   "metadata": {},
   "outputs": [
    {
     "data": {
      "text/plain": [
       "['<a href=\"#start-of-content\" class=\"px-2 py-4 bg-blue text-white show-on-focus js-skip-to-content\">Skip to content</a>',\n",
       " '<a href=\"/features\" class=\"py-2 lh-condensed-ultra d-block link-gray-dark no-underline h5 Bump-link--hover\" data-ga-click=\"(Logged out) Header, go to Features\">Features <span class=\"Bump-link-symbol float-right text-normal text-gray-light\">&rarr;</span></a>',\n",
       " '<a href=\"/features/code-review/\" class=\"py-2 lh-condensed-ultra d-block link-gray no-underline f5\" data-ga-click=\"(Logged out) Header, go to Code review\">Code review</a>']"
      ]
     },
     "execution_count": 10,
     "metadata": {},
     "output_type": "execute_result"
    }
   ],
   "source": [
    "[lien for lien in liens if not second_model.findall(lien)][:3]"
   ]
  },
  {
   "cell_type": "markdown",
   "metadata": {},
   "source": [
    "## 2.3) filtre (romain)"
   ]
  },
  {
   "cell_type": "code",
   "execution_count": 11,
   "metadata": {},
   "outputs": [],
   "source": [
    "l1 = list(filter(lambda lien: \".git\" not in lien, liens)) \n",
    "l2 = [lien for lien in liens if not second_model.findall(lien)]"
   ]
  },
  {
   "cell_type": "code",
   "execution_count": 12,
   "metadata": {},
   "outputs": [
    {
     "data": {
      "text/plain": [
       "(130, 130)"
      ]
     },
     "execution_count": 12,
     "metadata": {},
     "output_type": "execute_result"
    }
   ],
   "source": [
    "len(l1), len(l2)"
   ]
  },
  {
   "cell_type": "code",
   "execution_count": 13,
   "metadata": {},
   "outputs": [
    {
     "data": {
      "text/plain": [
       "True"
      ]
     },
     "execution_count": 13,
     "metadata": {},
     "output_type": "execute_result"
    }
   ],
   "source": [
    "l1==l2"
   ]
  },
  {
   "cell_type": "markdown",
   "metadata": {},
   "source": [
    "# 3) mieux que les regex : la soupe !"
   ]
  },
  {
   "cell_type": "code",
   "execution_count": 14,
   "metadata": {},
   "outputs": [],
   "source": [
    "from bs4 import BeautifulSoup"
   ]
  },
  {
   "cell_type": "code",
   "execution_count": 15,
   "metadata": {},
   "outputs": [],
   "source": [
    "soup = BeautifulSoup(html)"
   ]
  },
  {
   "cell_type": "markdown",
   "metadata": {},
   "source": [
    "## 3.1) trouver tous les liens"
   ]
  },
  {
   "cell_type": "code",
   "execution_count": 16,
   "metadata": {},
   "outputs": [
    {
     "data": {
      "text/plain": [
       "189"
      ]
     },
     "execution_count": 16,
     "metadata": {},
     "output_type": "execute_result"
    }
   ],
   "source": [
    "selector = \"a\"\n",
    "liens    = soup.find_all(selector)\n",
    "len(liens)"
   ]
  },
  {
   "cell_type": "markdown",
   "metadata": {},
   "source": [
    "## 3.3) trouver les éléments du dom qui ont une certaine classe"
   ]
  },
  {
   "cell_type": "code",
   "execution_count": 17,
   "metadata": {},
   "outputs": [
    {
     "data": {
      "text/plain": [
       "4"
      ]
     },
     "execution_count": 17,
     "metadata": {},
     "output_type": "execute_result"
    }
   ],
   "source": [
    "selector = \"px-2\"\n",
    "nodes    = soup.find_all(class_=selector)\n",
    "len(nodes)"
   ]
  },
  {
   "cell_type": "markdown",
   "metadata": {},
   "source": [
    "## 3.4) trouver les éléments avec deux classes données"
   ]
  },
  {
   "cell_type": "code",
   "execution_count": 18,
   "metadata": {},
   "outputs": [
    {
     "data": {
      "text/plain": [
       "120"
      ]
     },
     "execution_count": 18,
     "metadata": {},
     "output_type": "execute_result"
    }
   ],
   "source": [
    "selector = {'class':['py-2', 'lh-condensed-ultra']}\n",
    "nodes    = soup.find_all(True, selector)\n",
    "len(nodes)"
   ]
  },
  {
   "cell_type": "markdown",
   "metadata": {},
   "source": [
    "# 4) exploration des noeuds"
   ]
  },
  {
   "cell_type": "code",
   "execution_count": 19,
   "metadata": {},
   "outputs": [],
   "source": [
    "un_noeud = nodes[0]"
   ]
  },
  {
   "cell_type": "code",
   "execution_count": 20,
   "metadata": {},
   "outputs": [
    {
     "data": {
      "text/plain": [
       "bs4.element.Tag"
      ]
     },
     "execution_count": 20,
     "metadata": {},
     "output_type": "execute_result"
    }
   ],
   "source": [
    "type(un_noeud)"
   ]
  },
  {
   "cell_type": "markdown",
   "metadata": {},
   "source": [
    "## 4.1) les noeuds ont des textes"
   ]
  },
  {
   "cell_type": "code",
   "execution_count": 21,
   "metadata": {},
   "outputs": [
    {
     "data": {
      "text/plain": [
       "'\\n\\n\\n\\n\\n\\n\\n\\n\\n\\n                Sign\\xa0up\\n              \\n\\n\\n\\n\\n\\n\\n\\n\\n\\n\\n\\n\\n\\n\\n\\n\\n                    Why GitHub?\\n                    \\n\\n\\n\\n\\nFeatures →\\n\\nCode review\\nProject management\\nIntegrations\\nActions\\nPackages\\nSecurity\\nTeam management\\nHosting\\nMobile\\n\\n\\nCustomer stories →\\nSecurity →\\n\\n\\n\\n\\n\\nTeam\\n\\n\\nEnterprise\\n\\n\\n\\n\\n                    Explore\\n                    \\n\\n\\n\\n\\n\\nExplore GitHub →\\n\\nLearn & contribute\\n\\nTopics\\nCollections\\nTrending\\nLearning Lab\\nOpen source guides\\n\\nConnect with others\\n\\nEvents\\nCommunity forum\\nGitHub Education\\nGitHub Stars program\\n\\n\\n\\n\\n\\nMarketplace\\n\\n\\n\\n\\n                    Pricing\\n                    \\n\\n\\n\\n\\nPlans →\\n\\nCompare plans\\nContact Sales\\n\\n\\nNonprofit →\\nEducation →\\n\\n\\n\\n\\n\\n\\n\\n\\n\\n\\n\\n\\n\\n\\n\\n\\n\\n\\n\\n\\n\\n\\n\\n\\n\\n\\n\\n\\n\\n\\n        In this repository\\n      \\n\\n        All GitHub\\n      \\n↵\\n\\n\\n      Jump to\\n      ↵\\n\\n\\n\\n\\n\\n\\nNo suggested jump to results\\n\\n\\n\\n\\n\\n\\n\\n\\n\\n\\n\\n\\n\\n\\n\\n        In this repository\\n      \\n\\n        All GitHub\\n      \\n↵\\n\\n\\n      Jump to\\n      ↵\\n\\n\\n\\n\\n\\n\\n\\n\\n\\n\\n\\n\\n\\n\\n\\n        In this repository\\n      \\n\\n        All GitHub\\n      \\n↵\\n\\n\\n      Jump to\\n      ↵\\n\\n\\n\\n\\n\\n\\n \\n\\n\\n\\n          Sign\\xa0in\\n        \\n\\n              Sign\\xa0up\\n            \\n\\n\\n\\n'"
      ]
     },
     "execution_count": 21,
     "metadata": {},
     "output_type": "execute_result"
    }
   ],
   "source": [
    "un_noeud.text"
   ]
  },
  {
   "cell_type": "code",
   "execution_count": 22,
   "metadata": {},
   "outputs": [
    {
     "data": {
      "text/plain": [
       "1099"
      ]
     },
     "execution_count": 22,
     "metadata": {},
     "output_type": "execute_result"
    }
   ],
   "source": [
    "len(un_noeud.text)"
   ]
  },
  {
   "cell_type": "markdown",
   "metadata": {},
   "source": [
    "## 4.2) on peut se balader dans le DOM "
   ]
  },
  {
   "cell_type": "code",
   "execution_count": 23,
   "metadata": {},
   "outputs": [
    {
     "data": {
      "text/plain": [
       "1120"
      ]
     },
     "execution_count": 23,
     "metadata": {},
     "output_type": "execute_result"
    }
   ],
   "source": [
    "len(un_noeud.parent.text)"
   ]
  },
  {
   "cell_type": "code",
   "execution_count": 24,
   "metadata": {},
   "outputs": [
    {
     "name": "stdout",
     "output_type": "stream",
     "text": [
      "\n",
      "\n",
      "<div class=\"container-xl d-lg-flex flex-items-center p-responsive\">\n",
      "<div class=\"d-flex flex-justify-between flex-items-center\">\n",
      "<a aria-label=\"Homepage\" class=\"mr-4\" data-ga-click=\"(Logged out) Header, go to homepage, icon:logo-wordmark\" href=\"https://github.com/\">\n",
      "<svg aria-hidden=\"true\" class=\"octicon octicon-mark-github text-white\" height=\"32\" version=\"1.1\" viewbox=\"0 0 16 16\" width=\"32\"><path d=\"M8 0C3.58 0 0 3.58 0 8c0 3.54 2.29 6.53 5.47 7.59.4.07.55-.17.55-.38 0-.19-.01-.82-.01-1.49-2.01.37-2.53-.49-2.69-.94-.09-.23-.48-.94-.82-1.13-.28-.15-.68-.52-.01-.53.63-.01 1.08.58 1.23.82.72 1.21 1.87.87 2.33.66.07-.52.28-.87.51-1.07-1.78-.2-3.64-.89-3.64-3.95 0-.87.31-1.59.82-2.15-.08-.2-.36-1.02.08-2.12 0 0 .67-.21 2.2.82.64-.18 1.32-.27 2-.27.68 0 1.36.09 2 .27 1.53-1.04 2.2-.82 2.2-.82.44 1.1.16 1.92.08 2.12.51.56.82 1.27.82 2.15 0 3.07-1.87 3.75-3.65 3.95.29.25.54.73.54 1.48 0 1.07-.01 1.93-.01 2.2 0 .21.15.46.55.38A8.013 8.013 0 0016 8c0-4.42-3.58-8-8-8z\" fill-rule=\"evenodd\"></path></svg>\n",
      "</a>\n",
      "<div class=\"d-lg-none css-truncate css-truncate-target width-fit p-2\">\n",
      "</div>\n",
      "<div class=\"d-flex flex-items-center\">\n",
      "<a class=\"d-inline-block d-lg-none f5 text-white no-underline border border-gray-dark rounded-2 px-2 py-1 mr-3 mr-sm-5\" data-ga-click=\"Sign up, click to sign up for account, ref_page:/&lt;user-name&gt;/&lt;repo-name&gt;;ref_cta:Sign up;ref_loc:header logged out\" data-hydro-click='{\"event_type\":\"authentication.click\",\"payload\":{\"location_in_page\":\"site header\",\"repository_id\":null,\"auth_type\":\"SIGN_UP\",\"originating_url\":\"https://github.com/romainjouin/esilv_5a\",\"user_id\":null}}' data-hydro-click-hmac=\"a8338691c86dfbf25e7930f011c7ba6458699390c20f51557f6f44dbe220d513\" href=\"/join?ref_cta=Sign+up&amp;ref_loc=header+logged+out&amp;ref_page=%2F%3Cuser-name%3E%2F%3Crepo-name%3E&amp;source=header-repo\">\n",
      "                Sign up\n",
      "              </a>\n",
      "<button aria-expanded=\"false\" aria-label=\"Toggle navigation\" class=\"btn-link d-lg-none mt-1 js-details-target\" type=\"button\">\n",
      "<svg aria-hidden=\"true\" class=\"octicon octicon-three-bars text-white\" height=\"24\" version=\"1.1\" viewbox=\"0 0 16 16\" width=\"24\"><path d=\"M1 2.75A.75.75 0 011.75 2h12.5a.75.75 0 110 1.5H1.75A.75.75 0 011 2.75zm0 5A.75.75 0 011.75 7h12.5a.75.75 0 110 1.5H1.75A.75.75 0 011 7.75zM1.75 12a.75.75 0 100 1.5h12.5a.75.75 0 100-1.5H1.75z\" fill-rule=\"evenodd\"></path></svg>\n",
      "</button>\n",
      "</div>\n",
      "</div>\n",
      "<div class=\"HeaderMenu HeaderMenu--logged-out position-fixed top-0 right-0 bottom-0 height-fit position-lg-relative d-lg-flex flex-justify-between flex-items-center flex-auto\">\n",
      "<div class=\"d-flex d-lg-none flex-justify-end border-bottom bg-gray-light p-3\">\n",
      "<button aria-expanded=\"false\" aria-label=\"Toggle navigation\" class=\"btn-link js-details-target\" type=\"button\">\n",
      "<svg aria-hidden=\"true\" class=\"octicon octicon-x text-gray\" height=\"24\" version=\"1.1\" viewbox=\"0 0 24 24\" width=\"24\"><path d=\"M5.72 5.72a.75.75 0 011.06 0L12 10.94l5.22-5.22a.75.75 0 111.06 1.06L13.06 12l5.22 5.22a.75.75 0 11-1.06 1.06L12 13.06l-5.22 5.22a.75.75 0 01-1.06-1.06L10.94 12 5.72 6.78a.75.75 0 010-1.06z\" fill-rule=\"evenodd\"></path></svg>\n",
      "</button>\n",
      "</div>\n",
      "<nav aria-label=\"Global\" class=\"mt-0 px-3 px-lg-0 mb-5 mb-lg-0\">\n",
      "<ul class=\"d-lg-flex list-style-none\">\n",
      "<li class=\"d-block d-lg-flex flex-lg-nowrap flex-lg-items-center border-bottom border-lg-bottom-0 mr-0 mr-lg-3 edge-item-fix position-relative flex-wrap flex-justify-between d-flex flex-items-center\">\n",
      "<details class=\"HeaderMenu-details details-overlay details-reset width-full\">\n",
      "<summary class=\"HeaderMenu-summary HeaderMenu-link px-0 py-3 border-0 no-wrap d-block d-lg-inline-block\">\n",
      "                    Why GitHub?\n",
      "                    <svg class=\"icon-chevon-down-mktg position-absolute position-lg-relative\" fill=\"none\" viewbox=\"0 0 14 8\" x=\"0px\" xml:space=\"preserve\" y=\"0px\">\n",
      "<path d=\"M1,1l6.2,6L13,1\"></path>\n",
      "</svg>\n",
      "</summary>\n",
      "<div class=\"dropdown-menu flex-auto rounded-1 bg-white px-0 mt-0 pb-4 p-lg-4 position-relative position-lg-absolute left-0 left-lg-n4\">\n",
      "<a class=\"py-2 lh-condensed-ultra d-block link-gray-dark no-underline h5 Bump-link--hover\" data-ga-click=\"(Logged out) Header, go to Features\" href=\"/features\">Features <span class=\"Bump-link-symbol float-right text-normal text-gray-light\">→</span></a>\n",
      "<ul class=\"list-style-none f5 pb-3\">\n",
      "<li class=\"edge-item-fix\"><a class=\"py-2 lh-condensed-ultra d-block link-gray no-underline f5\" data-ga-click=\"(Logged out) Header, go to Code review\" href=\"/features/code-review/\">Code review</a></li>\n",
      "<li class=\"edge-item-fix\"><a class=\"py-2 lh-condensed-ultra d-block link-gray no-underline f5\" data-ga-click=\"(Logged out) Header, go to Project management\" href=\"/features/project-management/\">Project management</a></li>\n",
      "<li class=\"edge-item-fix\"><a class=\"py-2 lh-condensed-ultra d-block link-gray no-underline f5\" data-ga-click=\"(Logged out) Header, go to Integrations\" href=\"/features/integrations\">Integrations</a></li>\n",
      "<li class=\"edge-item-fix\"><a class=\"py-2 lh-condensed-ultra d-block link-gray no-underline f5\" data-ga-click=\"(Logged out) Header, go to Actions\" href=\"/features/actions\">Actions</a></li>\n",
      "<li class=\"edge-item-fix\"><a class=\"py-2 lh-condensed-ultra d-block link-gray no-underline f5\" data-ga-click=\"(Logged out) Header, go to GitHub Packages\" href=\"/features/packages\">Packages</a></li>\n",
      "<li class=\"edge-item-fix\"><a class=\"py-2 lh-condensed-ultra d-block link-gray no-underline f5\" data-ga-click=\"(Logged out) Header, go to Security\" href=\"/features/security\">Security</a></li>\n",
      "<li class=\"edge-item-fix\"><a class=\"py-2 lh-condensed-ultra d-block link-gray no-underline f5\" data-ga-click=\"(Logged out) Header, go to Team management\" href=\"/features#team-management\">Team management</a></li>\n",
      "<li class=\"edge-item-fix\"><a class=\"py-2 lh-condensed-ultra d-block link-gray no-underline f5\" data-ga-click=\"(Logged out) Header, go to Code hosting\" href=\"/features#hosting\">Hosting</a></li>\n",
      "<li class=\"edge-item-fix hide-xl\"><a class=\"py-2 lh-condensed-ultra d-block link-gray no-underline f5\" data-ga-click=\"(Logged out) Header, go to Mobile\" href=\"/mobile\">Mobile</a></li>\n",
      "</ul>\n",
      "<ul class=\"list-style-none mb-0 border-lg-top pt-lg-3\">\n",
      "<li class=\"edge-item-fix\"><a class=\"py-2 lh-condensed-ultra d-block no-underline link-gray-dark no-underline h5 Bump-link--hover\" data-ga-click=\"(Logged out) Header, go to Customer stories\" href=\"/customer-stories\">Customer stories <span class=\"Bump-link-symbol float-right text-normal text-gray-light\">→</span></a></li>\n",
      "<li class=\"edge-item-fix\"><a class=\"py-2 lh-condensed-ultra d-block no-underline link-gray-dark no-underline h5 Bump-link--hover\" data-ga-click=\"(Logged out) Header, go to Security\" href=\"/security\">Security <span class=\"Bump-link-symbol float-right text-normal text-gray-light\">→</span></a></li>\n",
      "</ul>\n",
      "</div>\n",
      "</details>\n",
      "</li>\n",
      "<li class=\"border-bottom border-lg-bottom-0 mr-0 mr-lg-3\">\n",
      "<a class=\"HeaderMenu-link no-underline py-3 d-block d-lg-inline-block\" data-ga-click=\"(Logged out) Header, go to Team\" href=\"/team\">Team</a>\n",
      "</li>\n",
      "<li class=\"border-bottom border-lg-bottom-0 mr-0 mr-lg-3\">\n",
      "<a class=\"HeaderMenu-link no-underline py-3 d-block d-lg-inline-block\" data-ga-click=\"(Logged out) Header, go to Enterprise\" href=\"/enterprise\">Enterprise</a>\n",
      "</li>\n",
      "<li class=\"d-block d-lg-flex flex-lg-nowrap flex-lg-items-center border-bottom border-lg-bottom-0 mr-0 mr-lg-3 edge-item-fix position-relative flex-wrap flex-justify-between d-flex flex-items-center\">\n",
      "<details class=\"HeaderMenu-details details-overlay details-reset width-full\">\n",
      "<summary class=\"HeaderMenu-summary HeaderMenu-link px-0 py-3 border-0 no-wrap d-block d-lg-inline-block\">\n",
      "                    Explore\n",
      "                    <svg class=\"icon-chevon-down-mktg position-absolute position-lg-relative\" fill=\"none\" viewbox=\"0 0 14 8\" x=\"0px\" xml:space=\"preserve\" y=\"0px\">\n",
      "<path d=\"M1,1l6.2,6L13,1\"></path>\n",
      "</svg>\n",
      "</summary>\n",
      "<div class=\"dropdown-menu flex-auto rounded-1 bg-white px-0 pt-2 pb-0 mt-0 pb-4 p-lg-4 position-relative position-lg-absolute left-0 left-lg-n4\">\n",
      "<ul class=\"list-style-none mb-3\">\n",
      "<li class=\"edge-item-fix\"><a class=\"py-2 lh-condensed-ultra d-block link-gray-dark no-underline h5 Bump-link--hover\" data-ga-click=\"(Logged out) Header, go to Explore\" href=\"/explore\">Explore GitHub <span class=\"Bump-link-symbol float-right text-normal text-gray-light\">→</span></a></li>\n",
      "</ul>\n",
      "<h4 class=\"text-gray-light text-normal text-mono f5 mb-2 border-lg-top pt-lg-3\">Learn &amp; contribute</h4>\n",
      "<ul class=\"list-style-none mb-3\">\n",
      "<li class=\"edge-item-fix\"><a class=\"py-2 lh-condensed-ultra d-block link-gray no-underline f5\" data-ga-click=\"(Logged out) Header, go to Topics\" href=\"/topics\">Topics</a></li>\n",
      "<li class=\"edge-item-fix\"><a class=\"py-2 lh-condensed-ultra d-block link-gray no-underline f5\" data-ga-click=\"(Logged out) Header, go to Collections\" href=\"/collections\">Collections</a></li>\n",
      "<li class=\"edge-item-fix\"><a class=\"py-2 lh-condensed-ultra d-block link-gray no-underline f5\" data-ga-click=\"(Logged out) Header, go to Trending\" href=\"/trending\">Trending</a></li>\n",
      "<li class=\"edge-item-fix\"><a class=\"py-2 lh-condensed-ultra d-block link-gray no-underline f5\" data-ga-click=\"(Logged out) Header, go to Learning lab\" href=\"https://lab.github.com/\">Learning Lab</a></li>\n",
      "<li class=\"edge-item-fix\"><a class=\"py-2 lh-condensed-ultra d-block link-gray no-underline f5\" data-ga-click=\"(Logged out) Header, go to Open source guides\" href=\"https://opensource.guide\">Open source guides</a></li>\n",
      "</ul>\n",
      "<h4 class=\"text-gray-light text-normal text-mono f5 mb-2 border-lg-top pt-lg-3\">Connect with others</h4>\n",
      "<ul class=\"list-style-none mb-0\">\n",
      "<li class=\"edge-item-fix\"><a class=\"py-2 lh-condensed-ultra d-block link-gray no-underline f5\" data-ga-click=\"(Logged out) Header, go to Events\" href=\"https://github.com/events\">Events</a></li>\n",
      "<li class=\"edge-item-fix\"><a class=\"py-2 lh-condensed-ultra d-block link-gray no-underline f5\" data-ga-click=\"(Logged out) Header, go to Community forum\" href=\"https://github.community\">Community forum</a></li>\n",
      "<li class=\"edge-item-fix\"><a class=\"py-2 lh-condensed-ultra d-block link-gray no-underline f5\" data-ga-click=\"(Logged out) Header, go to GitHub Education\" href=\"https://education.github.com\">GitHub Education</a></li>\n",
      "<li class=\"edge-item-fix\"><a class=\"py-2 pb-0 lh-condensed-ultra d-block link-gray no-underline f5\" data-ga-click=\"(Logged out) Header, go to GitHub Stars Program\" href=\"https://stars.github.com\">GitHub Stars program</a></li>\n",
      "</ul>\n",
      "</div>\n",
      "</details>\n",
      "</li>\n",
      "<li class=\"border-bottom border-lg-bottom-0 mr-0 mr-lg-3\">\n",
      "<a class=\"HeaderMenu-link no-underline py-3 d-block d-lg-inline-block\" data-ga-click=\"(Logged out) Header, go to Marketplace\" href=\"/marketplace\">Marketplace</a>\n",
      "</li>\n",
      "<li class=\"d-block d-lg-flex flex-lg-nowrap flex-lg-items-center border-bottom border-lg-bottom-0 mr-0 mr-lg-3 edge-item-fix position-relative flex-wrap flex-justify-between d-flex flex-items-center\">\n",
      "<details class=\"HeaderMenu-details details-overlay details-reset width-full\">\n",
      "<summary class=\"HeaderMenu-summary HeaderMenu-link px-0 py-3 border-0 no-wrap d-block d-lg-inline-block\">\n",
      "                    Pricing\n",
      "                    <svg class=\"icon-chevon-down-mktg position-absolute position-lg-relative\" fill=\"none\" viewbox=\"0 0 14 8\" x=\"0px\" xml:space=\"preserve\" y=\"0px\">\n",
      "<path d=\"M1,1l6.2,6L13,1\"></path>\n",
      "</svg>\n",
      "</summary>\n",
      "<div class=\"dropdown-menu flex-auto rounded-1 bg-white px-0 pt-2 pb-4 mt-0 p-lg-4 position-relative position-lg-absolute left-0 left-lg-n4\">\n",
      "<a class=\"pb-2 lh-condensed-ultra d-block link-gray-dark no-underline h5 Bump-link--hover\" data-ga-click=\"(Logged out) Header, go to Pricing\" href=\"/pricing\">Plans <span class=\"Bump-link-symbol float-right text-normal text-gray-light\">→</span></a>\n",
      "<ul class=\"list-style-none mb-3\">\n",
      "<li class=\"edge-item-fix\"><a class=\"py-2 lh-condensed-ultra d-block link-gray no-underline f5\" data-ga-click=\"(Logged out) Header, go to Compare plans\" href=\"/pricing#feature-comparison\">Compare plans</a></li>\n",
      "<li class=\"edge-item-fix\"><a class=\"py-2 lh-condensed-ultra d-block link-gray no-underline f5\" data-ga-click=\"(Logged out) Header, go to Contact Sales\" href=\"https://enterprise.github.com/contact\">Contact Sales</a></li>\n",
      "</ul>\n",
      "<ul class=\"list-style-none mb-0 border-lg-top pt-lg-3\">\n",
      "<li class=\"edge-item-fix\"><a class=\"py-2 lh-condensed-ultra d-block no-underline link-gray-dark no-underline h5 Bump-link--hover\" data-ga-click=\"(Logged out) Header, go to Nonprofits\" href=\"/nonprofit\">Nonprofit <span class=\"Bump-link-symbol float-right text-normal text-gray-light\">→</span></a></li>\n",
      "<li class=\"edge-item-fix\"><a class=\"py-2 pb-0 lh-condensed-ultra d-block no-underline link-gray-dark no-underline h5 Bump-link--hover\" data-ga-click=\"(Logged out) Header, go to Education\" href=\"https://education.github.com\">Education <span class=\"Bump-link-symbol float-right text-normal text-gray-light\">→</span></a></li>\n",
      "</ul>\n",
      "</div>\n",
      "</details>\n",
      "</li>\n",
      "</ul>\n",
      "</nav>\n",
      "<div class=\"d-lg-flex flex-items-center px-3 px-lg-0 text-center text-lg-left\">\n",
      "<div class=\"d-lg-flex mb-3 mb-lg-0\">\n",
      "<div aria-expanded=\"false\" aria-haspopup=\"listbox\" aria-label=\"Search or jump to\" aria-owns=\"jump-to-results\" class=\"header-search flex-auto js-site-search position-relative flex-self-stretch flex-md-self-auto mb-3 mb-md-0 mr-0 mr-md-3 scoped-search site-scoped-search js-jump-to\" role=\"combobox\">\n",
      "<div class=\"position-relative\">\n",
      "<!-- '\"` --><!-- </textarea></xmp> --><form accept-charset=\"UTF-8\" action=\"/romainjouin/esilv_5a/search\" aria-label=\"Site\" class=\"js-site-search-form\" data-scope-id=\"203671528\" data-scope-type=\"Repository\" data-scoped-search-url=\"/romainjouin/esilv_5a/search\" data-unscoped-search-url=\"/search\" method=\"get\" role=\"search\">\n",
      "<label class=\"form-control input-sm header-search-wrapper p-0 js-chromeless-input-container header-search-wrapper-jump-to position-relative d-flex flex-justify-between flex-items-center\">\n",
      "<input aria-autocomplete=\"list\" aria-controls=\"jump-to-results\" aria-label=\"Search\" autocapitalize=\"off\" autocomplete=\"off\" class=\"form-control input-sm header-search-input jump-to-field js-jump-to-field js-site-search-focus js-site-search-field is-clearable\" data-hotkey=\"s,/\" data-jump-to-suggestions-path=\"/_graphql/GetSuggestedNavigationDestinations\" data-scoped-placeholder=\"Search\" data-unscoped-placeholder=\"Search GitHub\" name=\"q\" placeholder=\"Search\" spellcheck=\"false\" type=\"text\" value=\"\"/>\n",
      "<input class=\"js-data-jump-to-suggestions-path-csrf\" data-csrf=\"true\" type=\"hidden\" value=\"AL2ODs0g3KSl8OhH+kOjPi9AhtMayVIRUALdbXUyMpCow5hZwITbsZafa9Ly2a9f49TMaFL+kOxA429Bk1WC8A==\"/>\n",
      "<input class=\"js-site-search-type-field\" name=\"type\" type=\"hidden\"/>\n",
      "<img alt=\"\" class=\"mr-2 header-search-key-slash\" src=\"https://github.githubassets.com/images/search-key-slash.svg\"/>\n",
      "<div class=\"Box position-absolute overflow-hidden d-none jump-to-suggestions js-jump-to-suggestions-container\">\n",
      "<ul class=\"d-none js-jump-to-suggestions-template-container\">\n",
      "<li class=\"d-flex flex-justify-start flex-items-center p-0 f5 navigation-item js-navigation-item js-jump-to-suggestion\" role=\"option\">\n",
      "<a class=\"no-underline d-flex flex-auto flex-items-center jump-to-suggestions-path js-jump-to-suggestion-path js-navigation-open p-2\" href=\"\" tabindex=\"-1\">\n",
      "<div class=\"jump-to-octicon js-jump-to-octicon flex-shrink-0 mr-2 text-center d-none\">\n",
      "<svg aria-label=\"Repository\" class=\"octicon octicon-repo flex-shrink-0 js-jump-to-octicon-repo d-none\" height=\"16\" role=\"img\" title=\"Repository\" version=\"1.1\" viewbox=\"0 0 16 16\" width=\"16\"><path d=\"M2 2.5A2.5 2.5 0 014.5 0h8.75a.75.75 0 01.75.75v12.5a.75.75 0 01-.75.75h-2.5a.75.75 0 110-1.5h1.75v-2h-8a1 1 0 00-.714 1.7.75.75 0 01-1.072 1.05A2.495 2.495 0 012 11.5v-9zm10.5-1V9h-8c-.356 0-.694.074-1 .208V2.5a1 1 0 011-1h8zM5 12.25v3.25a.25.25 0 00.4.2l1.45-1.087a.25.25 0 01.3 0L8.6 15.7a.25.25 0 00.4-.2v-3.25a.25.25 0 00-.25-.25h-3.5a.25.25 0 00-.25.25z\" fill-rule=\"evenodd\"></path></svg>\n",
      "<svg aria-label=\"Project\" class=\"octicon octicon-project flex-shrink-0 js-jump-to-octicon-project d-none\" height=\"16\" role=\"img\" title=\"Project\" version=\"1.1\" viewbox=\"0 0 16 16\" width=\"16\"><path d=\"M1.75 0A1.75 1.75 0 000 1.75v12.5C0 15.216.784 16 1.75 16h12.5A1.75 1.75 0 0016 14.25V1.75A1.75 1.75 0 0014.25 0H1.75zM1.5 1.75a.25.25 0 01.25-.25h12.5a.25.25 0 01.25.25v12.5a.25.25 0 01-.25.25H1.75a.25.25 0 01-.25-.25V1.75zM11.75 3a.75.75 0 00-.75.75v7.5a.75.75 0 001.5 0v-7.5a.75.75 0 00-.75-.75zm-8.25.75a.75.75 0 011.5 0v5.5a.75.75 0 01-1.5 0v-5.5zM8 3a.75.75 0 00-.75.75v3.5a.75.75 0 001.5 0v-3.5A.75.75 0 008 3z\" fill-rule=\"evenodd\"></path></svg>\n",
      "<svg aria-label=\"Search\" class=\"octicon octicon-search flex-shrink-0 js-jump-to-octicon-search d-none\" height=\"16\" role=\"img\" title=\"Search\" version=\"1.1\" viewbox=\"0 0 16 16\" width=\"16\"><path d=\"M11.5 7a4.499 4.499 0 11-8.998 0A4.499 4.499 0 0111.5 7zm-.82 4.74a6 6 0 111.06-1.06l3.04 3.04a.75.75 0 11-1.06 1.06l-3.04-3.04z\" fill-rule=\"evenodd\"></path></svg>\n",
      "</div>\n",
      "<img alt=\"\" aria-label=\"Team\" class=\"avatar mr-2 flex-shrink-0 js-jump-to-suggestion-avatar d-none\" height=\"28\" src=\"\" width=\"28\"/>\n",
      "<div class=\"jump-to-suggestion-name js-jump-to-suggestion-name flex-auto overflow-hidden text-left no-wrap css-truncate css-truncate-target\">\n",
      "</div>\n",
      "<div class=\"border rounded-1 flex-shrink-0 bg-gray px-1 text-gray-light ml-1 f6 d-none js-jump-to-badge-search\">\n",
      "<span aria-label=\"in this repository\" class=\"js-jump-to-badge-search-text-default d-none\">\n",
      "        In this repository\n",
      "      </span>\n",
      "<span aria-label=\"in all of GitHub\" class=\"js-jump-to-badge-search-text-global d-none\">\n",
      "        All GitHub\n",
      "      </span>\n",
      "<span aria-hidden=\"true\" class=\"d-inline-block ml-1 v-align-middle\">↵</span>\n",
      "</div>\n",
      "<div aria-hidden=\"true\" class=\"border rounded-1 flex-shrink-0 bg-gray px-1 text-gray-light ml-1 f6 d-none d-on-nav-focus js-jump-to-badge-jump\">\n",
      "      Jump to\n",
      "      <span class=\"d-inline-block ml-1 v-align-middle\">↵</span>\n",
      "</div>\n",
      "</a>\n",
      "</li>\n",
      "</ul>\n",
      "<ul class=\"d-none js-jump-to-no-results-template-container\">\n",
      "<li class=\"d-flex flex-justify-center flex-items-center f5 d-none js-jump-to-suggestion p-2\">\n",
      "<span class=\"text-gray\">No suggested jump to results</span>\n",
      "</li>\n",
      "</ul>\n",
      "<ul class=\"p-0 m-0 js-navigation-container jump-to-suggestions-results-container js-jump-to-suggestions-results-container\" id=\"jump-to-results\" role=\"listbox\">\n",
      "<li class=\"d-flex flex-justify-start flex-items-center p-0 f5 navigation-item js-navigation-item js-jump-to-scoped-search d-none\" role=\"option\">\n",
      "<a class=\"no-underline d-flex flex-auto flex-items-center jump-to-suggestions-path js-jump-to-suggestion-path js-navigation-open p-2\" href=\"\" tabindex=\"-1\">\n",
      "<div class=\"jump-to-octicon js-jump-to-octicon flex-shrink-0 mr-2 text-center d-none\">\n",
      "<svg aria-label=\"Repository\" class=\"octicon octicon-repo flex-shrink-0 js-jump-to-octicon-repo d-none\" height=\"16\" role=\"img\" title=\"Repository\" version=\"1.1\" viewbox=\"0 0 16 16\" width=\"16\"><path d=\"M2 2.5A2.5 2.5 0 014.5 0h8.75a.75.75 0 01.75.75v12.5a.75.75 0 01-.75.75h-2.5a.75.75 0 110-1.5h1.75v-2h-8a1 1 0 00-.714 1.7.75.75 0 01-1.072 1.05A2.495 2.495 0 012 11.5v-9zm10.5-1V9h-8c-.356 0-.694.074-1 .208V2.5a1 1 0 011-1h8zM5 12.25v3.25a.25.25 0 00.4.2l1.45-1.087a.25.25 0 01.3 0L8.6 15.7a.25.25 0 00.4-.2v-3.25a.25.25 0 00-.25-.25h-3.5a.25.25 0 00-.25.25z\" fill-rule=\"evenodd\"></path></svg>\n",
      "<svg aria-label=\"Project\" class=\"octicon octicon-project flex-shrink-0 js-jump-to-octicon-project d-none\" height=\"16\" role=\"img\" title=\"Project\" version=\"1.1\" viewbox=\"0 0 16 16\" width=\"16\"><path d=\"M1.75 0A1.75 1.75 0 000 1.75v12.5C0 15.216.784 16 1.75 16h12.5A1.75 1.75 0 0016 14.25V1.75A1.75 1.75 0 0014.25 0H1.75zM1.5 1.75a.25.25 0 01.25-.25h12.5a.25.25 0 01.25.25v12.5a.25.25 0 01-.25.25H1.75a.25.25 0 01-.25-.25V1.75zM11.75 3a.75.75 0 00-.75.75v7.5a.75.75 0 001.5 0v-7.5a.75.75 0 00-.75-.75zm-8.25.75a.75.75 0 011.5 0v5.5a.75.75 0 01-1.5 0v-5.5zM8 3a.75.75 0 00-.75.75v3.5a.75.75 0 001.5 0v-3.5A.75.75 0 008 3z\" fill-rule=\"evenodd\"></path></svg>\n",
      "<svg aria-label=\"Search\" class=\"octicon octicon-search flex-shrink-0 js-jump-to-octicon-search d-none\" height=\"16\" role=\"img\" title=\"Search\" version=\"1.1\" viewbox=\"0 0 16 16\" width=\"16\"><path d=\"M11.5 7a4.499 4.499 0 11-8.998 0A4.499 4.499 0 0111.5 7zm-.82 4.74a6 6 0 111.06-1.06l3.04 3.04a.75.75 0 11-1.06 1.06l-3.04-3.04z\" fill-rule=\"evenodd\"></path></svg>\n",
      "</div>\n",
      "<img alt=\"\" aria-label=\"Team\" class=\"avatar mr-2 flex-shrink-0 js-jump-to-suggestion-avatar d-none\" height=\"28\" src=\"\" width=\"28\"/>\n",
      "<div class=\"jump-to-suggestion-name js-jump-to-suggestion-name flex-auto overflow-hidden text-left no-wrap css-truncate css-truncate-target\">\n",
      "</div>\n",
      "<div class=\"border rounded-1 flex-shrink-0 bg-gray px-1 text-gray-light ml-1 f6 d-none js-jump-to-badge-search\">\n",
      "<span aria-label=\"in this repository\" class=\"js-jump-to-badge-search-text-default d-none\">\n",
      "        In this repository\n",
      "      </span>\n",
      "<span aria-label=\"in all of GitHub\" class=\"js-jump-to-badge-search-text-global d-none\">\n",
      "        All GitHub\n",
      "      </span>\n",
      "<span aria-hidden=\"true\" class=\"d-inline-block ml-1 v-align-middle\">↵</span>\n",
      "</div>\n",
      "<div aria-hidden=\"true\" class=\"border rounded-1 flex-shrink-0 bg-gray px-1 text-gray-light ml-1 f6 d-none d-on-nav-focus js-jump-to-badge-jump\">\n",
      "      Jump to\n",
      "      <span class=\"d-inline-block ml-1 v-align-middle\">↵</span>\n",
      "</div>\n",
      "</a>\n",
      "</li>\n",
      "<li class=\"d-flex flex-justify-start flex-items-center p-0 f5 navigation-item js-navigation-item js-jump-to-global-search d-none\" role=\"option\">\n",
      "<a class=\"no-underline d-flex flex-auto flex-items-center jump-to-suggestions-path js-jump-to-suggestion-path js-navigation-open p-2\" href=\"\" tabindex=\"-1\">\n",
      "<div class=\"jump-to-octicon js-jump-to-octicon flex-shrink-0 mr-2 text-center d-none\">\n",
      "<svg aria-label=\"Repository\" class=\"octicon octicon-repo flex-shrink-0 js-jump-to-octicon-repo d-none\" height=\"16\" role=\"img\" title=\"Repository\" version=\"1.1\" viewbox=\"0 0 16 16\" width=\"16\"><path d=\"M2 2.5A2.5 2.5 0 014.5 0h8.75a.75.75 0 01.75.75v12.5a.75.75 0 01-.75.75h-2.5a.75.75 0 110-1.5h1.75v-2h-8a1 1 0 00-.714 1.7.75.75 0 01-1.072 1.05A2.495 2.495 0 012 11.5v-9zm10.5-1V9h-8c-.356 0-.694.074-1 .208V2.5a1 1 0 011-1h8zM5 12.25v3.25a.25.25 0 00.4.2l1.45-1.087a.25.25 0 01.3 0L8.6 15.7a.25.25 0 00.4-.2v-3.25a.25.25 0 00-.25-.25h-3.5a.25.25 0 00-.25.25z\" fill-rule=\"evenodd\"></path></svg>\n",
      "<svg aria-label=\"Project\" class=\"octicon octicon-project flex-shrink-0 js-jump-to-octicon-project d-none\" height=\"16\" role=\"img\" title=\"Project\" version=\"1.1\" viewbox=\"0 0 16 16\" width=\"16\"><path d=\"M1.75 0A1.75 1.75 0 000 1.75v12.5C0 15.216.784 16 1.75 16h12.5A1.75 1.75 0 0016 14.25V1.75A1.75 1.75 0 0014.25 0H1.75zM1.5 1.75a.25.25 0 01.25-.25h12.5a.25.25 0 01.25.25v12.5a.25.25 0 01-.25.25H1.75a.25.25 0 01-.25-.25V1.75zM11.75 3a.75.75 0 00-.75.75v7.5a.75.75 0 001.5 0v-7.5a.75.75 0 00-.75-.75zm-8.25.75a.75.75 0 011.5 0v5.5a.75.75 0 01-1.5 0v-5.5zM8 3a.75.75 0 00-.75.75v3.5a.75.75 0 001.5 0v-3.5A.75.75 0 008 3z\" fill-rule=\"evenodd\"></path></svg>\n",
      "<svg aria-label=\"Search\" class=\"octicon octicon-search flex-shrink-0 js-jump-to-octicon-search d-none\" height=\"16\" role=\"img\" title=\"Search\" version=\"1.1\" viewbox=\"0 0 16 16\" width=\"16\"><path d=\"M11.5 7a4.499 4.499 0 11-8.998 0A4.499 4.499 0 0111.5 7zm-.82 4.74a6 6 0 111.06-1.06l3.04 3.04a.75.75 0 11-1.06 1.06l-3.04-3.04z\" fill-rule=\"evenodd\"></path></svg>\n",
      "</div>\n",
      "<img alt=\"\" aria-label=\"Team\" class=\"avatar mr-2 flex-shrink-0 js-jump-to-suggestion-avatar d-none\" height=\"28\" src=\"\" width=\"28\"/>\n",
      "<div class=\"jump-to-suggestion-name js-jump-to-suggestion-name flex-auto overflow-hidden text-left no-wrap css-truncate css-truncate-target\">\n",
      "</div>\n",
      "<div class=\"border rounded-1 flex-shrink-0 bg-gray px-1 text-gray-light ml-1 f6 d-none js-jump-to-badge-search\">\n",
      "<span aria-label=\"in this repository\" class=\"js-jump-to-badge-search-text-default d-none\">\n",
      "        In this repository\n",
      "      </span>\n",
      "<span aria-label=\"in all of GitHub\" class=\"js-jump-to-badge-search-text-global d-none\">\n",
      "        All GitHub\n",
      "      </span>\n",
      "<span aria-hidden=\"true\" class=\"d-inline-block ml-1 v-align-middle\">↵</span>\n",
      "</div>\n",
      "<div aria-hidden=\"true\" class=\"border rounded-1 flex-shrink-0 bg-gray px-1 text-gray-light ml-1 f6 d-none d-on-nav-focus js-jump-to-badge-jump\">\n",
      "      Jump to\n",
      "      <span class=\"d-inline-block ml-1 v-align-middle\">↵</span>\n",
      "</div>\n",
      "</a>\n",
      "</li>\n",
      "</ul>\n",
      "</div>\n",
      "</label>\n",
      "</form> </div>\n",
      "</div>\n",
      "</div>\n",
      "<a class=\"HeaderMenu-link no-underline mr-3\" data-ga-click=\"(Logged out) Header, clicked Sign in, text:sign-in\" data-hydro-click='{\"event_type\":\"authentication.click\",\"payload\":{\"location_in_page\":\"site header menu\",\"repository_id\":null,\"auth_type\":\"SIGN_UP\",\"originating_url\":\"https://github.com/romainjouin/esilv_5a\",\"user_id\":null}}' data-hydro-click-hmac=\"421325234371bff50ee9b3cbf56046d03a6a7760002b92e6b600946b4800de85\" href=\"/login?return_to=%2Fromainjouin%2Fesilv_5a\">\n",
      "          Sign in\n",
      "        </a>\n",
      "<a class=\"HeaderMenu-link d-inline-block no-underline border border-gray-dark rounded-1 px-2 py-1\" data-ga-click=\"Sign up, click to sign up for account, ref_page:/&lt;user-name&gt;/&lt;repo-name&gt;;ref_cta:Sign up;ref_loc:header logged out\" data-hydro-click='{\"event_type\":\"authentication.click\",\"payload\":{\"location_in_page\":\"site header menu\",\"repository_id\":null,\"auth_type\":\"SIGN_UP\",\"originating_url\":\"https://github.com/romainjouin/esilv_5a\",\"user_id\":null}}' data-hydro-click-hmac=\"421325234371bff50ee9b3cbf56046d03a6a7760002b92e6b600946b4800de85\" href=\"/join?ref_cta=Sign+up&amp;ref_loc=header+logged+out&amp;ref_page=%2F%3Cuser-name%3E%2F%3Crepo-name%3E&amp;source=header-repo&amp;source_repo=romainjouin%2Fesilv_5a\">\n",
      "              Sign up\n",
      "            </a>\n",
      "</div>\n",
      "</div>\n",
      "</div>\n",
      "\n",
      "\n"
     ]
    }
   ],
   "source": [
    "for child in un_noeud.children:\n",
    "    try:\n",
    "        print(child)\n",
    "    except Exception as e:\n",
    "        pass"
   ]
  },
  {
   "cell_type": "code",
   "execution_count": 25,
   "metadata": {},
   "outputs": [
    {
     "data": {
      "text/plain": [
       "bs4.element.Tag"
      ]
     },
     "execution_count": 25,
     "metadata": {},
     "output_type": "execute_result"
    }
   ],
   "source": [
    "_ = list(un_noeud.children)[1]\n",
    "type(_)"
   ]
  },
  {
   "cell_type": "code",
   "execution_count": 26,
   "metadata": {},
   "outputs": [
    {
     "data": {
      "text/plain": [
       "5"
      ]
     },
     "execution_count": 26,
     "metadata": {},
     "output_type": "execute_result"
    }
   ],
   "source": [
    "len(list(_.children))"
   ]
  },
  {
   "cell_type": "markdown",
   "metadata": {},
   "source": [
    "# 5) analyse météo\n",
    "url sur https://github.com/romainjouin/esilv_5a/blob/master/url_meteo"
   ]
  },
  {
   "cell_type": "code",
   "execution_count": 27,
   "metadata": {},
   "outputs": [
    {
     "ename": "NameError",
     "evalue": "name 'requests' is not defined",
     "output_type": "error",
     "traceback": [
      "\u001b[1;31m---------------------------------------------------------------------------\u001b[0m",
      "\u001b[1;31mNameError\u001b[0m                                 Traceback (most recent call last)",
      "\u001b[1;32m<ipython-input-27-757e4dfa309f>\u001b[0m in \u001b[0;36m<module>\u001b[1;34m\u001b[0m\n\u001b[0;32m      1\u001b[0m \u001b[0murl\u001b[0m   \u001b[1;33m=\u001b[0m \u001b[1;34m\"https://www.infoclimat.fr/observations-meteo/archives/7/septembre/2019/paris-montsouris/07156.html\"\u001b[0m\u001b[1;33m\u001b[0m\u001b[1;33m\u001b[0m\u001b[0m\n\u001b[1;32m----> 2\u001b[1;33m \u001b[0mpage\u001b[0m  \u001b[1;33m=\u001b[0m \u001b[0mrequests\u001b[0m\u001b[1;33m.\u001b[0m\u001b[0mrequest\u001b[0m\u001b[1;33m(\u001b[0m\u001b[1;34m\"get\"\u001b[0m\u001b[1;33m,\u001b[0m \u001b[0murl\u001b[0m \u001b[1;33m)\u001b[0m\u001b[1;33m\u001b[0m\u001b[1;33m\u001b[0m\u001b[0m\n\u001b[0m\u001b[0;32m      3\u001b[0m \u001b[0mhtml\u001b[0m  \u001b[1;33m=\u001b[0m \u001b[0mpage\u001b[0m\u001b[1;33m.\u001b[0m\u001b[0mtext\u001b[0m\u001b[1;33m\u001b[0m\u001b[1;33m\u001b[0m\u001b[0m\n\u001b[0;32m      4\u001b[0m \u001b[0msoup\u001b[0m  \u001b[1;33m=\u001b[0m \u001b[0mBeautifulSoup\u001b[0m\u001b[1;33m(\u001b[0m\u001b[0mhtml\u001b[0m\u001b[1;33m)\u001b[0m\u001b[1;33m\u001b[0m\u001b[1;33m\u001b[0m\u001b[0m\n",
      "\u001b[1;31mNameError\u001b[0m: name 'requests' is not defined"
     ]
    }
   ],
   "source": [
    "url   = \"https://www.infoclimat.fr/observations-meteo/archives/7/septembre/2019/paris-montsouris/07156.html\"\n",
    "page  = requests.request(\"get\", url )\n",
    "html  = page.text\n",
    "soup  = BeautifulSoup(html)"
   ]
  },
  {
   "cell_type": "code",
   "execution_count": null,
   "metadata": {},
   "outputs": [],
   "source": [
    "html"
   ]
  },
  {
   "cell_type": "markdown",
   "metadata": {},
   "source": [
    "## 5.1) vérifier la tête de la page récupérée en l'enregistrant dans un fichier afin de pouvoir l'ouvrir via un navigateur"
   ]
  },
  {
   "cell_type": "code",
   "execution_count": null,
   "metadata": {},
   "outputs": [],
   "source": [
    "with open(\"meteo.html\", \"a\") as f:\n",
    "    f.writelines(html)"
   ]
  },
  {
   "cell_type": "code",
   "execution_count": null,
   "metadata": {},
   "outputs": [],
   "source": [
    "soup"
   ]
  },
  {
   "cell_type": "markdown",
   "metadata": {},
   "source": [
    "# 5.2) récupérer le tableau de données avec les CSS Selectors\n",
    "Les sélecteurs CSS permettent d'extraire une partie d'une page web, ils sont officiellement décrits par le w3C ici :  \n",
    "https://www.w3.org/TR/selectors-3/\n",
    "\n",
    "Des résumés existent sur le web, notamment ces deux suivants :   \n",
    "https://gist.github.com/magicznyleszek/809a69dd05e1d5f12d01  \n",
    "https://www.dropbox.com/s/h2hni9o1m1di989/CSS%20selectors%20cheatsheet.pdf?dl=0"
   ]
  },
  {
   "cell_type": "markdown",
   "metadata": {},
   "source": [
    "### 5.2.1) récupérer toutes les lignes"
   ]
  },
  {
   "cell_type": "code",
   "execution_count": null,
   "metadata": {},
   "outputs": [],
   "source": [
    "css_selector = f'#resptable-releves > tbody > tr'\n",
    "table_row    = soup.select(css_selector)\n",
    "table_row"
   ]
  },
  {
   "cell_type": "code",
   "execution_count": null,
   "metadata": {},
   "outputs": [],
   "source": [
    "len(table_row)"
   ]
  },
  {
   "cell_type": "markdown",
   "metadata": {},
   "source": [
    "### 5.2.2) récupérer les data dans une ligne et une colonne données"
   ]
  },
  {
   "cell_type": "code",
   "execution_count": null,
   "metadata": {},
   "outputs": [],
   "source": [
    "\n",
    "ligne_n         =  1\n",
    "colonne_n       =  3\n",
    "classe          =  \"span.tipsy-trigger\" \n",
    "\n",
    "classe_tableau  =  \"#resptable-releves\"\n",
    "contenu_tableau =  \"tbody\" \n",
    "lignes          = f\"tr:nth-child({ligne_n})\"\n",
    "colonnes        = f\"td:nth-child({colonne_n})\"\n",
    "\n",
    "css = \" > \".join([classe_tableau, contenu_tableau, lignes, colonnes, classe])\n",
    "soup.select(css)[0].text"
   ]
  },
  {
   "cell_type": "markdown",
   "metadata": {},
   "source": [
    "### 5.2.3) récupérer les data dans toutes les lignes et toutes les colonnes"
   ]
  },
  {
   "cell_type": "code",
   "execution_count": null,
   "metadata": {},
   "outputs": [],
   "source": [
    "for ligne_n in range(25):\n",
    "    print(\"*\"*10)\n",
    "    print(f\"ligne : {ligne_n}\")\n",
    "    for colonne_n in range(1, 10):\n",
    "        print(\"-\"*10)\n",
    "        try:\n",
    "            print(f\"ligne : {ligne_n} colonne :{colonne_n}\" )\n",
    "            classe_tableau  =  \"#resptable-releves\"\n",
    "            contenu_tableau =  \"tbody\" \n",
    "            lignes          = f\"tr:nth-child({ligne_n})\"\n",
    "            colonnes        = f\"td:nth-child({colonne_n})\"\n",
    "\n",
    "            css = \" > \".join(filter(lambda x: x, [classe_tableau, contenu_tableau, lignes, colonnes, classe]))\n",
    "            print(css)\n",
    "            print(soup.select(css)[0].text)\n",
    "        except Exception as e:\n",
    "            print(e)"
   ]
  },
  {
   "cell_type": "markdown",
   "metadata": {},
   "source": [
    "### 5.2.4) Créons une fonction paramétrisable"
   ]
  },
  {
   "cell_type": "code",
   "execution_count": null,
   "metadata": {},
   "outputs": [],
   "source": [
    "def valeur_dans_la_ligne_et_colonne(ligne_n, colonne_n, soup):\n",
    "    classe_tableau  =  \"#resptable-releves\"\n",
    "    contenu_tableau =  \"tbody\" \n",
    "    try:\n",
    "        lignes          = f\"tr:nth-child({ligne_n})\"\n",
    "        colonnes        = f\"td:nth-child({colonne_n})\"\n",
    "        css = \" > \".join(filter(lambda x: x, [classe_tableau, contenu_tableau, lignes, colonnes]))\n",
    "        return soup.select(css)[0].text\n",
    "    except Exception as e:\n",
    "        return \"\""
   ]
  },
  {
   "cell_type": "code",
   "execution_count": null,
   "metadata": {},
   "outputs": [],
   "source": [
    "for ligne_n in range(1, 25):\n",
    "    print(\"*\"*10)\n",
    "    print(f\"ligne : {ligne_n}\")\n",
    "    for colonne_n in range(1, 11):\n",
    "        print(\"-\"*10)\n",
    "        r = valeur_dans_la_ligne_et_colonne(ligne_n, colonne_n, soup)\n",
    "        print(r)"
   ]
  },
  {
   "cell_type": "markdown",
   "metadata": {},
   "source": [
    "# 6) Enregistrons le résultat dans une dataframe\n"
   ]
  },
  {
   "cell_type": "code",
   "execution_count": null,
   "metadata": {},
   "outputs": [],
   "source": [
    "import pandas as pd"
   ]
  },
  {
   "cell_type": "code",
   "execution_count": null,
   "metadata": {},
   "outputs": [],
   "source": [
    "df = pd.DataFrame()\n",
    "for ligne_n in range(1, 25):\n",
    "    print(\"*\"*10)\n",
    "    print(f\"ligne : {ligne_n}\")\n",
    "    values = []\n",
    "    for colonne_n in range(1, 11):\n",
    "        print(\"-\"*10)\n",
    "        r = valeur_dans_la_ligne_et_colonne(ligne_n, colonne_n, soup)\n",
    "        values.append(r)\n",
    "        print(r)\n",
    "    df[ligne_n] =values"
   ]
  },
  {
   "cell_type": "code",
   "execution_count": null,
   "metadata": {},
   "outputs": [],
   "source": [
    "df"
   ]
  },
  {
   "cell_type": "markdown",
   "metadata": {},
   "source": [
    "## Il est plus simple de transposer la matrice"
   ]
  },
  {
   "cell_type": "code",
   "execution_count": null,
   "metadata": {},
   "outputs": [],
   "source": [
    "df = df.T"
   ]
  },
  {
   "cell_type": "code",
   "execution_count": null,
   "metadata": {
    "scrolled": true
   },
   "outputs": [],
   "source": [
    "df"
   ]
  },
  {
   "cell_type": "markdown",
   "metadata": {},
   "source": [
    "## 6.1) Récupérons les entêtes de colonnes\n"
   ]
  },
  {
   "cell_type": "code",
   "execution_count": null,
   "metadata": {},
   "outputs": [],
   "source": [
    "headers = soup.select(\"#resptable-releves > thead > tr > th\")"
   ]
  },
  {
   "cell_type": "code",
   "execution_count": null,
   "metadata": {},
   "outputs": [],
   "source": [
    "nom_des_colonnes = [header.get_text().strip() for header in headers]\n",
    "nom_des_colonnes "
   ]
  },
  {
   "cell_type": "code",
   "execution_count": null,
   "metadata": {},
   "outputs": [],
   "source": [
    "df.columns = nom_des_colonnes \n",
    "df"
   ]
  },
  {
   "cell_type": "markdown",
   "metadata": {},
   "source": [
    "## 6.2) récupérons les heures locales manquantes"
   ]
  },
  {
   "cell_type": "code",
   "execution_count": null,
   "metadata": {},
   "outputs": [],
   "source": [
    "heures = [soup.select(f\"#resptable-releves > tbody > tr:nth-child({n_ligne}) > th > span\")[0].text \n",
    "          for n_ligne in range(1,25)]\n",
    "heures"
   ]
  },
  {
   "cell_type": "code",
   "execution_count": null,
   "metadata": {},
   "outputs": [],
   "source": [
    "df[df.columns[0]] = heures\n",
    "df"
   ]
  },
  {
   "cell_type": "markdown",
   "metadata": {},
   "source": [
    "## 6.3) transformons la colonne d'humidité qui est une colonne de string en une colonne de int"
   ]
  },
  {
   "cell_type": "code",
   "execution_count": null,
   "metadata": {},
   "outputs": [],
   "source": [
    "import string"
   ]
  },
  {
   "cell_type": "code",
   "execution_count": null,
   "metadata": {},
   "outputs": [],
   "source": [
    "col_percent = df[\"Humidité\"]\n",
    "col_percent = col_percent.apply(lambda x: int(x[:-1]))\n",
    "df.loc[:,\"Humidité\"] = col_percent\n",
    "df"
   ]
  },
  {
   "cell_type": "markdown",
   "metadata": {},
   "source": [
    "## 6.4) faisons un graphique d'évolution de l'humidité sur la journée"
   ]
  },
  {
   "cell_type": "code",
   "execution_count": null,
   "metadata": {},
   "outputs": [],
   "source": [
    "%matplotlib inline"
   ]
  },
  {
   "cell_type": "code",
   "execution_count": null,
   "metadata": {},
   "outputs": [],
   "source": [
    "import seaborn as sns"
   ]
  },
  {
   "cell_type": "code",
   "execution_count": null,
   "metadata": {},
   "outputs": [],
   "source": [
    "df[\"Humidité\"].plot(title=\"% d'humidité\")\n",
    "sns.despine()"
   ]
  },
  {
   "cell_type": "markdown",
   "metadata": {},
   "source": [
    "# 7) EXAMPLE 2: Visualiser les donations faites au téléthon"
   ]
  },
  {
   "cell_type": "markdown",
   "metadata": {},
   "source": [
    "## 7.1) récupérons la data"
   ]
  },
  {
   "cell_type": "code",
   "execution_count": null,
   "metadata": {},
   "outputs": [],
   "source": [
    "import requests\n",
    "url        = \"https://www.afm-telethon.fr/telethon/bref/parrains-resultats-telethon-1379\"\n",
    "requesting = requests.get(url)\n",
    "requesting.status_code\n",
    "soup       = BeautifulSoup(requesting.content, \"html.parser\")"
   ]
  },
  {
   "cell_type": "code",
   "execution_count": null,
   "metadata": {},
   "outputs": [],
   "source": [
    "year               = [td.get_text() for td in soup.select(\"tr td\")[3::3]]\n",
    "referrer           = [td.get_text() for td in soup.select(\"tr td\")[4::3]]\n",
    "amount_collected   = [td.get_text() for td in soup.select(\"tr td\")[5::3]]"
   ]
  },
  {
   "cell_type": "markdown",
   "metadata": {},
   "source": [
    "## 7.2) mettons la dans une datFrame"
   ]
  },
  {
   "cell_type": "code",
   "execution_count": null,
   "metadata": {},
   "outputs": [],
   "source": [
    "import pandas as pd\n",
    "df = pd.DataFrame({\n",
    "    'year'             : year,\n",
    "    'referrer'         : referrer,\n",
    "    'amount_collected' : amount_collected\n",
    "})"
   ]
  },
  {
   "cell_type": "code",
   "execution_count": null,
   "metadata": {},
   "outputs": [],
   "source": [
    "df.head(10)"
   ]
  },
  {
   "cell_type": "markdown",
   "metadata": {},
   "source": [
    "## 7.3) nettoyons les types des colonnes"
   ]
  },
  {
   "cell_type": "code",
   "execution_count": null,
   "metadata": {},
   "outputs": [],
   "source": [
    "df.dtypes"
   ]
  },
  {
   "cell_type": "code",
   "execution_count": null,
   "metadata": {},
   "outputs": [],
   "source": [
    "df['year'] = df.year.astype(int) #on cast en integer\n",
    "#on récupère que les chiffres dans le prix, on cast en int et on divise par 1m pour avoir le prix en millions\n",
    "df['amount_collected'] = df.amount_collected.str.replace('\\D', '').astype(int)/10000000\n",
    "#on supprime les espaces avant et après les noms\n",
    "df.referrer = df.referrer.str.strip()"
   ]
  },
  {
   "cell_type": "code",
   "execution_count": null,
   "metadata": {},
   "outputs": [],
   "source": [
    "df.dtypes"
   ]
  },
  {
   "cell_type": "markdown",
   "metadata": {},
   "source": [
    "## 7.4) visualisons"
   ]
  },
  {
   "cell_type": "code",
   "execution_count": null,
   "metadata": {},
   "outputs": [],
   "source": [
    "\n",
    "%matplotlib inline"
   ]
  },
  {
   "cell_type": "code",
   "execution_count": null,
   "metadata": {},
   "outputs": [],
   "source": [
    "\n",
    "import matplotlib.pyplot as plt\n",
    "import seaborn as sns\n",
    "\n",
    "# DISPLAYING FEATURES\n",
    "fig, ax = plt.subplots(figsize=(15, 10), ncols=1, nrows=1) #fig containing a subplot 'ax' using seaborn package\n",
    "\n",
    "#color theme\n",
    "flatui = [\"#7F7FFF\",\"#CCCCFF\"] # some great colors \n",
    "sns.set_style(\"whitegrid\") # to have a style in the background grid\n",
    "\n",
    "#the plot is a barplot, x for each year in absciss, y in ordinate\n",
    "#we add the palette of colors and assign the the defined ax\n",
    "ax = sns.barplot(x=\"year\", y=\"amount_collected\", \n",
    "                 data=df, palette=flatui, ax=ax)\n",
    "\n",
    "#rotation of the x labels\n",
    "ax.set_xticklabels(labels=ax.get_xticklabels(), rotation=90)\n",
    "#title and subtitle\n",
    "ax.text(x=0.5, y=1.05, s='Prix investi dans le Telethon', fontsize=18, weight='bold', ha='center', va='bottom', transform=ax.transAxes)\n",
    "ax.text(x=0.5, y=1.01, s='En France depuis 1987', fontsize=14, alpha=0.75, ha='center', va='bottom', transform=ax.transAxes)\n",
    "#grid labels\n",
    "ax.set_xlabel('Year',fontsize=16)\n",
    "ax.set_ylabel('Amount Collected', fontsize=16)\n",
    "\n",
    "#adding something fancy: the actual digit in donations 2/3 centered in each barplot\n",
    "for p in ax.patches:\n",
    "    height = p.get_height()\n",
    "    ax.text(p.get_x()+p.get_width()/2., height*2/3, '{}'.format(round(height,2)), \n",
    "            color='white', ha=\"center\", rotation=90, weight='bold')"
   ]
  },
  {
   "cell_type": "markdown",
   "metadata": {},
   "source": []
  }
 ],
 "metadata": {
  "kernelspec": {
   "display_name": "Python 3",
   "language": "python",
   "name": "python3"
  },
  "language_info": {
   "codemirror_mode": {
    "name": "ipython",
    "version": 3
   },
   "file_extension": ".py",
   "mimetype": "text/x-python",
   "name": "python",
   "nbconvert_exporter": "python",
   "pygments_lexer": "ipython3",
   "version": "3.8.5"
  }
 },
 "nbformat": 4,
 "nbformat_minor": 2
}
