{
 "cells": [
  {
   "cell_type": "code",
   "execution_count": 1,
   "metadata": {},
   "outputs": [],
   "source": [
    "#Importer les packages\n",
    "import tensorflow as tf\n",
    "import matplotlib.pyplot as plt\n",
    "import numpy as np\n",
    "from tensorflow.keras.datasets import cifar10\n",
    "from tensorflow.keras.preprocessing.image import ImageDataGenerator\n",
    "from tensorflow.keras.models import Sequential\n",
    "from tensorflow.keras.layers import Dense,Activation, Flatten\n",
    "from tensorflow.keras.layers import Conv2D, MaxPooling2D"
   ]
  },
  {
   "cell_type": "code",
   "execution_count": 2,
   "metadata": {},
   "outputs": [],
   "source": [
    "#Le chargement de la base de données\n",
    "(X_train, Y_train), (X_test, Y_test)= cifar10.load_data()"
   ]
  },
  {
   "cell_type": "code",
   "execution_count": 3,
   "metadata": {},
   "outputs": [
    {
     "data": {
      "text/plain": [
       "<matplotlib.image.AxesImage at 0x11e1561c790>"
      ]
     },
     "execution_count": 3,
     "metadata": {},
     "output_type": "execute_result"
    },
    {
     "data": {
      "image/png": "[encoded data removed]",
      "text/plain": [
       "<Figure size 432x288 with 1 Axes>"
      ]
     },
     "metadata": {
      "needs_background": "light"
     },
     "output_type": "display_data"
    }
   ],
   "source": [
    "plt.imshow(X_train[5])"
   ]
  },
  {
   "cell_type": "code",
   "execution_count": 4,
   "metadata": {},
   "outputs": [
    {
     "data": {
      "text/plain": [
       "array([[[159, 102, 101],\n",
       "        [150,  91,  95],\n",
       "        [153,  95,  97],\n",
       "        ...,\n",
       "        [ 91,  71,  56],\n",
       "        [ 74,  63,  55],\n",
       "        [ 76,  58,  55]],\n",
       "\n",
       "       [[142,  75,  68],\n",
       "        [146,  72,  66],\n",
       "        [155,  76,  65],\n",
       "        ...,\n",
       "        [127, 105,  71],\n",
       "        [122, 111,  93],\n",
       "        [ 86,  69,  61]],\n",
       "\n",
       "       [[109,  67,  75],\n",
       "        [ 99,  58,  60],\n",
       "        [105,  59,  52],\n",
       "        ...,\n",
       "        [137, 112,  80],\n",
       "        [163, 132, 105],\n",
       "        [ 93,  72,  71]],\n",
       "\n",
       "       ...,\n",
       "\n",
       "       [[244, 129,  70],\n",
       "        [240, 123,  65],\n",
       "        [241, 122,  65],\n",
       "        ...,\n",
       "        [156,  42,  15],\n",
       "        [179,  59,  26],\n",
       "        [200,  73,  36]],\n",
       "\n",
       "       [[246, 133,  74],\n",
       "        [243, 128,  72],\n",
       "        [243, 127,  70],\n",
       "        ...,\n",
       "        [162,  44,  14],\n",
       "        [178,  56,  22],\n",
       "        [192,  65,  27]],\n",
       "\n",
       "       [[246, 139,  82],\n",
       "        [243, 133,  78],\n",
       "        [244, 132,  77],\n",
       "        ...,\n",
       "        [166,  47,  14],\n",
       "        [173,  51,  17],\n",
       "        [182,  57,  19]]], dtype=uint8)"
      ]
     },
     "execution_count": 4,
     "metadata": {},
     "output_type": "execute_result"
    }
   ],
   "source": [
    "X_train[5]"
   ]
  },
  {
   "cell_type": "code",
   "execution_count": 5,
   "metadata": {},
   "outputs": [],
   "source": [
    "#Normalisation\n",
    "X_train=X_train/255.0\n",
    "X_test=X_test/255.0"
   ]
  },
  {
   "cell_type": "code",
   "execution_count": 6,
   "metadata": {},
   "outputs": [
    {
     "data": {
      "text/plain": [
       "array([[[0.49019608, 0.49019608, 0.45490196],\n",
       "        [0.43137255, 0.39607843, 0.35686275],\n",
       "        [0.4       , 0.35294118, 0.3254902 ],\n",
       "        ...,\n",
       "        [0.79215686, 0.81176471, 0.83921569],\n",
       "        [0.78431373, 0.80392157, 0.83137255],\n",
       "        [0.79215686, 0.81568627, 0.83921569]],\n",
       "\n",
       "       [[0.55686275, 0.57254902, 0.55686275],\n",
       "        [0.57254902, 0.56470588, 0.54509804],\n",
       "        [0.69019608, 0.6745098 , 0.66666667],\n",
       "        ...,\n",
       "        [0.76470588, 0.78823529, 0.80392157],\n",
       "        [0.77647059, 0.80392157, 0.81960784],\n",
       "        [0.8       , 0.82745098, 0.84313725]],\n",
       "\n",
       "       [[0.70588235, 0.7254902 , 0.71764706],\n",
       "        [0.56078431, 0.57254902, 0.57254902],\n",
       "        [0.61176471, 0.61568627, 0.61568627],\n",
       "        ...,\n",
       "        [0.47843137, 0.43529412, 0.44313725],\n",
       "        [0.54509804, 0.50196078, 0.51372549],\n",
       "        [0.61960784, 0.57647059, 0.58823529]],\n",
       "\n",
       "       ...,\n",
       "\n",
       "       [[0.40784314, 0.32156863, 0.16078431],\n",
       "        [0.39607843, 0.31372549, 0.15294118],\n",
       "        [0.39607843, 0.31764706, 0.14901961],\n",
       "        ...,\n",
       "        [0.49411765, 0.40392157, 0.2627451 ],\n",
       "        [0.49411765, 0.40392157, 0.27058824],\n",
       "        [0.49019608, 0.39607843, 0.26666667]],\n",
       "\n",
       "       [[0.40784314, 0.31764706, 0.15686275],\n",
       "        [0.41176471, 0.32941176, 0.16078431],\n",
       "        [0.42745098, 0.34509804, 0.16862745],\n",
       "        ...,\n",
       "        [0.54117647, 0.44313725, 0.30588235],\n",
       "        [0.5372549 , 0.44313725, 0.31372549],\n",
       "        [0.5372549 , 0.43921569, 0.31764706]],\n",
       "\n",
       "       [[0.41176471, 0.3254902 , 0.16470588],\n",
       "        [0.42352941, 0.34117647, 0.17647059],\n",
       "        [0.45098039, 0.36862745, 0.19607843],\n",
       "        ...,\n",
       "        [0.56078431, 0.45882353, 0.32156863],\n",
       "        [0.56078431, 0.45490196, 0.32941176],\n",
       "        [0.56470588, 0.45490196, 0.3372549 ]]])"
      ]
     },
     "execution_count": 6,
     "metadata": {},
     "output_type": "execute_result"
    }
   ],
   "source": [
    "X_train[9]"
   ]
  },
  {
   "cell_type": "code",
   "execution_count": 7,
   "metadata": {},
   "outputs": [],
   "source": [
    "#Créer mon modéle \n",
    "model=Sequential()"
   ]
  },
  {
   "cell_type": "code",
   "execution_count": 8,
   "metadata": {},
   "outputs": [],
   "source": [
    "#Créer le réseau de convolution (CNN)\n",
    "model.add(Conv2D(256,(3,3),input_shape=X_train.shape[1:]))\n",
    "model.add(Activation('relu'))\n",
    "model.add(MaxPooling2D(pool_size=(2,2)))"
   ]
  },
  {
   "cell_type": "code",
   "execution_count": 9,
   "metadata": {},
   "outputs": [],
   "source": [
    "#Ajouter une autre couche de convolution\n",
    "model.add(Conv2D(256,(3,3)))\n",
    "model.add(Activation('relu'))\n",
    "model.add(MaxPooling2D(pool_size=(2,2)))"
   ]
  },
  {
   "cell_type": "code",
   "execution_count": 10,
   "metadata": {},
   "outputs": [],
   "source": [
    "model.add(Flatten())"
   ]
  },
  {
   "cell_type": "code",
   "execution_count": 11,
   "metadata": {},
   "outputs": [],
   "source": [
    "#Le complétement connecté \n",
    "model.add(Dense(64))\n",
    "model.add(Dense(10))\n",
    "model.add(Activation('sigmoid'))\n",
    "model.compile(loss='sparse_categorical_crossentropy', optimizer='adam', metrics=['sparse_categorical_accuracy'])"
   ]
  },
  {
   "cell_type": "code",
   "execution_count": 12,
   "metadata": {},
   "outputs": [
    {
     "name": "stdout",
     "output_type": "stream",
     "text": [
      "Model: \"sequential\"\n",
      "_________________________________________________________________\n",
      "Layer (type)                 Output Shape              Param #   \n",
      "=================================================================\n",
      "conv2d (Conv2D)              (None, 30, 30, 256)       7168      \n",
      "_________________________________________________________________\n",
      "activation (Activation)      (None, 30, 30, 256)       0         \n",
      "_________________________________________________________________\n",
      "max_pooling2d (MaxPooling2D) (None, 15, 15, 256)       0         \n",
      "_________________________________________________________________\n",
      "conv2d_1 (Conv2D)            (None, 13, 13, 256)       590080    \n",
      "_________________________________________________________________\n",
      "activation_1 (Activation)    (None, 13, 13, 256)       0         \n",
      "_________________________________________________________________\n",
      "max_pooling2d_1 (MaxPooling2 (None, 6, 6, 256)         0         \n",
      "_________________________________________________________________\n",
      "flatten (Flatten)            (None, 9216)              0         \n",
      "_________________________________________________________________\n",
      "dense (Dense)                (None, 64)                589888    \n",
      "_________________________________________________________________\n",
      "dense_1 (Dense)              (None, 10)                650       \n",
      "_________________________________________________________________\n",
      "activation_2 (Activation)    (None, 10)                0         \n",
      "=================================================================\n",
      "Total params: 1,187,786\n",
      "Trainable params: 1,187,786\n",
      "Non-trainable params: 0\n",
      "_________________________________________________________________\n"
     ]
    }
   ],
   "source": [
    "model.summary()"
   ]
  },
  {
   "cell_type": "code",
   "execution_count": 13,
   "metadata": {},
   "outputs": [
    {
     "name": "stdout",
     "output_type": "stream",
     "text": [
      "Epoch 1/10\n",
      "1563/1563 [==============================] - 426s 273ms/step - loss: 1.4033 - sparse_categorical_accuracy: 0.4993\n",
      "Epoch 2/10\n",
      "1563/1563 [==============================] - 439s 281ms/step - loss: 1.0578 - sparse_categorical_accuracy: 0.6330\n",
      "Epoch 3/10\n",
      "1563/1563 [==============================] - 437s 280ms/step - loss: 0.9221 - sparse_categorical_accuracy: 0.6806\n",
      "Epoch 4/10\n",
      "1563/1563 [==============================] - 435s 278ms/step - loss: 0.8395 - sparse_categorical_accuracy: 0.7094\n",
      "Epoch 5/10\n",
      "1563/1563 [==============================] - 449s 288ms/step - loss: 0.7776 - sparse_categorical_accuracy: 0.7326\n",
      "Epoch 6/10\n",
      "1563/1563 [==============================] - 1657s 1s/step - loss: 0.7265 - sparse_categorical_accuracy: 0.7464\n",
      "Epoch 7/10\n",
      "1563/1563 [==============================] - 439s 281ms/step - loss: 0.6852 - sparse_categorical_accuracy: 0.7625\n",
      "Epoch 8/10\n",
      "1563/1563 [==============================] - 471s 301ms/step - loss: 0.6524 - sparse_categorical_accuracy: 0.7713\n",
      "Epoch 9/10\n",
      "1563/1563 [==============================] - 489s 313ms/step - loss: 0.6173 - sparse_categorical_accuracy: 0.7831\n",
      "Epoch 10/10\n",
      "1563/1563 [==============================] - 476s 304ms/step - loss: 0.5865 - sparse_categorical_accuracy: 0.7942\n"
     ]
    },
    {
     "data": {
      "text/plain": [
       "<tensorflow.python.keras.callbacks.History at 0x11e15a79400>"
      ]
     },
     "execution_count": 13,
     "metadata": {},
     "output_type": "execute_result"
    }
   ],
   "source": [
    "#Entrainer le model\n",
    "model.fit(X_train,Y_train, batch_size=32,epochs=10)"
   ]
  },
  {
   "cell_type": "code",
   "execution_count": 14,
   "metadata": {},
   "outputs": [
    {
     "name": "stdout",
     "output_type": "stream",
     "text": [
      "313/313 [==============================] - 22s 70ms/step - loss: 0.9528 - sparse_categorical_accuracy: 0.6950\n"
     ]
    }
   ],
   "source": [
    "test_loos,test_accuracy=model.evaluate(X_test,Y_test)"
   ]
  },
  {
   "cell_type": "code",
   "execution_count": null,
   "metadata": {},
   "outputs": [],
   "source": []
  }
 ],
 "metadata": {
  "kernelspec": {
   "display_name": "Python 3",
   "language": "python",
   "name": "python3"
  },
  "language_info": {
   "codemirror_mode": {
    "name": "ipython",
    "version": 3
   },
   "file_extension": ".py",
   "mimetype": "text/x-python",
   "name": "python",
   "nbconvert_exporter": "python",
   "pygments_lexer": "ipython3",
   "version": "3.8.3"
  }
 },
 "nbformat": 4,
 "nbformat_minor": 4
}
